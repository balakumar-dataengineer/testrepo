{
  "nbformat": 4,
  "nbformat_minor": 0,
  "metadata": {
    "colab": {
      "provenance": [],
      "authorship_tag": "ABX9TyMAN02h5XS5pG8Rj5jM7kuh",
      "include_colab_link": true
    },
    "kernelspec": {
      "name": "python3",
      "display_name": "Python 3"
    },
    "language_info": {
      "name": "python"
    }
  },
  "cells": [
    {
      "cell_type": "markdown",
      "metadata": {
        "id": "view-in-github",
        "colab_type": "text"
      },
      "source": [
        "<a href=\"https://colab.research.google.com/github/balakumar-dataengineer/testrepo/blob/master/Pyspark_Transform_function.ipynb\" target=\"_parent\"><img src=\"https://colab.research.google.com/assets/colab-badge.svg\" alt=\"Open In Colab\"/></a>"
      ]
    },
    {
      "cell_type": "code",
      "execution_count": 1,
      "metadata": {
        "colab": {
          "base_uri": "https://localhost:8080/"
        },
        "id": "DnyRik7g1ErF",
        "outputId": "145ff0ab-71b6-4855-8c23-33499c80c757"
      },
      "outputs": [
        {
          "output_type": "stream",
          "name": "stdout",
          "text": [
            "<pyspark.sql.session.SparkSession object at 0x7de9ca19fe90>\n"
          ]
        }
      ],
      "source": [
        "from pyspark.sql import SparkSession\n",
        "\n",
        "spark=SparkSession.builder.appName('Pyspark') \\\n",
        "                          .master('local') \\\n",
        "                          .getOrCreate()\n",
        "\n",
        "print(spark)"
      ]
    },
    {
      "cell_type": "code",
      "source": [
        "data=[\n",
        "    (1,'bala','male',25000),\n",
        "    (2,'kumar','male',24000),\n",
        "    (3,'balakumar','male',160000)\n",
        "]\n",
        "\n",
        "schema=['id','name','gender','salary']\n",
        "\n",
        "df=spark.createDataFrame(data,schema)\n",
        "df.show()"
      ],
      "metadata": {
        "colab": {
          "base_uri": "https://localhost:8080/"
        },
        "id": "iCnsqBad1aG0",
        "outputId": "2686ccd4-3f03-4093-e40b-6c86d06c7beb"
      },
      "execution_count": 2,
      "outputs": [
        {
          "output_type": "stream",
          "name": "stdout",
          "text": [
            "+---+---------+------+------+\n",
            "| id|     name|gender|salary|\n",
            "+---+---------+------+------+\n",
            "|  1|     bala|  male| 25000|\n",
            "|  2|    kumar|  male| 24000|\n",
            "|  3|balakumar|  male|160000|\n",
            "+---+---------+------+------+\n",
            "\n"
          ]
        }
      ]
    },
    {
      "cell_type": "code",
      "source": [
        "from pyspark.sql.functions import upper,lower\n",
        "\n",
        "df.withColumn('name',upper('name')).show()"
      ],
      "metadata": {
        "colab": {
          "base_uri": "https://localhost:8080/"
        },
        "id": "4KY5ubsO10rj",
        "outputId": "9d661652-6591-4753-8f25-2ca3e2c9d0e2"
      },
      "execution_count": 3,
      "outputs": [
        {
          "output_type": "stream",
          "name": "stdout",
          "text": [
            "+---+---------+------+------+\n",
            "| id|     name|gender|salary|\n",
            "+---+---------+------+------+\n",
            "|  1|     BALA|  male| 25000|\n",
            "|  2|    KUMAR|  male| 24000|\n",
            "|  3|BALAKUMAR|  male|160000|\n",
            "+---+---------+------+------+\n",
            "\n"
          ]
        }
      ]
    },
    {
      "cell_type": "code",
      "source": [
        "def convertToUpper(df):\n",
        "  return df.withColumn('gender',upper('gender'))\n",
        "\n",
        "df.transform(convertToUpper).show()"
      ],
      "metadata": {
        "colab": {
          "base_uri": "https://localhost:8080/"
        },
        "id": "ZNYWcOot2Guh",
        "outputId": "6ed7af4d-041d-4b4f-ac49-90700771d961"
      },
      "execution_count": 5,
      "outputs": [
        {
          "output_type": "stream",
          "name": "stdout",
          "text": [
            "+---+---------+------+------+\n",
            "| id|     name|gender|salary|\n",
            "+---+---------+------+------+\n",
            "|  1|     bala|  MALE| 25000|\n",
            "|  2|    kumar|  MALE| 24000|\n",
            "|  3|balakumar|  MALE|160000|\n",
            "+---+---------+------+------+\n",
            "\n"
          ]
        }
      ]
    },
    {
      "cell_type": "code",
      "source": [
        "from pyspark.sql.functions import col\n",
        "\n",
        "def doubleSalary(df):\n",
        "  return df.withColumn('salary',col('salary')*2)\n",
        "\n",
        "df.transform(doubleSalary).show()"
      ],
      "metadata": {
        "colab": {
          "base_uri": "https://localhost:8080/"
        },
        "id": "DPmBL65Z2m4f",
        "outputId": "085a0dcf-6c23-4730-ca94-7dc0a980fe85"
      },
      "execution_count": 8,
      "outputs": [
        {
          "output_type": "stream",
          "name": "stdout",
          "text": [
            "+---+---------+------+------+\n",
            "| id|     name|gender|salary|\n",
            "+---+---------+------+------+\n",
            "|  1|     bala|  male| 50000|\n",
            "|  2|    kumar|  male| 48000|\n",
            "|  3|balakumar|  male|320000|\n",
            "+---+---------+------+------+\n",
            "\n"
          ]
        }
      ]
    }
  ]
}