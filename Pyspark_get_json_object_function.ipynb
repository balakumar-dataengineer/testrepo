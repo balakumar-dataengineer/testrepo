{
  "nbformat": 4,
  "nbformat_minor": 0,
  "metadata": {
    "colab": {
      "provenance": [],
      "authorship_tag": "ABX9TyMLcfGKYVb1UDWJomP0muPp",
      "include_colab_link": true
    },
    "kernelspec": {
      "name": "python3",
      "display_name": "Python 3"
    },
    "language_info": {
      "name": "python"
    }
  },
  "cells": [
    {
      "cell_type": "markdown",
      "metadata": {
        "id": "view-in-github",
        "colab_type": "text"
      },
      "source": [
        "<a href=\"https://colab.research.google.com/github/balakumar-dataengineer/testrepo/blob/master/Pyspark_get_json_object_function.ipynb\" target=\"_parent\"><img src=\"https://colab.research.google.com/assets/colab-badge.svg\" alt=\"Open In Colab\"/></a>"
      ]
    },
    {
      "cell_type": "code",
      "execution_count": 1,
      "metadata": {
        "colab": {
          "base_uri": "https://localhost:8080/"
        },
        "id": "ULEh3sV1evY-",
        "outputId": "64d987bc-fe90-4435-c1c7-cfad18548858"
      },
      "outputs": [
        {
          "output_type": "stream",
          "name": "stdout",
          "text": [
            "<pyspark.sql.session.SparkSession object at 0x794b1a99ad50>\n"
          ]
        }
      ],
      "source": [
        "from pyspark.sql import SparkSession\n",
        "\n",
        "spark=SparkSession.builder.appName('Pyspark') \\\n",
        "                          .master('local') \\\n",
        "                          .getOrCreate()\n",
        "\n",
        "print(spark)"
      ]
    },
    {
      "cell_type": "code",
      "source": [
        "data=[\n",
        "    (1,'bala','{\"address\":{\"city\":\"dharapuram\",\"state\":\"tamilnadu\"},\"gender\":\"male\",\"eye\":\"blue\"}'),\n",
        "    (2,'kumar','{\"address\":{\"city\":\"dharapuram\",\"state\":\"tamilnadu\"},\"hair\":\"black\"}')\n",
        "]\n",
        "\n",
        "schema=['id','name','properties']\n",
        "\n",
        "df=spark.createDataFrame(data,schema)\n",
        "\n",
        "df.show(truncate=False)"
      ],
      "metadata": {
        "colab": {
          "base_uri": "https://localhost:8080/"
        },
        "id": "57FF0mh0fF6v",
        "outputId": "7b8af43f-4a66-4feb-9969-fdbdfedf5908"
      },
      "execution_count": 7,
      "outputs": [
        {
          "output_type": "stream",
          "name": "stdout",
          "text": [
            "+---+-----+----------------------------------------------------------------------------------+\n",
            "|id |name |properties                                                                        |\n",
            "+---+-----+----------------------------------------------------------------------------------+\n",
            "|1  |bala |{\"address\":{\"city\":\"dharapuram\",\"state\":\"tamilnadu\"},\"gender\":\"male\",\"eye\":\"blue\"}|\n",
            "|2  |kumar|{\"address\":{\"city\":\"dharapuram\",\"state\":\"tamilnadu\"},\"hair\":\"black\"}              |\n",
            "+---+-----+----------------------------------------------------------------------------------+\n",
            "\n"
          ]
        }
      ]
    },
    {
      "cell_type": "code",
      "source": [
        "from pyspark.sql.functions import json_tuple,get_json_object\n",
        "\n",
        "df.select('id','name',json_tuple('properties','address','gender').alias('address','gender')).show(truncate=False)"
      ],
      "metadata": {
        "colab": {
          "base_uri": "https://localhost:8080/"
        },
        "id": "07Mbhz0_gBuS",
        "outputId": "b1538a53-fe9f-41ad-a637-9e4bd65db6e6"
      },
      "execution_count": 11,
      "outputs": [
        {
          "output_type": "stream",
          "name": "stdout",
          "text": [
            "+---+-----+-----------------------------------------+------+\n",
            "|id |name |address                                  |gender|\n",
            "+---+-----+-----------------------------------------+------+\n",
            "|1  |bala |{\"city\":\"dharapuram\",\"state\":\"tamilnadu\"}|male  |\n",
            "|2  |kumar|{\"city\":\"dharapuram\",\"state\":\"tamilnadu\"}|NULL  |\n",
            "+---+-----+-----------------------------------------+------+\n",
            "\n"
          ]
        }
      ]
    },
    {
      "cell_type": "code",
      "source": [
        "df.select('id','name',get_json_object('properties','$.address.city').alias('city'),get_json_object('properties','$.address.state').alias('state')).show(truncate=False)"
      ],
      "metadata": {
        "colab": {
          "base_uri": "https://localhost:8080/"
        },
        "id": "Ym46a-iEg4LH",
        "outputId": "f80ffff6-3862-420b-f770-dea6fef1fa06"
      },
      "execution_count": 16,
      "outputs": [
        {
          "output_type": "stream",
          "name": "stdout",
          "text": [
            "+---+-----+----------+---------+\n",
            "|id |name |city      |state    |\n",
            "+---+-----+----------+---------+\n",
            "|1  |bala |dharapuram|tamilnadu|\n",
            "|2  |kumar|dharapuram|tamilnadu|\n",
            "+---+-----+----------+---------+\n",
            "\n"
          ]
        }
      ]
    }
  ]
}