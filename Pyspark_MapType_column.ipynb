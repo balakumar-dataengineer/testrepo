{
  "nbformat": 4,
  "nbformat_minor": 0,
  "metadata": {
    "colab": {
      "provenance": [],
      "authorship_tag": "ABX9TyMncFzixmn077RyrvBRChOC",
      "include_colab_link": true
    },
    "kernelspec": {
      "name": "python3",
      "display_name": "Python 3"
    },
    "language_info": {
      "name": "python"
    }
  },
  "cells": [
    {
      "cell_type": "markdown",
      "metadata": {
        "id": "view-in-github",
        "colab_type": "text"
      },
      "source": [
        "<a href=\"https://colab.research.google.com/github/balakumar-dataengineer/testrepo/blob/master/Pyspark_MapType_column.ipynb\" target=\"_parent\"><img src=\"https://colab.research.google.com/assets/colab-badge.svg\" alt=\"Open In Colab\"/></a>"
      ]
    },
    {
      "cell_type": "code",
      "source": [
        "from pyspark.sql import SparkSession\n",
        "spark=SparkSession.builder.appName('Pyspark') \\\n",
        "                          .master('local') \\\n",
        "                          .getOrCreate()"
      ],
      "metadata": {
        "id": "AbuK6jwNaCe4"
      },
      "execution_count": 1,
      "outputs": []
    },
    {
      "cell_type": "code",
      "execution_count": 12,
      "metadata": {
        "colab": {
          "base_uri": "https://localhost:8080/"
        },
        "id": "UPLUN8FpYdtS",
        "outputId": "f81d5588-b09e-41ed-b03f-758aa605c2bf"
      },
      "outputs": [
        {
          "output_type": "stream",
          "name": "stdout",
          "text": [
            "+---+-----+---------------------------------------------------+\n",
            "|id |name |skills                                             |\n",
            "+---+-----+---------------------------------------------------+\n",
            "|1  |bala |{secondarySkill -> GCP, primarySkill -> SQL}       |\n",
            "|2  |kumar|{secondarySkill -> Pyspark, primarySkill -> Python}|\n",
            "+---+-----+---------------------------------------------------+\n",
            "\n",
            "root\n",
            " |-- id: long (nullable = true)\n",
            " |-- name: string (nullable = true)\n",
            " |-- skills: map (nullable = true)\n",
            " |    |-- key: string\n",
            " |    |-- value: string (valueContainsNull = true)\n",
            "\n"
          ]
        }
      ],
      "source": [
        "data=[\n",
        "    (1,'bala',{'primarySkill':'SQL','secondarySkill':'GCP'}),\n",
        "    (2,'kumar',{'primarySkill':'Python','secondarySkill':'Pyspark'})\n",
        "]\n",
        "\n",
        "schema=['id','name','skills']\n",
        "\n",
        "df=spark.createDataFrame(data,schema)\n",
        "df.show(truncate=False)\n",
        "df.printSchema()"
      ]
    },
    {
      "cell_type": "code",
      "source": [
        "from pyspark.sql.functions import array\n",
        "\n",
        "df1=df.withColumn('primarySkill',df.skills['primarySkill']) \\\n",
        "  .withColumn('secondarySkill',df.skills['secondarySkill']) \\\n",
        "\n",
        "df1.show(truncate=False)\n",
        "\n",
        "df1.withColumn('array',array(df1.primarySkill,df1.secondarySkill)).show()\n"
      ],
      "metadata": {
        "colab": {
          "base_uri": "https://localhost:8080/"
        },
        "id": "QnGHGET-bTwt",
        "outputId": "d6ea4804-9e60-4e6b-ca30-4f86baeed8d2"
      },
      "execution_count": 15,
      "outputs": [
        {
          "output_type": "stream",
          "name": "stdout",
          "text": [
            "+---+-----+---------------------------------------------------+------------+--------------+\n",
            "|id |name |skills                                             |primarySkill|secondarySkill|\n",
            "+---+-----+---------------------------------------------------+------------+--------------+\n",
            "|1  |bala |{secondarySkill -> GCP, primarySkill -> SQL}       |SQL         |GCP           |\n",
            "|2  |kumar|{secondarySkill -> Pyspark, primarySkill -> Python}|Python      |Pyspark       |\n",
            "+---+-----+---------------------------------------------------+------------+--------------+\n",
            "\n",
            "+---+-----+--------------------+------------+--------------+-----------------+\n",
            "| id| name|              skills|primarySkill|secondarySkill|            array|\n",
            "+---+-----+--------------------+------------+--------------+-----------------+\n",
            "|  1| bala|{secondarySkill -...|         SQL|           GCP|       [SQL, GCP]|\n",
            "|  2|kumar|{secondarySkill -...|      Python|       Pyspark|[Python, Pyspark]|\n",
            "+---+-----+--------------------+------------+--------------+-----------------+\n",
            "\n"
          ]
        }
      ]
    },
    {
      "cell_type": "code",
      "source": [
        "from pyspark.sql.types import StructField,StructType,StringType,IntegerType, MapType\n",
        "\n",
        "schema1=StructType([\n",
        "    StructField('id',IntegerType(),True),\n",
        "    StructField('name',StringType(),True),\n",
        "    StructField('skills',MapType(StringType(),StringType()),True)\n",
        "])\n",
        "\n",
        "df2=spark.createDataFrame(data,schema1)\n",
        "df2.show(truncate=False)\n",
        "df2.printSchema()"
      ],
      "metadata": {
        "colab": {
          "base_uri": "https://localhost:8080/"
        },
        "id": "8ya-NLLlc_LP",
        "outputId": "6b3fd87c-f1e8-4603-9eaa-080aed71e7f5"
      },
      "execution_count": 16,
      "outputs": [
        {
          "output_type": "stream",
          "name": "stdout",
          "text": [
            "+---+-----+---------------------------------------------------+\n",
            "|id |name |skills                                             |\n",
            "+---+-----+---------------------------------------------------+\n",
            "|1  |bala |{secondarySkill -> GCP, primarySkill -> SQL}       |\n",
            "|2  |kumar|{secondarySkill -> Pyspark, primarySkill -> Python}|\n",
            "+---+-----+---------------------------------------------------+\n",
            "\n",
            "root\n",
            " |-- id: integer (nullable = true)\n",
            " |-- name: string (nullable = true)\n",
            " |-- skills: map (nullable = true)\n",
            " |    |-- key: string\n",
            " |    |-- value: string (valueContainsNull = true)\n",
            "\n"
          ]
        }
      ]
    },
    {
      "cell_type": "code",
      "source": [
        "df2.withColumn('primarySkill',df2.skills.getItem('primarySkill')) \\\n",
        "   .withColumn('secondarySkill',df2.skills.getItem('secondarySkill')) \\\n",
        "   .show()"
      ],
      "metadata": {
        "colab": {
          "base_uri": "https://localhost:8080/"
        },
        "id": "z-SVkqqUd7dZ",
        "outputId": "94820d9a-f974-4ef2-fc21-d9b0898b7d82"
      },
      "execution_count": 17,
      "outputs": [
        {
          "output_type": "stream",
          "name": "stdout",
          "text": [
            "+---+-----+--------------------+------------+--------------+\n",
            "| id| name|              skills|primarySkill|secondarySkill|\n",
            "+---+-----+--------------------+------------+--------------+\n",
            "|  1| bala|{secondarySkill -...|         SQL|           GCP|\n",
            "|  2|kumar|{secondarySkill -...|      Python|       Pyspark|\n",
            "+---+-----+--------------------+------------+--------------+\n",
            "\n"
          ]
        }
      ]
    }
  ]
}