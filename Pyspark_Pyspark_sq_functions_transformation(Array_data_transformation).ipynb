{
  "nbformat": 4,
  "nbformat_minor": 0,
  "metadata": {
    "colab": {
      "provenance": [],
      "authorship_tag": "ABX9TyNyGoe+AEKqGbjNeo1O5l8N",
      "include_colab_link": true
    },
    "kernelspec": {
      "name": "python3",
      "display_name": "Python 3"
    },
    "language_info": {
      "name": "python"
    }
  },
  "cells": [
    {
      "cell_type": "markdown",
      "metadata": {
        "id": "view-in-github",
        "colab_type": "text"
      },
      "source": [
        "<a href=\"https://colab.research.google.com/github/balakumar-dataengineer/testrepo/blob/master/Pyspark_Pyspark_sq_functions_transformation(Array_data_transformation).ipynb\" target=\"_parent\"><img src=\"https://colab.research.google.com/assets/colab-badge.svg\" alt=\"Open In Colab\"/></a>"
      ]
    },
    {
      "cell_type": "code",
      "execution_count": 1,
      "metadata": {
        "colab": {
          "base_uri": "https://localhost:8080/"
        },
        "id": "03LfF3a7C6Wy",
        "outputId": "43584bf2-d7b7-4f9b-f1fd-87c5e2b16642"
      },
      "outputs": [
        {
          "output_type": "stream",
          "name": "stdout",
          "text": [
            "<pyspark.sql.session.SparkSession object at 0x793c85693450>\n"
          ]
        }
      ],
      "source": [
        "from pyspark.sql import SparkSession\n",
        "\n",
        "spark=SparkSession.builder.appName('pyspark') \\\n",
        "                          .master('local') \\\n",
        "                          .getOrCreate()\n",
        "\n",
        "print(spark)\n"
      ]
    },
    {
      "cell_type": "code",
      "source": [
        "data=[\n",
        "    (1,'bala','male',['gcp','python'],[75,80]),\n",
        "    (2,'kumar','male',['sql','pyspark'],[95,60]),\n",
        "    (3,'balakumar','male',['plsql','postgressql'],[80,95])\n",
        "]\n",
        "\n",
        "schema=['id','name','gender','skills','knownPercentage']\n",
        "\n",
        "df=spark.createDataFrame(data,schema)\n",
        "df.show()\n",
        "df.printSchema()"
      ],
      "metadata": {
        "colab": {
          "base_uri": "https://localhost:8080/"
        },
        "id": "I3voyPOjDU8j",
        "outputId": "3b6fae24-1389-4d17-c95d-1c8c1d949f6e"
      },
      "execution_count": 3,
      "outputs": [
        {
          "output_type": "stream",
          "name": "stdout",
          "text": [
            "+---+---------+------+--------------------+---------------+\n",
            "| id|     name|gender|              skills|knownPercentage|\n",
            "+---+---------+------+--------------------+---------------+\n",
            "|  1|     bala|  male|       [gcp, python]|       [75, 80]|\n",
            "|  2|    kumar|  male|      [sql, pyspark]|       [95, 60]|\n",
            "|  3|balakumar|  male|[plsql, postgressql]|       [80, 95]|\n",
            "+---+---------+------+--------------------+---------------+\n",
            "\n",
            "root\n",
            " |-- id: long (nullable = true)\n",
            " |-- name: string (nullable = true)\n",
            " |-- gender: string (nullable = true)\n",
            " |-- skills: array (nullable = true)\n",
            " |    |-- element: string (containsNull = true)\n",
            " |-- knownPercentage: array (nullable = true)\n",
            " |    |-- element: long (containsNull = true)\n",
            "\n"
          ]
        }
      ]
    },
    {
      "cell_type": "code",
      "source": [
        "from pyspark.sql.functions import transform, upper,expr\n",
        "\n",
        "df.select('id', \\\n",
        "          'name', \\\n",
        "          upper('gender').alias('gender'), \\\n",
        "          transform('skills',lambda x: upper(x)).alias('skills'), \\\n",
        "          transform('knownPercentage',lambda x: x/100).alias('knownFraction')).show()"
      ],
      "metadata": {
        "colab": {
          "base_uri": "https://localhost:8080/"
        },
        "id": "u-4SMrTMEJUV",
        "outputId": "6189e091-b87a-460d-f9d6-f17a586cead7"
      },
      "execution_count": 7,
      "outputs": [
        {
          "output_type": "stream",
          "name": "stdout",
          "text": [
            "+---+---------+------+--------------------+-------------+\n",
            "| id|     name|gender|              skills|knownFraction|\n",
            "+---+---------+------+--------------------+-------------+\n",
            "|  1|     bala|  MALE|       [GCP, PYTHON]|  [0.75, 0.8]|\n",
            "|  2|    kumar|  MALE|      [SQL, PYSPARK]|  [0.95, 0.6]|\n",
            "|  3|balakumar|  MALE|[PLSQL, POSTGRESSQL]|  [0.8, 0.95]|\n",
            "+---+---------+------+--------------------+-------------+\n",
            "\n"
          ]
        }
      ]
    },
    {
      "cell_type": "code",
      "source": [
        "def arrayUpper(x):\n",
        "  return upper(x)\n",
        "\n",
        "def percentageToFraction(x):\n",
        "  return x/100\n",
        "\n",
        "\n",
        "df.select('id', \\\n",
        "          'name', \\\n",
        "          upper('gender').alias('gender'),\n",
        "          transform('skills',arrayUpper).alias('skills'), \\\n",
        "          transform('knownPercentage',percentageToFraction).alias('knownfraction')).show()"
      ],
      "metadata": {
        "colab": {
          "base_uri": "https://localhost:8080/"
        },
        "id": "ZSmU6XtHFsLv",
        "outputId": "87420366-526e-47cc-a442-888f34094c9b"
      },
      "execution_count": 12,
      "outputs": [
        {
          "output_type": "stream",
          "name": "stdout",
          "text": [
            "+---+---------+------+--------------------+-------------+\n",
            "| id|     name|gender|              skills|knownfraction|\n",
            "+---+---------+------+--------------------+-------------+\n",
            "|  1|     bala|  MALE|       [GCP, PYTHON]|  [0.75, 0.8]|\n",
            "|  2|    kumar|  MALE|      [SQL, PYSPARK]|  [0.95, 0.6]|\n",
            "|  3|balakumar|  MALE|[PLSQL, POSTGRESSQL]|  [0.8, 0.95]|\n",
            "+---+---------+------+--------------------+-------------+\n",
            "\n"
          ]
        }
      ]
    }
  ]
}