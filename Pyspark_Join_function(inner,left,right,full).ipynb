{
  "nbformat": 4,
  "nbformat_minor": 0,
  "metadata": {
    "colab": {
      "provenance": [],
      "authorship_tag": "ABX9TyPgt7pyYd7wmkdgnFULekxE",
      "include_colab_link": true
    },
    "kernelspec": {
      "name": "python3",
      "display_name": "Python 3"
    },
    "language_info": {
      "name": "python"
    }
  },
  "cells": [
    {
      "cell_type": "markdown",
      "metadata": {
        "id": "view-in-github",
        "colab_type": "text"
      },
      "source": [
        "<a href=\"https://colab.research.google.com/github/balakumar-dataengineer/testrepo/blob/master/Pyspark_Join_function(inner%2Cleft%2Cright%2Cfull).ipynb\" target=\"_parent\"><img src=\"https://colab.research.google.com/assets/colab-badge.svg\" alt=\"Open In Colab\"/></a>"
      ]
    },
    {
      "cell_type": "code",
      "execution_count": 1,
      "metadata": {
        "colab": {
          "base_uri": "https://localhost:8080/"
        },
        "id": "_Mb1Mgno_kMC",
        "outputId": "f596823a-c102-4be4-9a5e-3d88a2b0535e"
      },
      "outputs": [
        {
          "output_type": "stream",
          "name": "stdout",
          "text": [
            "<pyspark.sql.session.SparkSession object at 0x7b755b7b6690>\n"
          ]
        }
      ],
      "source": [
        "from pyspark.sql import SparkSession\n",
        "\n",
        "spark=SparkSession.builder.appName('pyspark') \\\n",
        "                          .master('local') \\\n",
        "                          .getOrCreate()\n",
        "\n",
        "print(spark)"
      ]
    },
    {
      "cell_type": "code",
      "source": [
        "data1=[\n",
        "    (1,'bala','male'),\n",
        "    (2,'kumar','male'),\n",
        "    (3,'balakumar','male')\n",
        "]\n",
        "\n",
        "schema1=['id','name','gender']\n",
        "\n",
        "data2=[\n",
        "    (1,'kumar',2000),\n",
        "    (2,'bala',3000),\n",
        "    (4,'kumarbala',5000)\n",
        "]\n",
        "\n",
        "schema2=['id','name','salary']\n",
        "\n",
        "df1=spark.createDataFrame(data1,schema1)\n",
        "df2=spark.createDataFrame(data2,schema2)\n",
        "\n",
        "df1.show()\n",
        "df2.show()"
      ],
      "metadata": {
        "colab": {
          "base_uri": "https://localhost:8080/"
        },
        "id": "7dAfSQho_9Da",
        "outputId": "60b9d56e-c234-43b6-88c5-1c2457444d17"
      },
      "execution_count": 4,
      "outputs": [
        {
          "output_type": "stream",
          "name": "stdout",
          "text": [
            "+---+---------+------+\n",
            "| id|     name|gender|\n",
            "+---+---------+------+\n",
            "|  1|     bala|  male|\n",
            "|  2|    kumar|  male|\n",
            "|  3|balakumar|  male|\n",
            "+---+---------+------+\n",
            "\n",
            "+---+---------+------+\n",
            "| id|     name|salary|\n",
            "+---+---------+------+\n",
            "|  1|    kumar|  2000|\n",
            "|  2|     bala|  3000|\n",
            "|  4|kumarbala|  5000|\n",
            "+---+---------+------+\n",
            "\n"
          ]
        }
      ]
    },
    {
      "cell_type": "code",
      "source": [
        "df1.join(df2,df1.id==df2.id,'inner').show()\n",
        "df1.join(df2,df1.id==df2.id,'left').show()\n",
        "df1.join(df2,df1.id==df2.id,'right').show()\n",
        "df1.join(df2,df1.id==df2.id,'full').show()"
      ],
      "metadata": {
        "colab": {
          "base_uri": "https://localhost:8080/"
        },
        "id": "2LZinj3RA6KN",
        "outputId": "c61ffd7a-aa43-4e7e-9b64-2816cbac259f"
      },
      "execution_count": 9,
      "outputs": [
        {
          "output_type": "stream",
          "name": "stdout",
          "text": [
            "+---+-----+------+---+-----+------+\n",
            "| id| name|gender| id| name|salary|\n",
            "+---+-----+------+---+-----+------+\n",
            "|  1| bala|  male|  1|kumar|  2000|\n",
            "|  2|kumar|  male|  2| bala|  3000|\n",
            "+---+-----+------+---+-----+------+\n",
            "\n",
            "+---+---------+------+----+-----+------+\n",
            "| id|     name|gender|  id| name|salary|\n",
            "+---+---------+------+----+-----+------+\n",
            "|  1|     bala|  male|   1|kumar|  2000|\n",
            "|  3|balakumar|  male|NULL| NULL|  NULL|\n",
            "|  2|    kumar|  male|   2| bala|  3000|\n",
            "+---+---------+------+----+-----+------+\n",
            "\n",
            "+----+-----+------+---+---------+------+\n",
            "|  id| name|gender| id|     name|salary|\n",
            "+----+-----+------+---+---------+------+\n",
            "|   1| bala|  male|  1|    kumar|  2000|\n",
            "|   2|kumar|  male|  2|     bala|  3000|\n",
            "|NULL| NULL|  NULL|  4|kumarbala|  5000|\n",
            "+----+-----+------+---+---------+------+\n",
            "\n",
            "+----+---------+------+----+---------+------+\n",
            "|  id|     name|gender|  id|     name|salary|\n",
            "+----+---------+------+----+---------+------+\n",
            "|   1|     bala|  male|   1|    kumar|  2000|\n",
            "|   2|    kumar|  male|   2|     bala|  3000|\n",
            "|   3|balakumar|  male|NULL|     NULL|  NULL|\n",
            "|NULL|     NULL|  NULL|   4|kumarbala|  5000|\n",
            "+----+---------+------+----+---------+------+\n",
            "\n"
          ]
        }
      ]
    },
    {
      "cell_type": "code",
      "source": [
        "from pyspark.sql.functions import concat_ws\n",
        "\n",
        "df1.join(df2,df1.id==df2.id,'full') \\\n",
        "   .select(df1.id,concat_ws(' ',df1.name,df2.name).alias('fullname'),df1.gender,df2.salary).show()"
      ],
      "metadata": {
        "colab": {
          "base_uri": "https://localhost:8080/"
        },
        "id": "xdsjrDCfBp3a",
        "outputId": "3ec6a19e-ce35-4e5a-e2a3-cd0ecbfbcfff"
      },
      "execution_count": 17,
      "outputs": [
        {
          "output_type": "stream",
          "name": "stdout",
          "text": [
            "+----+----------+------+------+\n",
            "|  id|  fullname|gender|salary|\n",
            "+----+----------+------+------+\n",
            "|   1|bala kumar|  male|  2000|\n",
            "|   2|kumar bala|  male|  3000|\n",
            "|   3| balakumar|  male|  NULL|\n",
            "|NULL| kumarbala|  NULL|  5000|\n",
            "+----+----------+------+------+\n",
            "\n"
          ]
        }
      ]
    }
  ]
}