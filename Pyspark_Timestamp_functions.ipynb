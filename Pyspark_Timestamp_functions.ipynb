{
  "nbformat": 4,
  "nbformat_minor": 0,
  "metadata": {
    "colab": {
      "provenance": [],
      "authorship_tag": "ABX9TyMRX6i5oRB1NyIPv2UkgC6Z",
      "include_colab_link": true
    },
    "kernelspec": {
      "name": "python3",
      "display_name": "Python 3"
    },
    "language_info": {
      "name": "python"
    }
  },
  "cells": [
    {
      "cell_type": "markdown",
      "metadata": {
        "id": "view-in-github",
        "colab_type": "text"
      },
      "source": [
        "<a href=\"https://colab.research.google.com/github/balakumar-dataengineer/testrepo/blob/master/Pyspark_Timestamp_functions.ipynb\" target=\"_parent\"><img src=\"https://colab.research.google.com/assets/colab-badge.svg\" alt=\"Open In Colab\"/></a>"
      ]
    },
    {
      "cell_type": "code",
      "execution_count": 1,
      "metadata": {
        "colab": {
          "base_uri": "https://localhost:8080/"
        },
        "id": "zLXe8D6eO8Tb",
        "outputId": "33991256-05b8-4b49-f1fc-3a002b597539"
      },
      "outputs": [
        {
          "output_type": "stream",
          "name": "stdout",
          "text": [
            "<pyspark.sql.session.SparkSession object at 0x7c6d407527d0>\n"
          ]
        }
      ],
      "source": [
        "from pyspark.sql import SparkSession\n",
        "\n",
        "spark=SparkSession.builder.appName('pyspark') \\\n",
        "                          .master('local') \\\n",
        "                          .getOrCreate()\n",
        "\n",
        "print(spark)"
      ]
    },
    {
      "cell_type": "code",
      "source": [
        "df=spark.range(2)\n",
        "df.show()"
      ],
      "metadata": {
        "colab": {
          "base_uri": "https://localhost:8080/"
        },
        "id": "RYBhLrA8PiU0",
        "outputId": "b06637d0-2b66-46b3-b7c5-ce0e673b53b9"
      },
      "execution_count": 4,
      "outputs": [
        {
          "output_type": "stream",
          "name": "stdout",
          "text": [
            "+---+\n",
            "| id|\n",
            "+---+\n",
            "|  0|\n",
            "|  1|\n",
            "+---+\n",
            "\n"
          ]
        }
      ]
    },
    {
      "cell_type": "code",
      "source": [
        "from pyspark.sql.functions import current_timestamp,to_timestamp,hour,minute,second,date_format\n",
        "\n",
        "df1=df.withColumn('current_timestamp',current_timestamp())\n",
        "df1.show(truncate=False)\n",
        "df1.printSchema()"
      ],
      "metadata": {
        "colab": {
          "base_uri": "https://localhost:8080/"
        },
        "id": "_iWdeAOhPubt",
        "outputId": "afdeb10c-4545-4146-8bad-24af91b31563"
      },
      "execution_count": 21,
      "outputs": [
        {
          "output_type": "stream",
          "name": "stdout",
          "text": [
            "+---+-------------------------+\n",
            "|id |current_timestamp        |\n",
            "+---+-------------------------+\n",
            "|0  |2025-03-08 10:23:59.32892|\n",
            "|1  |2025-03-08 10:23:59.32892|\n",
            "+---+-------------------------+\n",
            "\n",
            "root\n",
            " |-- id: long (nullable = false)\n",
            " |-- current_timestamp: timestamp (nullable = false)\n",
            "\n"
          ]
        }
      ]
    },
    {
      "cell_type": "code",
      "source": [
        "df2=df1.withColumn('format_timestamp',date_format(df1.current_timestamp,'dd-MMM-yyyy HH:mm:ss'))\n",
        "df2.show(truncate=False)\n",
        "df2.printSchema()"
      ],
      "metadata": {
        "colab": {
          "base_uri": "https://localhost:8080/"
        },
        "id": "ZO6BvMHEQYeB",
        "outputId": "d0f36b1c-20e6-4133-b1af-e32058bce007"
      },
      "execution_count": 22,
      "outputs": [
        {
          "output_type": "stream",
          "name": "stdout",
          "text": [
            "+---+--------------------------+--------------------+\n",
            "|id |current_timestamp         |format_timestamp    |\n",
            "+---+--------------------------+--------------------+\n",
            "|0  |2025-03-08 10:24:02.430066|08-Mar-2025 10:24:02|\n",
            "|1  |2025-03-08 10:24:02.430066|08-Mar-2025 10:24:02|\n",
            "+---+--------------------------+--------------------+\n",
            "\n",
            "root\n",
            " |-- id: long (nullable = false)\n",
            " |-- current_timestamp: timestamp (nullable = false)\n",
            " |-- format_timestamp: string (nullable = false)\n",
            "\n"
          ]
        }
      ]
    },
    {
      "cell_type": "code",
      "source": [
        "df3=df2.withColumn('to_timestamp',to_timestamp(df2.format_timestamp,'dd-MMM-yyyy HH:mm:ss'))\n",
        "df3.show(truncate=False)\n",
        "df3.printSchema()"
      ],
      "metadata": {
        "colab": {
          "base_uri": "https://localhost:8080/"
        },
        "id": "5utNr8hcQ3Df",
        "outputId": "e43874f6-a952-4c36-b767-12fe6a52d87f"
      },
      "execution_count": 23,
      "outputs": [
        {
          "output_type": "stream",
          "name": "stdout",
          "text": [
            "+---+--------------------------+--------------------+-------------------+\n",
            "|id |current_timestamp         |format_timestamp    |to_timestamp       |\n",
            "+---+--------------------------+--------------------+-------------------+\n",
            "|0  |2025-03-08 10:24:06.526518|08-Mar-2025 10:24:06|2025-03-08 10:24:06|\n",
            "|1  |2025-03-08 10:24:06.526518|08-Mar-2025 10:24:06|2025-03-08 10:24:06|\n",
            "+---+--------------------------+--------------------+-------------------+\n",
            "\n",
            "root\n",
            " |-- id: long (nullable = false)\n",
            " |-- current_timestamp: timestamp (nullable = false)\n",
            " |-- format_timestamp: string (nullable = false)\n",
            " |-- to_timestamp: timestamp (nullable = true)\n",
            "\n"
          ]
        }
      ]
    },
    {
      "cell_type": "code",
      "source": [
        "df4=df3.select('id','current_timestamp','format_timestamp','to_timestamp',hour(df3.to_timestamp).alias('hour'),\\\n",
        "           minute(df3.to_timestamp).alias('minute'),second(df3.to_timestamp).alias('second'))\n",
        "\n",
        "df4.show(truncate=False)"
      ],
      "metadata": {
        "colab": {
          "base_uri": "https://localhost:8080/"
        },
        "id": "yH3ZKp4gRU6T",
        "outputId": "5302db8c-2821-4457-a98f-b7b54e2fa5ee"
      },
      "execution_count": 24,
      "outputs": [
        {
          "output_type": "stream",
          "name": "stdout",
          "text": [
            "+---+--------------------------+--------------------+-------------------+----+------+------+\n",
            "|id |current_timestamp         |format_timestamp    |to_timestamp       |hour|minute|second|\n",
            "+---+--------------------------+--------------------+-------------------+----+------+------+\n",
            "|0  |2025-03-08 10:24:11.201081|08-Mar-2025 10:24:11|2025-03-08 10:24:11|10  |24    |11    |\n",
            "|1  |2025-03-08 10:24:11.201081|08-Mar-2025 10:24:11|2025-03-08 10:24:11|10  |24    |11    |\n",
            "+---+--------------------------+--------------------+-------------------+----+------+------+\n",
            "\n"
          ]
        }
      ]
    }
  ]
}