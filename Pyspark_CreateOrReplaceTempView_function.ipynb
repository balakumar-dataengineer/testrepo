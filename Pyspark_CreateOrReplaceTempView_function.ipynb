{
  "nbformat": 4,
  "nbformat_minor": 0,
  "metadata": {
    "colab": {
      "provenance": [],
      "authorship_tag": "ABX9TyMN8ZOXG4vzTgJW050nbAfn",
      "include_colab_link": true
    },
    "kernelspec": {
      "name": "python3",
      "display_name": "Python 3"
    },
    "language_info": {
      "name": "python"
    }
  },
  "cells": [
    {
      "cell_type": "markdown",
      "metadata": {
        "id": "view-in-github",
        "colab_type": "text"
      },
      "source": [
        "<a href=\"https://colab.research.google.com/github/balakumar-dataengineer/testrepo/blob/master/Pyspark_CreateOrReplaceTempView_function.ipynb\" target=\"_parent\"><img src=\"https://colab.research.google.com/assets/colab-badge.svg\" alt=\"Open In Colab\"/></a>"
      ]
    },
    {
      "cell_type": "code",
      "execution_count": 1,
      "metadata": {
        "colab": {
          "base_uri": "https://localhost:8080/"
        },
        "id": "zxT2orxrJrq_",
        "outputId": "80c4f630-f8c3-4369-848c-16b16168bae0"
      },
      "outputs": [
        {
          "output_type": "stream",
          "name": "stdout",
          "text": [
            "<pyspark.sql.session.SparkSession object at 0x7814c99c6350>\n"
          ]
        }
      ],
      "source": [
        "from pyspark.sql import SparkSession\n",
        "\n",
        "spark = SparkSession.builder.appName('Pyspark') \\\n",
        "                            .master('local') \\\n",
        "                            .getOrCreate()\n",
        "\n",
        "print(spark)"
      ]
    },
    {
      "cell_type": "code",
      "source": [
        "data=[\n",
        "    (1,'bala','male',40000),\n",
        "    (2,'kumar','male',60000),\n",
        "    (3,'balakumar','male',160000)\n",
        "]\n",
        "\n",
        "schema=['id','name','gender','salary']\n",
        "\n",
        "df=spark.createDataFrame(data,schema)\n",
        "df.show()"
      ],
      "metadata": {
        "colab": {
          "base_uri": "https://localhost:8080/"
        },
        "id": "8yQgSbyPKEM3",
        "outputId": "fe73e8d1-5166-47de-b827-282f7300873e"
      },
      "execution_count": 2,
      "outputs": [
        {
          "output_type": "stream",
          "name": "stdout",
          "text": [
            "+---+---------+------+------+\n",
            "| id|     name|gender|salary|\n",
            "+---+---------+------+------+\n",
            "|  1|     bala|  male| 40000|\n",
            "|  2|    kumar|  male| 60000|\n",
            "|  3|balakumar|  male|160000|\n",
            "+---+---------+------+------+\n",
            "\n"
          ]
        }
      ]
    },
    {
      "cell_type": "code",
      "source": [
        "df.createOrReplaceTempView('employee_details')\n",
        "\n",
        "df1=spark.sql('select id,name,gender,salary,sum(salary) over (partition by gender order by id asc) cum_salary From employee_details')\n",
        "df1.show()\n"
      ],
      "metadata": {
        "colab": {
          "base_uri": "https://localhost:8080/"
        },
        "id": "z7t75lRCKdvw",
        "outputId": "e4d45fd4-8c3d-4bba-8657-5f8b7bcb3901"
      },
      "execution_count": 31,
      "outputs": [
        {
          "output_type": "stream",
          "name": "stdout",
          "text": [
            "+---+---------+------+------+----------+\n",
            "| id|     name|gender|salary|cum_salary|\n",
            "+---+---------+------+------+----------+\n",
            "|  1|     bala|  male| 40000|     40000|\n",
            "|  2|    kumar|  male| 60000|    100000|\n",
            "|  3|balakumar|  male|160000|    260000|\n",
            "+---+---------+------+------+----------+\n",
            "\n"
          ]
        }
      ]
    }
  ]
}