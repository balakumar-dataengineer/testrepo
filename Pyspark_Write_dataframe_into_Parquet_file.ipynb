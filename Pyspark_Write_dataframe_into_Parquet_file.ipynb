{
  "nbformat": 4,
  "nbformat_minor": 0,
  "metadata": {
    "colab": {
      "provenance": [],
      "authorship_tag": "ABX9TyPV5BDUok2cxWXI2I7q7pwW",
      "include_colab_link": true
    },
    "kernelspec": {
      "name": "python3",
      "display_name": "Python 3"
    },
    "language_info": {
      "name": "python"
    }
  },
  "cells": [
    {
      "cell_type": "markdown",
      "metadata": {
        "id": "view-in-github",
        "colab_type": "text"
      },
      "source": [
        "<a href=\"https://colab.research.google.com/github/balakumar-dataengineer/testrepo/blob/master/Pyspark_Write_dataframe_into_Parquet_file.ipynb\" target=\"_parent\"><img src=\"https://colab.research.google.com/assets/colab-badge.svg\" alt=\"Open In Colab\"/></a>"
      ]
    },
    {
      "cell_type": "code",
      "execution_count": 1,
      "metadata": {
        "colab": {
          "base_uri": "https://localhost:8080/"
        },
        "id": "Ne3VPqnMHnYG",
        "outputId": "2a58f660-2d26-4a9c-b9f9-ed4df467eff5"
      },
      "outputs": [
        {
          "output_type": "stream",
          "name": "stdout",
          "text": [
            "<pyspark.sql.session.SparkSession object at 0x78595857d390>\n",
            "Mounted at /content/drive\n"
          ]
        }
      ],
      "source": [
        "from pyspark.sql import SparkSession\n",
        "\n",
        "spark=SparkSession.builder.appName('Pyspark test') \\\n",
        "                  .master('local') \\\n",
        "                  .getOrCreate()\n",
        "\n",
        "print(spark)\n",
        "\n",
        "from google.colab import drive\n",
        "drive.mount('/content/drive')"
      ]
    },
    {
      "cell_type": "code",
      "source": [
        "df = spark.createDataFrame([(1,'bala'),(2,'kumar')],['id','name'])\n",
        "\n",
        "df.show()\n",
        "df.printSchema()"
      ],
      "metadata": {
        "colab": {
          "base_uri": "https://localhost:8080/"
        },
        "id": "aawgNVRyIYeY",
        "outputId": "897add96-7163-43ad-8c11-7617635f2467"
      },
      "execution_count": 3,
      "outputs": [
        {
          "output_type": "stream",
          "name": "stdout",
          "text": [
            "+---+-----+\n",
            "| id| name|\n",
            "+---+-----+\n",
            "|  1| bala|\n",
            "|  2|kumar|\n",
            "+---+-----+\n",
            "\n",
            "root\n",
            " |-- id: long (nullable = true)\n",
            " |-- name: string (nullable = true)\n",
            "\n"
          ]
        }
      ]
    },
    {
      "cell_type": "code",
      "source": [
        "df.write.parquet('/content/drive/My Drive/Colab Notebooks/Testfiles/Parquetfilewrite',mode='overwrite')\n",
        "\n",
        "df1=spark.read.parquet('/content/drive/My Drive/Colab Notebooks/Testfiles/Parquetfilewrite')\n",
        "df1.show()\n",
        "df1.printSchema()"
      ],
      "metadata": {
        "colab": {
          "base_uri": "https://localhost:8080/"
        },
        "id": "H18zXgW6I051",
        "outputId": "2defdaec-6440-4515-c8b6-e9d9ff26340e"
      },
      "execution_count": 9,
      "outputs": [
        {
          "output_type": "stream",
          "name": "stdout",
          "text": [
            "+---+-----+\n",
            "| id| name|\n",
            "+---+-----+\n",
            "|  1| bala|\n",
            "|  2|kumar|\n",
            "+---+-----+\n",
            "\n",
            "root\n",
            " |-- id: long (nullable = true)\n",
            " |-- name: string (nullable = true)\n",
            "\n"
          ]
        }
      ]
    },
    {
      "cell_type": "code",
      "source": [
        "df1.write.format('parquet') \\\n",
        "         .mode('overwrite') \\\n",
        "         .save('/content/drive/My Drive/Colab Notebooks/Testfiles/Parquet')\n",
        "\n",
        "df2=spark.read.format('parquet') \\\n",
        "              .load('/content/drive/My Drive/Colab Notebooks/Testfiles/Parquet')\n",
        "\n",
        "df2.show()\n",
        "df2.printSchema()\n",
        "df2.count()"
      ],
      "metadata": {
        "colab": {
          "base_uri": "https://localhost:8080/"
        },
        "id": "68TPzF0sKFJ5",
        "outputId": "c2c33db1-cbf7-4112-c04a-0c30c2e1fcdf"
      },
      "execution_count": 16,
      "outputs": [
        {
          "output_type": "stream",
          "name": "stdout",
          "text": [
            "+---+-----+\n",
            "| id| name|\n",
            "+---+-----+\n",
            "|  1| bala|\n",
            "|  2|kumar|\n",
            "+---+-----+\n",
            "\n",
            "root\n",
            " |-- id: long (nullable = true)\n",
            " |-- name: string (nullable = true)\n",
            "\n"
          ]
        },
        {
          "output_type": "execute_result",
          "data": {
            "text/plain": [
              "2"
            ]
          },
          "metadata": {},
          "execution_count": 16
        }
      ]
    }
  ]
}