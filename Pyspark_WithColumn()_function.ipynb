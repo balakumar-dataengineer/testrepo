{
  "nbformat": 4,
  "nbformat_minor": 0,
  "metadata": {
    "colab": {
      "provenance": [],
      "authorship_tag": "ABX9TyMlZZDkE4kUilectbfn0Dca",
      "include_colab_link": true
    },
    "kernelspec": {
      "name": "python3",
      "display_name": "Python 3"
    },
    "language_info": {
      "name": "python"
    }
  },
  "cells": [
    {
      "cell_type": "markdown",
      "metadata": {
        "id": "view-in-github",
        "colab_type": "text"
      },
      "source": [
        "<a href=\"https://colab.research.google.com/github/balakumar-dataengineer/testrepo/blob/master/Pyspark_WithColumn()_function.ipynb\" target=\"_parent\"><img src=\"https://colab.research.google.com/assets/colab-badge.svg\" alt=\"Open In Colab\"/></a>"
      ]
    },
    {
      "cell_type": "code",
      "execution_count": 2,
      "metadata": {
        "colab": {
          "base_uri": "https://localhost:8080/"
        },
        "id": "4MsWFL68iREi",
        "outputId": "db4bad2c-800d-4f8e-dd5a-c1a17be05312"
      },
      "outputs": [
        {
          "output_type": "stream",
          "name": "stdout",
          "text": [
            "+-------+-------------+--------------+----------+-----+\n",
            "|orderId|         name|restaurantName| orderDate|price|\n",
            "+-------+-------------+--------------+----------+-----+\n",
            "|    101|Alice Johnson|     Pizza Hut|2024-02-10|25.99|\n",
            "|    102|    Bob Smith|           KFC|2024-02-11|15.49|\n",
            "|    103|Charlie Brown|    McDonald's|2024-02-12|12.99|\n",
            "|    104|    David Lee|        Subway|2024-02-13| 8.99|\n",
            "|    105|  Emma Watson|      Domino's|2024-02-14|18.75|\n",
            "+-------+-------------+--------------+----------+-----+\n",
            "\n"
          ]
        }
      ],
      "source": [
        "from pyspark.sql import SparkSession\n",
        "\n",
        "spark=SparkSession.builder.appName('Pyspark test') \\\n",
        "                          .master('local') \\\n",
        "                          .getOrCreate()\n",
        "\n",
        "data= [\n",
        "    (101, \"Alice Johnson\", \"Pizza Hut\", \"2024-02-10\", 25.99),\n",
        "    (102, \"Bob Smith\", \"KFC\", \"2024-02-11\", 15.49),\n",
        "    (103, \"Charlie Brown\", \"McDonald's\", \"2024-02-12\", 12.99),\n",
        "    (104, \"David Lee\", \"Subway\", \"2024-02-13\", 8.99),\n",
        "    (105, \"Emma Watson\", \"Domino's\", \"2024-02-14\", 18.75)\n",
        "]\n",
        "\n",
        "schema=['orderId','name','restaurantName','orderDate','price']\n",
        "\n",
        "df=spark.createDataFrame(data,schema)\n",
        "\n",
        "df.show()"
      ]
    },
    {
      "cell_type": "code",
      "source": [
        "df1=df.withColumn('price',df['price']*1.25)\n",
        "df1.show()\n",
        "df1.printSchema()"
      ],
      "metadata": {
        "colab": {
          "base_uri": "https://localhost:8080/"
        },
        "id": "CVSgwvk6jcn-",
        "outputId": "085b44c0-8f73-4a29-964d-bea0bb24293f"
      },
      "execution_count": 4,
      "outputs": [
        {
          "output_type": "stream",
          "name": "stdout",
          "text": [
            "+-------+-------------+--------------+----------+-------+\n",
            "|orderId|         name|restaurantName| orderDate|  price|\n",
            "+-------+-------------+--------------+----------+-------+\n",
            "|    101|Alice Johnson|     Pizza Hut|2024-02-10|32.4875|\n",
            "|    102|    Bob Smith|           KFC|2024-02-11|19.3625|\n",
            "|    103|Charlie Brown|    McDonald's|2024-02-12|16.2375|\n",
            "|    104|    David Lee|        Subway|2024-02-13|11.2375|\n",
            "|    105|  Emma Watson|      Domino's|2024-02-14|23.4375|\n",
            "+-------+-------------+--------------+----------+-------+\n",
            "\n",
            "root\n",
            " |-- orderId: long (nullable = true)\n",
            " |-- name: string (nullable = true)\n",
            " |-- restaurantName: string (nullable = true)\n",
            " |-- orderDate: string (nullable = true)\n",
            " |-- price: double (nullable = true)\n",
            "\n"
          ]
        }
      ]
    },
    {
      "cell_type": "code",
      "source": [
        "df2=df1.withColumn('orderId',df1['orderId'].cast('Integer'))\n",
        "df2.show()\n",
        "df2.printSchema()"
      ],
      "metadata": {
        "colab": {
          "base_uri": "https://localhost:8080/"
        },
        "id": "8CCCISBmjutg",
        "outputId": "5b23b470-4143-4a55-b51e-a4416af9315d"
      },
      "execution_count": 5,
      "outputs": [
        {
          "output_type": "stream",
          "name": "stdout",
          "text": [
            "+-------+-------------+--------------+----------+-------+\n",
            "|orderId|         name|restaurantName| orderDate|  price|\n",
            "+-------+-------------+--------------+----------+-------+\n",
            "|    101|Alice Johnson|     Pizza Hut|2024-02-10|32.4875|\n",
            "|    102|    Bob Smith|           KFC|2024-02-11|19.3625|\n",
            "|    103|Charlie Brown|    McDonald's|2024-02-12|16.2375|\n",
            "|    104|    David Lee|        Subway|2024-02-13|11.2375|\n",
            "|    105|  Emma Watson|      Domino's|2024-02-14|23.4375|\n",
            "+-------+-------------+--------------+----------+-------+\n",
            "\n",
            "root\n",
            " |-- orderId: integer (nullable = true)\n",
            " |-- name: string (nullable = true)\n",
            " |-- restaurantName: string (nullable = true)\n",
            " |-- orderDate: string (nullable = true)\n",
            " |-- price: double (nullable = true)\n",
            "\n"
          ]
        }
      ]
    },
    {
      "cell_type": "code",
      "source": [
        "df3=df2.withColumn('orderDate',df2['orderDate'].cast('Timestamp'))\n",
        "\n",
        "df3.show()\n",
        "df3.printSchema()"
      ],
      "metadata": {
        "colab": {
          "base_uri": "https://localhost:8080/"
        },
        "id": "6FoCfxcNkPz7",
        "outputId": "9a2995b8-e0eb-43a1-804d-f8b869efa7f3"
      },
      "execution_count": 6,
      "outputs": [
        {
          "output_type": "stream",
          "name": "stdout",
          "text": [
            "+-------+-------------+--------------+-------------------+-------+\n",
            "|orderId|         name|restaurantName|          orderDate|  price|\n",
            "+-------+-------------+--------------+-------------------+-------+\n",
            "|    101|Alice Johnson|     Pizza Hut|2024-02-10 00:00:00|32.4875|\n",
            "|    102|    Bob Smith|           KFC|2024-02-11 00:00:00|19.3625|\n",
            "|    103|Charlie Brown|    McDonald's|2024-02-12 00:00:00|16.2375|\n",
            "|    104|    David Lee|        Subway|2024-02-13 00:00:00|11.2375|\n",
            "|    105|  Emma Watson|      Domino's|2024-02-14 00:00:00|23.4375|\n",
            "+-------+-------------+--------------+-------------------+-------+\n",
            "\n",
            "root\n",
            " |-- orderId: integer (nullable = true)\n",
            " |-- name: string (nullable = true)\n",
            " |-- restaurantName: string (nullable = true)\n",
            " |-- orderDate: timestamp (nullable = true)\n",
            " |-- price: double (nullable = true)\n",
            "\n"
          ]
        }
      ]
    },
    {
      "cell_type": "code",
      "source": [
        "from pyspark.sql.functions import col\n",
        "\n",
        "df4=df3.withColumn('amount',col('price')*10)\n",
        "df4.show()\n",
        "df4.printSchema()"
      ],
      "metadata": {
        "colab": {
          "base_uri": "https://localhost:8080/"
        },
        "id": "-UrcwSrKkkn6",
        "outputId": "0c0c17ab-6da2-4feb-cdaf-5b11eaf02008"
      },
      "execution_count": 7,
      "outputs": [
        {
          "output_type": "stream",
          "name": "stdout",
          "text": [
            "+-------+-------------+--------------+-------------------+-------+-------+\n",
            "|orderId|         name|restaurantName|          orderDate|  price| amount|\n",
            "+-------+-------------+--------------+-------------------+-------+-------+\n",
            "|    101|Alice Johnson|     Pizza Hut|2024-02-10 00:00:00|32.4875|324.875|\n",
            "|    102|    Bob Smith|           KFC|2024-02-11 00:00:00|19.3625|193.625|\n",
            "|    103|Charlie Brown|    McDonald's|2024-02-12 00:00:00|16.2375|162.375|\n",
            "|    104|    David Lee|        Subway|2024-02-13 00:00:00|11.2375|112.375|\n",
            "|    105|  Emma Watson|      Domino's|2024-02-14 00:00:00|23.4375|234.375|\n",
            "+-------+-------------+--------------+-------------------+-------+-------+\n",
            "\n",
            "root\n",
            " |-- orderId: integer (nullable = true)\n",
            " |-- name: string (nullable = true)\n",
            " |-- restaurantName: string (nullable = true)\n",
            " |-- orderDate: timestamp (nullable = true)\n",
            " |-- price: double (nullable = true)\n",
            " |-- amount: double (nullable = true)\n",
            "\n"
          ]
        }
      ]
    }
  ]
}