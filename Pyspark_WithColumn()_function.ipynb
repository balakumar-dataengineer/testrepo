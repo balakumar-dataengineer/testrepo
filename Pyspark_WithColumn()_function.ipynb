{
  "nbformat": 4,
  "nbformat_minor": 0,
  "metadata": {
    "colab": {
      "provenance": [],
      "authorship_tag": "ABX9TyNej29/6fha1+hJsFoQef4h",
      "include_colab_link": true
    },
    "kernelspec": {
      "name": "python3",
      "display_name": "Python 3"
    },
    "language_info": {
      "name": "python"
    }
  },
  "cells": [
    {
      "cell_type": "markdown",
      "metadata": {
        "id": "view-in-github",
        "colab_type": "text"
      },
      "source": [
        "<a href=\"https://colab.research.google.com/github/balakumar-dataengineer/testrepo/blob/master/Pyspark_WithColumn()_function.ipynb\" target=\"_parent\"><img src=\"https://colab.research.google.com/assets/colab-badge.svg\" alt=\"Open In Colab\"/></a>"
      ]
    },
    {
      "cell_type": "code",
      "execution_count": 1,
      "metadata": {
        "colab": {
          "base_uri": "https://localhost:8080/"
        },
        "id": "4MsWFL68iREi",
        "outputId": "a4b35c24-17ce-4e35-bbb7-30b6fba9b3e9"
      },
      "outputs": [
        {
          "output_type": "stream",
          "name": "stdout",
          "text": [
            "+-------+-------------+--------------+----------+-----+\n",
            "|orderId|         name|restaurantName| orderDate|price|\n",
            "+-------+-------------+--------------+----------+-----+\n",
            "|    101|Alice Johnson|     Pizza Hut|2024-02-10|25.99|\n",
            "|    102|    Bob Smith|           KFC|2024-02-11|15.49|\n",
            "|    103|Charlie Brown|    McDonald's|2024-02-12|12.99|\n",
            "|    104|    David Lee|        Subway|2024-02-13| 8.99|\n",
            "|    105|  Emma Watson|      Domino's|2024-02-14|18.75|\n",
            "+-------+-------------+--------------+----------+-----+\n",
            "\n"
          ]
        }
      ],
      "source": [
        "from pyspark.sql import SparkSession\n",
        "\n",
        "spark=SparkSession.builder.appName('Pyspark test') \\\n",
        "                          .master('local') \\\n",
        "                          .getOrCreate()\n",
        "\n",
        "data= [\n",
        "    (101, \"Alice Johnson\", \"Pizza Hut\", \"2024-02-10\", 25.99),\n",
        "    (102, \"Bob Smith\", \"KFC\", \"2024-02-11\", 15.49),\n",
        "    (103, \"Charlie Brown\", \"McDonald's\", \"2024-02-12\", 12.99),\n",
        "    (104, \"David Lee\", \"Subway\", \"2024-02-13\", 8.99),\n",
        "    (105, \"Emma Watson\", \"Domino's\", \"2024-02-14\", 18.75)\n",
        "]\n",
        "\n",
        "schema=['orderId','name','restaurantName','orderDate','price']\n",
        "\n",
        "df=spark.createDataFrame(data,schema)\n",
        "\n",
        "df.show()"
      ]
    },
    {
      "cell_type": "code",
      "source": [
        "df1=df.withColumn('price',df['price']*1.25)\n",
        "df1.show()\n",
        "df1.printSchema()"
      ],
      "metadata": {
        "colab": {
          "base_uri": "https://localhost:8080/"
        },
        "id": "CVSgwvk6jcn-",
        "outputId": "e8084aae-fbd9-4a41-b78e-840ac0d1be85"
      },
      "execution_count": 2,
      "outputs": [
        {
          "output_type": "stream",
          "name": "stdout",
          "text": [
            "+-------+-------------+--------------+----------+-------+\n",
            "|orderId|         name|restaurantName| orderDate|  price|\n",
            "+-------+-------------+--------------+----------+-------+\n",
            "|    101|Alice Johnson|     Pizza Hut|2024-02-10|32.4875|\n",
            "|    102|    Bob Smith|           KFC|2024-02-11|19.3625|\n",
            "|    103|Charlie Brown|    McDonald's|2024-02-12|16.2375|\n",
            "|    104|    David Lee|        Subway|2024-02-13|11.2375|\n",
            "|    105|  Emma Watson|      Domino's|2024-02-14|23.4375|\n",
            "+-------+-------------+--------------+----------+-------+\n",
            "\n",
            "root\n",
            " |-- orderId: long (nullable = true)\n",
            " |-- name: string (nullable = true)\n",
            " |-- restaurantName: string (nullable = true)\n",
            " |-- orderDate: string (nullable = true)\n",
            " |-- price: double (nullable = true)\n",
            "\n"
          ]
        }
      ]
    },
    {
      "cell_type": "code",
      "source": [
        "df2=df1.withColumn('orderId',df1['orderId'].cast('Integer'))\n",
        "df2.show()\n",
        "df2.printSchema()"
      ],
      "metadata": {
        "colab": {
          "base_uri": "https://localhost:8080/"
        },
        "id": "8CCCISBmjutg",
        "outputId": "9a73dc3d-1940-4d62-9116-9d112ca3890d"
      },
      "execution_count": 3,
      "outputs": [
        {
          "output_type": "stream",
          "name": "stdout",
          "text": [
            "+-------+-------------+--------------+----------+-------+\n",
            "|orderId|         name|restaurantName| orderDate|  price|\n",
            "+-------+-------------+--------------+----------+-------+\n",
            "|    101|Alice Johnson|     Pizza Hut|2024-02-10|32.4875|\n",
            "|    102|    Bob Smith|           KFC|2024-02-11|19.3625|\n",
            "|    103|Charlie Brown|    McDonald's|2024-02-12|16.2375|\n",
            "|    104|    David Lee|        Subway|2024-02-13|11.2375|\n",
            "|    105|  Emma Watson|      Domino's|2024-02-14|23.4375|\n",
            "+-------+-------------+--------------+----------+-------+\n",
            "\n",
            "root\n",
            " |-- orderId: integer (nullable = true)\n",
            " |-- name: string (nullable = true)\n",
            " |-- restaurantName: string (nullable = true)\n",
            " |-- orderDate: string (nullable = true)\n",
            " |-- price: double (nullable = true)\n",
            "\n"
          ]
        }
      ]
    },
    {
      "cell_type": "code",
      "source": [
        "df3=df2.withColumn('orderDate',df2['orderDate'].cast('Timestamp'))\n",
        "\n",
        "df3.show()\n",
        "df3.printSchema()"
      ],
      "metadata": {
        "colab": {
          "base_uri": "https://localhost:8080/"
        },
        "id": "6FoCfxcNkPz7",
        "outputId": "0d29bf6f-210d-4c45-b67e-ac55f2f7e3a6"
      },
      "execution_count": 4,
      "outputs": [
        {
          "output_type": "stream",
          "name": "stdout",
          "text": [
            "+-------+-------------+--------------+-------------------+-------+\n",
            "|orderId|         name|restaurantName|          orderDate|  price|\n",
            "+-------+-------------+--------------+-------------------+-------+\n",
            "|    101|Alice Johnson|     Pizza Hut|2024-02-10 00:00:00|32.4875|\n",
            "|    102|    Bob Smith|           KFC|2024-02-11 00:00:00|19.3625|\n",
            "|    103|Charlie Brown|    McDonald's|2024-02-12 00:00:00|16.2375|\n",
            "|    104|    David Lee|        Subway|2024-02-13 00:00:00|11.2375|\n",
            "|    105|  Emma Watson|      Domino's|2024-02-14 00:00:00|23.4375|\n",
            "+-------+-------------+--------------+-------------------+-------+\n",
            "\n",
            "root\n",
            " |-- orderId: integer (nullable = true)\n",
            " |-- name: string (nullable = true)\n",
            " |-- restaurantName: string (nullable = true)\n",
            " |-- orderDate: timestamp (nullable = true)\n",
            " |-- price: double (nullable = true)\n",
            "\n"
          ]
        }
      ]
    },
    {
      "cell_type": "code",
      "source": [
        "from pyspark.sql.functions import col\n",
        "\n",
        "df4=df3.withColumn('amount',col('price')*10)\n",
        "df4.show()\n",
        "df4.printSchema()"
      ],
      "metadata": {
        "id": "-UrcwSrKkkn6",
        "colab": {
          "base_uri": "https://localhost:8080/"
        },
        "outputId": "53ac40b5-400d-4f45-bf93-7c5ca8d2ee99"
      },
      "execution_count": 5,
      "outputs": [
        {
          "output_type": "stream",
          "name": "stdout",
          "text": [
            "+-------+-------------+--------------+-------------------+-------+-------+\n",
            "|orderId|         name|restaurantName|          orderDate|  price| amount|\n",
            "+-------+-------------+--------------+-------------------+-------+-------+\n",
            "|    101|Alice Johnson|     Pizza Hut|2024-02-10 00:00:00|32.4875|324.875|\n",
            "|    102|    Bob Smith|           KFC|2024-02-11 00:00:00|19.3625|193.625|\n",
            "|    103|Charlie Brown|    McDonald's|2024-02-12 00:00:00|16.2375|162.375|\n",
            "|    104|    David Lee|        Subway|2024-02-13 00:00:00|11.2375|112.375|\n",
            "|    105|  Emma Watson|      Domino's|2024-02-14 00:00:00|23.4375|234.375|\n",
            "+-------+-------------+--------------+-------------------+-------+-------+\n",
            "\n",
            "root\n",
            " |-- orderId: integer (nullable = true)\n",
            " |-- name: string (nullable = true)\n",
            " |-- restaurantName: string (nullable = true)\n",
            " |-- orderDate: timestamp (nullable = true)\n",
            " |-- price: double (nullable = true)\n",
            " |-- amount: double (nullable = true)\n",
            "\n"
          ]
        }
      ]
    },
    {
      "cell_type": "code",
      "source": [
        "from pyspark.sql.functions import lit\n",
        "\n",
        "\n",
        "df5=df4.withColumn('source_id',lit(1))\n",
        "df5.show()\n",
        "df5.printSchema()\n"
      ],
      "metadata": {
        "colab": {
          "base_uri": "https://localhost:8080/"
        },
        "id": "42eZhO9NnQ5X",
        "outputId": "a57cb620-97a4-4c07-9dbb-d1e8558545c3"
      },
      "execution_count": 7,
      "outputs": [
        {
          "output_type": "stream",
          "name": "stdout",
          "text": [
            "+-------+-------------+--------------+-------------------+-------+-------+---------+\n",
            "|orderId|         name|restaurantName|          orderDate|  price| amount|source_id|\n",
            "+-------+-------------+--------------+-------------------+-------+-------+---------+\n",
            "|    101|Alice Johnson|     Pizza Hut|2024-02-10 00:00:00|32.4875|324.875|        1|\n",
            "|    102|    Bob Smith|           KFC|2024-02-11 00:00:00|19.3625|193.625|        1|\n",
            "|    103|Charlie Brown|    McDonald's|2024-02-12 00:00:00|16.2375|162.375|        1|\n",
            "|    104|    David Lee|        Subway|2024-02-13 00:00:00|11.2375|112.375|        1|\n",
            "|    105|  Emma Watson|      Domino's|2024-02-14 00:00:00|23.4375|234.375|        1|\n",
            "+-------+-------------+--------------+-------------------+-------+-------+---------+\n",
            "\n",
            "root\n",
            " |-- orderId: integer (nullable = true)\n",
            " |-- name: string (nullable = true)\n",
            " |-- restaurantName: string (nullable = true)\n",
            " |-- orderDate: timestamp (nullable = true)\n",
            " |-- price: double (nullable = true)\n",
            " |-- amount: double (nullable = true)\n",
            " |-- source_id: integer (nullable = false)\n",
            "\n"
          ]
        }
      ]
    }
  ]
}