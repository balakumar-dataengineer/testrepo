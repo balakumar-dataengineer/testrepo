{
  "cells": [
    {
      "cell_type": "markdown",
      "metadata": {
        "id": "view-in-github",
        "colab_type": "text"
      },
      "source": [
        "<a href=\"https://colab.research.google.com/github/balakumar-dataengineer/testrepo/blob/master/Pyspark_Union_and_UnionAll_Functions.ipynb\" target=\"_parent\"><img src=\"https://colab.research.google.com/assets/colab-badge.svg\" alt=\"Open In Colab\"/></a>"
      ]
    },
    {
      "cell_type": "code",
      "execution_count": null,
      "metadata": {
        "colab": {
          "background_save": true
        },
        "id": "rGtz3IFBjtUp",
        "outputId": "8b79b835-0fb7-4247-c4a7-737c58dc7933"
      },
      "outputs": [
        {
          "name": "stdout",
          "output_type": "stream",
          "text": [
            "<pyspark.sql.session.SparkSession object at 0x7d558bf46850>\n"
          ]
        }
      ],
      "source": [
        "from pyspark.sql import SparkSession\n",
        "\n",
        "spark=SparkSession.builder.appName('Pyspark') \\\n",
        "                          .master('local') \\\n",
        "                          .getOrCreate()\n",
        "\n",
        "print(spark)"
      ]
    },
    {
      "cell_type": "code",
      "execution_count": 3,
      "metadata": {
        "id": "IfDk-EY8kDfK",
        "colab": {
          "base_uri": "https://localhost:8080/"
        },
        "outputId": "a6bd6f54-db8a-454c-9b9d-d7b294e7dfc0"
      },
      "outputs": [
        {
          "output_type": "stream",
          "name": "stdout",
          "text": [
            "+---+-----+------+------+\n",
            "| id| name|gender|salary|\n",
            "+---+-----+------+------+\n",
            "|  1| bala|  male| 25000|\n",
            "|  2|kumar|  male| 26000|\n",
            "+---+-----+------+------+\n",
            "\n",
            "+---+---------+------+------+\n",
            "| id|     name|gender|salary|\n",
            "+---+---------+------+------+\n",
            "|  3|kumarbala|  male| 27000|\n",
            "|  4|balakumar|  male| 29000|\n",
            "|  3|kumarbala|  male| 27000|\n",
            "|  4|balakumar|  male| 29000|\n",
            "+---+---------+------+------+\n",
            "\n"
          ]
        }
      ],
      "source": [
        "data1=[\n",
        "    (1,'bala','male',25000),\n",
        "    (2,'kumar','male',26000)\n",
        "    ]\n",
        "\n",
        "data2=[\n",
        "    (3,'kumarbala','male',27000),\n",
        "    (4,'balakumar','male',29000),\n",
        "    (3,'kumarbala','male',27000),\n",
        "    (4,'balakumar','male',29000)\n",
        "]\n",
        "\n",
        "schema=['id','name','gender','salary']\n",
        "\n",
        "df1=spark.createDataFrame(data1,schema)\n",
        "df2=spark.createDataFrame(data2,schema)\n",
        "\n",
        "df1.show()\n",
        "df2.show()\n"
      ]
    },
    {
      "cell_type": "code",
      "source": [
        "df1.union(df2).show()"
      ],
      "metadata": {
        "colab": {
          "base_uri": "https://localhost:8080/"
        },
        "id": "EGPFd9iOH4iG",
        "outputId": "31297b87-d756-4971-85cc-aa815a645534"
      },
      "execution_count": 4,
      "outputs": [
        {
          "output_type": "stream",
          "name": "stdout",
          "text": [
            "+---+---------+------+------+\n",
            "| id|     name|gender|salary|\n",
            "+---+---------+------+------+\n",
            "|  1|     bala|  male| 25000|\n",
            "|  2|    kumar|  male| 26000|\n",
            "|  3|kumarbala|  male| 27000|\n",
            "|  4|balakumar|  male| 29000|\n",
            "|  3|kumarbala|  male| 27000|\n",
            "|  4|balakumar|  male| 29000|\n",
            "+---+---------+------+------+\n",
            "\n"
          ]
        }
      ]
    },
    {
      "cell_type": "code",
      "source": [
        "df2.unionAll(df1).show()"
      ],
      "metadata": {
        "colab": {
          "base_uri": "https://localhost:8080/"
        },
        "id": "0ssP7DATH9Zg",
        "outputId": "93616313-332d-4f12-9ed6-6b4fb9310520"
      },
      "execution_count": 6,
      "outputs": [
        {
          "output_type": "stream",
          "name": "stdout",
          "text": [
            "+---+---------+------+------+\n",
            "| id|     name|gender|salary|\n",
            "+---+---------+------+------+\n",
            "|  3|kumarbala|  male| 27000|\n",
            "|  4|balakumar|  male| 29000|\n",
            "|  3|kumarbala|  male| 27000|\n",
            "|  4|balakumar|  male| 29000|\n",
            "|  1|     bala|  male| 25000|\n",
            "|  2|    kumar|  male| 26000|\n",
            "+---+---------+------+------+\n",
            "\n"
          ]
        }
      ]
    },
    {
      "cell_type": "code",
      "source": [
        "df1.union(df2).distinct().show()"
      ],
      "metadata": {
        "colab": {
          "base_uri": "https://localhost:8080/"
        },
        "id": "6jF3OykvICIT",
        "outputId": "189d9ebd-ab51-4527-fc4d-d567bf7563b5"
      },
      "execution_count": 7,
      "outputs": [
        {
          "output_type": "stream",
          "name": "stdout",
          "text": [
            "+---+---------+------+------+\n",
            "| id|     name|gender|salary|\n",
            "+---+---------+------+------+\n",
            "|  2|    kumar|  male| 26000|\n",
            "|  1|     bala|  male| 25000|\n",
            "|  3|kumarbala|  male| 27000|\n",
            "|  4|balakumar|  male| 29000|\n",
            "+---+---------+------+------+\n",
            "\n"
          ]
        }
      ]
    },
    {
      "cell_type": "code",
      "source": [
        "df1.unionAll(df2).dropDuplicates().show()"
      ],
      "metadata": {
        "colab": {
          "base_uri": "https://localhost:8080/"
        },
        "id": "oO9ETZLwIIic",
        "outputId": "50eb1093-4ef8-4df9-f4a4-4b8e3b4bb7bd"
      },
      "execution_count": 12,
      "outputs": [
        {
          "output_type": "stream",
          "name": "stdout",
          "text": [
            "+---+---------+------+------+\n",
            "| id|     name|gender|salary|\n",
            "+---+---------+------+------+\n",
            "|  2|    kumar|  male| 26000|\n",
            "|  1|     bala|  male| 25000|\n",
            "|  3|kumarbala|  male| 27000|\n",
            "|  4|balakumar|  male| 29000|\n",
            "+---+---------+------+------+\n",
            "\n"
          ]
        }
      ]
    }
  ],
  "metadata": {
    "colab": {
      "provenance": [],
      "authorship_tag": "ABX9TyMwW2QcEq7FSpC2rjn9eD+o",
      "include_colab_link": true
    },
    "kernelspec": {
      "display_name": "Python 3",
      "name": "python3"
    },
    "language_info": {
      "name": "python"
    }
  },
  "nbformat": 4,
  "nbformat_minor": 0
}