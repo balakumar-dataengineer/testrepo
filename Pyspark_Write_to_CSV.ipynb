{
  "nbformat": 4,
  "nbformat_minor": 0,
  "metadata": {
    "colab": {
      "provenance": [],
      "authorship_tag": "ABX9TyPrIUhJ1eVDQSJ/qJFzKEyf",
      "include_colab_link": true
    },
    "kernelspec": {
      "name": "python3",
      "display_name": "Python 3"
    },
    "language_info": {
      "name": "python"
    }
  },
  "cells": [
    {
      "cell_type": "markdown",
      "metadata": {
        "id": "view-in-github",
        "colab_type": "text"
      },
      "source": [
        "<a href=\"https://colab.research.google.com/github/balakumar-dataengineer/testrepo/blob/master/Pyspark_Write_to_CSV.ipynb\" target=\"_parent\"><img src=\"https://colab.research.google.com/assets/colab-badge.svg\" alt=\"Open In Colab\"/></a>"
      ]
    },
    {
      "cell_type": "code",
      "execution_count": 1,
      "metadata": {
        "colab": {
          "base_uri": "https://localhost:8080/"
        },
        "id": "qNtswVqMKKrz",
        "outputId": "aff121be-9355-43a1-8768-1ab2a3354e69"
      },
      "outputs": [
        {
          "output_type": "stream",
          "name": "stdout",
          "text": [
            "<pyspark.sql.session.SparkSession object at 0x7a508d742410>\n"
          ]
        }
      ],
      "source": [
        "from pyspark.sql import SparkSession\n",
        "\n",
        "spark=SparkSession.builder.appName('Pyspark') \\\n",
        "                          .master('local') \\\n",
        "                          .getOrCreate()\n",
        "\n",
        "print(spark)"
      ]
    },
    {
      "cell_type": "code",
      "source": [
        "from pyspark.sql.types import *\n",
        "\n",
        "schema=StructType().add('id',IntegerType(),True) \\\n",
        "                 .add('name',StringType(),True) \\\n",
        "                 .add('age',IntegerType(),True)\n",
        "\n",
        "data=[(1,'bala',25),(2,'kumar',25)]\n",
        "\n",
        "df=spark.createDataFrame(data,schema)\n",
        "df.show()\n",
        "\n"
      ],
      "metadata": {
        "colab": {
          "base_uri": "https://localhost:8080/"
        },
        "id": "xXymGuT4KuyL",
        "outputId": "3b1f95a4-d562-4218-fb31-4b3903dc0edf"
      },
      "execution_count": 4,
      "outputs": [
        {
          "output_type": "stream",
          "name": "stdout",
          "text": [
            "+---+-----+---+\n",
            "| id| name|age|\n",
            "+---+-----+---+\n",
            "|  1| bala| 25|\n",
            "|  2|kumar| 25|\n",
            "+---+-----+---+\n",
            "\n"
          ]
        }
      ]
    },
    {
      "cell_type": "code",
      "source": [
        "from google.colab import drive\n",
        "drive.mount('/content/drive')\n"
      ],
      "metadata": {
        "colab": {
          "base_uri": "https://localhost:8080/"
        },
        "id": "8G-U9PJ0MeZk",
        "outputId": "6053dbe5-3a4e-4b84-c7d6-706a274fe249"
      },
      "execution_count": 8,
      "outputs": [
        {
          "output_type": "stream",
          "name": "stdout",
          "text": [
            "Drive already mounted at /content/drive; to attempt to forcibly remount, call drive.mount(\"/content/drive\", force_remount=True).\n"
          ]
        }
      ]
    },
    {
      "cell_type": "code",
      "source": [
        "df.coalesce(1).write.csv(path='/content/drive/My Drive/Colab Notebooks/csv/csv2',header=True,sep='|',mode='overwrite') #overwrite,append,error,ignore\n",
        "\n",
        "spark.read.csv(path='/content/drive/My Drive/Colab Notebooks/csv/csv2',header=True,sep='|').show()"
      ],
      "metadata": {
        "colab": {
          "base_uri": "https://localhost:8080/"
        },
        "id": "8XzcIUtcPKjK",
        "outputId": "aae651b2-0fb1-4475-fb6b-bc52f7abd079"
      },
      "execution_count": 14,
      "outputs": [
        {
          "output_type": "stream",
          "name": "stdout",
          "text": [
            "+---+-----+---+\n",
            "| id| name|age|\n",
            "+---+-----+---+\n",
            "|  1| bala| 25|\n",
            "|  2|kumar| 25|\n",
            "+---+-----+---+\n",
            "\n"
          ]
        }
      ]
    },
    {
      "cell_type": "code",
      "source": [
        "df.write.format('csv') \\\n",
        "        .options(header=True,sep='|') \\\n",
        "        .mode('overwrite') \\\n",
        "        .save('/content/drive/My Drive/Colab Notebooks/csv/csv3')\n",
        "\n",
        "df8=spark.read.format('csv') \\\n",
        "              .options(header=True,sep='|') \\\n",
        "              .load('/content/drive/My Drive/Colab Notebooks/csv/csv3')\n",
        "df8.show()"
      ],
      "metadata": {
        "colab": {
          "base_uri": "https://localhost:8080/"
        },
        "id": "V-U6mH5xQJQ9",
        "outputId": "68f74c59-d2c1-4f4f-ac9c-79e341965871"
      },
      "execution_count": 23,
      "outputs": [
        {
          "output_type": "stream",
          "name": "stdout",
          "text": [
            "+---+-----+---+\n",
            "| id| name|age|\n",
            "+---+-----+---+\n",
            "|  1| bala| 25|\n",
            "|  2|kumar| 25|\n",
            "+---+-----+---+\n",
            "\n"
          ]
        }
      ]
    }
  ]
}