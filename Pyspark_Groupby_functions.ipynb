{
  "nbformat": 4,
  "nbformat_minor": 0,
  "metadata": {
    "colab": {
      "provenance": [],
      "authorship_tag": "ABX9TyMA8Lh8T1njMaBUq7bY0wWL",
      "include_colab_link": true
    },
    "kernelspec": {
      "name": "python3",
      "display_name": "Python 3"
    },
    "language_info": {
      "name": "python"
    }
  },
  "cells": [
    {
      "cell_type": "markdown",
      "metadata": {
        "id": "view-in-github",
        "colab_type": "text"
      },
      "source": [
        "<a href=\"https://colab.research.google.com/github/balakumar-dataengineer/testrepo/blob/master/Pyspark_Groupby_functions.ipynb\" target=\"_parent\"><img src=\"https://colab.research.google.com/assets/colab-badge.svg\" alt=\"Open In Colab\"/></a>"
      ]
    },
    {
      "cell_type": "code",
      "execution_count": 1,
      "metadata": {
        "colab": {
          "base_uri": "https://localhost:8080/"
        },
        "id": "Iuno4Yl4Gdj4",
        "outputId": "b0ce0226-518c-4c7a-99dd-0be5fbd26cf7"
      },
      "outputs": [
        {
          "output_type": "stream",
          "name": "stdout",
          "text": [
            "<pyspark.sql.session.SparkSession object at 0x7cad82c83550>\n"
          ]
        }
      ],
      "source": [
        "from pyspark.sql import SparkSession\n",
        "\n",
        "spark=SparkSession.builder.appName('Pyspark') \\\n",
        "                          .master('local') \\\n",
        "                          .getOrCreate()\n",
        "\n",
        "print(spark)"
      ]
    },
    {
      "cell_type": "code",
      "source": [
        "data=[\n",
        "    (101, \"Alice\", [\"Laptop\", \"Mouse\"], 1200.50, \"2024-02-15\", \"Shipped\"),\n",
        "    (102, \"Bob\", [\"Phone\"], 800.00, \"2024-02-16\", \"Pending\"),\n",
        "    (103, \"Charlie\", [\"Tablet\", \"Keyboard\"], 600.75, \"2024-02-17\", \"Delivered\"),\n",
        "    (104, \"David\", [\"Monitor\"], 300.25, \"2024-02-18\", \"Canceled\"),\n",
        "    (105, \"Emma\", [\"Headphones\", \"Charger\"], 150.00, \"2024-02-19\", \"Shipped\"),\n",
        "    (106, \"Frank\", [\"Smartwatch\"], 250.00, \"2024-02-20\", \"Pending\"),\n",
        "    (107, \"Grace\", [\"Camera\", \"Tripod\"], 950.00, \"2024-02-21\", \"Shipped\"),\n",
        "    (108, \"Harry\", [\"Gaming Console\"], 499.99, \"2024-02-22\", \"Delivered\"),\n",
        "    (109, \"Ivy\", [\"Bluetooth Speaker\"], 129.99, \"2024-02-23\", \"Shipped\"),\n",
        "    (110, \"Jack\", [\"External Hard Drive\"], 89.99, \"2024-02-24\", \"Pending\")\n",
        "]\n",
        "\n",
        "schema=['id','name','items','amount','orderDate','orderStatus']\n",
        "\n",
        "\n",
        "df = spark.createDataFrame(data,schema)\n",
        "\n",
        "df.show()"
      ],
      "metadata": {
        "colab": {
          "base_uri": "https://localhost:8080/"
        },
        "id": "ALsHLWpZGtRZ",
        "outputId": "6afb54cb-64d3-468c-b232-d8f7468a0944"
      },
      "execution_count": 2,
      "outputs": [
        {
          "output_type": "stream",
          "name": "stdout",
          "text": [
            "+---+-------+--------------------+------+----------+-----------+\n",
            "| id|   name|               items|amount| orderDate|orderStatus|\n",
            "+---+-------+--------------------+------+----------+-----------+\n",
            "|101|  Alice|     [Laptop, Mouse]|1200.5|2024-02-15|    Shipped|\n",
            "|102|    Bob|             [Phone]| 800.0|2024-02-16|    Pending|\n",
            "|103|Charlie|  [Tablet, Keyboard]|600.75|2024-02-17|  Delivered|\n",
            "|104|  David|           [Monitor]|300.25|2024-02-18|   Canceled|\n",
            "|105|   Emma|[Headphones, Char...| 150.0|2024-02-19|    Shipped|\n",
            "|106|  Frank|        [Smartwatch]| 250.0|2024-02-20|    Pending|\n",
            "|107|  Grace|    [Camera, Tripod]| 950.0|2024-02-21|    Shipped|\n",
            "|108|  Harry|    [Gaming Console]|499.99|2024-02-22|  Delivered|\n",
            "|109|    Ivy| [Bluetooth Speaker]|129.99|2024-02-23|    Shipped|\n",
            "|110|   Jack|[External Hard Dr...| 89.99|2024-02-24|    Pending|\n",
            "+---+-------+--------------------+------+----------+-----------+\n",
            "\n"
          ]
        }
      ]
    },
    {
      "cell_type": "code",
      "source": [
        "from pyspark.sql.functions import explode\n",
        "\n",
        "df1 = df.select('id','name',explode('items').alias('items'),'amount','orderDate','orderStatus')\n",
        "df1.show()"
      ],
      "metadata": {
        "colab": {
          "base_uri": "https://localhost:8080/"
        },
        "id": "hsivcRKYHk6L",
        "outputId": "f2a73048-ae6e-4b7b-f288-fea816a3b596"
      },
      "execution_count": 5,
      "outputs": [
        {
          "output_type": "stream",
          "name": "stdout",
          "text": [
            "+---+-------+-------------------+------+----------+-----------+\n",
            "| id|   name|              items|amount| orderDate|orderStatus|\n",
            "+---+-------+-------------------+------+----------+-----------+\n",
            "|101|  Alice|             Laptop|1200.5|2024-02-15|    Shipped|\n",
            "|101|  Alice|              Mouse|1200.5|2024-02-15|    Shipped|\n",
            "|102|    Bob|              Phone| 800.0|2024-02-16|    Pending|\n",
            "|103|Charlie|             Tablet|600.75|2024-02-17|  Delivered|\n",
            "|103|Charlie|           Keyboard|600.75|2024-02-17|  Delivered|\n",
            "|104|  David|            Monitor|300.25|2024-02-18|   Canceled|\n",
            "|105|   Emma|         Headphones| 150.0|2024-02-19|    Shipped|\n",
            "|105|   Emma|            Charger| 150.0|2024-02-19|    Shipped|\n",
            "|106|  Frank|         Smartwatch| 250.0|2024-02-20|    Pending|\n",
            "|107|  Grace|             Camera| 950.0|2024-02-21|    Shipped|\n",
            "|107|  Grace|             Tripod| 950.0|2024-02-21|    Shipped|\n",
            "|108|  Harry|     Gaming Console|499.99|2024-02-22|  Delivered|\n",
            "|109|    Ivy|  Bluetooth Speaker|129.99|2024-02-23|    Shipped|\n",
            "|110|   Jack|External Hard Drive| 89.99|2024-02-24|    Pending|\n",
            "+---+-------+-------------------+------+----------+-----------+\n",
            "\n"
          ]
        }
      ]
    },
    {
      "cell_type": "code",
      "source": [
        "df1.groupBy('orderStatus') \\\n",
        "   .count().alias('count') \\\n",
        "   .orderBy('count',ascending=True) \\\n",
        "   .show()"
      ],
      "metadata": {
        "colab": {
          "base_uri": "https://localhost:8080/"
        },
        "id": "HPMu_yazH-5i",
        "outputId": "64bebfaa-5d62-4e3d-fa24-60ee5a0ff6f0"
      },
      "execution_count": 7,
      "outputs": [
        {
          "output_type": "stream",
          "name": "stdout",
          "text": [
            "+-----------+-----+\n",
            "|orderStatus|count|\n",
            "+-----------+-----+\n",
            "|   Canceled|    1|\n",
            "|  Delivered|    3|\n",
            "|    Pending|    3|\n",
            "|    Shipped|    7|\n",
            "+-----------+-----+\n",
            "\n"
          ]
        }
      ]
    },
    {
      "cell_type": "code",
      "source": [
        "from pyspark.sql.functions import sum\n",
        "\n",
        "df1.groupBy('orderStatus') \\\n",
        "   .agg(sum('amount').alias('tamount')) \\\n",
        "   .orderBy('tamount',ascending=False) \\\n",
        "   .show()"
      ],
      "metadata": {
        "colab": {
          "base_uri": "https://localhost:8080/"
        },
        "id": "CAyXKy2oIhbq",
        "outputId": "778a89b1-c2c7-4d4f-9b5e-bca0d5a33129"
      },
      "execution_count": 21,
      "outputs": [
        {
          "output_type": "stream",
          "name": "stdout",
          "text": [
            "+-----------+-------+\n",
            "|orderStatus|tamount|\n",
            "+-----------+-------+\n",
            "|    Shipped|4730.99|\n",
            "|  Delivered|1701.49|\n",
            "|    Pending|1139.99|\n",
            "|   Canceled| 300.25|\n",
            "+-----------+-------+\n",
            "\n"
          ]
        }
      ]
    },
    {
      "cell_type": "code",
      "source": [
        "df1.groupBy('orderStatus') \\\n",
        "   .avg('amount') \\\n",
        "   .orderBy('orderStatus',ascending=False) \\\n",
        "   .show()\n",
        ""
      ],
      "metadata": {
        "colab": {
          "base_uri": "https://localhost:8080/"
        },
        "id": "prTmbu2MKDg7",
        "outputId": "251afa8d-b015-463c-e40f-a168d9ec54d7"
      },
      "execution_count": 37,
      "outputs": [
        {
          "output_type": "stream",
          "name": "stdout",
          "text": [
            "+-----------+------------------+\n",
            "|orderStatus|       avg(amount)|\n",
            "+-----------+------------------+\n",
            "|    Shipped| 675.8557142857143|\n",
            "|    Pending|379.99666666666667|\n",
            "|  Delivered| 567.1633333333333|\n",
            "|   Canceled|            300.25|\n",
            "+-----------+------------------+\n",
            "\n"
          ]
        }
      ]
    }
  ]
}