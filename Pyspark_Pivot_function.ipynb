{
  "nbformat": 4,
  "nbformat_minor": 0,
  "metadata": {
    "colab": {
      "provenance": [],
      "authorship_tag": "ABX9TyPr7degEaY5cCbVpUw+q+4c",
      "include_colab_link": true
    },
    "kernelspec": {
      "name": "python3",
      "display_name": "Python 3"
    },
    "language_info": {
      "name": "python"
    }
  },
  "cells": [
    {
      "cell_type": "markdown",
      "metadata": {
        "id": "view-in-github",
        "colab_type": "text"
      },
      "source": [
        "<a href=\"https://colab.research.google.com/github/balakumar-dataengineer/testrepo/blob/master/Pyspark_Pivot_function.ipynb\" target=\"_parent\"><img src=\"https://colab.research.google.com/assets/colab-badge.svg\" alt=\"Open In Colab\"/></a>"
      ]
    },
    {
      "cell_type": "code",
      "execution_count": 1,
      "metadata": {
        "colab": {
          "base_uri": "https://localhost:8080/"
        },
        "id": "i7LYrfr9m6da",
        "outputId": "80fe8c6a-0472-4561-a092-a7749f0a57fb"
      },
      "outputs": [
        {
          "output_type": "stream",
          "name": "stdout",
          "text": [
            "<pyspark.sql.session.SparkSession object at 0x7dd74824a310>\n"
          ]
        }
      ],
      "source": [
        "from pyspark.sql import SparkSession\n",
        "\n",
        "spark=SparkSession.builder.appName('Pyspark') \\\n",
        "                          .master('local') \\\n",
        "                          .getOrCreate()\n",
        "\n",
        "print(spark)"
      ]
    },
    {
      "cell_type": "code",
      "source": [
        "from google.colab import drive\n",
        "drive.mount('/content/drive')"
      ],
      "metadata": {
        "colab": {
          "base_uri": "https://localhost:8080/"
        },
        "id": "YQagDXIbnRd9",
        "outputId": "93c11e55-707d-428a-ca9e-dd53d43d5c1f"
      },
      "execution_count": 2,
      "outputs": [
        {
          "output_type": "stream",
          "name": "stdout",
          "text": [
            "Mounted at /content/drive\n"
          ]
        }
      ]
    },
    {
      "cell_type": "code",
      "source": [
        "df=spark.read.csv('/content/drive/My Drive/Colab Notebooks/Testfiles/demand_data.csv',header=True,inferSchema=True)\n",
        "\n",
        "df.show()"
      ],
      "metadata": {
        "colab": {
          "base_uri": "https://localhost:8080/"
        },
        "id": "CymwRlk5oE4Z",
        "outputId": "b8f6035d-ed40-49ff-a789-a432f117774f"
      },
      "execution_count": 3,
      "outputs": [
        {
          "output_type": "stream",
          "name": "stdout",
          "text": [
            "+------+----------+------+\n",
            "|  Item|      Date|Demand|\n",
            "+------+----------+------+\n",
            "|Item_A|2024-03-04|   199|\n",
            "|Item_A|2024-03-06|   112|\n",
            "|Item_A|2024-03-02|   158|\n",
            "|Item_A|2024-03-06|   137|\n",
            "|Item_B|2024-03-05|    88|\n",
            "|Item_B|2024-03-06|   149|\n",
            "|Item_B|2024-03-03|   176|\n",
            "|Item_C|2024-03-05|   169|\n",
            "|Item_C|2024-03-02|    62|\n",
            "+------+----------+------+\n",
            "\n"
          ]
        }
      ]
    },
    {
      "cell_type": "code",
      "source": [
        "df.groupBy('item').pivot('Date').sum('demand').show()"
      ],
      "metadata": {
        "colab": {
          "base_uri": "https://localhost:8080/"
        },
        "id": "KvLbXCiioeDT",
        "outputId": "1a9c3e87-cca2-4442-d300-578c8efb0812"
      },
      "execution_count": 13,
      "outputs": [
        {
          "output_type": "stream",
          "name": "stdout",
          "text": [
            "+------+----------+----------+----------+----------+----------+\n",
            "|  item|2024-03-02|2024-03-03|2024-03-04|2024-03-05|2024-03-06|\n",
            "+------+----------+----------+----------+----------+----------+\n",
            "|Item_A|       158|      NULL|       199|      NULL|       249|\n",
            "|Item_B|      NULL|       176|      NULL|        88|       149|\n",
            "|Item_C|        62|      NULL|      NULL|       169|      NULL|\n",
            "+------+----------+----------+----------+----------+----------+\n",
            "\n"
          ]
        }
      ]
    }
  ]
}