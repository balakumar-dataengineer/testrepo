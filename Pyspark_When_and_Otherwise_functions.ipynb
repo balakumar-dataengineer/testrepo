{
  "nbformat": 4,
  "nbformat_minor": 0,
  "metadata": {
    "colab": {
      "provenance": [],
      "authorship_tag": "ABX9TyNjobCZ9xAg9gEaedxSGK62",
      "include_colab_link": true
    },
    "kernelspec": {
      "name": "python3",
      "display_name": "Python 3"
    },
    "language_info": {
      "name": "python"
    }
  },
  "cells": [
    {
      "cell_type": "markdown",
      "metadata": {
        "id": "view-in-github",
        "colab_type": "text"
      },
      "source": [
        "<a href=\"https://colab.research.google.com/github/balakumar-dataengineer/testrepo/blob/master/Pyspark_When_and_Otherwise_functions.ipynb\" target=\"_parent\"><img src=\"https://colab.research.google.com/assets/colab-badge.svg\" alt=\"Open In Colab\"/></a>"
      ]
    },
    {
      "cell_type": "code",
      "execution_count": 1,
      "metadata": {
        "colab": {
          "base_uri": "https://localhost:8080/"
        },
        "id": "WoKmF0OXZQ0k",
        "outputId": "902539dc-0733-4cb8-9006-7792d970ba9d"
      },
      "outputs": [
        {
          "output_type": "stream",
          "name": "stdout",
          "text": [
            "<pyspark.sql.session.SparkSession object at 0x7cd8e857a110>\n"
          ]
        }
      ],
      "source": [
        "from pyspark.sql import SparkSession\n",
        "\n",
        "spark=SparkSession.builder.appName('Pyspark') \\\n",
        "                          .master('local') \\\n",
        "                          .getOrCreate()\n",
        "\n",
        "print(spark)"
      ]
    },
    {
      "cell_type": "code",
      "source": [
        "data=[\n",
        "    (101, \"Alice\", \"Google\", \"Microsoft\", \"Software Engineer\", \"Senior Engineer\", 5, \"2024-01-15\", 120000, 150000),\n",
        "    (102, \"Bob\", \"Amazon\", \"Meta\", \"Data Scientist\", \"Lead Data Scientist\", 7, \"2023-11-30\", 140000, 180000),\n",
        "    (103, \"Charlie\", \"Tesla\", \"Apple\", \"Mechanical Engineer\", \"Product Manager\", 6, \"2024-02-10\", 110000, 140000),\n",
        "    (104, \"David\", \"IBM\", \"Google\", \"Cloud Engineer\", \"Senior Cloud Engineer\", 4, \"2023-12-20\", 100000, 135000),\n",
        "    (105, \"Emma\", \"Facebook\", \"Netflix\", \"Marketing Manager\", \"Director of Marketing\", 8, \"2023-10-25\", 130000, 175000)\n",
        "]\n",
        "\n",
        "schema=['empid','name','previous_company','new_company','previous_role','new_role','experiance','switch_Date','previous_salary','new_salary']\n",
        "\n",
        "\n",
        "df=spark.createDataFrame(data,schema)\n",
        "\n",
        "df.show()\n",
        "df.printSchema()"
      ],
      "metadata": {
        "colab": {
          "base_uri": "https://localhost:8080/"
        },
        "id": "1lKcQ-RfZ_K0",
        "outputId": "2a1f500b-22b8-41a5-dc07-cdef8c8e6c59"
      },
      "execution_count": 2,
      "outputs": [
        {
          "output_type": "stream",
          "name": "stdout",
          "text": [
            "+-----+-------+----------------+-----------+-------------------+--------------------+----------+-----------+---------------+----------+\n",
            "|empid|   name|previous_company|new_company|      previous_role|            new_role|experiance|switch_Date|previous_salary|new_salary|\n",
            "+-----+-------+----------------+-----------+-------------------+--------------------+----------+-----------+---------------+----------+\n",
            "|  101|  Alice|          Google|  Microsoft|  Software Engineer|     Senior Engineer|         5| 2024-01-15|         120000|    150000|\n",
            "|  102|    Bob|          Amazon|       Meta|     Data Scientist| Lead Data Scientist|         7| 2023-11-30|         140000|    180000|\n",
            "|  103|Charlie|           Tesla|      Apple|Mechanical Engineer|     Product Manager|         6| 2024-02-10|         110000|    140000|\n",
            "|  104|  David|             IBM|     Google|     Cloud Engineer|Senior Cloud Engi...|         4| 2023-12-20|         100000|    135000|\n",
            "|  105|   Emma|        Facebook|    Netflix|  Marketing Manager|Director of Marke...|         8| 2023-10-25|         130000|    175000|\n",
            "+-----+-------+----------------+-----------+-------------------+--------------------+----------+-----------+---------------+----------+\n",
            "\n",
            "root\n",
            " |-- empid: long (nullable = true)\n",
            " |-- name: string (nullable = true)\n",
            " |-- previous_company: string (nullable = true)\n",
            " |-- new_company: string (nullable = true)\n",
            " |-- previous_role: string (nullable = true)\n",
            " |-- new_role: string (nullable = true)\n",
            " |-- experiance: long (nullable = true)\n",
            " |-- switch_Date: string (nullable = true)\n",
            " |-- previous_salary: long (nullable = true)\n",
            " |-- new_salary: long (nullable = true)\n",
            "\n"
          ]
        }
      ]
    },
    {
      "cell_type": "code",
      "source": [
        "from pyspark.sql.functions import when\n",
        "\n",
        "df.select(df.name,\\\n",
        "          when((df.new_salary-df.previous_salary)*100/df.previous_salary > 30,'Good_hike') \\\n",
        "          .when(((df.new_salary-df.previous_salary)*100/df.previous_salary).between(0,27) ,'bad_hike') \\\n",
        "          .otherwise('Average_hike') \\\n",
        "          .alias('hike_status') \\\n",
        "          ,((df.new_salary-df.previous_salary)*100/df.previous_salary).alias('hike_percentage')\n",
        ").show()"
      ],
      "metadata": {
        "colab": {
          "base_uri": "https://localhost:8080/"
        },
        "id": "x7jInSA-avuB",
        "outputId": "c0f86d53-0863-490a-9144-5d81465d869a"
      },
      "execution_count": 15,
      "outputs": [
        {
          "output_type": "stream",
          "name": "stdout",
          "text": [
            "+-------+------------+------------------+\n",
            "|   name| hike_status|   hike_percentage|\n",
            "+-------+------------+------------------+\n",
            "|  Alice|    bad_hike|              25.0|\n",
            "|    Bob|Average_hike|28.571428571428573|\n",
            "|Charlie|Average_hike|27.272727272727273|\n",
            "|  David|   Good_hike|              35.0|\n",
            "|   Emma|   Good_hike| 34.61538461538461|\n",
            "+-------+------------+------------------+\n",
            "\n"
          ]
        }
      ]
    }
  ]
}