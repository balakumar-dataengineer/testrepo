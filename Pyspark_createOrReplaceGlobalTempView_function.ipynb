{
  "nbformat": 4,
  "nbformat_minor": 0,
  "metadata": {
    "colab": {
      "provenance": [],
      "authorship_tag": "ABX9TyMsoVMbpWD7DPRDhDahx03z",
      "include_colab_link": true
    },
    "kernelspec": {
      "name": "python3",
      "display_name": "Python 3"
    },
    "language_info": {
      "name": "python"
    }
  },
  "cells": [
    {
      "cell_type": "markdown",
      "metadata": {
        "id": "view-in-github",
        "colab_type": "text"
      },
      "source": [
        "<a href=\"https://colab.research.google.com/github/balakumar-dataengineer/testrepo/blob/master/Pyspark_createOrReplaceGlobalTempView_function.ipynb\" target=\"_parent\"><img src=\"https://colab.research.google.com/assets/colab-badge.svg\" alt=\"Open In Colab\"/></a>"
      ]
    },
    {
      "cell_type": "code",
      "execution_count": 6,
      "metadata": {
        "colab": {
          "base_uri": "https://localhost:8080/"
        },
        "id": "mKfSdHdAPu4A",
        "outputId": "6fabd0ba-9288-4e65-8bc9-74bb8de21f55"
      },
      "outputs": [
        {
          "output_type": "stream",
          "name": "stdout",
          "text": [
            "<pyspark.sql.session.SparkSession object at 0x7cf9d017bf90>\n"
          ]
        }
      ],
      "source": [
        "from pyspark.sql import SparkSession\n",
        "\n",
        "spark=SparkSession.builder.appName('Pyspark') \\\n",
        "                          .master('local') \\\n",
        "                          .getOrCreate()\n",
        "\n",
        "print(spark)"
      ]
    },
    {
      "cell_type": "code",
      "source": [
        "data=[(1,'bala','male',160000),\n",
        "      (2,'kumar','male',200000),\n",
        "      (3,'balakumar','male',2200000)\n",
        "]\n",
        "\n",
        "schema=['id','name','gender','salary']\n",
        "\n",
        "df=spark.createDataFrame(data,schema)\n",
        "df.show()\n",
        "\n"
      ],
      "metadata": {
        "colab": {
          "base_uri": "https://localhost:8080/"
        },
        "id": "3NR6L8r-QtJV",
        "outputId": "eec054e5-1f09-41cf-af25-5a0d59d1a57a"
      },
      "execution_count": 3,
      "outputs": [
        {
          "output_type": "stream",
          "name": "stdout",
          "text": [
            "+---+---------+------+-------+\n",
            "| id|     name|gender| salary|\n",
            "+---+---------+------+-------+\n",
            "|  1|     bala|  male| 160000|\n",
            "|  2|    kumar|  male| 200000|\n",
            "|  3|balakumar|  male|2200000|\n",
            "+---+---------+------+-------+\n",
            "\n"
          ]
        }
      ]
    },
    {
      "cell_type": "code",
      "source": [
        "df1=df.createOrReplaceGlobalTempView('emp_details')\n",
        "\n",
        "spark.sql('select*from global_temp.emp_details').show()"
      ],
      "metadata": {
        "colab": {
          "base_uri": "https://localhost:8080/"
        },
        "id": "lp_jBw7GRMCI",
        "outputId": "d929de15-2e52-4b98-b15f-85675c3c493d"
      },
      "execution_count": 32,
      "outputs": [
        {
          "output_type": "stream",
          "name": "stdout",
          "text": [
            "+---+---------+------+-------+\n",
            "| id|     name|gender| salary|\n",
            "+---+---------+------+-------+\n",
            "|  1|     bala|  male| 160000|\n",
            "|  2|    kumar|  male| 200000|\n",
            "|  3|balakumar|  male|2200000|\n",
            "+---+---------+------+-------+\n",
            "\n"
          ]
        }
      ]
    },
    {
      "cell_type": "code",
      "source": [
        "spark.catalog.currentDatabase()"
      ],
      "metadata": {
        "colab": {
          "base_uri": "https://localhost:8080/",
          "height": 35
        },
        "id": "MdU8ny95SK_I",
        "outputId": "2e05126d-cff8-427a-80fb-a652055414b7"
      },
      "execution_count": 19,
      "outputs": [
        {
          "output_type": "execute_result",
          "data": {
            "text/plain": [
              "'default'"
            ],
            "application/vnd.google.colaboratory.intrinsic+json": {
              "type": "string"
            }
          },
          "metadata": {},
          "execution_count": 19
        }
      ]
    },
    {
      "cell_type": "code",
      "source": [
        "spark.catalog.listTables('global_temp')"
      ],
      "metadata": {
        "colab": {
          "base_uri": "https://localhost:8080/"
        },
        "id": "fAjgNG5RSTz-",
        "outputId": "49bb5649-5e4d-481f-d3fd-053c8ce08abd"
      },
      "execution_count": 33,
      "outputs": [
        {
          "output_type": "execute_result",
          "data": {
            "text/plain": [
              "[Table(name='emp_details', catalog=None, namespace=['global_temp'], description=None, tableType='TEMPORARY', isTemporary=True)]"
            ]
          },
          "metadata": {},
          "execution_count": 33
        }
      ]
    },
    {
      "cell_type": "code",
      "source": [
        "spark.catalog.dropGlobalTempView('emp_details')"
      ],
      "metadata": {
        "colab": {
          "base_uri": "https://localhost:8080/"
        },
        "id": "EhXAdFaDTOk1",
        "outputId": "24be6527-6860-45dd-f241-a516b521ff81"
      },
      "execution_count": 34,
      "outputs": [
        {
          "output_type": "execute_result",
          "data": {
            "text/plain": [
              "True"
            ]
          },
          "metadata": {},
          "execution_count": 34
        }
      ]
    },
    {
      "cell_type": "code",
      "source": [
        "spark.catalog.dropTempView('emp_details_1')"
      ],
      "metadata": {
        "colab": {
          "base_uri": "https://localhost:8080/"
        },
        "id": "EpnL5YtyTGY8",
        "outputId": "16a6cd0f-3ff0-4855-8d69-87e87e1d8056"
      },
      "execution_count": 29,
      "outputs": [
        {
          "output_type": "execute_result",
          "data": {
            "text/plain": [
              "False"
            ]
          },
          "metadata": {},
          "execution_count": 29
        }
      ]
    }
  ]
}