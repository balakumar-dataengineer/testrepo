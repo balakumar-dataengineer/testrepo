{
  "nbformat": 4,
  "nbformat_minor": 0,
  "metadata": {
    "colab": {
      "provenance": [],
      "authorship_tag": "ABX9TyNMB9BBuy1TEt3j7ExZM2PJ",
      "include_colab_link": true
    },
    "kernelspec": {
      "name": "python3",
      "display_name": "Python 3"
    },
    "language_info": {
      "name": "python"
    }
  },
  "cells": [
    {
      "cell_type": "markdown",
      "metadata": {
        "id": "view-in-github",
        "colab_type": "text"
      },
      "source": [
        "<a href=\"https://colab.research.google.com/github/balakumar-dataengineer/testrepo/blob/master/Pyspark_Window_functions.ipynb\" target=\"_parent\"><img src=\"https://colab.research.google.com/assets/colab-badge.svg\" alt=\"Open In Colab\"/></a>"
      ]
    },
    {
      "cell_type": "code",
      "execution_count": 1,
      "metadata": {
        "colab": {
          "base_uri": "https://localhost:8080/"
        },
        "id": "wF65fzGec0UJ",
        "outputId": "83ef3ea0-6cc5-4672-ee26-3c7b837bc124"
      },
      "outputs": [
        {
          "output_type": "stream",
          "name": "stdout",
          "text": [
            "<pyspark.sql.session.SparkSession object at 0x798f6eb52f50>\n"
          ]
        }
      ],
      "source": [
        "from pyspark.sql import SparkSession\n",
        "\n",
        "spark=SparkSession.builder.appName('pyspark') \\\n",
        "                          .master('local') \\\n",
        "                          .getOrCreate()\n",
        "\n",
        "print(spark)"
      ]
    },
    {
      "cell_type": "code",
      "source": [
        "data=[\n",
        "    (1, \"Alice\", \"HR\", 63000),\n",
        "    (2, \"Bob\", \"HR\", 52000),\n",
        "    (4, \"David\", \"HR\", 55000),\n",
        "    (12, \"Leo\", \"Finance\", 63000),\n",
        "    (13, \"Mia\", \"Finance\", 63000),\n",
        "    (5, \"Eve\", \"HR\", 59000),\n",
        "    (6, \"Frank\", \"IT\", 89000),\n",
        "    (7, \"Grace\", \"IT\", 72000),\n",
        "    (3, \"Charlie\", \"HR\", 53000),\n",
        "    (8, \"Hank\", \"IT\", 73000),\n",
        "    (9, \"Ivy\", \"IT\", 73000),\n",
        "    (10, \"Jack\", \"IT\", 76000),\n",
        "    (11, \"Kate\", \"Finance\", 60000),\n",
        "    (14, \"Nina\", \"Finance\", 90000),\n",
        "    (15, \"Oscar\", \"Finance\", 69000)\n",
        "]\n",
        "\n",
        "schema=['id','name','dep','salary']\n",
        "\n",
        "df=spark.createDataFrame(data,schema)\n",
        "df.show()\n",
        "df.printSchema()"
      ],
      "metadata": {
        "colab": {
          "base_uri": "https://localhost:8080/"
        },
        "id": "MCPkEHcpdoEz",
        "outputId": "e6c2985a-e9c9-44d2-8372-1027bf11d039"
      },
      "execution_count": 5,
      "outputs": [
        {
          "output_type": "stream",
          "name": "stdout",
          "text": [
            "+---+-------+-------+------+\n",
            "| id|   name|    dep|salary|\n",
            "+---+-------+-------+------+\n",
            "|  1|  Alice|     HR| 63000|\n",
            "|  2|    Bob|     HR| 52000|\n",
            "|  4|  David|     HR| 55000|\n",
            "| 12|    Leo|Finance| 63000|\n",
            "| 13|    Mia|Finance| 63000|\n",
            "|  5|    Eve|     HR| 59000|\n",
            "|  6|  Frank|     IT| 89000|\n",
            "|  7|  Grace|     IT| 72000|\n",
            "|  3|Charlie|     HR| 53000|\n",
            "|  8|   Hank|     IT| 73000|\n",
            "|  9|    Ivy|     IT| 73000|\n",
            "| 10|   Jack|     IT| 76000|\n",
            "| 11|   Kate|Finance| 60000|\n",
            "| 14|   Nina|Finance| 90000|\n",
            "| 15|  Oscar|Finance| 69000|\n",
            "+---+-------+-------+------+\n",
            "\n",
            "root\n",
            " |-- id: long (nullable = true)\n",
            " |-- name: string (nullable = true)\n",
            " |-- dep: string (nullable = true)\n",
            " |-- salary: long (nullable = true)\n",
            "\n"
          ]
        }
      ]
    },
    {
      "cell_type": "code",
      "source": [
        "from pyspark.sql.functions import rank,dense_rank,row_number,sum,col,max,count\n",
        "from pyspark.sql.window import Window\n",
        "\n",
        "window=Window.partitionBy('dep').orderBy('salary')\n",
        "\n",
        "df.withColumn('rownumber',row_number().over(window)) \\\n",
        "  .withColumn('rank',rank().over(window)) \\\n",
        "  .withColumn('dense_rank',dense_rank().over(window)) \\\n",
        "  .show()"
      ],
      "metadata": {
        "colab": {
          "base_uri": "https://localhost:8080/"
        },
        "id": "tu8HEa_6elsZ",
        "outputId": "27f0d49a-0f02-402e-817a-0cbbfeb54931"
      },
      "execution_count": 26,
      "outputs": [
        {
          "output_type": "stream",
          "name": "stdout",
          "text": [
            "+---+-------+-------+------+---------+----+----------+\n",
            "| id|   name|    dep|salary|rownumber|rank|dense_rank|\n",
            "+---+-------+-------+------+---------+----+----------+\n",
            "| 11|   Kate|Finance| 60000|        1|   1|         1|\n",
            "| 12|    Leo|Finance| 63000|        2|   2|         2|\n",
            "| 13|    Mia|Finance| 63000|        3|   2|         2|\n",
            "| 15|  Oscar|Finance| 69000|        4|   4|         3|\n",
            "| 14|   Nina|Finance| 90000|        5|   5|         4|\n",
            "|  2|    Bob|     HR| 52000|        1|   1|         1|\n",
            "|  3|Charlie|     HR| 53000|        2|   2|         2|\n",
            "|  4|  David|     HR| 55000|        3|   3|         3|\n",
            "|  5|    Eve|     HR| 59000|        4|   4|         4|\n",
            "|  1|  Alice|     HR| 63000|        5|   5|         5|\n",
            "|  7|  Grace|     IT| 72000|        1|   1|         1|\n",
            "|  8|   Hank|     IT| 73000|        2|   2|         2|\n",
            "|  9|    Ivy|     IT| 73000|        3|   2|         2|\n",
            "| 10|   Jack|     IT| 76000|        4|   4|         3|\n",
            "|  6|  Frank|     IT| 89000|        5|   5|         4|\n",
            "+---+-------+-------+------+---------+----+----------+\n",
            "\n"
          ]
        }
      ]
    },
    {
      "cell_type": "code",
      "source": [
        "window1=Window.partitionBy('dep').orderBy(col('salary').asc(),col('id').desc())\n",
        "\n",
        "df.withColumn('cum_salary',sum(df.salary).over(window1)).show()"
      ],
      "metadata": {
        "colab": {
          "base_uri": "https://localhost:8080/"
        },
        "id": "Fb6XUhfwf1nT",
        "outputId": "b40f3fff-ed84-44e1-9b1a-01c39f08a383"
      },
      "execution_count": 28,
      "outputs": [
        {
          "output_type": "stream",
          "name": "stdout",
          "text": [
            "+---+-------+-------+------+----------+\n",
            "| id|   name|    dep|salary|cum_salary|\n",
            "+---+-------+-------+------+----------+\n",
            "| 11|   Kate|Finance| 60000|     60000|\n",
            "| 13|    Mia|Finance| 63000|    123000|\n",
            "| 12|    Leo|Finance| 63000|    186000|\n",
            "| 15|  Oscar|Finance| 69000|    255000|\n",
            "| 14|   Nina|Finance| 90000|    345000|\n",
            "|  2|    Bob|     HR| 52000|     52000|\n",
            "|  3|Charlie|     HR| 53000|    105000|\n",
            "|  4|  David|     HR| 55000|    160000|\n",
            "|  5|    Eve|     HR| 59000|    219000|\n",
            "|  1|  Alice|     HR| 63000|    282000|\n",
            "|  7|  Grace|     IT| 72000|     72000|\n",
            "|  9|    Ivy|     IT| 73000|    145000|\n",
            "|  8|   Hank|     IT| 73000|    218000|\n",
            "| 10|   Jack|     IT| 76000|    294000|\n",
            "|  6|  Frank|     IT| 89000|    383000|\n",
            "+---+-------+-------+------+----------+\n",
            "\n"
          ]
        }
      ]
    },
    {
      "cell_type": "code",
      "source": [
        "df.withColumn('rank',rank().over(window)).filter(col('rank')==5).drop('rank').show()"
      ],
      "metadata": {
        "colab": {
          "base_uri": "https://localhost:8080/"
        },
        "id": "HAWsrIpQlrZF",
        "outputId": "8f521d85-99af-4ce6-9d87-3994d3670fc0"
      },
      "execution_count": 34,
      "outputs": [
        {
          "output_type": "stream",
          "name": "stdout",
          "text": [
            "+---+-----+-------+------+\n",
            "| id| name|    dep|salary|\n",
            "+---+-----+-------+------+\n",
            "| 14| Nina|Finance| 90000|\n",
            "|  1|Alice|     HR| 63000|\n",
            "|  6|Frank|     IT| 89000|\n",
            "+---+-----+-------+------+\n",
            "\n"
          ]
        }
      ]
    }
  ]
}