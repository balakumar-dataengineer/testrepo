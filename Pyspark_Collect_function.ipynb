{
  "nbformat": 4,
  "nbformat_minor": 0,
  "metadata": {
    "colab": {
      "provenance": [],
      "authorship_tag": "ABX9TyNifpX2Wb2EUFTGt1DvgAlR",
      "include_colab_link": true
    },
    "kernelspec": {
      "name": "python3",
      "display_name": "Python 3"
    },
    "language_info": {
      "name": "python"
    }
  },
  "cells": [
    {
      "cell_type": "markdown",
      "metadata": {
        "id": "view-in-github",
        "colab_type": "text"
      },
      "source": [
        "<a href=\"https://colab.research.google.com/github/balakumar-dataengineer/testrepo/blob/master/Pyspark_Collect_function.ipynb\" target=\"_parent\"><img src=\"https://colab.research.google.com/assets/colab-badge.svg\" alt=\"Open In Colab\"/></a>"
      ]
    },
    {
      "cell_type": "code",
      "execution_count": 1,
      "metadata": {
        "colab": {
          "base_uri": "https://localhost:8080/"
        },
        "id": "O3SRceRODyBs",
        "outputId": "fb734143-c6f0-447b-c10a-73f3651e6c9d"
      },
      "outputs": [
        {
          "output_type": "stream",
          "name": "stdout",
          "text": [
            "<pyspark.sql.session.SparkSession object at 0x7c8c6c202a50>\n"
          ]
        }
      ],
      "source": [
        "from pyspark.sql import SparkSession\n",
        "\n",
        "spark=SparkSession.builder.appName('pyspar') \\\n",
        "                          .master('local') \\\n",
        "                          .getOrCreate()\n",
        "\n",
        "print(spark)"
      ]
    },
    {
      "cell_type": "code",
      "source": [
        "data=[\n",
        "    (1,'bala','male'),\n",
        "    (2,'kumar','male'),\n",
        "    (3,'balakumar','male')\n",
        "]\n",
        "\n",
        "schema=['id','name','gender']\n",
        "\n",
        "df=spark.createDataFrame(data,schema)\n",
        "df.show()"
      ],
      "metadata": {
        "colab": {
          "base_uri": "https://localhost:8080/"
        },
        "id": "7wJS45J9EODg",
        "outputId": "ed55a66f-c3e1-46ca-a807-f9ca31731665"
      },
      "execution_count": 2,
      "outputs": [
        {
          "output_type": "stream",
          "name": "stdout",
          "text": [
            "+---+---------+------+\n",
            "| id|     name|gender|\n",
            "+---+---------+------+\n",
            "|  1|     bala|  male|\n",
            "|  2|    kumar|  male|\n",
            "|  3|balakumar|  male|\n",
            "+---+---------+------+\n",
            "\n"
          ]
        }
      ]
    },
    {
      "cell_type": "code",
      "source": [
        "listRows=df.collect()\n",
        "\n",
        "for i in listRows:\n",
        "    print(i)\n",
        "\n",
        "print(listRows[1])"
      ],
      "metadata": {
        "colab": {
          "base_uri": "https://localhost:8080/"
        },
        "id": "RMcGeq_YEk90",
        "outputId": "7090a888-3b87-4560-e01a-d676d79b9268"
      },
      "execution_count": 31,
      "outputs": [
        {
          "output_type": "stream",
          "name": "stdout",
          "text": [
            "Row(id=1, name='bala', gender='male')\n",
            "Row(id=2, name='kumar', gender='male')\n",
            "Row(id=3, name='balakumar', gender='male')\n",
            "Row(id=2, name='kumar', gender='male')\n"
          ]
        }
      ]
    },
    {
      "cell_type": "code",
      "source": [
        "print(listRows[1][0:3])"
      ],
      "metadata": {
        "colab": {
          "base_uri": "https://localhost:8080/"
        },
        "id": "Bfc_ypiIFLw6",
        "outputId": "04d43688-63be-40ac-b90f-e7825f80d7fb"
      },
      "execution_count": 32,
      "outputs": [
        {
          "output_type": "stream",
          "name": "stdout",
          "text": [
            "(2, 'kumar', 'male')\n"
          ]
        }
      ]
    }
  ]
}