{
  "nbformat": 4,
  "nbformat_minor": 0,
  "metadata": {
    "colab": {
      "provenance": [],
      "authorship_tag": "ABX9TyObqHgf8ti27DX1XTVYZb/D",
      "include_colab_link": true
    },
    "kernelspec": {
      "name": "python3",
      "display_name": "Python 3"
    },
    "language_info": {
      "name": "python"
    }
  },
  "cells": [
    {
      "cell_type": "markdown",
      "metadata": {
        "id": "view-in-github",
        "colab_type": "text"
      },
      "source": [
        "<a href=\"https://colab.research.google.com/github/balakumar-dataengineer/testrepo/blob/master/Pyspark_Alias%2Casc%2Cdesc%2Corderby%2Ccast_and_like_functions.ipynb\" target=\"_parent\"><img src=\"https://colab.research.google.com/assets/colab-badge.svg\" alt=\"Open In Colab\"/></a>"
      ]
    },
    {
      "cell_type": "code",
      "execution_count": 1,
      "metadata": {
        "colab": {
          "base_uri": "https://localhost:8080/"
        },
        "id": "T0UTcgEnqHH9",
        "outputId": "03d40c7d-7914-403d-e1ad-86fffe507256"
      },
      "outputs": [
        {
          "output_type": "stream",
          "name": "stdout",
          "text": [
            "<pyspark.sql.session.SparkSession object at 0x7844e478a550>\n"
          ]
        }
      ],
      "source": [
        "from pyspark.sql import SparkSession\n",
        "\n",
        "spark=SparkSession.builder.appName('Pyspark') \\\n",
        "                          .master('local') \\\n",
        "                          .getOrCreate()\n",
        "\n",
        "print(spark)"
      ]
    },
    {
      "cell_type": "code",
      "source": [
        "data=[\n",
        "    (101, \"TCS\", \"Data Engineer\", \"Bangalore\", 10),\n",
        "    (102, \"Infosys\", \"Software Developer\", \"Hyderabad\", 8),\n",
        "    (103, \"Amazon\", \"ML Engineer\", \"Delhi\", 25),\n",
        "    (104, \"Google\", \"Cloud Architect\", \"Mumbai\", 40),\n",
        "    (105, \"Wipro\", \"Business Analyst\", \"Chennai\", 12)\n",
        "]\n",
        "\n",
        "schema=['id','company','role','loaction','salary']\n",
        "\n",
        "df=spark.createDataFrame(data,schema)\n",
        "\n",
        "df.show()\n",
        "df.printSchema()"
      ],
      "metadata": {
        "colab": {
          "base_uri": "https://localhost:8080/"
        },
        "id": "LTZ1_Xvnqadh",
        "outputId": "6bf4de69-ed15-4296-e0c6-e5105f42bf80"
      },
      "execution_count": 2,
      "outputs": [
        {
          "output_type": "stream",
          "name": "stdout",
          "text": [
            "+---+-------+------------------+---------+------+\n",
            "| id|company|              role| loaction|salary|\n",
            "+---+-------+------------------+---------+------+\n",
            "|101|    TCS|     Data Engineer|Bangalore|    10|\n",
            "|102|Infosys|Software Developer|Hyderabad|     8|\n",
            "|103| Amazon|       ML Engineer|    Delhi|    25|\n",
            "|104| Google|   Cloud Architect|   Mumbai|    40|\n",
            "|105|  Wipro|  Business Analyst|  Chennai|    12|\n",
            "+---+-------+------------------+---------+------+\n",
            "\n",
            "root\n",
            " |-- id: long (nullable = true)\n",
            " |-- company: string (nullable = true)\n",
            " |-- role: string (nullable = true)\n",
            " |-- loaction: string (nullable = true)\n",
            " |-- salary: long (nullable = true)\n",
            "\n"
          ]
        }
      ]
    },
    {
      "cell_type": "code",
      "source": [
        "df1=df.select(df.id.alias('compand_id'),\\\n",
        "          df.company.alias('company_name'),\\\n",
        "          df.role.alias('roles'), \\\n",
        "          df.loaction.alias('locations'), \\\n",
        "          df.salary.alias('salaries') \\\n",
        "          )\n",
        "\n",
        "df1.show()"
      ],
      "metadata": {
        "colab": {
          "base_uri": "https://localhost:8080/"
        },
        "id": "xsRy1qtusTdN",
        "outputId": "7e6350d5-19ab-417c-d70c-9ee600e6ab31"
      },
      "execution_count": 12,
      "outputs": [
        {
          "output_type": "stream",
          "name": "stdout",
          "text": [
            "+----------+------------+------------------+---------+--------+\n",
            "|compand_id|company_name|             roles|locations|salaries|\n",
            "+----------+------------+------------------+---------+--------+\n",
            "|       101|         TCS|     Data Engineer|Bangalore|      10|\n",
            "|       102|     Infosys|Software Developer|Hyderabad|       8|\n",
            "|       103|      Amazon|       ML Engineer|    Delhi|      25|\n",
            "|       104|      Google|   Cloud Architect|   Mumbai|      40|\n",
            "|       105|       Wipro|  Business Analyst|  Chennai|      12|\n",
            "+----------+------------+------------------+---------+--------+\n",
            "\n"
          ]
        }
      ]
    },
    {
      "cell_type": "code",
      "source": [
        "df1.sort(df1.salaries.asc()).show()"
      ],
      "metadata": {
        "colab": {
          "base_uri": "https://localhost:8080/"
        },
        "id": "9lfWpdgIs1ms",
        "outputId": "3f339c79-aa9e-4afa-b7d1-39742279fa15"
      },
      "execution_count": 14,
      "outputs": [
        {
          "output_type": "stream",
          "name": "stdout",
          "text": [
            "+----------+------------+------------------+---------+--------+\n",
            "|compand_id|company_name|             roles|locations|salaries|\n",
            "+----------+------------+------------------+---------+--------+\n",
            "|       102|     Infosys|Software Developer|Hyderabad|       8|\n",
            "|       101|         TCS|     Data Engineer|Bangalore|      10|\n",
            "|       105|       Wipro|  Business Analyst|  Chennai|      12|\n",
            "|       103|      Amazon|       ML Engineer|    Delhi|      25|\n",
            "|       104|      Google|   Cloud Architect|   Mumbai|      40|\n",
            "+----------+------------+------------------+---------+--------+\n",
            "\n"
          ]
        }
      ]
    },
    {
      "cell_type": "code",
      "source": [
        "df1.sort(df1.salaries.desc()).show()"
      ],
      "metadata": {
        "colab": {
          "base_uri": "https://localhost:8080/"
        },
        "id": "wrZ36qSIt6gE",
        "outputId": "4450b177-4900-4ea4-a0f1-affca5088d8a"
      },
      "execution_count": 15,
      "outputs": [
        {
          "output_type": "stream",
          "name": "stdout",
          "text": [
            "+----------+------------+------------------+---------+--------+\n",
            "|compand_id|company_name|             roles|locations|salaries|\n",
            "+----------+------------+------------------+---------+--------+\n",
            "|       104|      Google|   Cloud Architect|   Mumbai|      40|\n",
            "|       103|      Amazon|       ML Engineer|    Delhi|      25|\n",
            "|       105|       Wipro|  Business Analyst|  Chennai|      12|\n",
            "|       101|         TCS|     Data Engineer|Bangalore|      10|\n",
            "|       102|     Infosys|Software Developer|Hyderabad|       8|\n",
            "+----------+------------+------------------+---------+--------+\n",
            "\n"
          ]
        }
      ]
    },
    {
      "cell_type": "code",
      "source": [
        "df1.orderBy(df1.salaries.desc()).show()"
      ],
      "metadata": {
        "colab": {
          "base_uri": "https://localhost:8080/"
        },
        "id": "g8ZUqIgEt_pC",
        "outputId": "411d0cfd-4b6f-4b1a-a8ec-ddfd00cd0135"
      },
      "execution_count": 17,
      "outputs": [
        {
          "output_type": "stream",
          "name": "stdout",
          "text": [
            "+----------+------------+------------------+---------+--------+\n",
            "|compand_id|company_name|             roles|locations|salaries|\n",
            "+----------+------------+------------------+---------+--------+\n",
            "|       104|      Google|   Cloud Architect|   Mumbai|      40|\n",
            "|       103|      Amazon|       ML Engineer|    Delhi|      25|\n",
            "|       105|       Wipro|  Business Analyst|  Chennai|      12|\n",
            "|       101|         TCS|     Data Engineer|Bangalore|      10|\n",
            "|       102|     Infosys|Software Developer|Hyderabad|       8|\n",
            "+----------+------------+------------------+---------+--------+\n",
            "\n"
          ]
        }
      ]
    },
    {
      "cell_type": "code",
      "source": [
        "df1.printSchema()\n",
        "\n",
        "df2=df1.select(df1.compand_id.cast('int'),df1.company_name,df1.roles,df1.locations,df1.salaries.cast('int'))\n",
        "\n",
        "df2.show()\n",
        "df2.printSchema()"
      ],
      "metadata": {
        "colab": {
          "base_uri": "https://localhost:8080/"
        },
        "id": "2as9GzTjuIBQ",
        "outputId": "b870a29e-c587-4a32-9e1a-d0430485872f"
      },
      "execution_count": 22,
      "outputs": [
        {
          "output_type": "stream",
          "name": "stdout",
          "text": [
            "root\n",
            " |-- compand_id: long (nullable = true)\n",
            " |-- company_name: string (nullable = true)\n",
            " |-- roles: string (nullable = true)\n",
            " |-- locations: string (nullable = true)\n",
            " |-- salaries: long (nullable = true)\n",
            "\n",
            "+----------+------------+------------------+---------+--------+\n",
            "|compand_id|company_name|             roles|locations|salaries|\n",
            "+----------+------------+------------------+---------+--------+\n",
            "|       101|         TCS|     Data Engineer|Bangalore|      10|\n",
            "|       102|     Infosys|Software Developer|Hyderabad|       8|\n",
            "|       103|      Amazon|       ML Engineer|    Delhi|      25|\n",
            "|       104|      Google|   Cloud Architect|   Mumbai|      40|\n",
            "|       105|       Wipro|  Business Analyst|  Chennai|      12|\n",
            "+----------+------------+------------------+---------+--------+\n",
            "\n",
            "root\n",
            " |-- compand_id: integer (nullable = true)\n",
            " |-- company_name: string (nullable = true)\n",
            " |-- roles: string (nullable = true)\n",
            " |-- locations: string (nullable = true)\n",
            " |-- salaries: integer (nullable = true)\n",
            "\n"
          ]
        }
      ]
    },
    {
      "cell_type": "code",
      "source": [
        "df2.filter(df2.salaries>=10).show()"
      ],
      "metadata": {
        "colab": {
          "base_uri": "https://localhost:8080/"
        },
        "id": "55vHYglsus_r",
        "outputId": "879660a8-76af-4deb-a6fa-6bbccec5059d"
      },
      "execution_count": 24,
      "outputs": [
        {
          "output_type": "stream",
          "name": "stdout",
          "text": [
            "+----------+------------+----------------+---------+--------+\n",
            "|compand_id|company_name|           roles|locations|salaries|\n",
            "+----------+------------+----------------+---------+--------+\n",
            "|       101|         TCS|   Data Engineer|Bangalore|      10|\n",
            "|       103|      Amazon|     ML Engineer|    Delhi|      25|\n",
            "|       104|      Google| Cloud Architect|   Mumbai|      40|\n",
            "|       105|       Wipro|Business Analyst|  Chennai|      12|\n",
            "+----------+------------+----------------+---------+--------+\n",
            "\n"
          ]
        }
      ]
    },
    {
      "cell_type": "code",
      "source": [
        "df2.filter(df2.company_name.like('%o%')).show()"
      ],
      "metadata": {
        "colab": {
          "base_uri": "https://localhost:8080/"
        },
        "id": "iz-YncpQvCho",
        "outputId": "739a56aa-2e51-49d1-fa96-23e1c0264af3"
      },
      "execution_count": 25,
      "outputs": [
        {
          "output_type": "stream",
          "name": "stdout",
          "text": [
            "+----------+------------+------------------+---------+--------+\n",
            "|compand_id|company_name|             roles|locations|salaries|\n",
            "+----------+------------+------------------+---------+--------+\n",
            "|       102|     Infosys|Software Developer|Hyderabad|       8|\n",
            "|       103|      Amazon|       ML Engineer|    Delhi|      25|\n",
            "|       104|      Google|   Cloud Architect|   Mumbai|      40|\n",
            "|       105|       Wipro|  Business Analyst|  Chennai|      12|\n",
            "+----------+------------+------------------+---------+--------+\n",
            "\n"
          ]
        }
      ]
    },
    {
      "cell_type": "code",
      "source": [
        "df2.filter(df2.roles.contains('Engineer')).show()"
      ],
      "metadata": {
        "colab": {
          "base_uri": "https://localhost:8080/"
        },
        "id": "ua7QqS-IvSTv",
        "outputId": "63811541-321b-4d81-9f82-1645c3fbc8a9"
      },
      "execution_count": 26,
      "outputs": [
        {
          "output_type": "stream",
          "name": "stdout",
          "text": [
            "+----------+------------+-------------+---------+--------+\n",
            "|compand_id|company_name|        roles|locations|salaries|\n",
            "+----------+------------+-------------+---------+--------+\n",
            "|       101|         TCS|Data Engineer|Bangalore|      10|\n",
            "|       103|      Amazon|  ML Engineer|    Delhi|      25|\n",
            "+----------+------------+-------------+---------+--------+\n",
            "\n"
          ]
        }
      ]
    }
  ]
}