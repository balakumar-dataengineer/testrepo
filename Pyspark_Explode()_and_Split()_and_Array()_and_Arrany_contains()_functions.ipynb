{
  "nbformat": 4,
  "nbformat_minor": 0,
  "metadata": {
    "colab": {
      "provenance": [],
      "authorship_tag": "ABX9TyPYTd6TCCWVLDBrdUeP3dF2",
      "include_colab_link": true
    },
    "kernelspec": {
      "name": "python3",
      "display_name": "Python 3"
    },
    "language_info": {
      "name": "python"
    }
  },
  "cells": [
    {
      "cell_type": "markdown",
      "metadata": {
        "id": "view-in-github",
        "colab_type": "text"
      },
      "source": [
        "<a href=\"https://colab.research.google.com/github/balakumar-dataengineer/testrepo/blob/master/Pyspark_Explode()_and_Split()_and_Array()_and_Arrany_contains()_functions.ipynb\" target=\"_parent\"><img src=\"https://colab.research.google.com/assets/colab-badge.svg\" alt=\"Open In Colab\"/></a>"
      ]
    },
    {
      "cell_type": "code",
      "execution_count": 2,
      "metadata": {
        "colab": {
          "base_uri": "https://localhost:8080/"
        },
        "id": "EFH5T4DGbMuL",
        "outputId": "331beabc-2f6a-4e76-e352-b16c15cf6687"
      },
      "outputs": [
        {
          "output_type": "stream",
          "name": "stdout",
          "text": [
            "<pyspark.sql.session.SparkSession object at 0x7f89f04a8890>\n"
          ]
        }
      ],
      "source": [
        "from pyspark.sql import SparkSession\n",
        "\n",
        "spark=SparkSession.builder.appName('Pyspark') \\\n",
        "                          .master('local') \\\n",
        "                          .getOrCreate()\n",
        "\n",
        "print(spark)"
      ]
    },
    {
      "cell_type": "code",
      "source": [
        "data=[(1,'bala','python','pyspark'),(2,'kumar','sql','gcp')]\n",
        "\n",
        "schema=['id','name','primarySkill','secondarSkill']\n",
        "\n",
        "df = spark.createDataFrame(data,schema)\n",
        "\n",
        "df.show()"
      ],
      "metadata": {
        "colab": {
          "base_uri": "https://localhost:8080/"
        },
        "id": "EdR4UxTWbp43",
        "outputId": "6b9689d6-1f00-4049-bea1-d953c1e6f374"
      },
      "execution_count": 3,
      "outputs": [
        {
          "output_type": "stream",
          "name": "stdout",
          "text": [
            "+---+-----+------------+-------------+\n",
            "| id| name|primarySkill|secondarSkill|\n",
            "+---+-----+------------+-------------+\n",
            "|  1| bala|      python|      pyspark|\n",
            "|  2|kumar|         sql|          gcp|\n",
            "+---+-----+------------+-------------+\n",
            "\n"
          ]
        }
      ]
    },
    {
      "cell_type": "code",
      "source": [
        "from pyspark.sql.functions import array, array_contains, explode, split, concat_ws, concat\n",
        "\n",
        "df1=df.withColumn('skills',array(df.primarySkill,df.secondarSkill)).drop('primarySkill','secondarSkill')\n",
        "\n",
        "df1.show()\n",
        "df1.printSchema()"
      ],
      "metadata": {
        "colab": {
          "base_uri": "https://localhost:8080/"
        },
        "id": "EymfliMBcJeE",
        "outputId": "84692054-edaf-47f0-eab6-52af39f00f31"
      },
      "execution_count": 29,
      "outputs": [
        {
          "output_type": "stream",
          "name": "stdout",
          "text": [
            "+---+-----+-----------------+\n",
            "| id| name|           skills|\n",
            "+---+-----+-----------------+\n",
            "|  1| bala|[python, pyspark]|\n",
            "|  2|kumar|       [sql, gcp]|\n",
            "+---+-----+-----------------+\n",
            "\n",
            "root\n",
            " |-- id: long (nullable = true)\n",
            " |-- name: string (nullable = true)\n",
            " |-- skills: array (nullable = false)\n",
            " |    |-- element: string (containsNull = true)\n",
            "\n"
          ]
        }
      ]
    },
    {
      "cell_type": "code",
      "source": [
        "df2=df1.withColumn('gcpSkill',array_contains(df1.skills,'gcp')) \\\n",
        "       .withColumn('pythonSkill',array_contains(df1.skills,'python'))\n",
        "\n",
        "df2.show()\n",
        "df2.printSchema()"
      ],
      "metadata": {
        "colab": {
          "base_uri": "https://localhost:8080/"
        },
        "id": "wRBlstzGc1O0",
        "outputId": "37b419a6-766a-4634-c8fd-b323908298ae"
      },
      "execution_count": 10,
      "outputs": [
        {
          "output_type": "stream",
          "name": "stdout",
          "text": [
            "+---+-----+-----------------+--------+-----------+\n",
            "| id| name|           skills|gcpSkill|pythonSkill|\n",
            "+---+-----+-----------------+--------+-----------+\n",
            "|  1| bala|[python, pyspark]|   false|       true|\n",
            "|  2|kumar|       [sql, gcp]|    true|      false|\n",
            "+---+-----+-----------------+--------+-----------+\n",
            "\n",
            "root\n",
            " |-- id: long (nullable = true)\n",
            " |-- name: string (nullable = true)\n",
            " |-- skills: array (nullable = false)\n",
            " |    |-- element: string (containsNull = true)\n",
            " |-- gcpSkill: boolean (nullable = true)\n",
            " |-- pythonSkill: boolean (nullable = true)\n",
            "\n"
          ]
        }
      ]
    },
    {
      "cell_type": "code",
      "source": [
        "df3=df2.withColumn('skills',explode(df2.skills))\n",
        "\n",
        "df3.show()\n",
        "df3.printSchema()"
      ],
      "metadata": {
        "colab": {
          "base_uri": "https://localhost:8080/"
        },
        "id": "Tdr9JdI3dhUl",
        "outputId": "63416c10-dcae-4910-92e1-ae193fa19728"
      },
      "execution_count": 15,
      "outputs": [
        {
          "output_type": "stream",
          "name": "stdout",
          "text": [
            "+---+-----+-------+--------+-----------+\n",
            "| id| name| skills|gcpSkill|pythonSkill|\n",
            "+---+-----+-------+--------+-----------+\n",
            "|  1| bala| python|   false|       true|\n",
            "|  1| bala|pyspark|   false|       true|\n",
            "|  2|kumar|    sql|    true|      false|\n",
            "|  2|kumar|    gcp|    true|      false|\n",
            "+---+-----+-------+--------+-----------+\n",
            "\n",
            "root\n",
            " |-- id: long (nullable = true)\n",
            " |-- name: string (nullable = true)\n",
            " |-- skills: string (nullable = true)\n",
            " |-- gcpSkill: boolean (nullable = true)\n",
            " |-- pythonSkill: boolean (nullable = true)\n",
            "\n"
          ]
        }
      ]
    },
    {
      "cell_type": "code",
      "source": [
        "df5=df.withColumn('skills',concat_ws(',',df.primarySkill,df.secondarSkill))\n",
        "df5.show()\n",
        "df5.printSchema()"
      ],
      "metadata": {
        "colab": {
          "base_uri": "https://localhost:8080/"
        },
        "id": "6g6uQYoMeVtF",
        "outputId": "7ce71caa-5f32-4bf9-9cf5-173e1b74965c"
      },
      "execution_count": 21,
      "outputs": [
        {
          "output_type": "stream",
          "name": "stdout",
          "text": [
            "+---+-----+------------+-------------+--------------+\n",
            "| id| name|primarySkill|secondarSkill|        skills|\n",
            "+---+-----+------------+-------------+--------------+\n",
            "|  1| bala|      python|      pyspark|python,pyspark|\n",
            "|  2|kumar|         sql|          gcp|       sql,gcp|\n",
            "+---+-----+------------+-------------+--------------+\n",
            "\n",
            "root\n",
            " |-- id: long (nullable = true)\n",
            " |-- name: string (nullable = true)\n",
            " |-- primarySkill: string (nullable = true)\n",
            " |-- secondarSkill: string (nullable = true)\n",
            " |-- skills: string (nullable = false)\n",
            "\n"
          ]
        }
      ]
    },
    {
      "cell_type": "code",
      "source": [
        "df6=df5.withColumn('skillsarray',split(df5.skills,','))\n",
        "df6.show()\n",
        "df6.printSchema()\n",
        "\n",
        "df6.withColumn('skillsba',concat(df6.primarySkill,df6.secondarSkill)).show()"
      ],
      "metadata": {
        "colab": {
          "base_uri": "https://localhost:8080/"
        },
        "id": "P6Zbqn18fFst",
        "outputId": "98a289a1-eb90-4269-80fc-97f4f9854c10"
      },
      "execution_count": 31,
      "outputs": [
        {
          "output_type": "stream",
          "name": "stdout",
          "text": [
            "+---+-----+------------+-------------+--------------+-----------------+\n",
            "| id| name|primarySkill|secondarSkill|        skills|      skillsarray|\n",
            "+---+-----+------------+-------------+--------------+-----------------+\n",
            "|  1| bala|      python|      pyspark|python,pyspark|[python, pyspark]|\n",
            "|  2|kumar|         sql|          gcp|       sql,gcp|       [sql, gcp]|\n",
            "+---+-----+------------+-------------+--------------+-----------------+\n",
            "\n",
            "root\n",
            " |-- id: long (nullable = true)\n",
            " |-- name: string (nullable = true)\n",
            " |-- primarySkill: string (nullable = true)\n",
            " |-- secondarSkill: string (nullable = true)\n",
            " |-- skills: string (nullable = false)\n",
            " |-- skillsarray: array (nullable = false)\n",
            " |    |-- element: string (containsNull = false)\n",
            "\n",
            "+---+-----+------------+-------------+--------------+-----------------+-------------+\n",
            "| id| name|primarySkill|secondarSkill|        skills|      skillsarray|     skillsba|\n",
            "+---+-----+------------+-------------+--------------+-----------------+-------------+\n",
            "|  1| bala|      python|      pyspark|python,pyspark|[python, pyspark]|pythonpyspark|\n",
            "|  2|kumar|         sql|          gcp|       sql,gcp|       [sql, gcp]|       sqlgcp|\n",
            "+---+-----+------------+-------------+--------------+-----------------+-------------+\n",
            "\n"
          ]
        }
      ]
    }
  ]
}