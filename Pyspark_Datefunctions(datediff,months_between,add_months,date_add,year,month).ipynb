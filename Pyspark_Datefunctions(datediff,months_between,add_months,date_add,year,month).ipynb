{
  "nbformat": 4,
  "nbformat_minor": 0,
  "metadata": {
    "colab": {
      "provenance": [],
      "authorship_tag": "ABX9TyNdhKmc4Gig60gIXW3uuNMk",
      "include_colab_link": true
    },
    "kernelspec": {
      "name": "python3",
      "display_name": "Python 3"
    },
    "language_info": {
      "name": "python"
    }
  },
  "cells": [
    {
      "cell_type": "markdown",
      "metadata": {
        "id": "view-in-github",
        "colab_type": "text"
      },
      "source": [
        "<a href=\"https://colab.research.google.com/github/balakumar-dataengineer/testrepo/blob/master/Pyspark_Datefunctions(datediff%2Cmonths_between%2Cadd_months%2Cdate_add%2Cyear%2Cmonth).ipynb\" target=\"_parent\"><img src=\"https://colab.research.google.com/assets/colab-badge.svg\" alt=\"Open In Colab\"/></a>"
      ]
    },
    {
      "cell_type": "code",
      "execution_count": 1,
      "metadata": {
        "colab": {
          "base_uri": "https://localhost:8080/"
        },
        "id": "Q0T2U3R8OShD",
        "outputId": "8bf8a779-b85d-408b-a095-22fbb5475c81"
      },
      "outputs": [
        {
          "output_type": "stream",
          "name": "stdout",
          "text": [
            "<pyspark.sql.session.SparkSession object at 0x7900c9c20c50>\n"
          ]
        }
      ],
      "source": [
        "from pyspark.sql import SparkSession\n",
        "\n",
        "spark=SparkSession.builder.appName('Pyspark') \\\n",
        "                          .master('local') \\\n",
        "                          .getOrCreate()\n",
        "\n",
        "print(spark)"
      ]
    },
    {
      "cell_type": "code",
      "source": [
        "data=[('2024-10-05','2025-05-01')]\n",
        "\n",
        "schema=['start_date','end_date']\n",
        "\n",
        "df=spark.createDataFrame(data,schema)\n",
        "df.show()\n",
        "df.printSchema()"
      ],
      "metadata": {
        "colab": {
          "base_uri": "https://localhost:8080/"
        },
        "id": "mVvqahCFOxVA",
        "outputId": "db52ace2-7bde-43a3-8933-47f28b57e923"
      },
      "execution_count": 6,
      "outputs": [
        {
          "output_type": "stream",
          "name": "stdout",
          "text": [
            "+----------+----------+\n",
            "|start_date|  end_date|\n",
            "+----------+----------+\n",
            "|2024-10-05|2025-05-01|\n",
            "+----------+----------+\n",
            "\n",
            "root\n",
            " |-- start_date: string (nullable = true)\n",
            " |-- end_date: string (nullable = true)\n",
            "\n"
          ]
        }
      ]
    },
    {
      "cell_type": "code",
      "source": [
        "df1=df.withColumn('start_date',df.start_date.cast('date')) \\\n",
        "      .withColumn('end_date',df.end_date.cast('date'))\n",
        "\n",
        "df1.show()\n",
        "df1.printSchema()"
      ],
      "metadata": {
        "colab": {
          "base_uri": "https://localhost:8080/"
        },
        "id": "eun5yIVDPJ0S",
        "outputId": "70235627-f4d5-4ad7-918c-af25c0f1b73e"
      },
      "execution_count": 7,
      "outputs": [
        {
          "output_type": "stream",
          "name": "stdout",
          "text": [
            "+----------+----------+\n",
            "|start_date|  end_date|\n",
            "+----------+----------+\n",
            "|2024-10-05|2025-05-01|\n",
            "+----------+----------+\n",
            "\n",
            "root\n",
            " |-- start_date: date (nullable = true)\n",
            " |-- end_date: date (nullable = true)\n",
            "\n"
          ]
        }
      ]
    },
    {
      "cell_type": "code",
      "source": [
        "from pyspark.sql.functions import datediff,months_between,add_months,date_add,year,month,dayofmonth,date_trunc,date_sub, round, day, weekofyear, weekday\n",
        "\n",
        "df1.withColumn('datediff',datediff(df1.end_date,df1.start_date)).show()"
      ],
      "metadata": {
        "colab": {
          "base_uri": "https://localhost:8080/"
        },
        "id": "tIgAcF0PP2tb",
        "outputId": "d2403f61-06f8-4595-99a1-a628e0c3915c"
      },
      "execution_count": 27,
      "outputs": [
        {
          "output_type": "stream",
          "name": "stdout",
          "text": [
            "+----------+----------+--------+\n",
            "|start_date|  end_date|datediff|\n",
            "+----------+----------+--------+\n",
            "|2024-10-05|2025-05-01|     208|\n",
            "+----------+----------+--------+\n",
            "\n"
          ]
        }
      ]
    },
    {
      "cell_type": "code",
      "source": [
        "df1.withColumn('months_between',round(months_between(df1.end_date,df1.start_date))).show()"
      ],
      "metadata": {
        "colab": {
          "base_uri": "https://localhost:8080/"
        },
        "id": "u0PCqyEuQ5Y_",
        "outputId": "5d518d37-9b09-4521-f980-49c11736768c"
      },
      "execution_count": 15,
      "outputs": [
        {
          "output_type": "stream",
          "name": "stdout",
          "text": [
            "+----------+----------+--------------+\n",
            "|start_date|  end_date|months_between|\n",
            "+----------+----------+--------------+\n",
            "|2024-10-05|2025-05-01|           7.0|\n",
            "+----------+----------+--------------+\n",
            "\n"
          ]
        }
      ]
    },
    {
      "cell_type": "code",
      "source": [
        "df1.withColumn('dateadd',date_add(df1.end_date,10)).show()"
      ],
      "metadata": {
        "colab": {
          "base_uri": "https://localhost:8080/"
        },
        "id": "uk0NS28IRP9h",
        "outputId": "8c33c997-614c-4bd6-c9e3-bcf90af42e13"
      },
      "execution_count": 16,
      "outputs": [
        {
          "output_type": "stream",
          "name": "stdout",
          "text": [
            "+----------+----------+----------+\n",
            "|start_date|  end_date|   dateadd|\n",
            "+----------+----------+----------+\n",
            "|2024-10-05|2025-05-01|2025-05-11|\n",
            "+----------+----------+----------+\n",
            "\n"
          ]
        }
      ]
    },
    {
      "cell_type": "code",
      "source": [
        "df1.withColumn('datesub',date_sub(df1.end_date,35)).show()"
      ],
      "metadata": {
        "colab": {
          "base_uri": "https://localhost:8080/"
        },
        "id": "dmkFCg18RcnA",
        "outputId": "61e5741f-5e36-4459-d9e7-4d0cd9247fa4"
      },
      "execution_count": 17,
      "outputs": [
        {
          "output_type": "stream",
          "name": "stdout",
          "text": [
            "+----------+----------+----------+\n",
            "|start_date|  end_date|   datesub|\n",
            "+----------+----------+----------+\n",
            "|2024-10-05|2025-05-01|2025-03-27|\n",
            "+----------+----------+----------+\n",
            "\n"
          ]
        }
      ]
    },
    {
      "cell_type": "code",
      "source": [
        "df1.withColumn('addmonth',add_months(df1.start_date,3)).show()"
      ],
      "metadata": {
        "colab": {
          "base_uri": "https://localhost:8080/"
        },
        "id": "rW2ADrUcRmbR",
        "outputId": "62f5d0e1-397f-4617-e0b1-845ce54ced2c"
      },
      "execution_count": 18,
      "outputs": [
        {
          "output_type": "stream",
          "name": "stdout",
          "text": [
            "+----------+----------+----------+\n",
            "|start_date|  end_date|  addmonth|\n",
            "+----------+----------+----------+\n",
            "|2024-10-05|2025-05-01|2025-01-05|\n",
            "+----------+----------+----------+\n",
            "\n"
          ]
        }
      ]
    },
    {
      "cell_type": "code",
      "source": [
        "df1.withColumn('submonths',add_months(df1.start_date,-10)).show()"
      ],
      "metadata": {
        "colab": {
          "base_uri": "https://localhost:8080/"
        },
        "id": "OfASdtSSR3K_",
        "outputId": "4af9decc-d874-43eb-fcbf-116220e2e868"
      },
      "execution_count": 19,
      "outputs": [
        {
          "output_type": "stream",
          "name": "stdout",
          "text": [
            "+----------+----------+----------+\n",
            "|start_date|  end_date| submonths|\n",
            "+----------+----------+----------+\n",
            "|2024-10-05|2025-05-01|2023-12-05|\n",
            "+----------+----------+----------+\n",
            "\n"
          ]
        }
      ]
    },
    {
      "cell_type": "code",
      "source": [
        "df1.withColumn('year',year(df1.start_date)).show()"
      ],
      "metadata": {
        "colab": {
          "base_uri": "https://localhost:8080/"
        },
        "id": "_SiO7SnQSATX",
        "outputId": "4328bd0e-ae49-4881-a31e-c73663f462ff"
      },
      "execution_count": 20,
      "outputs": [
        {
          "output_type": "stream",
          "name": "stdout",
          "text": [
            "+----------+----------+----+\n",
            "|start_date|  end_date|year|\n",
            "+----------+----------+----+\n",
            "|2024-10-05|2025-05-01|2024|\n",
            "+----------+----------+----+\n",
            "\n"
          ]
        }
      ]
    },
    {
      "cell_type": "code",
      "source": [
        "df1.withColumn('month',month(df1.start_date)).show()"
      ],
      "metadata": {
        "colab": {
          "base_uri": "https://localhost:8080/"
        },
        "id": "ULlTQTl1SHAy",
        "outputId": "8a3d994b-cfcd-4163-d75d-8b31bf9f3eb4"
      },
      "execution_count": 21,
      "outputs": [
        {
          "output_type": "stream",
          "name": "stdout",
          "text": [
            "+----------+----------+-----+\n",
            "|start_date|  end_date|month|\n",
            "+----------+----------+-----+\n",
            "|2024-10-05|2025-05-01|   10|\n",
            "+----------+----------+-----+\n",
            "\n"
          ]
        }
      ]
    },
    {
      "cell_type": "code",
      "source": [
        "df1.withColumn('day',day(df1.end_date)).show()"
      ],
      "metadata": {
        "colab": {
          "base_uri": "https://localhost:8080/"
        },
        "id": "MEoEcZ4CSObK",
        "outputId": "d93ef6d5-e12f-477c-90a0-c3ba7d8e429d"
      },
      "execution_count": 30,
      "outputs": [
        {
          "output_type": "stream",
          "name": "stdout",
          "text": [
            "+----------+----------+---+\n",
            "|start_date|  end_date|day|\n",
            "+----------+----------+---+\n",
            "|2024-10-05|2025-05-01|  1|\n",
            "+----------+----------+---+\n",
            "\n"
          ]
        }
      ]
    },
    {
      "cell_type": "code",
      "source": [
        "df1.withColumn('dayofmonth',weekday(df1.end_date)).show()"
      ],
      "metadata": {
        "colab": {
          "base_uri": "https://localhost:8080/"
        },
        "id": "jqa3WoauSZ_J",
        "outputId": "09ff443c-155b-4a19-e0e3-0007cb9863f5"
      },
      "execution_count": 29,
      "outputs": [
        {
          "output_type": "stream",
          "name": "stdout",
          "text": [
            "+----------+----------+----------+\n",
            "|start_date|  end_date|dayofmonth|\n",
            "+----------+----------+----------+\n",
            "|2024-10-05|2025-05-01|         3|\n",
            "+----------+----------+----------+\n",
            "\n"
          ]
        }
      ]
    },
    {
      "cell_type": "code",
      "source": [
        "from pyspark.sql.functions import current_date, date_format, to_date\n",
        "\n",
        "df1.withColumn('current_date',current_date()).show()\n",
        "df1.withColumn('current_date',to_date(date_format(current_date(),'dd-MMM-yyyy'),'dd-MMM-yyyy')).show()"
      ],
      "metadata": {
        "colab": {
          "base_uri": "https://localhost:8080/"
        },
        "id": "TPhn2lcSS2zB",
        "outputId": "216459d2-188f-440a-dbb5-8716730e8b04"
      },
      "execution_count": 34,
      "outputs": [
        {
          "output_type": "stream",
          "name": "stdout",
          "text": [
            "+----------+----------+------------+\n",
            "|start_date|  end_date|current_date|\n",
            "+----------+----------+------------+\n",
            "|2024-10-05|2025-05-01|  2025-03-08|\n",
            "+----------+----------+------------+\n",
            "\n",
            "+----------+----------+------------+\n",
            "|start_date|  end_date|current_date|\n",
            "+----------+----------+------------+\n",
            "|2024-10-05|2025-05-01|  2025-03-08|\n",
            "+----------+----------+------------+\n",
            "\n"
          ]
        }
      ]
    }
  ]
}