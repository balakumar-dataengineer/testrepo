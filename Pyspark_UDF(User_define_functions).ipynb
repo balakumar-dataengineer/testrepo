{
  "nbformat": 4,
  "nbformat_minor": 0,
  "metadata": {
    "colab": {
      "provenance": [],
      "authorship_tag": "ABX9TyOWwiSG1cM+x2pfYnLw+vxg",
      "include_colab_link": true
    },
    "kernelspec": {
      "name": "python3",
      "display_name": "Python 3"
    },
    "language_info": {
      "name": "python"
    }
  },
  "cells": [
    {
      "cell_type": "markdown",
      "metadata": {
        "id": "view-in-github",
        "colab_type": "text"
      },
      "source": [
        "<a href=\"https://colab.research.google.com/github/balakumar-dataengineer/testrepo/blob/master/Pyspark_UDF(User_define_functions).ipynb\" target=\"_parent\"><img src=\"https://colab.research.google.com/assets/colab-badge.svg\" alt=\"Open In Colab\"/></a>"
      ]
    },
    {
      "cell_type": "code",
      "execution_count": 1,
      "metadata": {
        "colab": {
          "base_uri": "https://localhost:8080/"
        },
        "id": "ZmAX4rX7w6A6",
        "outputId": "93239954-5856-4aa7-af5c-4af6ec4225e5"
      },
      "outputs": [
        {
          "output_type": "stream",
          "name": "stdout",
          "text": [
            "<pyspark.sql.session.SparkSession object at 0x7a1ad814b1d0>\n"
          ]
        }
      ],
      "source": [
        "from pyspark.sql import SparkSession\n",
        "\n",
        "spark=SparkSession.builder.appName('pyspark') \\\n",
        "                          .master('local') \\\n",
        "                          .getOrCreate()\n",
        "\n",
        "print(spark)"
      ]
    },
    {
      "cell_type": "code",
      "source": [
        "data=[\n",
        "    (1,'bala',2000,3000),\n",
        "    (2,'kumar',3000,40000),\n",
        "    (3,'balakumar',1500000,500000)\n",
        "]\n",
        "\n",
        "schema=['id','name','fixedPay','variablePay']\n",
        "\n",
        "df=spark.createDataFrame(data,schema)\n",
        "df.show()\n",
        "df.printSchema()"
      ],
      "metadata": {
        "colab": {
          "base_uri": "https://localhost:8080/"
        },
        "id": "gKV3TEZtxYGf",
        "outputId": "9e885fa8-f2ef-4f12-be99-063f88cf173f"
      },
      "execution_count": 2,
      "outputs": [
        {
          "output_type": "stream",
          "name": "stdout",
          "text": [
            "+---+---------+--------+-----------+\n",
            "| id|     name|fixedPay|variablePay|\n",
            "+---+---------+--------+-----------+\n",
            "|  1|     bala|    2000|       3000|\n",
            "|  2|    kumar|    3000|      40000|\n",
            "|  3|balakumar| 1500000|     500000|\n",
            "+---+---------+--------+-----------+\n",
            "\n",
            "root\n",
            " |-- id: long (nullable = true)\n",
            " |-- name: string (nullable = true)\n",
            " |-- fixedPay: long (nullable = true)\n",
            " |-- variablePay: long (nullable = true)\n",
            "\n"
          ]
        }
      ]
    },
    {
      "cell_type": "code",
      "source": [
        "from pyspark.sql.functions import udf\n",
        "from pyspark.sql.types import StringType, IntegerType\n",
        "\n",
        "def totalPay(f,v):\n",
        "  return f+v\n",
        "\n",
        "totalPayFun=udf(totalPay,StringType())\n",
        "\n",
        "df.select('id','name','fixedPay','variablePay',totalPayFun('fixedPay','variablePay').alias('totalPay')).show()\n"
      ],
      "metadata": {
        "colab": {
          "base_uri": "https://localhost:8080/"
        },
        "id": "r0l7m_Max4iM",
        "outputId": "e9d5ff25-13fa-48c3-8012-836d7991eaa3"
      },
      "execution_count": 21,
      "outputs": [
        {
          "output_type": "stream",
          "name": "stdout",
          "text": [
            "+---+---------+--------+-----------+--------+\n",
            "| id|     name|fixedPay|variablePay|totalPay|\n",
            "+---+---------+--------+-----------+--------+\n",
            "|  1|     bala|    2000|       3000|    5000|\n",
            "|  2|    kumar|    3000|      40000|   43000|\n",
            "|  3|balakumar| 1500000|     500000| 2000000|\n",
            "+---+---------+--------+-----------+--------+\n",
            "\n"
          ]
        }
      ]
    },
    {
      "cell_type": "code",
      "source": [
        "def totPay(df):\n",
        "  return df.withColumn('totalPay',df['fixedPay']+df['variablePay'])\n",
        "\n",
        "df=totPay(df)\n",
        "df.show()"
      ],
      "metadata": {
        "colab": {
          "base_uri": "https://localhost:8080/"
        },
        "id": "fxXnnWU52-nr",
        "outputId": "37a94de5-3fe8-4fb7-93d3-2a5d930cef7c"
      },
      "execution_count": 12,
      "outputs": [
        {
          "output_type": "stream",
          "name": "stdout",
          "text": [
            "+---+---------+--------+-----------+--------+\n",
            "| id|     name|fixedPay|variablePay|totalPay|\n",
            "+---+---------+--------+-----------+--------+\n",
            "|  1|     bala|    2000|       3000|    5000|\n",
            "|  2|    kumar|    3000|      40000|   43000|\n",
            "|  3|balakumar| 1500000|     500000| 2000000|\n",
            "+---+---------+--------+-----------+--------+\n",
            "\n"
          ]
        }
      ]
    },
    {
      "cell_type": "code",
      "source": [
        "from pyspark.sql.functions import udf\n",
        "from pyspark.sql.types import StringType\n",
        "\n",
        "@udf(returnType=StringType())\n",
        "def toPay(f,v):\n",
        "  return f+v\n",
        "\n",
        "df.select('id','name','fixedPay','variablePay',toPay('fixedPay','variablePay').alias('topay')).show()\n",
        "\n",
        "\n"
      ],
      "metadata": {
        "colab": {
          "base_uri": "https://localhost:8080/"
        },
        "id": "6fswCDTH6GOi",
        "outputId": "52793035-1560-49b5-b5f3-e893d95a2ff4"
      },
      "execution_count": 14,
      "outputs": [
        {
          "output_type": "stream",
          "name": "stdout",
          "text": [
            "+---+---------+--------+-----------+-------+\n",
            "| id|     name|fixedPay|variablePay|  topay|\n",
            "+---+---------+--------+-----------+-------+\n",
            "|  1|     bala|    2000|       3000|   5000|\n",
            "|  2|    kumar|    3000|      40000|  43000|\n",
            "|  3|balakumar| 1500000|     500000|2000000|\n",
            "+---+---------+--------+-----------+-------+\n",
            "\n"
          ]
        }
      ]
    },
    {
      "cell_type": "code",
      "source": [
        "df=df.drop('totalPay')\n",
        "df.show()"
      ],
      "metadata": {
        "colab": {
          "base_uri": "https://localhost:8080/"
        },
        "id": "UaGspgOKFjw4",
        "outputId": "40790a9e-567f-4e61-b7ca-b25d7eb1d27b"
      },
      "execution_count": 19,
      "outputs": [
        {
          "output_type": "stream",
          "name": "stdout",
          "text": [
            "+---+---------+--------+-----------+\n",
            "| id|     name|fixedPay|variablePay|\n",
            "+---+---------+--------+-----------+\n",
            "|  1|     bala|    2000|       3000|\n",
            "|  2|    kumar|    3000|      40000|\n",
            "|  3|balakumar| 1500000|     500000|\n",
            "+---+---------+--------+-----------+\n",
            "\n"
          ]
        }
      ]
    },
    {
      "cell_type": "code",
      "source": [
        "df.createOrReplaceTempView('employee')\n",
        "\n",
        "spark.sql('select*From employee').show()"
      ],
      "metadata": {
        "colab": {
          "base_uri": "https://localhost:8080/"
        },
        "id": "JRrV8lYTFz4e",
        "outputId": "3dabc5fd-87d8-4d2b-946a-b7e408acf1c7"
      },
      "execution_count": 20,
      "outputs": [
        {
          "output_type": "stream",
          "name": "stdout",
          "text": [
            "+---+---------+--------+-----------+\n",
            "| id|     name|fixedPay|variablePay|\n",
            "+---+---------+--------+-----------+\n",
            "|  1|     bala|    2000|       3000|\n",
            "|  2|    kumar|    3000|      40000|\n",
            "|  3|balakumar| 1500000|     500000|\n",
            "+---+---------+--------+-----------+\n",
            "\n"
          ]
        }
      ]
    },
    {
      "cell_type": "code",
      "source": [
        "def payTotal(x,y):\n",
        "  return x+y\n",
        "\n",
        "spark.udf.register('topayfun',payTotal,IntegerType())\n",
        "\n",
        "spark.sql('select id,name,fixedPay,variablePay,topayfun(fixedPay,variablePay) as Total from employee').show()"
      ],
      "metadata": {
        "colab": {
          "base_uri": "https://localhost:8080/"
        },
        "id": "a-Gq209eGERU",
        "outputId": "763627de-cc3f-456a-c378-821661d5ec56"
      },
      "execution_count": 24,
      "outputs": [
        {
          "output_type": "stream",
          "name": "stdout",
          "text": [
            "+---+---------+--------+-----------+-------+\n",
            "| id|     name|fixedPay|variablePay|  Total|\n",
            "+---+---------+--------+-----------+-------+\n",
            "|  1|     bala|    2000|       3000|   5000|\n",
            "|  2|    kumar|    3000|      40000|  43000|\n",
            "|  3|balakumar| 1500000|     500000|2000000|\n",
            "+---+---------+--------+-----------+-------+\n",
            "\n"
          ]
        }
      ]
    }
  ]
}