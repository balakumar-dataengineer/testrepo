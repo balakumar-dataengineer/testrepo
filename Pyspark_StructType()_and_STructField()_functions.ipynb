{
  "nbformat": 4,
  "nbformat_minor": 0,
  "metadata": {
    "colab": {
      "provenance": [],
      "authorship_tag": "ABX9TyPT31PmRdWMffkJIaoD97I9",
      "include_colab_link": true
    },
    "kernelspec": {
      "name": "python3",
      "display_name": "Python 3"
    },
    "language_info": {
      "name": "python"
    }
  },
  "cells": [
    {
      "cell_type": "markdown",
      "metadata": {
        "id": "view-in-github",
        "colab_type": "text"
      },
      "source": [
        "<a href=\"https://colab.research.google.com/github/balakumar-dataengineer/testrepo/blob/master/Pyspark_StructType()_and_STructField()_functions.ipynb\" target=\"_parent\"><img src=\"https://colab.research.google.com/assets/colab-badge.svg\" alt=\"Open In Colab\"/></a>"
      ]
    },
    {
      "cell_type": "code",
      "source": [
        "from pyspark.sql import SparkSession\n",
        "\n",
        "spark=SparkSession.builder.appName('Pyspark') \\\n",
        "                          .master('local') \\\n",
        "                          .getOrCreate()"
      ],
      "metadata": {
        "id": "LD1YYSTJl_NY"
      },
      "execution_count": 1,
      "outputs": []
    },
    {
      "cell_type": "code",
      "execution_count": 3,
      "metadata": {
        "colab": {
          "base_uri": "https://localhost:8080/"
        },
        "id": "xG-EBys1l4KM",
        "outputId": "b8bc112b-df8f-4b13-c1c0-7480f9b776d3"
      },
      "outputs": [
        {
          "output_type": "stream",
          "name": "stdout",
          "text": [
            "+---+-----+------+\n",
            "| id| name|salary|\n",
            "+---+-----+------+\n",
            "|  1| bala| 62000|\n",
            "|  2|kumar|150000|\n",
            "+---+-----+------+\n",
            "\n",
            "root\n",
            " |-- id: long (nullable = true)\n",
            " |-- name: string (nullable = true)\n",
            " |-- salary: long (nullable = true)\n",
            "\n"
          ]
        }
      ],
      "source": [
        "data=[(1,'bala',62000),(2,'kumar',150000)]\n",
        "schema=['id','name','salary']\n",
        "\n",
        "df = spark.createDataFrame(data,schema)\n",
        "\n",
        "df.show()\n",
        "df.printSchema()"
      ]
    },
    {
      "cell_type": "code",
      "source": [
        "from pyspark.sql.types import StructType,StructField,StringType,IntegerType\n",
        "\n",
        "schema1=StructType([\n",
        "    StructField('id',IntegerType(),True),\n",
        "    StructField('name',StringType(),True),\n",
        "    StructField('salary',IntegerType(),True)\n",
        "])\n",
        "\n",
        "df1=spark.createDataFrame(data,schema1)\n",
        "\n",
        "df1.show()\n",
        "\n",
        "df1.printSchema()"
      ],
      "metadata": {
        "colab": {
          "base_uri": "https://localhost:8080/"
        },
        "id": "d2rVehi8m6ma",
        "outputId": "4e1166bf-a4c9-46c6-da19-71a1ad86ae40"
      },
      "execution_count": 7,
      "outputs": [
        {
          "output_type": "stream",
          "name": "stdout",
          "text": [
            "+---+-----+------+\n",
            "| id| name|salary|\n",
            "+---+-----+------+\n",
            "|  1| bala| 62000|\n",
            "|  2|kumar|150000|\n",
            "+---+-----+------+\n",
            "\n",
            "root\n",
            " |-- id: integer (nullable = true)\n",
            " |-- name: string (nullable = true)\n",
            " |-- salary: integer (nullable = true)\n",
            "\n"
          ]
        }
      ]
    },
    {
      "cell_type": "code",
      "source": [
        "data2=[\n",
        "    (1,('bala','kumar'),65000),\n",
        "    (2,('kumar','bala'),150000)\n",
        "]\n",
        "\n",
        "schema2=StructType([\n",
        "    StructField('id',IntegerType(),True),\n",
        "    StructField('name',StructType([\n",
        "        StructField('firstname',StringType(),True),\n",
        "        StructField('lastname',StringType(),True)\n",
        "    ])),\n",
        "    StructField('salary',IntegerType(),True)\n",
        "])\n",
        "\n",
        "df2=spark.createDataFrame(data2,schema2)\n",
        "\n",
        "df2.show()\n",
        "\n",
        "df2.printSchema()"
      ],
      "metadata": {
        "colab": {
          "base_uri": "https://localhost:8080/"
        },
        "id": "Gj03enDGn2I_",
        "outputId": "9a1d9253-9986-42f0-e40c-091f96b31748"
      },
      "execution_count": 9,
      "outputs": [
        {
          "output_type": "stream",
          "name": "stdout",
          "text": [
            "+---+-------------+------+\n",
            "| id|         name|salary|\n",
            "+---+-------------+------+\n",
            "|  1|{bala, kumar}| 65000|\n",
            "|  2|{kumar, bala}|150000|\n",
            "+---+-------------+------+\n",
            "\n",
            "root\n",
            " |-- id: integer (nullable = true)\n",
            " |-- name: struct (nullable = true)\n",
            " |    |-- firstname: string (nullable = true)\n",
            " |    |-- lastname: string (nullable = true)\n",
            " |-- salary: integer (nullable = true)\n",
            "\n"
          ]
        }
      ]
    },
    {
      "cell_type": "code",
      "source": [
        "from pyspark.sql.functions import col\n",
        "\n",
        "df2.select(df2['name.firstname'].alias('name1'),'name.lastname').show()"
      ],
      "metadata": {
        "colab": {
          "base_uri": "https://localhost:8080/"
        },
        "id": "H3kWgf2QpXcu",
        "outputId": "d825a4e9-b99f-409e-ce71-317872916139"
      },
      "execution_count": 25,
      "outputs": [
        {
          "output_type": "stream",
          "name": "stdout",
          "text": [
            "+-----+--------+\n",
            "|name1|lastname|\n",
            "+-----+--------+\n",
            "| bala|   kumar|\n",
            "|kumar|    bala|\n",
            "+-----+--------+\n",
            "\n"
          ]
        }
      ]
    }
  ]
}