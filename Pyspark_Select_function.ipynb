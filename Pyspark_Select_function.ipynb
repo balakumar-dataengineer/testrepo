{
  "nbformat": 4,
  "nbformat_minor": 0,
  "metadata": {
    "colab": {
      "provenance": [],
      "authorship_tag": "ABX9TyPbt5iHA67BzarXiejtGyQ5",
      "include_colab_link": true
    },
    "kernelspec": {
      "name": "python3",
      "display_name": "Python 3"
    },
    "language_info": {
      "name": "python"
    }
  },
  "cells": [
    {
      "cell_type": "markdown",
      "metadata": {
        "id": "view-in-github",
        "colab_type": "text"
      },
      "source": [
        "<a href=\"https://colab.research.google.com/github/balakumar-dataengineer/testrepo/blob/master/Pyspark_Select_function.ipynb\" target=\"_parent\"><img src=\"https://colab.research.google.com/assets/colab-badge.svg\" alt=\"Open In Colab\"/></a>"
      ]
    },
    {
      "cell_type": "code",
      "execution_count": 1,
      "metadata": {
        "colab": {
          "base_uri": "https://localhost:8080/"
        },
        "id": "7faY_4jN5hzK",
        "outputId": "dab88083-c00d-4f6e-fa86-5ade584711a5"
      },
      "outputs": [
        {
          "output_type": "stream",
          "name": "stdout",
          "text": [
            "<pyspark.sql.session.SparkSession object at 0x7ced3757a4d0>\n"
          ]
        }
      ],
      "source": [
        "from pyspark.sql import SparkSession\n",
        "\n",
        "spark=SparkSession.builder.appName('pyspark') \\\n",
        "                          .master('local') \\\n",
        "                          .getOrCreate()\n",
        "\n",
        "print(spark)"
      ]
    },
    {
      "cell_type": "code",
      "source": [
        "data=[\n",
        "    (1, \"Alice\", 25, \"F\", \"Engineer\"),\n",
        "    (2, \"Bob\", 30, \"M\", \"Doctor\"),\n",
        "    (3, \"Charlie\", 35, \"M\", \"Teacher\"),\n",
        "    (4, \"David\", 40, \"M\", \"Lawyer\"),\n",
        "    (5, \"Emma\", 28, \"F\", \"Scientist\")\n",
        "]\n",
        "\n",
        "schema=['id','name','age','gender','occupation']\n",
        "\n",
        "\n",
        "df=spark.createDataFrame(data,schema)\n",
        "df.show()"
      ],
      "metadata": {
        "colab": {
          "base_uri": "https://localhost:8080/"
        },
        "id": "kBShAKV151sa",
        "outputId": "a8ea2370-ba11-4c7d-c7b0-bfb96d6f238b"
      },
      "execution_count": 2,
      "outputs": [
        {
          "output_type": "stream",
          "name": "stdout",
          "text": [
            "+---+-------+---+------+----------+\n",
            "| id|   name|age|gender|occupation|\n",
            "+---+-------+---+------+----------+\n",
            "|  1|  Alice| 25|     F|  Engineer|\n",
            "|  2|    Bob| 30|     M|    Doctor|\n",
            "|  3|Charlie| 35|     M|   Teacher|\n",
            "|  4|  David| 40|     M|    Lawyer|\n",
            "|  5|   Emma| 28|     F| Scientist|\n",
            "+---+-------+---+------+----------+\n",
            "\n"
          ]
        }
      ]
    },
    {
      "cell_type": "code",
      "source": [
        "df.select('name','age').show()"
      ],
      "metadata": {
        "colab": {
          "base_uri": "https://localhost:8080/"
        },
        "id": "Rg9He3qG6Jhw",
        "outputId": "787967a5-9613-4e17-a5c7-8184e6b6aa22"
      },
      "execution_count": 3,
      "outputs": [
        {
          "output_type": "stream",
          "name": "stdout",
          "text": [
            "+-------+---+\n",
            "|   name|age|\n",
            "+-------+---+\n",
            "|  Alice| 25|\n",
            "|    Bob| 30|\n",
            "|Charlie| 35|\n",
            "|  David| 40|\n",
            "|   Emma| 28|\n",
            "+-------+---+\n",
            "\n"
          ]
        }
      ]
    },
    {
      "cell_type": "code",
      "source": [
        "df.select(df['name'],df['age']).show()"
      ],
      "metadata": {
        "colab": {
          "base_uri": "https://localhost:8080/"
        },
        "id": "19ZbYHai6OO2",
        "outputId": "125b3885-413e-463b-ffa2-7b7b5623fd21"
      },
      "execution_count": 4,
      "outputs": [
        {
          "output_type": "stream",
          "name": "stdout",
          "text": [
            "+-------+---+\n",
            "|   name|age|\n",
            "+-------+---+\n",
            "|  Alice| 25|\n",
            "|    Bob| 30|\n",
            "|Charlie| 35|\n",
            "|  David| 40|\n",
            "|   Emma| 28|\n",
            "+-------+---+\n",
            "\n"
          ]
        }
      ]
    },
    {
      "cell_type": "code",
      "source": [
        "from pyspark.sql.functions import col\n",
        "\n",
        "df.select(col('name'),col('age')).show()"
      ],
      "metadata": {
        "colab": {
          "base_uri": "https://localhost:8080/"
        },
        "id": "iMds6w3z6VEN",
        "outputId": "a25be7d0-6dd2-4d1c-a0d6-fc21ec669d89"
      },
      "execution_count": 6,
      "outputs": [
        {
          "output_type": "stream",
          "name": "stdout",
          "text": [
            "+-------+---+\n",
            "|   name|age|\n",
            "+-------+---+\n",
            "|  Alice| 25|\n",
            "|    Bob| 30|\n",
            "|Charlie| 35|\n",
            "|  David| 40|\n",
            "|   Emma| 28|\n",
            "+-------+---+\n",
            "\n"
          ]
        }
      ]
    },
    {
      "cell_type": "code",
      "source": [
        "df.select(['name','age','occupation']).show()"
      ],
      "metadata": {
        "colab": {
          "base_uri": "https://localhost:8080/"
        },
        "id": "tq14erWp6p9p",
        "outputId": "5c126f79-3543-4ff0-88f4-019c6e5a8a69"
      },
      "execution_count": 7,
      "outputs": [
        {
          "output_type": "stream",
          "name": "stdout",
          "text": [
            "+-------+---+----------+\n",
            "|   name|age|occupation|\n",
            "+-------+---+----------+\n",
            "|  Alice| 25|  Engineer|\n",
            "|    Bob| 30|    Doctor|\n",
            "|Charlie| 35|   Teacher|\n",
            "|  David| 40|    Lawyer|\n",
            "|   Emma| 28| Scientist|\n",
            "+-------+---+----------+\n",
            "\n"
          ]
        }
      ]
    },
    {
      "cell_type": "code",
      "source": [
        "df.select('*').show()"
      ],
      "metadata": {
        "colab": {
          "base_uri": "https://localhost:8080/"
        },
        "id": "KBjPUEyu60GY",
        "outputId": "ceedcde8-b560-4d83-bd9e-6afe2513297c"
      },
      "execution_count": 8,
      "outputs": [
        {
          "output_type": "stream",
          "name": "stdout",
          "text": [
            "+---+-------+---+------+----------+\n",
            "| id|   name|age|gender|occupation|\n",
            "+---+-------+---+------+----------+\n",
            "|  1|  Alice| 25|     F|  Engineer|\n",
            "|  2|    Bob| 30|     M|    Doctor|\n",
            "|  3|Charlie| 35|     M|   Teacher|\n",
            "|  4|  David| 40|     M|    Lawyer|\n",
            "|  5|   Emma| 28|     F| Scientist|\n",
            "+---+-------+---+------+----------+\n",
            "\n"
          ]
        }
      ]
    },
    {
      "cell_type": "code",
      "source": [
        "df.select([col for col in df.columns]).show()"
      ],
      "metadata": {
        "colab": {
          "base_uri": "https://localhost:8080/"
        },
        "id": "G8tsSTvn63uP",
        "outputId": "05a143d5-7744-4000-f3bf-71f8b85c8924"
      },
      "execution_count": 12,
      "outputs": [
        {
          "output_type": "stream",
          "name": "stdout",
          "text": [
            "+---+-------+---+------+----------+\n",
            "| id|   name|age|gender|occupation|\n",
            "+---+-------+---+------+----------+\n",
            "|  1|  Alice| 25|     F|  Engineer|\n",
            "|  2|    Bob| 30|     M|    Doctor|\n",
            "|  3|Charlie| 35|     M|   Teacher|\n",
            "|  4|  David| 40|     M|    Lawyer|\n",
            "|  5|   Emma| 28|     F| Scientist|\n",
            "+---+-------+---+------+----------+\n",
            "\n"
          ]
        }
      ]
    },
    {
      "cell_type": "code",
      "source": [],
      "metadata": {
        "colab": {
          "base_uri": "https://localhost:8080/"
        },
        "id": "OKTTOEp07B_k",
        "outputId": "ec8ed8af-2c4f-4272-a9ef-24b8946c765d"
      },
      "execution_count": 14,
      "outputs": [
        {
          "output_type": "execute_result",
          "data": {
            "text/plain": [
              "['id', 'name', 'age', 'gender', 'occupation']"
            ]
          },
          "metadata": {},
          "execution_count": 14
        }
      ]
    }
  ]
}