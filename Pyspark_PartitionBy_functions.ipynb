{
  "nbformat": 4,
  "nbformat_minor": 0,
  "metadata": {
    "colab": {
      "provenance": [],
      "authorship_tag": "ABX9TyMkGriC2oKjpHUSUFzqfqfY",
      "include_colab_link": true
    },
    "kernelspec": {
      "name": "python3",
      "display_name": "Python 3"
    },
    "language_info": {
      "name": "python"
    }
  },
  "cells": [
    {
      "cell_type": "markdown",
      "metadata": {
        "id": "view-in-github",
        "colab_type": "text"
      },
      "source": [
        "<a href=\"https://colab.research.google.com/github/balakumar-dataengineer/testrepo/blob/master/Pyspark_PartitionBy_functions.ipynb\" target=\"_parent\"><img src=\"https://colab.research.google.com/assets/colab-badge.svg\" alt=\"Open In Colab\"/></a>"
      ]
    },
    {
      "cell_type": "code",
      "execution_count": 1,
      "metadata": {
        "colab": {
          "base_uri": "https://localhost:8080/"
        },
        "id": "eoMjf73CnkNh",
        "outputId": "be5bd3f2-4a26-486f-8baa-832e6359627d"
      },
      "outputs": [
        {
          "output_type": "stream",
          "name": "stdout",
          "text": [
            "<pyspark.sql.session.SparkSession object at 0x7aba800cf750>\n"
          ]
        }
      ],
      "source": [
        "from pyspark.sql import SparkSession\n",
        "\n",
        "spark=SparkSession.builder.appName('Pyspark') \\\n",
        "                          .master('local[1]') \\\n",
        "                          .getOrCreate()\n",
        "\n",
        "print(spark)"
      ]
    },
    {
      "cell_type": "code",
      "source": [
        "data=[\n",
        "    (1,'bala','male','IT',3000,'sanmina'),\n",
        "    (2,'kumar','male','IT',4000,'sanmina'),\n",
        "    (3,'balakumar','male','dataengineering',160000,'Delloite')\n",
        "]\n",
        "\n",
        "schema=['id','name','gender','department','salary','company']\n",
        "\n",
        "df=spark.createDataFrame(data,schema)\n",
        "df.show()"
      ],
      "metadata": {
        "colab": {
          "base_uri": "https://localhost:8080/"
        },
        "id": "CoNaWyZEoASM",
        "outputId": "535002ac-3981-40c3-a369-a90ffe09e917"
      },
      "execution_count": 3,
      "outputs": [
        {
          "output_type": "stream",
          "name": "stdout",
          "text": [
            "+---+---------+------+---------------+------+--------+\n",
            "| id|     name|gender|     department|salary| company|\n",
            "+---+---------+------+---------------+------+--------+\n",
            "|  1|     bala|  male|             IT|  3000| sanmina|\n",
            "|  2|    kumar|  male|             IT|  4000| sanmina|\n",
            "|  3|balakumar|  male|dataengineering|160000|Delloite|\n",
            "+---+---------+------+---------------+------+--------+\n",
            "\n"
          ]
        }
      ]
    },
    {
      "cell_type": "code",
      "source": [
        "from google.colab import drive\n",
        "drive.mount('/content/drive')\n",
        "\n",
        "df.write.format('parquet') \\\n",
        "        .mode('overwrite') \\\n",
        "        .partitionBy('department') \\\n",
        "        .save('/content/drive/My Drive/Colab Notebooks/Testfiles/partitionData')"
      ],
      "metadata": {
        "colab": {
          "base_uri": "https://localhost:8080/"
        },
        "id": "cq2s9wVVouus",
        "outputId": "a7cf71ef-62b8-423f-9bbd-9a8f31938663"
      },
      "execution_count": 9,
      "outputs": [
        {
          "output_type": "stream",
          "name": "stdout",
          "text": [
            "Drive already mounted at /content/drive; to attempt to forcibly remount, call drive.mount(\"/content/drive\", force_remount=True).\n"
          ]
        }
      ]
    },
    {
      "cell_type": "code",
      "source": [
        "spark.read.parquet('/content/drive/My Drive/Colab Notebooks/Testfiles/partitionData/department=dataengineering').show()"
      ],
      "metadata": {
        "colab": {
          "base_uri": "https://localhost:8080/"
        },
        "id": "dFanS-QWp_qK",
        "outputId": "eb3b14cb-557d-4258-aa54-f6527a5ebf30"
      },
      "execution_count": 12,
      "outputs": [
        {
          "output_type": "stream",
          "name": "stdout",
          "text": [
            "+---+---------+------+------+--------+\n",
            "| id|     name|gender|salary| company|\n",
            "+---+---------+------+------+--------+\n",
            "|  3|balakumar|  male|160000|Delloite|\n",
            "+---+---------+------+------+--------+\n",
            "\n"
          ]
        }
      ]
    },
    {
      "cell_type": "code",
      "source": [
        "df.write.parquet('/content/drive/My Drive/Colab Notebooks/Testfiles/partitiondata1',mode='overwrite',partitionBy=['company','department'])"
      ],
      "metadata": {
        "id": "4c9rhgFFqisf"
      },
      "execution_count": 20,
      "outputs": []
    },
    {
      "cell_type": "code",
      "source": [
        "spark.read.format('parquet') \\\n",
        "       .load('/content/drive/My Drive/Colab Notebooks/Testfiles/partitiondata1/company=Delloite/department=dataengineering').show()"
      ],
      "metadata": {
        "colab": {
          "base_uri": "https://localhost:8080/"
        },
        "id": "1bC0u7q7q8gn",
        "outputId": "37f5325d-6c2f-4d57-8fb6-94f360a7faed"
      },
      "execution_count": 23,
      "outputs": [
        {
          "output_type": "stream",
          "name": "stdout",
          "text": [
            "+---+---------+------+------+\n",
            "| id|     name|gender|salary|\n",
            "+---+---------+------+------+\n",
            "|  3|balakumar|  male|160000|\n",
            "+---+---------+------+------+\n",
            "\n"
          ]
        }
      ]
    }
  ]
}