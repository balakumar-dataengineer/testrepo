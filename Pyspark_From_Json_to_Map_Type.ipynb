{
  "nbformat": 4,
  "nbformat_minor": 0,
  "metadata": {
    "colab": {
      "provenance": [],
      "authorship_tag": "ABX9TyO7bWbhSYuzG4Z/pmbqLMqo",
      "include_colab_link": true
    },
    "kernelspec": {
      "name": "python3",
      "display_name": "Python 3"
    },
    "language_info": {
      "name": "python"
    }
  },
  "cells": [
    {
      "cell_type": "markdown",
      "metadata": {
        "id": "view-in-github",
        "colab_type": "text"
      },
      "source": [
        "<a href=\"https://colab.research.google.com/github/balakumar-dataengineer/testrepo/blob/master/Pyspark_From_Json_to_Map_Type.ipynb\" target=\"_parent\"><img src=\"https://colab.research.google.com/assets/colab-badge.svg\" alt=\"Open In Colab\"/></a>"
      ]
    },
    {
      "cell_type": "code",
      "execution_count": 1,
      "metadata": {
        "colab": {
          "base_uri": "https://localhost:8080/"
        },
        "id": "SH2h4_n4_dD7",
        "outputId": "d7568182-84ec-438f-e5db-8b53860e25ad"
      },
      "outputs": [
        {
          "output_type": "stream",
          "name": "stdout",
          "text": [
            "<pyspark.sql.session.SparkSession object at 0x7888eace33d0>\n"
          ]
        }
      ],
      "source": [
        "from pyspark.sql import SparkSession\n",
        "\n",
        "spark=SparkSession.builder.appName('Pyspark') \\\n",
        "                          .master('local') \\\n",
        "                          .getOrCreate()\n",
        "\n",
        "print(spark)"
      ]
    },
    {
      "cell_type": "code",
      "source": [
        "data=[\n",
        "    (1,'bala','{\"hair\":\"black\",\"eye\":\"black\"}'),\n",
        "    (2,'kumar','{\"hair\":\"blue\",\"eye\":\"brown\"}')\n",
        "]\n",
        "\n",
        "schema=['id','name','properties']\n",
        "\n",
        "df=spark.createDataFrame(data,schema)\n",
        "df.show(truncate=False)\n",
        "df.printSchema()"
      ],
      "metadata": {
        "colab": {
          "base_uri": "https://localhost:8080/"
        },
        "id": "EwaAFeGM_w_O",
        "outputId": "11d716f9-6fc2-4873-b1ec-2b77dd07abf1"
      },
      "execution_count": 12,
      "outputs": [
        {
          "output_type": "stream",
          "name": "stdout",
          "text": [
            "+---+-----+------------------------------+\n",
            "|id |name |properties                    |\n",
            "+---+-----+------------------------------+\n",
            "|1  |bala |{\"hair\":\"black\",\"eye\":\"black\"}|\n",
            "|2  |kumar|{\"hair\":\"blue\",\"eye\":\"brown\"} |\n",
            "+---+-----+------------------------------+\n",
            "\n",
            "root\n",
            " |-- id: long (nullable = true)\n",
            " |-- name: string (nullable = true)\n",
            " |-- properties: string (nullable = true)\n",
            "\n"
          ]
        }
      ]
    },
    {
      "cell_type": "code",
      "source": [
        "from pyspark.sql.functions import from_json,explode\n",
        "from pyspark.sql.types import MapType,StringType,StructType,StructField\n",
        "\n",
        "df1=df.select('id','name','properties',from_json(df.properties,MapType(StringType(),StringType())).alias('propMap'))\n",
        "\n",
        "df1.select('id','name','properties','propMap',explode('propMap').alias('key','value'),df1.propMap.hair.alias('keypair'),df1.propMap.eye.alias('eyepair')) \\\n",
        "   .show(truncate=False)"
      ],
      "metadata": {
        "colab": {
          "base_uri": "https://localhost:8080/"
        },
        "id": "PQisedCXAWij",
        "outputId": "99546030-1033-4604-fc43-18e4e58bfd33"
      },
      "execution_count": 30,
      "outputs": [
        {
          "output_type": "stream",
          "name": "stdout",
          "text": [
            "+---+-----+------------------------------+-----------------------------+----+-----+-------+-------+\n",
            "|id |name |properties                    |propMap                      |key |value|keypair|eyepair|\n",
            "+---+-----+------------------------------+-----------------------------+----+-----+-------+-------+\n",
            "|1  |bala |{\"hair\":\"black\",\"eye\":\"black\"}|{hair -> black, eye -> black}|hair|black|black  |black  |\n",
            "|1  |bala |{\"hair\":\"black\",\"eye\":\"black\"}|{hair -> black, eye -> black}|eye |black|black  |black  |\n",
            "|2  |kumar|{\"hair\":\"blue\",\"eye\":\"brown\"} |{hair -> blue, eye -> brown} |hair|blue |blue   |brown  |\n",
            "|2  |kumar|{\"hair\":\"blue\",\"eye\":\"brown\"} |{hair -> blue, eye -> brown} |eye |brown|blue   |brown  |\n",
            "+---+-----+------------------------------+-----------------------------+----+-----+-------+-------+\n",
            "\n"
          ]
        }
      ]
    },
    {
      "cell_type": "code",
      "source": [
        "df.show(truncate=False)"
      ],
      "metadata": {
        "colab": {
          "base_uri": "https://localhost:8080/"
        },
        "id": "uut3st30Hrub",
        "outputId": "f6b5f5ea-cd24-45d9-82d1-298e8dd97e78"
      },
      "execution_count": 28,
      "outputs": [
        {
          "output_type": "stream",
          "name": "stdout",
          "text": [
            "+---+-----+------------------------------+\n",
            "|id |name |properties                    |\n",
            "+---+-----+------------------------------+\n",
            "|1  |bala |{\"hair\":\"black\",\"eye\":\"black\"}|\n",
            "|2  |kumar|{\"hair\":\"blue\",\"eye\":\"brown\"} |\n",
            "+---+-----+------------------------------+\n",
            "\n"
          ]
        }
      ]
    },
    {
      "cell_type": "code",
      "source": [
        "schema1=StructType(\n",
        "    [StructField('hair',StringType(),True),\n",
        "    StructField('eye',StringType(),True)]\n",
        ")\n",
        "\n",
        "df2=df.select('id','name','properties',from_json(df.properties,schema1).alias('propStruct'))"
      ],
      "metadata": {
        "id": "0Sy0r27LHwe1"
      },
      "execution_count": 38,
      "outputs": []
    },
    {
      "cell_type": "code",
      "source": [
        "df2.select('id','name','properties','propStruct.*').show(truncate=False)\n",
        "\n",
        "df2.printSchema()"
      ],
      "metadata": {
        "colab": {
          "base_uri": "https://localhost:8080/"
        },
        "id": "kP8XJ9ATJJfl",
        "outputId": "0f079baa-0b1b-4da6-f501-271d865d26a9"
      },
      "execution_count": 45,
      "outputs": [
        {
          "output_type": "stream",
          "name": "stdout",
          "text": [
            "+---+-----+------------------------------+-----+-----+\n",
            "|id |name |properties                    |hair |eye  |\n",
            "+---+-----+------------------------------+-----+-----+\n",
            "|1  |bala |{\"hair\":\"black\",\"eye\":\"black\"}|black|black|\n",
            "|2  |kumar|{\"hair\":\"blue\",\"eye\":\"brown\"} |blue |brown|\n",
            "+---+-----+------------------------------+-----+-----+\n",
            "\n",
            "root\n",
            " |-- id: long (nullable = true)\n",
            " |-- name: string (nullable = true)\n",
            " |-- properties: string (nullable = true)\n",
            " |-- propStruct: struct (nullable = true)\n",
            " |    |-- hair: string (nullable = true)\n",
            " |    |-- eye: string (nullable = true)\n",
            "\n"
          ]
        }
      ]
    }
  ]
}