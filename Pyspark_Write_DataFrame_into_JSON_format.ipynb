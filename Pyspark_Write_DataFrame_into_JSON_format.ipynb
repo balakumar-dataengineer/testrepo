{
  "nbformat": 4,
  "nbformat_minor": 0,
  "metadata": {
    "colab": {
      "provenance": [],
      "authorship_tag": "ABX9TyN6wssoe4q3W/LppV0tu9uJ",
      "include_colab_link": true
    },
    "kernelspec": {
      "name": "python3",
      "display_name": "Python 3"
    },
    "language_info": {
      "name": "python"
    }
  },
  "cells": [
    {
      "cell_type": "markdown",
      "metadata": {
        "id": "view-in-github",
        "colab_type": "text"
      },
      "source": [
        "<a href=\"https://colab.research.google.com/github/balakumar-dataengineer/testrepo/blob/master/Pyspark_Write_DataFrame_into_JSON_format.ipynb\" target=\"_parent\"><img src=\"https://colab.research.google.com/assets/colab-badge.svg\" alt=\"Open In Colab\"/></a>"
      ]
    },
    {
      "cell_type": "code",
      "execution_count": 1,
      "metadata": {
        "colab": {
          "base_uri": "https://localhost:8080/"
        },
        "id": "q6vWKyjBbyCR",
        "outputId": "45558e56-b240-415a-aca6-138adb97a709"
      },
      "outputs": [
        {
          "output_type": "stream",
          "name": "stdout",
          "text": [
            "Mounted at /content/drive\n"
          ]
        }
      ],
      "source": [
        "from pyspark.sql import SparkSession\n",
        "\n",
        "spark=SparkSession.builder.appName('Pyspark') \\\n",
        "                          .master('local') \\\n",
        "                          .getOrCreate()\n",
        "\n",
        "from google.colab import drive\n",
        "drive.mount('/content/drive')"
      ]
    },
    {
      "cell_type": "code",
      "source": [
        "df = spark.read.csv('/content/drive/My Drive/Colab Notebooks/Testfiles/csv/csv1/*.csv',inferSchema=True,header=True)\n",
        "\n",
        "df.show(truncate=False)\n",
        "df.printSchema()\n",
        "df.count()"
      ],
      "metadata": {
        "colab": {
          "base_uri": "https://localhost:8080/"
        },
        "id": "mOMLgPNHcsYj",
        "outputId": "936e639b-b51e-4aea-f6e7-2df51fc2b642"
      },
      "execution_count": 33,
      "outputs": [
        {
          "output_type": "stream",
          "name": "stdout",
          "text": [
            "+----------+-----------+-------------------+-------------------------+---------+\n",
            "|orderId   |orderStatus|orderTime          |restaurant               |totalCost|\n",
            "+----------+-----------+-------------------+-------------------------+---------+\n",
            "|1.59373E14|Delivered  |2023-11-19 19:40:53|Domino's Pizza           |278      |\n",
            "|1.59351E14|Delivered  |2023-11-19 13:45:31|A2B - Adyar Ananda Bhavan|227      |\n",
            "|1.56328E14|Delivered  |2023-10-15 13:51:36|A2B - Adyar Ananda Bhavan|229      |\n",
            "|1.55747E14|Delivered  |2023-10-08 20:28:10|Dindigul Thalappakatti   |187      |\n",
            "|1.55721E14|Delivered  |2023-10-08 13:17:31|A2B - Adyar Ananda Bhavan|191      |\n",
            "|1.55636E14|Delivered  |2023-10-07 13:47:25|A2B - Adyar Ananda Bhavan|256      |\n",
            "|1.73092E11|Delivered  |2023-07-22 14:36:33|A2B - Adyar Ananda Bhavan|180      |\n",
            "|1.72593E11|Delivered  |2023-07-16 20:07:57|Domino's Pizza           |578      |\n",
            "|1.72572E11|Delivered  |2023-07-16 14:11:50|A2B - Adyar Ananda Bhavan|361      |\n",
            "|1.70174E11|Delivered  |2023-06-18 20:03:44|Anjappar                 |218      |\n",
            "|1.68943E11|Delivered  |2023-06-04 14:07:04|A2B - Adyar Ananda Bhavan|250      |\n",
            "|1.68862E11|Delivered  |2023-06-03 15:37:22|Domino's Pizza           |208      |\n",
            "|1.68339E11|Delivered  |2023-05-28 14:17:02|A2B - Adyar Ananda Bhavan|241      |\n",
            "|1.66009E11|Delivered  |2023-05-01 15:04:37|Domino's Pizza           |214      |\n",
            "|1.65835E11|Delivered  |2023-04-29 14:39:33|A2B - Adyar Ananda Bhavan|200      |\n",
            "|1.64559E11|Delivered  |2023-04-14 20:16:18|Domino's Pizza           |187      |\n",
            "|1.59871E11|Delivered  |2023-02-19 14:10:04|A2B - Adyar Ananda Bhavan|162      |\n",
            "|1.59693E11|Delivered  |2023-02-17 12:41:04|A2B - Adyar Ananda Bhavan|1239     |\n",
            "|1.5921E11 |Delivered  |2023-02-11 22:26:45|Dindigul Thalappakatti   |172      |\n",
            "|1.58681E11|Delivered  |2023-02-05 19:29:24|Dindigul Thalappakatti   |220      |\n",
            "+----------+-----------+-------------------+-------------------------+---------+\n",
            "only showing top 20 rows\n",
            "\n",
            "root\n",
            " |-- orderId: double (nullable = true)\n",
            " |-- orderStatus: string (nullable = true)\n",
            " |-- orderTime: timestamp (nullable = true)\n",
            " |-- restaurant: string (nullable = true)\n",
            " |-- totalCost: integer (nullable = true)\n",
            "\n"
          ]
        },
        {
          "output_type": "execute_result",
          "data": {
            "text/plain": [
              "54"
            ]
          },
          "metadata": {},
          "execution_count": 33
        }
      ]
    },
    {
      "cell_type": "code",
      "source": [
        "df.write.json('/content/drive/My Drive/Colab Notebooks/Testfiles/json/json1/jsonwrite',mode='overwrite')\n",
        "\n",
        "df1=spark.read.json('/content/drive/My Drive/Colab Notebooks/Testfiles/json/json1/jsonwrite')\n",
        "\n",
        "df1.select(*df1.columns).show()\n",
        "df1.printSchema()\n",
        "df1.count()"
      ],
      "metadata": {
        "colab": {
          "base_uri": "https://localhost:8080/"
        },
        "id": "EmvystQzdauv",
        "outputId": "007ecc67-be62-4417-f4d3-dcb786a01232"
      },
      "execution_count": 52,
      "outputs": [
        {
          "output_type": "stream",
          "name": "stdout",
          "text": [
            "+----------+-----------+--------------------+--------------------+---------+\n",
            "|   orderId|orderStatus|           orderTime|          restaurant|totalCost|\n",
            "+----------+-----------+--------------------+--------------------+---------+\n",
            "|1.59373E14|  Delivered|2023-11-19T19:40:...|      Domino's Pizza|      278|\n",
            "|1.59351E14|  Delivered|2023-11-19T13:45:...|A2B - Adyar Anand...|      227|\n",
            "|1.56328E14|  Delivered|2023-10-15T13:51:...|A2B - Adyar Anand...|      229|\n",
            "|1.55747E14|  Delivered|2023-10-08T20:28:...|Dindigul Thalappa...|      187|\n",
            "|1.55721E14|  Delivered|2023-10-08T13:17:...|A2B - Adyar Anand...|      191|\n",
            "|1.55636E14|  Delivered|2023-10-07T13:47:...|A2B - Adyar Anand...|      256|\n",
            "|1.73092E11|  Delivered|2023-07-22T14:36:...|A2B - Adyar Anand...|      180|\n",
            "|1.72593E11|  Delivered|2023-07-16T20:07:...|      Domino's Pizza|      578|\n",
            "|1.72572E11|  Delivered|2023-07-16T14:11:...|A2B - Adyar Anand...|      361|\n",
            "|1.70174E11|  Delivered|2023-06-18T20:03:...|            Anjappar|      218|\n",
            "|1.68943E11|  Delivered|2023-06-04T14:07:...|A2B - Adyar Anand...|      250|\n",
            "|1.68862E11|  Delivered|2023-06-03T15:37:...|      Domino's Pizza|      208|\n",
            "|1.68339E11|  Delivered|2023-05-28T14:17:...|A2B - Adyar Anand...|      241|\n",
            "|1.66009E11|  Delivered|2023-05-01T15:04:...|      Domino's Pizza|      214|\n",
            "|1.65835E11|  Delivered|2023-04-29T14:39:...|A2B - Adyar Anand...|      200|\n",
            "|1.64559E11|  Delivered|2023-04-14T20:16:...|      Domino's Pizza|      187|\n",
            "|1.59871E11|  Delivered|2023-02-19T14:10:...|A2B - Adyar Anand...|      162|\n",
            "|1.59693E11|  Delivered|2023-02-17T12:41:...|A2B - Adyar Anand...|     1239|\n",
            "| 1.5921E11|  Delivered|2023-02-11T22:26:...|Dindigul Thalappa...|      172|\n",
            "|1.58681E11|  Delivered|2023-02-05T19:29:...|Dindigul Thalappa...|      220|\n",
            "+----------+-----------+--------------------+--------------------+---------+\n",
            "only showing top 20 rows\n",
            "\n",
            "root\n",
            " |-- orderId: double (nullable = true)\n",
            " |-- orderStatus: string (nullable = true)\n",
            " |-- orderTime: string (nullable = true)\n",
            " |-- restaurant: string (nullable = true)\n",
            " |-- totalCost: long (nullable = true)\n",
            "\n"
          ]
        },
        {
          "output_type": "execute_result",
          "data": {
            "text/plain": [
              "54"
            ]
          },
          "metadata": {},
          "execution_count": 52
        }
      ]
    },
    {
      "cell_type": "code",
      "source": [
        "from pyspark.sql.functions import date_format, to_timestamp\n",
        "\n",
        "df2 = df1.withColumn('orderTime',to_timestamp('orderTime')) \\\n",
        "         .withColumn('orderTime', date_format('orderTime','dd-MMM-yyyy HH:mm:ss'))\n",
        "\n",
        "df2.select(*df2.columns).show()\n",
        "df2.printSchema()\n",
        "df2.count()\n"
      ],
      "metadata": {
        "colab": {
          "base_uri": "https://localhost:8080/"
        },
        "id": "6PS8wPkqgF9U",
        "outputId": "56be629f-2097-4eae-a8b0-199b7f09a6ce"
      },
      "execution_count": 80,
      "outputs": [
        {
          "output_type": "stream",
          "name": "stdout",
          "text": [
            "+----------+-----------+--------------------+--------------------+---------+\n",
            "|   orderId|orderStatus|           orderTime|          restaurant|totalCost|\n",
            "+----------+-----------+--------------------+--------------------+---------+\n",
            "|1.59373E14|  Delivered|19-Nov-2023 19:40:53|      Domino's Pizza|      278|\n",
            "|1.59351E14|  Delivered|19-Nov-2023 13:45:31|A2B - Adyar Anand...|      227|\n",
            "|1.56328E14|  Delivered|15-Oct-2023 13:51:36|A2B - Adyar Anand...|      229|\n",
            "|1.55747E14|  Delivered|08-Oct-2023 20:28:10|Dindigul Thalappa...|      187|\n",
            "|1.55721E14|  Delivered|08-Oct-2023 13:17:31|A2B - Adyar Anand...|      191|\n",
            "|1.55636E14|  Delivered|07-Oct-2023 13:47:25|A2B - Adyar Anand...|      256|\n",
            "|1.73092E11|  Delivered|22-Jul-2023 14:36:33|A2B - Adyar Anand...|      180|\n",
            "|1.72593E11|  Delivered|16-Jul-2023 20:07:57|      Domino's Pizza|      578|\n",
            "|1.72572E11|  Delivered|16-Jul-2023 14:11:50|A2B - Adyar Anand...|      361|\n",
            "|1.70174E11|  Delivered|18-Jun-2023 20:03:44|            Anjappar|      218|\n",
            "|1.68943E11|  Delivered|04-Jun-2023 14:07:04|A2B - Adyar Anand...|      250|\n",
            "|1.68862E11|  Delivered|03-Jun-2023 15:37:22|      Domino's Pizza|      208|\n",
            "|1.68339E11|  Delivered|28-May-2023 14:17:02|A2B - Adyar Anand...|      241|\n",
            "|1.66009E11|  Delivered|01-May-2023 15:04:37|      Domino's Pizza|      214|\n",
            "|1.65835E11|  Delivered|29-Apr-2023 14:39:33|A2B - Adyar Anand...|      200|\n",
            "|1.64559E11|  Delivered|14-Apr-2023 20:16:18|      Domino's Pizza|      187|\n",
            "|1.59871E11|  Delivered|19-Feb-2023 14:10:04|A2B - Adyar Anand...|      162|\n",
            "|1.59693E11|  Delivered|17-Feb-2023 12:41:04|A2B - Adyar Anand...|     1239|\n",
            "| 1.5921E11|  Delivered|11-Feb-2023 22:26:45|Dindigul Thalappa...|      172|\n",
            "|1.58681E11|  Delivered|05-Feb-2023 19:29:24|Dindigul Thalappa...|      220|\n",
            "+----------+-----------+--------------------+--------------------+---------+\n",
            "only showing top 20 rows\n",
            "\n",
            "root\n",
            " |-- orderId: double (nullable = true)\n",
            " |-- orderStatus: string (nullable = true)\n",
            " |-- orderTime: string (nullable = true)\n",
            " |-- restaurant: string (nullable = true)\n",
            " |-- totalCost: long (nullable = true)\n",
            "\n"
          ]
        },
        {
          "output_type": "execute_result",
          "data": {
            "text/plain": [
              "54"
            ]
          },
          "metadata": {},
          "execution_count": 80
        }
      ]
    }
  ]
}