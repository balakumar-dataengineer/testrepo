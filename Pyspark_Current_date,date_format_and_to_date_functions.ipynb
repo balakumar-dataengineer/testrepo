{
  "nbformat": 4,
  "nbformat_minor": 0,
  "metadata": {
    "colab": {
      "provenance": [],
      "authorship_tag": "ABX9TyOamSMyunk3lOImu7e9XyYY",
      "include_colab_link": true
    },
    "kernelspec": {
      "name": "python3",
      "display_name": "Python 3"
    },
    "language_info": {
      "name": "python"
    }
  },
  "cells": [
    {
      "cell_type": "markdown",
      "metadata": {
        "id": "view-in-github",
        "colab_type": "text"
      },
      "source": [
        "<a href=\"https://colab.research.google.com/github/balakumar-dataengineer/testrepo/blob/master/Pyspark_Current_date%2Cdate_format_and_to_date_functions.ipynb\" target=\"_parent\"><img src=\"https://colab.research.google.com/assets/colab-badge.svg\" alt=\"Open In Colab\"/></a>"
      ]
    },
    {
      "cell_type": "code",
      "execution_count": 1,
      "metadata": {
        "colab": {
          "base_uri": "https://localhost:8080/"
        },
        "id": "RED48MwQlWh6",
        "outputId": "29343c99-5bf0-4d4a-a7ce-ea263fb252f5"
      },
      "outputs": [
        {
          "output_type": "stream",
          "name": "stdout",
          "text": [
            "<pyspark.sql.session.SparkSession object at 0x790063c968d0>\n"
          ]
        }
      ],
      "source": [
        "from pyspark.sql import SparkSession\n",
        "\n",
        "spark=SparkSession.builder.appName('pyspark') \\\n",
        "                          .master('local') \\\n",
        "                          .getOrCreate()\n",
        "\n",
        "print(spark)"
      ]
    },
    {
      "cell_type": "code",
      "source": [
        "df = spark.range(0,10)\n",
        "df.show()"
      ],
      "metadata": {
        "colab": {
          "base_uri": "https://localhost:8080/"
        },
        "id": "cUzaHbd1l5Wz",
        "outputId": "4cff1792-42a5-4cfc-90aa-8a1eff744d1d"
      },
      "execution_count": 2,
      "outputs": [
        {
          "output_type": "stream",
          "name": "stdout",
          "text": [
            "+---+\n",
            "| id|\n",
            "+---+\n",
            "|  0|\n",
            "|  1|\n",
            "|  2|\n",
            "|  3|\n",
            "|  4|\n",
            "|  5|\n",
            "|  6|\n",
            "|  7|\n",
            "|  8|\n",
            "|  9|\n",
            "+---+\n",
            "\n"
          ]
        }
      ]
    },
    {
      "cell_type": "code",
      "source": [
        "from pyspark.sql.functions import current_date,date_format,to_date\n",
        "\n",
        "df=df.withColumn('id',df.id.cast('int'))\n",
        "df.show()\n",
        "df.printSchema()\n",
        "df1 = df.withColumn('current_date',current_date()+df.id)\n",
        "df1.show()\n",
        "df1.printSchema()"
      ],
      "metadata": {
        "colab": {
          "base_uri": "https://localhost:8080/"
        },
        "id": "EqIu7dH-mHEz",
        "outputId": "df804711-59aa-4271-888a-f986de9db976"
      },
      "execution_count": 8,
      "outputs": [
        {
          "output_type": "stream",
          "name": "stdout",
          "text": [
            "+---+\n",
            "| id|\n",
            "+---+\n",
            "|  0|\n",
            "|  1|\n",
            "|  2|\n",
            "|  3|\n",
            "|  4|\n",
            "|  5|\n",
            "|  6|\n",
            "|  7|\n",
            "|  8|\n",
            "|  9|\n",
            "+---+\n",
            "\n",
            "root\n",
            " |-- id: integer (nullable = false)\n",
            "\n",
            "+---+------------+\n",
            "| id|current_date|\n",
            "+---+------------+\n",
            "|  0|  2025-03-07|\n",
            "|  1|  2025-03-08|\n",
            "|  2|  2025-03-09|\n",
            "|  3|  2025-03-10|\n",
            "|  4|  2025-03-11|\n",
            "|  5|  2025-03-12|\n",
            "|  6|  2025-03-13|\n",
            "|  7|  2025-03-14|\n",
            "|  8|  2025-03-15|\n",
            "|  9|  2025-03-16|\n",
            "+---+------------+\n",
            "\n",
            "root\n",
            " |-- id: integer (nullable = false)\n",
            " |-- current_date: date (nullable = false)\n",
            "\n"
          ]
        }
      ]
    },
    {
      "cell_type": "code",
      "source": [
        "df2=df1.withColumn('format_Date',date_format('current_date','dd-MMM-yyyy'))\n",
        "df2.show()\n",
        "df2.printSchema()"
      ],
      "metadata": {
        "colab": {
          "base_uri": "https://localhost:8080/"
        },
        "id": "FP2ORxGJnBCg",
        "outputId": "d7111e56-9ccc-4a40-d839-15acf78e435e"
      },
      "execution_count": 9,
      "outputs": [
        {
          "output_type": "stream",
          "name": "stdout",
          "text": [
            "+---+------------+-----------+\n",
            "| id|current_date|format_Date|\n",
            "+---+------------+-----------+\n",
            "|  0|  2025-03-07|07-Mar-2025|\n",
            "|  1|  2025-03-08|08-Mar-2025|\n",
            "|  2|  2025-03-09|09-Mar-2025|\n",
            "|  3|  2025-03-10|10-Mar-2025|\n",
            "|  4|  2025-03-11|11-Mar-2025|\n",
            "|  5|  2025-03-12|12-Mar-2025|\n",
            "|  6|  2025-03-13|13-Mar-2025|\n",
            "|  7|  2025-03-14|14-Mar-2025|\n",
            "|  8|  2025-03-15|15-Mar-2025|\n",
            "|  9|  2025-03-16|16-Mar-2025|\n",
            "+---+------------+-----------+\n",
            "\n",
            "root\n",
            " |-- id: integer (nullable = false)\n",
            " |-- current_date: date (nullable = false)\n",
            " |-- format_Date: string (nullable = false)\n",
            "\n"
          ]
        }
      ]
    },
    {
      "cell_type": "code",
      "source": [
        "df3=df2.withColumn('to_date',to_date('format_date','dd-MMM-yyyy'))\n",
        "df3.show()\n",
        "df3.printSchema()"
      ],
      "metadata": {
        "colab": {
          "base_uri": "https://localhost:8080/"
        },
        "id": "CqyEMQH7nZTE",
        "outputId": "5ae9c0e1-4c2e-4fcb-d442-1ced7ec779c9"
      },
      "execution_count": 10,
      "outputs": [
        {
          "output_type": "stream",
          "name": "stdout",
          "text": [
            "+---+------------+-----------+----------+\n",
            "| id|current_date|format_Date|   to_date|\n",
            "+---+------------+-----------+----------+\n",
            "|  0|  2025-03-07|07-Mar-2025|2025-03-07|\n",
            "|  1|  2025-03-08|08-Mar-2025|2025-03-08|\n",
            "|  2|  2025-03-09|09-Mar-2025|2025-03-09|\n",
            "|  3|  2025-03-10|10-Mar-2025|2025-03-10|\n",
            "|  4|  2025-03-11|11-Mar-2025|2025-03-11|\n",
            "|  5|  2025-03-12|12-Mar-2025|2025-03-12|\n",
            "|  6|  2025-03-13|13-Mar-2025|2025-03-13|\n",
            "|  7|  2025-03-14|14-Mar-2025|2025-03-14|\n",
            "|  8|  2025-03-15|15-Mar-2025|2025-03-15|\n",
            "|  9|  2025-03-16|16-Mar-2025|2025-03-16|\n",
            "+---+------------+-----------+----------+\n",
            "\n",
            "root\n",
            " |-- id: integer (nullable = false)\n",
            " |-- current_date: date (nullable = false)\n",
            " |-- format_Date: string (nullable = false)\n",
            " |-- to_date: date (nullable = true)\n",
            "\n"
          ]
        }
      ]
    }
  ]
}