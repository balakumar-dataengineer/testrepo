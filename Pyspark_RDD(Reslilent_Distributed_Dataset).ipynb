{
  "nbformat": 4,
  "nbformat_minor": 0,
  "metadata": {
    "colab": {
      "provenance": [],
      "authorship_tag": "ABX9TyOVRTNZaipbJAAwwkQUzlfx",
      "include_colab_link": true
    },
    "kernelspec": {
      "name": "python3",
      "display_name": "Python 3"
    },
    "language_info": {
      "name": "python"
    }
  },
  "cells": [
    {
      "cell_type": "markdown",
      "metadata": {
        "id": "view-in-github",
        "colab_type": "text"
      },
      "source": [
        "<a href=\"https://colab.research.google.com/github/balakumar-dataengineer/testrepo/blob/master/Pyspark_RDD(Reslilent_Distributed_Dataset).ipynb\" target=\"_parent\"><img src=\"https://colab.research.google.com/assets/colab-badge.svg\" alt=\"Open In Colab\"/></a>"
      ]
    },
    {
      "cell_type": "code",
      "execution_count": 8,
      "metadata": {
        "colab": {
          "base_uri": "https://localhost:8080/"
        },
        "id": "xoxOYFChK4tR",
        "outputId": "4d3f94e9-2341-4bdb-f7df-5911497be4e2"
      },
      "outputs": [
        {
          "output_type": "stream",
          "name": "stdout",
          "text": [
            "<pyspark.sql.session.SparkSession object at 0x7de6402b6650>\n"
          ]
        }
      ],
      "source": [
        "from pyspark.sql import SparkSession\n",
        "\n",
        "spark=SparkSession.builder.appName('Pyspark') \\\n",
        "                          .master('local') \\\n",
        "                          .getOrCreate()\n",
        "\n",
        "print(spark)"
      ]
    },
    {
      "cell_type": "code",
      "source": [
        "data=[(1,'bala'),(2,'kumar'),(3,'balakumar')]\n",
        "\n",
        "rdd=spark.sparkContext.parallelize(data)\n",
        "\n",
        "print(rdd.collect())"
      ],
      "metadata": {
        "colab": {
          "base_uri": "https://localhost:8080/"
        },
        "id": "bP7SSHoALUky",
        "outputId": "a9ce6e06-ae36-4e82-b160-7c2783d93361"
      },
      "execution_count": 4,
      "outputs": [
        {
          "output_type": "stream",
          "name": "stdout",
          "text": [
            "[(1, 'bala'), (2, 'kumar'), (3, 'balakumar')]\n"
          ]
        }
      ]
    },
    {
      "cell_type": "code",
      "source": [
        "df=rdd.toDF(schema=['id','name'])\n",
        "df.show()"
      ],
      "metadata": {
        "colab": {
          "base_uri": "https://localhost:8080/"
        },
        "id": "ctI-vWtNMLcz",
        "outputId": "88302bab-3eff-41af-cc25-ee045703c5a2"
      },
      "execution_count": 6,
      "outputs": [
        {
          "output_type": "stream",
          "name": "stdout",
          "text": [
            "+---+---------+\n",
            "| id|     name|\n",
            "+---+---------+\n",
            "|  1|     bala|\n",
            "|  2|    kumar|\n",
            "|  3|balakumar|\n",
            "+---+---------+\n",
            "\n"
          ]
        }
      ]
    },
    {
      "cell_type": "code",
      "source": [
        "df=spark.createDataFrame(rdd,['emp_id','name'])\n",
        "df.show()"
      ],
      "metadata": {
        "colab": {
          "base_uri": "https://localhost:8080/"
        },
        "id": "Qa8EFN0xMUGe",
        "outputId": "69c3e166-9258-4fa5-b6e9-6ba0074241a6"
      },
      "execution_count": 9,
      "outputs": [
        {
          "output_type": "stream",
          "name": "stdout",
          "text": [
            "+------+---------+\n",
            "|emp_id|     name|\n",
            "+------+---------+\n",
            "|     1|     bala|\n",
            "|     2|    kumar|\n",
            "|     3|balakumar|\n",
            "+------+---------+\n",
            "\n"
          ]
        }
      ]
    }
  ]
}