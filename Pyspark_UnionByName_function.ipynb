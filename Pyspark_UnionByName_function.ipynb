{
  "nbformat": 4,
  "nbformat_minor": 0,
  "metadata": {
    "colab": {
      "provenance": [],
      "authorship_tag": "ABX9TyM3q4iMetW07KXqmMAOaO6W",
      "include_colab_link": true
    },
    "kernelspec": {
      "name": "python3",
      "display_name": "Python 3"
    },
    "language_info": {
      "name": "python"
    }
  },
  "cells": [
    {
      "cell_type": "markdown",
      "metadata": {
        "id": "view-in-github",
        "colab_type": "text"
      },
      "source": [
        "<a href=\"https://colab.research.google.com/github/balakumar-dataengineer/testrepo/blob/master/Pyspark_UnionByName_function.ipynb\" target=\"_parent\"><img src=\"https://colab.research.google.com/assets/colab-badge.svg\" alt=\"Open In Colab\"/></a>"
      ]
    },
    {
      "cell_type": "code",
      "execution_count": 1,
      "metadata": {
        "colab": {
          "base_uri": "https://localhost:8080/"
        },
        "id": "c-m5Shc90jA6",
        "outputId": "ff672531-2e98-468a-cf5d-612868791b70"
      },
      "outputs": [
        {
          "output_type": "stream",
          "name": "stdout",
          "text": [
            "<pyspark.sql.session.SparkSession object at 0x781a9f7a6fd0>\n"
          ]
        }
      ],
      "source": [
        "from pyspark.sql import SparkSession\n",
        "\n",
        "spark=SparkSession.builder.appName('pyspark') \\\n",
        "                          .master('local') \\\n",
        "                          .getOrCreate()\n",
        "\n",
        "print(spark)\n"
      ]
    },
    {
      "cell_type": "code",
      "source": [
        "data1=[\n",
        "    (1,'bala',2000),\n",
        "    (2,'kumar',3000)\n",
        "]\n",
        "\n",
        "schema1=['id','name','salary']\n",
        "\n",
        "data2=[\n",
        "    (1,'balakumar','male'),\n",
        "    (2,'kumarbala','male')\n",
        "]\n",
        "\n",
        "schema2=['id','name','gender']\n",
        "\n",
        "df1=spark.createDataFrame(data1,schema1)\n",
        "df2=spark.createDataFrame(data2,schema2)\n",
        "\n",
        "df1.unionByName(df2,allowMissingColumns=True).show()"
      ],
      "metadata": {
        "colab": {
          "base_uri": "https://localhost:8080/"
        },
        "id": "3gosR3GD1Afm",
        "outputId": "88ea30bf-ac02-43ca-eb5f-833669d5aac6"
      },
      "execution_count": 11,
      "outputs": [
        {
          "output_type": "stream",
          "name": "stdout",
          "text": [
            "+---+---------+------+------+\n",
            "| id|     name|salary|gender|\n",
            "+---+---------+------+------+\n",
            "|  1|     bala|  2000|  NULL|\n",
            "|  2|    kumar|  3000|  NULL|\n",
            "|  1|balakumar|  NULL|  male|\n",
            "|  2|kumarbala|  NULL|  male|\n",
            "+---+---------+------+------+\n",
            "\n"
          ]
        }
      ]
    }
  ]
}