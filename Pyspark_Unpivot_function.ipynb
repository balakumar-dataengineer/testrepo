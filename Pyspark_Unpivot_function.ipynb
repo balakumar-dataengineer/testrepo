{
  "nbformat": 4,
  "nbformat_minor": 0,
  "metadata": {
    "colab": {
      "provenance": [],
      "authorship_tag": "ABX9TyN6P/CXc1FTbblhBYiKDQ8U",
      "include_colab_link": true
    },
    "kernelspec": {
      "name": "python3",
      "display_name": "Python 3"
    },
    "language_info": {
      "name": "python"
    }
  },
  "cells": [
    {
      "cell_type": "markdown",
      "metadata": {
        "id": "view-in-github",
        "colab_type": "text"
      },
      "source": [
        "<a href=\"https://colab.research.google.com/github/balakumar-dataengineer/testrepo/blob/master/Pyspark_Unpivot_function.ipynb\" target=\"_parent\"><img src=\"https://colab.research.google.com/assets/colab-badge.svg\" alt=\"Open In Colab\"/></a>"
      ]
    },
    {
      "cell_type": "code",
      "execution_count": 2,
      "metadata": {
        "colab": {
          "base_uri": "https://localhost:8080/"
        },
        "id": "rvor6A4tenfm",
        "outputId": "81e7c219-830d-4249-c6e3-5f2e2e5f16a7"
      },
      "outputs": [
        {
          "output_type": "stream",
          "name": "stdout",
          "text": [
            "<pyspark.sql.session.SparkSession object at 0x79f888543b90>\n"
          ]
        }
      ],
      "source": [
        "from pyspark.sql import SparkSession\n",
        "\n",
        "spark=SparkSession.builder.appName('pyspark') \\\n",
        "                          .master('local') \\\n",
        "                          .getOrCreate()\n",
        "\n",
        "print(spark)\n"
      ]
    },
    {
      "cell_type": "code",
      "source": [
        "data=[\n",
        "    ('IT',10,5,0),\n",
        "    ('Finance',4,6,1),\n",
        "    ('HR',6,3,2)\n",
        "]\n",
        "\n",
        "schema=['dep','male','female','unknown']\n",
        "\n",
        "df=spark.createDataFrame(data,schema)\n",
        "df.show()"
      ],
      "metadata": {
        "colab": {
          "base_uri": "https://localhost:8080/"
        },
        "id": "XtV9ngCGe-ZS",
        "outputId": "ee1b33c4-dc72-4383-cdf4-f5bd80505a2c"
      },
      "execution_count": 8,
      "outputs": [
        {
          "output_type": "stream",
          "name": "stdout",
          "text": [
            "+-------+----+------+-------+\n",
            "|    dep|male|female|unknown|\n",
            "+-------+----+------+-------+\n",
            "|     IT|  10|     5|      0|\n",
            "|Finance|   4|     6|      1|\n",
            "|     HR|   6|     3|      2|\n",
            "+-------+----+------+-------+\n",
            "\n"
          ]
        }
      ]
    },
    {
      "cell_type": "code",
      "source": [
        "from pyspark.sql.functions import expr\n",
        "\n",
        "df.select('dep',expr(\"stack(2,'M',male,'F',female)\").alias('gender','count')).show()"
      ],
      "metadata": {
        "colab": {
          "base_uri": "https://localhost:8080/"
        },
        "id": "ydxnzMI-fqo_",
        "outputId": "dd5c19e0-65fe-411d-d65f-0513682768fd"
      },
      "execution_count": 9,
      "outputs": [
        {
          "output_type": "stream",
          "name": "stdout",
          "text": [
            "+-------+------+-----+\n",
            "|    dep|gender|count|\n",
            "+-------+------+-----+\n",
            "|     IT|     M|   10|\n",
            "|     IT|     F|    5|\n",
            "|Finance|     M|    4|\n",
            "|Finance|     F|    6|\n",
            "|     HR|     M|    6|\n",
            "|     HR|     F|    3|\n",
            "+-------+------+-----+\n",
            "\n"
          ]
        }
      ]
    },
    {
      "cell_type": "code",
      "source": [
        "df.select('dep',expr(\"stack(3,'M',male,'F',female,'UN',unknown)\").alias('gender','count')).show()"
      ],
      "metadata": {
        "colab": {
          "base_uri": "https://localhost:8080/"
        },
        "id": "4MV92r2BgMWt",
        "outputId": "4f48b28a-3848-409b-b9f5-3f59f7e923c0"
      },
      "execution_count": 11,
      "outputs": [
        {
          "output_type": "stream",
          "name": "stdout",
          "text": [
            "+-------+------+-----+\n",
            "|    dep|gender|count|\n",
            "+-------+------+-----+\n",
            "|     IT|     M|   10|\n",
            "|     IT|     F|    5|\n",
            "|     IT|    UN|    0|\n",
            "|Finance|     M|    4|\n",
            "|Finance|     F|    6|\n",
            "|Finance|    UN|    1|\n",
            "|     HR|     M|    6|\n",
            "|     HR|     F|    3|\n",
            "|     HR|    UN|    2|\n",
            "+-------+------+-----+\n",
            "\n"
          ]
        }
      ]
    }
  ]
}