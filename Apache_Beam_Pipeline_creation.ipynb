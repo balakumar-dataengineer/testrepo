{
  "nbformat": 4,
  "nbformat_minor": 0,
  "metadata": {
    "colab": {
      "provenance": [],
      "authorship_tag": "ABX9TyPG50foaOWkpjVdA+mkjWuo",
      "include_colab_link": true
    },
    "kernelspec": {
      "name": "python3",
      "display_name": "Python 3"
    },
    "language_info": {
      "name": "python"
    }
  },
  "cells": [
    {
      "cell_type": "markdown",
      "metadata": {
        "id": "view-in-github",
        "colab_type": "text"
      },
      "source": [
        "<a href=\"https://colab.research.google.com/github/balakumar-dataengineer/testrepo/blob/master/Apache_Beam_Pipeline_creation.ipynb\" target=\"_parent\"><img src=\"https://colab.research.google.com/assets/colab-badge.svg\" alt=\"Open In Colab\"/></a>"
      ]
    },
    {
      "cell_type": "code",
      "source": [
        "import apache_beam as beam\n",
        "from apache_beam.options.pipeline_options import PipelineOptions"
      ],
      "metadata": {
        "id": "p622thKmDEvK"
      },
      "execution_count": 24,
      "outputs": []
    },
    {
      "cell_type": "code",
      "source": [
        "from google.colab import drive\n",
        "drive.mount('/content/drive')"
      ],
      "metadata": {
        "colab": {
          "base_uri": "https://localhost:8080/"
        },
        "id": "0PQohudXHN00",
        "outputId": "92d22644-63bf-4c2c-f51e-913aedfad25e"
      },
      "execution_count": 25,
      "outputs": [
        {
          "output_type": "stream",
          "name": "stdout",
          "text": [
            "Drive already mounted at /content/drive; to attempt to forcibly remount, call drive.mount(\"/content/drive\", force_remount=True).\n"
          ]
        },
        {
          "output_type": "execute_result",
          "data": {
            "text/plain": [
              "<PCollection[[25]: writetotext/Write/WriteImpl/FinalizeWrite.None] at 0x7ab5996bac50>"
            ]
          },
          "metadata": {},
          "execution_count": 25
        }
      ]
    },
    {
      "cell_type": "code",
      "source": [
        "pipeline=beam.Pipeline()\n",
        "\n",
        "def totalcst(value):\n",
        "  return value[0:4]+(value[4]*2, )\n",
        "\n",
        "p1=(pipeline|'readfromcsv' >> beam.io.ReadFromCsv('/content/drive/My Drive/Colab Notebooks/Testfiles/csv/csv1/*.csv')\n",
        "         |'totalcst' >> beam.Map(totalcst)\n",
        "   )\n",
        "\n",
        "(p1|'filter' >> beam.Filter(lambda x: x[4]>1000)\n",
        "   |'writetotext' >> beam.io.WriteToText('/content/drive/My Drive/Colab Notebooks/Testfiles/csv/csv1/output.txt')\n",
        ")\n",
        "\n",
        "\n",
        "(p1|'filter1' >> beam.Filter(lambda x: x[4]<1000)\n",
        "   |'writetotext1' >> beam.io.WriteToText('/content/drive/My Drive/Colab Notebooks/Testfiles/csv/csv1/output1.txt')\n",
        ")\n",
        "\n",
        "pipeline.run().wait_until_finish()\n"
      ],
      "metadata": {
        "colab": {
          "base_uri": "https://localhost:8080/",
          "height": 52
        },
        "id": "Jx1jlzEZaakS",
        "outputId": "4026468d-b61a-4e2e-b3a1-507288e534cb"
      },
      "execution_count": 58,
      "outputs": [
        {
          "output_type": "stream",
          "name": "stderr",
          "text": [
            "WARNING:apache_beam.io.filebasedsink:Deleting 1 existing files in target path matching: -*-of-%(num_shards)05d\n"
          ]
        },
        {
          "output_type": "execute_result",
          "data": {
            "text/plain": [
              "'DONE'"
            ],
            "application/vnd.google.colaboratory.intrinsic+json": {
              "type": "string"
            }
          },
          "metadata": {},
          "execution_count": 58
        }
      ]
    }
  ]
}