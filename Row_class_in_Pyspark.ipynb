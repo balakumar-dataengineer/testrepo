{
  "nbformat": 4,
  "nbformat_minor": 0,
  "metadata": {
    "colab": {
      "provenance": [],
      "authorship_tag": "ABX9TyPDquVhKUSYt7711QQwqyga",
      "include_colab_link": true
    },
    "kernelspec": {
      "name": "python3",
      "display_name": "Python 3"
    },
    "language_info": {
      "name": "python"
    }
  },
  "cells": [
    {
      "cell_type": "markdown",
      "metadata": {
        "id": "view-in-github",
        "colab_type": "text"
      },
      "source": [
        "<a href=\"https://colab.research.google.com/github/balakumar-dataengineer/testrepo/blob/master/Row_class_in_Pyspark.ipynb\" target=\"_parent\"><img src=\"https://colab.research.google.com/assets/colab-badge.svg\" alt=\"Open In Colab\"/></a>"
      ]
    },
    {
      "cell_type": "code",
      "execution_count": 1,
      "metadata": {
        "colab": {
          "base_uri": "https://localhost:8080/"
        },
        "id": "LYefC3DhplUl",
        "outputId": "56fdb078-43c0-4d5a-cc05-4b06473cb8b4"
      },
      "outputs": [
        {
          "output_type": "stream",
          "name": "stdout",
          "text": [
            "<pyspark.sql.session.SparkSession object at 0x7e44dafa2c50>\n"
          ]
        }
      ],
      "source": [
        "from pyspark.sql import SparkSession\n",
        "\n",
        "spark=SparkSession.builder.appName('Python') \\\n",
        "                          .master('local') \\\n",
        "                          .getOrCreate()\n",
        "\n",
        "print(spark)"
      ]
    },
    {
      "cell_type": "code",
      "source": [
        "from pyspark.sql import Row\n",
        "\n",
        "data=[\n",
        "    Row(name='bala',salary=10000),\n",
        "    Row(name='kumar',salary=20000)\n",
        "]\n",
        "\n",
        "df=spark.createDataFrame(data)\n",
        "df.show()\n",
        "df.printSchema()"
      ],
      "metadata": {
        "colab": {
          "base_uri": "https://localhost:8080/"
        },
        "id": "-HwFqOz9qDJe",
        "outputId": "9fc7747f-f178-4005-9b5d-815d34bd72c8"
      },
      "execution_count": 5,
      "outputs": [
        {
          "output_type": "stream",
          "name": "stdout",
          "text": [
            "+-----+------+\n",
            "| name|salary|\n",
            "+-----+------+\n",
            "| bala| 10000|\n",
            "|kumar| 20000|\n",
            "+-----+------+\n",
            "\n",
            "root\n",
            " |-- name: string (nullable = true)\n",
            " |-- salary: long (nullable = true)\n",
            "\n"
          ]
        }
      ]
    },
    {
      "cell_type": "code",
      "source": [
        "row1=Row(name='bala',age=25)\n",
        "\n",
        "print(row1[0]+','+str(row1[1]))\n",
        "print(row1.name+' '+str(row1.age))"
      ],
      "metadata": {
        "colab": {
          "base_uri": "https://localhost:8080/"
        },
        "id": "x_AGJ7QWqxA3",
        "outputId": "92e5ea28-e723-4346-e83f-9cbb7a2d3db7"
      },
      "execution_count": 13,
      "outputs": [
        {
          "output_type": "stream",
          "name": "stdout",
          "text": [
            "bala,25\n",
            "bala 25\n"
          ]
        }
      ]
    },
    {
      "cell_type": "code",
      "source": [
        "row3=Row('bala','25')\n",
        "\n",
        "print(row3[0]+','+row3[1])"
      ],
      "metadata": {
        "colab": {
          "base_uri": "https://localhost:8080/"
        },
        "id": "QVyELCogrjUf",
        "outputId": "549988b2-1d3b-4cc4-e00c-df903c928802"
      },
      "execution_count": 18,
      "outputs": [
        {
          "output_type": "stream",
          "name": "stdout",
          "text": [
            "bala,25\n"
          ]
        }
      ]
    },
    {
      "cell_type": "code",
      "source": [
        "employee=Row('name','salary')\n",
        "emp1=employee('bala',20000)\n",
        "emp2=employee('kumar',30000)\n",
        "\n",
        "print(emp1, emp2)\n",
        "\n",
        "print(emp2.salary)"
      ],
      "metadata": {
        "colab": {
          "base_uri": "https://localhost:8080/"
        },
        "id": "TzHl_DdCr1lK",
        "outputId": "42e26063-99f3-4e40-bb1f-77af7a90e899"
      },
      "execution_count": 24,
      "outputs": [
        {
          "output_type": "stream",
          "name": "stdout",
          "text": [
            "Row(name='bala', salary=20000) Row(name='kumar', salary=30000)\n",
            "30000\n"
          ]
        }
      ]
    },
    {
      "cell_type": "code",
      "source": [
        "df3=spark.createDataFrame([emp1,emp2])\n",
        "df3.show()\n",
        "df3.printSchema()"
      ],
      "metadata": {
        "colab": {
          "base_uri": "https://localhost:8080/"
        },
        "id": "f_8FN8ymsqtc",
        "outputId": "1ed38933-c247-465a-c747-f24d2125bda7"
      },
      "execution_count": 25,
      "outputs": [
        {
          "output_type": "stream",
          "name": "stdout",
          "text": [
            "+-----+------+\n",
            "| name|salary|\n",
            "+-----+------+\n",
            "| bala| 20000|\n",
            "|kumar| 30000|\n",
            "+-----+------+\n",
            "\n",
            "root\n",
            " |-- name: string (nullable = true)\n",
            " |-- salary: long (nullable = true)\n",
            "\n"
          ]
        }
      ]
    },
    {
      "cell_type": "code",
      "source": [
        "from pyspark.sql.functions import explode\n",
        "\n",
        "data1=[\n",
        "    Row(name='bala',prop=Row(hair='black',eye='blue')),\n",
        "    Row(name='kumar',prop=Row(hair='brown',eye='blue'))\n",
        "]\n",
        "\n",
        "df5=spark.createDataFrame(data1)\n",
        "df5.show()\n",
        "df5.printSchema()\n",
        "\n",
        "df5.select('name',df5.prop.hair.alias('hair'),df5.prop.eye.alias('eye')).show()"
      ],
      "metadata": {
        "colab": {
          "base_uri": "https://localhost:8080/"
        },
        "id": "orYVAfMLs45O",
        "outputId": "b32d3bf5-fe8f-4953-d6c3-d8f201e168c7"
      },
      "execution_count": 30,
      "outputs": [
        {
          "output_type": "stream",
          "name": "stdout",
          "text": [
            "+-----+-------------+\n",
            "| name|         prop|\n",
            "+-----+-------------+\n",
            "| bala|{black, blue}|\n",
            "|kumar|{brown, blue}|\n",
            "+-----+-------------+\n",
            "\n",
            "root\n",
            " |-- name: string (nullable = true)\n",
            " |-- prop: struct (nullable = true)\n",
            " |    |-- hair: string (nullable = true)\n",
            " |    |-- eye: string (nullable = true)\n",
            "\n",
            "+-----+-----+----+\n",
            "| name| hair| eye|\n",
            "+-----+-----+----+\n",
            "| bala|black|blue|\n",
            "|kumar|brown|blue|\n",
            "+-----+-----+----+\n",
            "\n"
          ]
        }
      ]
    }
  ]
}