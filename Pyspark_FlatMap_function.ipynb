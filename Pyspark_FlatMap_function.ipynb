{
  "nbformat": 4,
  "nbformat_minor": 0,
  "metadata": {
    "colab": {
      "provenance": [],
      "authorship_tag": "ABX9TyOJr4OTAOKJDOEHedAJMUF5",
      "include_colab_link": true
    },
    "kernelspec": {
      "name": "python3",
      "display_name": "Python 3"
    },
    "language_info": {
      "name": "python"
    }
  },
  "cells": [
    {
      "cell_type": "markdown",
      "metadata": {
        "id": "view-in-github",
        "colab_type": "text"
      },
      "source": [
        "<a href=\"https://colab.research.google.com/github/balakumar-dataengineer/testrepo/blob/master/Pyspark_FlatMap_function.ipynb\" target=\"_parent\"><img src=\"https://colab.research.google.com/assets/colab-badge.svg\" alt=\"Open In Colab\"/></a>"
      ]
    },
    {
      "cell_type": "code",
      "execution_count": 1,
      "metadata": {
        "colab": {
          "base_uri": "https://localhost:8080/"
        },
        "id": "ZG3cbEwKcDHq",
        "outputId": "109142d1-c8e6-46d5-c850-cfbf041bb1c0"
      },
      "outputs": [
        {
          "output_type": "stream",
          "name": "stdout",
          "text": [
            "<pyspark.sql.session.SparkSession object at 0x7f50381d6e90>\n"
          ]
        }
      ],
      "source": [
        "from pyspark.sql import SparkSession\n",
        "\n",
        "spark=SparkSession.builder.appName('pyspark') \\\n",
        "                          .master('local') \\\n",
        "                          .getOrCreate()\n",
        "\n",
        "print(spark)"
      ]
    },
    {
      "cell_type": "code",
      "source": [
        "data=['bala kumar','kumar bala']\n",
        "\n",
        "rdd=spark.sparkContext.parallelize(data)\n",
        "\n",
        "rdd.collect()\n",
        "\n",
        "for items in rdd.collect():\n",
        "  print(items)"
      ],
      "metadata": {
        "colab": {
          "base_uri": "https://localhost:8080/"
        },
        "id": "WgzxD1NScS46",
        "outputId": "c74dfc46-49e2-4871-e647-525e98665302"
      },
      "execution_count": 3,
      "outputs": [
        {
          "output_type": "stream",
          "name": "stdout",
          "text": [
            "bala kumar\n",
            "kumar bala\n"
          ]
        }
      ]
    },
    {
      "cell_type": "code",
      "source": [
        "rdd1=rdd.flatMap(lambda x:x.split(' '))\n",
        "print(rdd1.collect())\n",
        "\n",
        "for items in rdd1.collect():\n",
        "  print(items)"
      ],
      "metadata": {
        "colab": {
          "base_uri": "https://localhost:8080/"
        },
        "id": "Fyw30Sugcpce",
        "outputId": "3950da9b-91ba-41a8-f960-f2d09329788d"
      },
      "execution_count": 9,
      "outputs": [
        {
          "output_type": "stream",
          "name": "stdout",
          "text": [
            "['bala', 'kumar', 'kumar', 'bala']\n",
            "bala\n",
            "kumar\n",
            "kumar\n",
            "bala\n"
          ]
        }
      ]
    },
    {
      "cell_type": "code",
      "source": [
        "rdd2=rdd.map(lambda x:x.split(' '))\n",
        "print(rdd2.collect())\n",
        "\n",
        "for items in rdd2.collect():\n",
        "  print(items)"
      ],
      "metadata": {
        "colab": {
          "base_uri": "https://localhost:8080/"
        },
        "id": "epqqx981dNY_",
        "outputId": "f58ad555-dc23-4f0b-990c-a69b2842fa6c"
      },
      "execution_count": 10,
      "outputs": [
        {
          "output_type": "stream",
          "name": "stdout",
          "text": [
            "[['bala', 'kumar'], ['kumar', 'bala']]\n",
            "['bala', 'kumar']\n",
            "['kumar', 'bala']\n"
          ]
        }
      ]
    }
  ]
}