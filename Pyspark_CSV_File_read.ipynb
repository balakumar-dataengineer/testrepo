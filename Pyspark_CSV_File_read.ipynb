{
  "nbformat": 4,
  "nbformat_minor": 0,
  "metadata": {
    "colab": {
      "provenance": [],
      "authorship_tag": "ABX9TyNqfJOJr+cIvKFjQmITUOtQ",
      "include_colab_link": true
    },
    "kernelspec": {
      "name": "python3",
      "display_name": "Python 3"
    },
    "language_info": {
      "name": "python"
    }
  },
  "cells": [
    {
      "cell_type": "markdown",
      "metadata": {
        "id": "view-in-github",
        "colab_type": "text"
      },
      "source": [
        "<a href=\"https://colab.research.google.com/github/balakumar-dataengineer/testrepo/blob/master/Pyspark_CSV_File_read.ipynb\" target=\"_parent\"><img src=\"https://colab.research.google.com/assets/colab-badge.svg\" alt=\"Open In Colab\"/></a>"
      ]
    },
    {
      "cell_type": "code",
      "execution_count": 1,
      "metadata": {
        "colab": {
          "base_uri": "https://localhost:8080/"
        },
        "id": "FMETRAvvjPvO",
        "outputId": "2bfae374-b7f1-42ea-cb47-1cb60bde0f4a"
      },
      "outputs": [
        {
          "output_type": "stream",
          "name": "stdout",
          "text": [
            "<pyspark.sql.session.SparkSession object at 0x7f65d4377c50>\n"
          ]
        }
      ],
      "source": [
        "from pyspark.sql import SparkSession\n",
        "from pyspark.sql.functions import desc\n",
        "\n",
        "spark=SparkSession.builder \\\n",
        "                  .appName('Pyspark') \\\n",
        "                  .master('local') \\\n",
        "                  .getOrCreate()\n",
        "\n",
        "print(spark)"
      ]
    },
    {
      "cell_type": "code",
      "source": [
        "from google.colab import drive\n",
        "drive.mount('/content/drive')\n",
        "\n",
        "df = spark.read.csv(path='/content/drive/My Drive/Colab Notebooks/Testfiles/csv/csv1/balakumar.csv',header=True, inferSchema=True)\n",
        "\n",
        "df.show()\n",
        "\n",
        "df.printSchema()\n",
        "\n",
        "df.count()\n",
        "\n",
        "df.select('restaurant','totalCost')\n",
        "df.groupBy('restaurant').sum('totalCost').orderBy('sum(totalCost)').show()\n",
        "df.groupBy('restaurant').sum('totalCost').withColumnRenamed('sum(totalCost)','totalCost').orderBy(desc('totalCost')).show()"
      ],
      "metadata": {
        "colab": {
          "base_uri": "https://localhost:8080/"
        },
        "id": "pZFUweJqkJL1",
        "outputId": "be57650a-4e79-4eb2-c6d8-abc785f63a0e"
      },
      "execution_count": 4,
      "outputs": [
        {
          "output_type": "stream",
          "name": "stdout",
          "text": [
            "Mounted at /content/drive\n",
            "+----------+-----------+-------------------+--------------------+---------+\n",
            "|   orderId|orderStatus|          orderTime|          restaurant|totalCost|\n",
            "+----------+-----------+-------------------+--------------------+---------+\n",
            "|1.59373E14|  Delivered|2023-11-19 19:40:53|      Domino's Pizza|      278|\n",
            "|1.59351E14|  Delivered|2023-11-19 13:45:31|A2B - Adyar Anand...|      227|\n",
            "|1.56328E14|  Delivered|2023-10-15 13:51:36|A2B - Adyar Anand...|      229|\n",
            "|1.55747E14|  Delivered|2023-10-08 20:28:10|Dindigul Thalappa...|      187|\n",
            "|1.55721E14|  Delivered|2023-10-08 13:17:31|A2B - Adyar Anand...|      191|\n",
            "|1.55636E14|  Delivered|2023-10-07 13:47:25|A2B - Adyar Anand...|      256|\n",
            "|1.73092E11|  Delivered|2023-07-22 14:36:33|A2B - Adyar Anand...|      180|\n",
            "|1.72593E11|  Delivered|2023-07-16 20:07:57|      Domino's Pizza|      578|\n",
            "|1.72572E11|  Delivered|2023-07-16 14:11:50|A2B - Adyar Anand...|      361|\n",
            "|1.70174E11|  Delivered|2023-06-18 20:03:44|            Anjappar|      218|\n",
            "|1.68943E11|  Delivered|2023-06-04 14:07:04|A2B - Adyar Anand...|      250|\n",
            "|1.68862E11|  Delivered|2023-06-03 15:37:22|      Domino's Pizza|      208|\n",
            "|1.68339E11|  Delivered|2023-05-28 14:17:02|A2B - Adyar Anand...|      241|\n",
            "|1.66009E11|  Delivered|2023-05-01 15:04:37|      Domino's Pizza|      214|\n",
            "|1.65835E11|  Delivered|2023-04-29 14:39:33|A2B - Adyar Anand...|      200|\n",
            "|1.64559E11|  Delivered|2023-04-14 20:16:18|      Domino's Pizza|      187|\n",
            "|1.59871E11|  Delivered|2023-02-19 14:10:04|A2B - Adyar Anand...|      162|\n",
            "|1.59693E11|  Delivered|2023-02-17 12:41:04|A2B - Adyar Anand...|     1239|\n",
            "| 1.5921E11|  Delivered|2023-02-11 22:26:45|Dindigul Thalappa...|      172|\n",
            "|1.58681E11|  Delivered|2023-02-05 19:29:24|Dindigul Thalappa...|      220|\n",
            "+----------+-----------+-------------------+--------------------+---------+\n",
            "only showing top 20 rows\n",
            "\n",
            "root\n",
            " |-- orderId: double (nullable = true)\n",
            " |-- orderStatus: string (nullable = true)\n",
            " |-- orderTime: timestamp (nullable = true)\n",
            " |-- restaurant: string (nullable = true)\n",
            " |-- totalCost: integer (nullable = true)\n",
            "\n",
            "+--------------------+--------------+\n",
            "|          restaurant|sum(totalCost)|\n",
            "+--------------------+--------------+\n",
            "|     Junior Kuppanna|           185|\n",
            "|            Anjappar|           218|\n",
            "|Namma Veedu Vasan...|           304|\n",
            "|          Chai Kings|           364|\n",
            "|Dindigul Thalappa...|          1027|\n",
            "|      Domino's Pizza|          1465|\n",
            "|A2B - Adyar Anand...|          3536|\n",
            "+--------------------+--------------+\n",
            "\n",
            "+--------------------+---------+\n",
            "|          restaurant|totalCost|\n",
            "+--------------------+---------+\n",
            "|A2B - Adyar Anand...|     3536|\n",
            "|      Domino's Pizza|     1465|\n",
            "|Dindigul Thalappa...|     1027|\n",
            "|          Chai Kings|      364|\n",
            "|Namma Veedu Vasan...|      304|\n",
            "|            Anjappar|      218|\n",
            "|     Junior Kuppanna|      185|\n",
            "+--------------------+---------+\n",
            "\n"
          ]
        }
      ]
    },
    {
      "cell_type": "code",
      "source": [
        "df2=spark.read.csv(path=['/content/drive/My Drive/Colab Notebooks/Testfiles/csv/csv2/balakumar-1.csv','/content/drive/My Drive/Colab Notebooks/Testfiles/csv/csv2/balakumar-1.csv'],header=True)\n",
        "\n",
        "df2.show(100)\n",
        "\n",
        "df2.count()"
      ],
      "metadata": {
        "colab": {
          "base_uri": "https://localhost:8080/"
        },
        "id": "uPqXhYQFqvtV",
        "outputId": "38b024e7-79ce-4960-c809-1415e7c1517c"
      },
      "execution_count": 14,
      "outputs": [
        {
          "output_type": "stream",
          "name": "stdout",
          "text": [
            "+-----------+-----------+-------------------+--------------------+---------+\n",
            "|    orderId|orderStatus|          orderTime|          restaurant|totalCost|\n",
            "+-----------+-----------+-------------------+--------------------+---------+\n",
            "|1.59373E+14|  Delivered|2023-11-19 19:40:53|      Domino's Pizza|      278|\n",
            "|1.59351E+14|  Delivered|2023-11-19 13:45:31|A2B - Adyar Anand...|      227|\n",
            "|1.56328E+14|  Delivered|2023-10-15 13:51:36|A2B - Adyar Anand...|      229|\n",
            "|1.55747E+14|  Delivered|2023-10-08 20:28:10|Dindigul Thalappa...|      187|\n",
            "|1.55721E+14|  Delivered|2023-10-08 13:17:31|A2B - Adyar Anand...|      191|\n",
            "|1.55636E+14|  Delivered|2023-10-07 13:47:25|A2B - Adyar Anand...|      256|\n",
            "|1.73092E+11|  Delivered|2023-07-22 14:36:33|A2B - Adyar Anand...|      180|\n",
            "|1.72593E+11|  Delivered|2023-07-16 20:07:57|      Domino's Pizza|      578|\n",
            "|1.72572E+11|  Delivered|2023-07-16 14:11:50|A2B - Adyar Anand...|      361|\n",
            "|1.70174E+11|  Delivered|2023-06-18 20:03:44|            Anjappar|      218|\n",
            "|1.68943E+11|  Delivered|2023-06-04 14:07:04|A2B - Adyar Anand...|      250|\n",
            "|1.68862E+11|  Delivered|2023-06-03 15:37:22|      Domino's Pizza|      208|\n",
            "|1.68339E+11|  Delivered|2023-05-28 14:17:02|A2B - Adyar Anand...|      241|\n",
            "|1.66009E+11|  Delivered|2023-05-01 15:04:37|      Domino's Pizza|      214|\n",
            "|1.65835E+11|  Delivered|2023-04-29 14:39:33|A2B - Adyar Anand...|      200|\n",
            "|1.64559E+11|  Delivered|2023-04-14 20:16:18|      Domino's Pizza|      187|\n",
            "|1.59871E+11|  Delivered|2023-02-19 14:10:04|A2B - Adyar Anand...|      162|\n",
            "|1.59693E+11|  Delivered|2023-02-17 12:41:04|A2B - Adyar Anand...|     1239|\n",
            "| 1.5921E+11|  Delivered|2023-02-11 22:26:45|Dindigul Thalappa...|      172|\n",
            "|1.58681E+11|  Delivered|2023-02-05 19:29:24|Dindigul Thalappa...|      220|\n",
            "|1.58569E+11|  Delivered|2023-02-04 12:21:30|     Junior Kuppanna|      185|\n",
            "|1.58512E+11|  Delivered|2023-02-03 20:38:34|Dindigul Thalappa...|      165|\n",
            "|1.58057E+11|  Delivered|2023-01-29 14:20:32|Namma Veedu Vasan...|      152|\n",
            "|1.58011E+11|  Delivered|2023-01-29 01:28:50|          Chai Kings|      178|\n",
            "|1.57974E+11|  Delivered|2023-01-28 15:09:30|Dindigul Thalappa...|      283|\n",
            "|1.57882E+11|  Delivered|2023-01-27 13:41:00|Namma Veedu Vasan...|      152|\n",
            "|1.57665E+11|  Delivered|2023-01-25 01:20:34|          Chai Kings|      186|\n",
            "|1.59373E+14|  Delivered|2023-11-19 19:40:53|      Domino's Pizza|      278|\n",
            "|1.59351E+14|  Delivered|2023-11-19 13:45:31|A2B - Adyar Anand...|      227|\n",
            "|1.56328E+14|  Delivered|2023-10-15 13:51:36|A2B - Adyar Anand...|      229|\n",
            "|1.55747E+14|  Delivered|2023-10-08 20:28:10|Dindigul Thalappa...|      187|\n",
            "|1.55721E+14|  Delivered|2023-10-08 13:17:31|A2B - Adyar Anand...|      191|\n",
            "|1.55636E+14|  Delivered|2023-10-07 13:47:25|A2B - Adyar Anand...|      256|\n",
            "|1.73092E+11|  Delivered|2023-07-22 14:36:33|A2B - Adyar Anand...|      180|\n",
            "|1.72593E+11|  Delivered|2023-07-16 20:07:57|      Domino's Pizza|      578|\n",
            "|1.72572E+11|  Delivered|2023-07-16 14:11:50|A2B - Adyar Anand...|      361|\n",
            "|1.70174E+11|  Delivered|2023-06-18 20:03:44|            Anjappar|      218|\n",
            "|1.68943E+11|  Delivered|2023-06-04 14:07:04|A2B - Adyar Anand...|      250|\n",
            "|1.68862E+11|  Delivered|2023-06-03 15:37:22|      Domino's Pizza|      208|\n",
            "|1.68339E+11|  Delivered|2023-05-28 14:17:02|A2B - Adyar Anand...|      241|\n",
            "|1.66009E+11|  Delivered|2023-05-01 15:04:37|      Domino's Pizza|      214|\n",
            "|1.65835E+11|  Delivered|2023-04-29 14:39:33|A2B - Adyar Anand...|      200|\n",
            "|1.64559E+11|  Delivered|2023-04-14 20:16:18|      Domino's Pizza|      187|\n",
            "|1.59871E+11|  Delivered|2023-02-19 14:10:04|A2B - Adyar Anand...|      162|\n",
            "|1.59693E+11|  Delivered|2023-02-17 12:41:04|A2B - Adyar Anand...|     1239|\n",
            "| 1.5921E+11|  Delivered|2023-02-11 22:26:45|Dindigul Thalappa...|      172|\n",
            "|1.58681E+11|  Delivered|2023-02-05 19:29:24|Dindigul Thalappa...|      220|\n",
            "|1.58569E+11|  Delivered|2023-02-04 12:21:30|     Junior Kuppanna|      185|\n",
            "|1.58512E+11|  Delivered|2023-02-03 20:38:34|Dindigul Thalappa...|      165|\n",
            "|1.58057E+11|  Delivered|2023-01-29 14:20:32|Namma Veedu Vasan...|      152|\n",
            "|1.58011E+11|  Delivered|2023-01-29 01:28:50|          Chai Kings|      178|\n",
            "|1.57974E+11|  Delivered|2023-01-28 15:09:30|Dindigul Thalappa...|      283|\n",
            "|1.57882E+11|  Delivered|2023-01-27 13:41:00|Namma Veedu Vasan...|      152|\n",
            "|1.57665E+11|  Delivered|2023-01-25 01:20:34|          Chai Kings|      186|\n",
            "+-----------+-----------+-------------------+--------------------+---------+\n",
            "\n"
          ]
        },
        {
          "output_type": "execute_result",
          "data": {
            "text/plain": [
              "54"
            ]
          },
          "metadata": {},
          "execution_count": 14
        }
      ]
    },
    {
      "cell_type": "code",
      "source": [
        "df2.describe().show()"
      ],
      "metadata": {
        "colab": {
          "base_uri": "https://localhost:8080/"
        },
        "id": "3e6oBMxSyzBH",
        "outputId": "24dfe9bb-8990-4eb4-96ab-62ed00ab301a"
      },
      "execution_count": 15,
      "outputs": [
        {
          "output_type": "stream",
          "name": "stdout",
          "text": [
            "+-------+--------------------+-----------+-------------------+--------------------+-----------------+\n",
            "|summary|             orderId|orderStatus|          orderTime|          restaurant|        totalCost|\n",
            "+-------+--------------------+-----------+-------------------+--------------------+-----------------+\n",
            "|  count|                  54|         54|                 54|                  54|               54|\n",
            "|   mean|3.502189270370370...|       NULL|               NULL|                NULL|262.9259259259259|\n",
            "| stddev|6.583106816039398E13|       NULL|               NULL|                NULL|210.4840649059096|\n",
            "|    min|         1.55636E+14|  Delivered|2023-01-25 01:20:34|A2B - Adyar Anand...|             1239|\n",
            "|    max|         1.73092E+11|  Delivered|2023-11-19 19:40:53|Namma Veedu Vasan...|              578|\n",
            "+-------+--------------------+-----------+-------------------+--------------------+-----------------+\n",
            "\n"
          ]
        }
      ]
    },
    {
      "cell_type": "code",
      "source": [
        "df2.show(truncate=False)"
      ],
      "metadata": {
        "colab": {
          "base_uri": "https://localhost:8080/"
        },
        "id": "6vacbnoAy-bc",
        "outputId": "04661816-995c-4313-f239-1ab62d2195f9"
      },
      "execution_count": 55,
      "outputs": [
        {
          "output_type": "stream",
          "name": "stdout",
          "text": [
            "+-----------+-----------+-------------------+-------------------------+---------+\n",
            "|orderId    |orderStatus|orderTime          |restaurant               |totalCost|\n",
            "+-----------+-----------+-------------------+-------------------------+---------+\n",
            "|1.59373E+14|Delivered  |2023-11-19 19:40:53|Domino's Pizza           |278      |\n",
            "|1.59351E+14|Delivered  |2023-11-19 13:45:31|A2B - Adyar Ananda Bhavan|227      |\n",
            "|1.56328E+14|Delivered  |2023-10-15 13:51:36|A2B - Adyar Ananda Bhavan|229      |\n",
            "|1.55747E+14|Delivered  |2023-10-08 20:28:10|Dindigul Thalappakatti   |187      |\n",
            "|1.55721E+14|Delivered  |2023-10-08 13:17:31|A2B - Adyar Ananda Bhavan|191      |\n",
            "|1.55636E+14|Delivered  |2023-10-07 13:47:25|A2B - Adyar Ananda Bhavan|256      |\n",
            "|1.73092E+11|Delivered  |2023-07-22 14:36:33|A2B - Adyar Ananda Bhavan|180      |\n",
            "|1.72593E+11|Delivered  |2023-07-16 20:07:57|Domino's Pizza           |578      |\n",
            "|1.72572E+11|Delivered  |2023-07-16 14:11:50|A2B - Adyar Ananda Bhavan|361      |\n",
            "|1.70174E+11|Delivered  |2023-06-18 20:03:44|Anjappar                 |218      |\n",
            "|1.68943E+11|Delivered  |2023-06-04 14:07:04|A2B - Adyar Ananda Bhavan|250      |\n",
            "|1.68862E+11|Delivered  |2023-06-03 15:37:22|Domino's Pizza           |208      |\n",
            "|1.68339E+11|Delivered  |2023-05-28 14:17:02|A2B - Adyar Ananda Bhavan|241      |\n",
            "|1.66009E+11|Delivered  |2023-05-01 15:04:37|Domino's Pizza           |214      |\n",
            "|1.65835E+11|Delivered  |2023-04-29 14:39:33|A2B - Adyar Ananda Bhavan|200      |\n",
            "|1.64559E+11|Delivered  |2023-04-14 20:16:18|Domino's Pizza           |187      |\n",
            "|1.59871E+11|Delivered  |2023-02-19 14:10:04|A2B - Adyar Ananda Bhavan|162      |\n",
            "|1.59693E+11|Delivered  |2023-02-17 12:41:04|A2B - Adyar Ananda Bhavan|1239     |\n",
            "|1.5921E+11 |Delivered  |2023-02-11 22:26:45|Dindigul Thalappakatti   |172      |\n",
            "|1.58681E+11|Delivered  |2023-02-05 19:29:24|Dindigul Thalappakatti   |220      |\n",
            "+-----------+-----------+-------------------+-------------------------+---------+\n",
            "only showing top 20 rows\n",
            "\n"
          ]
        }
      ]
    },
    {
      "cell_type": "code",
      "source": [
        "df2.distinct().count()"
      ],
      "metadata": {
        "colab": {
          "base_uri": "https://localhost:8080/"
        },
        "id": "qoUX1P8IzfOf",
        "outputId": "be3ef96f-85d5-49c2-913b-69a255b2b137"
      },
      "execution_count": 56,
      "outputs": [
        {
          "output_type": "execute_result",
          "data": {
            "text/plain": [
              "27"
            ]
          },
          "metadata": {},
          "execution_count": 56
        }
      ]
    },
    {
      "cell_type": "code",
      "source": [
        "df2.distinct().show(100)"
      ],
      "metadata": {
        "colab": {
          "base_uri": "https://localhost:8080/"
        },
        "id": "Bgiea1xpzjV1",
        "outputId": "3fe3b236-5baf-451b-b209-8e3ea707272e"
      },
      "execution_count": 60,
      "outputs": [
        {
          "output_type": "stream",
          "name": "stdout",
          "text": [
            "+-----------+-----------+-------------------+--------------------+---------+\n",
            "|    orderId|orderStatus|          orderTime|          restaurant|totalCost|\n",
            "+-----------+-----------+-------------------+--------------------+---------+\n",
            "|1.64559E+11|  Delivered|2023-04-14 20:16:18|      Domino's Pizza|      187|\n",
            "|1.73092E+11|  Delivered|2023-07-22 14:36:33|A2B - Adyar Anand...|      180|\n",
            "|1.59373E+14|  Delivered|2023-11-19 19:40:53|      Domino's Pizza|      278|\n",
            "|1.68862E+11|  Delivered|2023-06-03 15:37:22|      Domino's Pizza|      208|\n",
            "|1.55721E+14|  Delivered|2023-10-08 13:17:31|A2B - Adyar Anand...|      191|\n",
            "|1.68339E+11|  Delivered|2023-05-28 14:17:02|A2B - Adyar Anand...|      241|\n",
            "|1.58011E+11|  Delivered|2023-01-29 01:28:50|          Chai Kings|      178|\n",
            "|1.59871E+11|  Delivered|2023-02-19 14:10:04|A2B - Adyar Anand...|      162|\n",
            "|1.70174E+11|  Delivered|2023-06-18 20:03:44|            Anjappar|      218|\n",
            "|1.65835E+11|  Delivered|2023-04-29 14:39:33|A2B - Adyar Anand...|      200|\n",
            "|1.59351E+14|  Delivered|2023-11-19 13:45:31|A2B - Adyar Anand...|      227|\n",
            "|1.55636E+14|  Delivered|2023-10-07 13:47:25|A2B - Adyar Anand...|      256|\n",
            "|1.58569E+11|  Delivered|2023-02-04 12:21:30|     Junior Kuppanna|      185|\n",
            "|1.72572E+11|  Delivered|2023-07-16 14:11:50|A2B - Adyar Anand...|      361|\n",
            "|1.57882E+11|  Delivered|2023-01-27 13:41:00|Namma Veedu Vasan...|      152|\n",
            "|1.57665E+11|  Delivered|2023-01-25 01:20:34|          Chai Kings|      186|\n",
            "|1.57974E+11|  Delivered|2023-01-28 15:09:30|Dindigul Thalappa...|      283|\n",
            "|1.59693E+11|  Delivered|2023-02-17 12:41:04|A2B - Adyar Anand...|     1239|\n",
            "|1.72593E+11|  Delivered|2023-07-16 20:07:57|      Domino's Pizza|      578|\n",
            "|1.56328E+14|  Delivered|2023-10-15 13:51:36|A2B - Adyar Anand...|      229|\n",
            "|1.68943E+11|  Delivered|2023-06-04 14:07:04|A2B - Adyar Anand...|      250|\n",
            "|1.66009E+11|  Delivered|2023-05-01 15:04:37|      Domino's Pizza|      214|\n",
            "| 1.5921E+11|  Delivered|2023-02-11 22:26:45|Dindigul Thalappa...|      172|\n",
            "|1.58057E+11|  Delivered|2023-01-29 14:20:32|Namma Veedu Vasan...|      152|\n",
            "|1.55747E+14|  Delivered|2023-10-08 20:28:10|Dindigul Thalappa...|      187|\n",
            "|1.58512E+11|  Delivered|2023-02-03 20:38:34|Dindigul Thalappa...|      165|\n",
            "|1.58681E+11|  Delivered|2023-02-05 19:29:24|Dindigul Thalappa...|      220|\n",
            "+-----------+-----------+-------------------+--------------------+---------+\n",
            "\n"
          ]
        }
      ]
    },
    {
      "cell_type": "code",
      "source": [
        "from pyspark.sql.functions import month,col\n",
        "\n",
        "df2.withColumn('ordermonth',month(col('orderTime'))).show()"
      ],
      "metadata": {
        "colab": {
          "base_uri": "https://localhost:8080/"
        },
        "id": "5Kb5-_rPzvlk",
        "outputId": "da160ed8-bbd4-4690-c16d-e0bef81f185d"
      },
      "execution_count": 17,
      "outputs": [
        {
          "output_type": "stream",
          "name": "stdout",
          "text": [
            "+-----------+-----------+-------------------+--------------------+---------+----------+\n",
            "|    orderId|orderStatus|          orderTime|          restaurant|totalCost|ordermonth|\n",
            "+-----------+-----------+-------------------+--------------------+---------+----------+\n",
            "|1.59373E+14|  Delivered|2023-11-19 19:40:53|      Domino's Pizza|      278|        11|\n",
            "|1.59351E+14|  Delivered|2023-11-19 13:45:31|A2B - Adyar Anand...|      227|        11|\n",
            "|1.56328E+14|  Delivered|2023-10-15 13:51:36|A2B - Adyar Anand...|      229|        10|\n",
            "|1.55747E+14|  Delivered|2023-10-08 20:28:10|Dindigul Thalappa...|      187|        10|\n",
            "|1.55721E+14|  Delivered|2023-10-08 13:17:31|A2B - Adyar Anand...|      191|        10|\n",
            "|1.55636E+14|  Delivered|2023-10-07 13:47:25|A2B - Adyar Anand...|      256|        10|\n",
            "|1.73092E+11|  Delivered|2023-07-22 14:36:33|A2B - Adyar Anand...|      180|         7|\n",
            "|1.72593E+11|  Delivered|2023-07-16 20:07:57|      Domino's Pizza|      578|         7|\n",
            "|1.72572E+11|  Delivered|2023-07-16 14:11:50|A2B - Adyar Anand...|      361|         7|\n",
            "|1.70174E+11|  Delivered|2023-06-18 20:03:44|            Anjappar|      218|         6|\n",
            "|1.68943E+11|  Delivered|2023-06-04 14:07:04|A2B - Adyar Anand...|      250|         6|\n",
            "|1.68862E+11|  Delivered|2023-06-03 15:37:22|      Domino's Pizza|      208|         6|\n",
            "|1.68339E+11|  Delivered|2023-05-28 14:17:02|A2B - Adyar Anand...|      241|         5|\n",
            "|1.66009E+11|  Delivered|2023-05-01 15:04:37|      Domino's Pizza|      214|         5|\n",
            "|1.65835E+11|  Delivered|2023-04-29 14:39:33|A2B - Adyar Anand...|      200|         4|\n",
            "|1.64559E+11|  Delivered|2023-04-14 20:16:18|      Domino's Pizza|      187|         4|\n",
            "|1.59871E+11|  Delivered|2023-02-19 14:10:04|A2B - Adyar Anand...|      162|         2|\n",
            "|1.59693E+11|  Delivered|2023-02-17 12:41:04|A2B - Adyar Anand...|     1239|         2|\n",
            "| 1.5921E+11|  Delivered|2023-02-11 22:26:45|Dindigul Thalappa...|      172|         2|\n",
            "|1.58681E+11|  Delivered|2023-02-05 19:29:24|Dindigul Thalappa...|      220|         2|\n",
            "+-----------+-----------+-------------------+--------------------+---------+----------+\n",
            "only showing top 20 rows\n",
            "\n"
          ]
        }
      ]
    },
    {
      "cell_type": "code",
      "source": [
        "df4=spark.read.format('csv') \\\n",
        "             .options(header=True) \\\n",
        "             .options(inferSchema=True) \\\n",
        "             .load('/content/drive/My Drive/Colab Notebooks/Testfiles/csv/csv1/')\n",
        "\n",
        "df4.show()\n",
        "df4.printSchema()\n",
        "df4.count()"
      ],
      "metadata": {
        "colab": {
          "base_uri": "https://localhost:8080/"
        },
        "id": "rSuCgNVR3S6Q",
        "outputId": "057eec0a-2e28-4b38-ea73-d14419a3c278"
      },
      "execution_count": 47,
      "outputs": [
        {
          "output_type": "stream",
          "name": "stdout",
          "text": [
            "+----------+-----------+-------------------+--------------------+---------+\n",
            "|   orderId|orderStatus|          orderTime|          restaurant|totalCost|\n",
            "+----------+-----------+-------------------+--------------------+---------+\n",
            "|1.59373E14|  Delivered|2023-11-19 19:40:53|      Domino's Pizza|      278|\n",
            "|1.59351E14|  Delivered|2023-11-19 13:45:31|A2B - Adyar Anand...|      227|\n",
            "|1.56328E14|  Delivered|2023-10-15 13:51:36|A2B - Adyar Anand...|      229|\n",
            "|1.55747E14|  Delivered|2023-10-08 20:28:10|Dindigul Thalappa...|      187|\n",
            "|1.55721E14|  Delivered|2023-10-08 13:17:31|A2B - Adyar Anand...|      191|\n",
            "|1.55636E14|  Delivered|2023-10-07 13:47:25|A2B - Adyar Anand...|      256|\n",
            "|1.73092E11|  Delivered|2023-07-22 14:36:33|A2B - Adyar Anand...|      180|\n",
            "|1.72593E11|  Delivered|2023-07-16 20:07:57|      Domino's Pizza|      578|\n",
            "|1.72572E11|  Delivered|2023-07-16 14:11:50|A2B - Adyar Anand...|      361|\n",
            "|1.70174E11|  Delivered|2023-06-18 20:03:44|            Anjappar|      218|\n",
            "|1.68943E11|  Delivered|2023-06-04 14:07:04|A2B - Adyar Anand...|      250|\n",
            "|1.68862E11|  Delivered|2023-06-03 15:37:22|      Domino's Pizza|      208|\n",
            "|1.68339E11|  Delivered|2023-05-28 14:17:02|A2B - Adyar Anand...|      241|\n",
            "|1.66009E11|  Delivered|2023-05-01 15:04:37|      Domino's Pizza|      214|\n",
            "|1.65835E11|  Delivered|2023-04-29 14:39:33|A2B - Adyar Anand...|      200|\n",
            "|1.64559E11|  Delivered|2023-04-14 20:16:18|      Domino's Pizza|      187|\n",
            "|1.59871E11|  Delivered|2023-02-19 14:10:04|A2B - Adyar Anand...|      162|\n",
            "|1.59693E11|  Delivered|2023-02-17 12:41:04|A2B - Adyar Anand...|     1239|\n",
            "| 1.5921E11|  Delivered|2023-02-11 22:26:45|Dindigul Thalappa...|      172|\n",
            "|1.58681E11|  Delivered|2023-02-05 19:29:24|Dindigul Thalappa...|      220|\n",
            "+----------+-----------+-------------------+--------------------+---------+\n",
            "only showing top 20 rows\n",
            "\n",
            "root\n",
            " |-- orderId: double (nullable = true)\n",
            " |-- orderStatus: string (nullable = true)\n",
            " |-- orderTime: timestamp (nullable = true)\n",
            " |-- restaurant: string (nullable = true)\n",
            " |-- totalCost: integer (nullable = true)\n",
            "\n"
          ]
        },
        {
          "output_type": "execute_result",
          "data": {
            "text/plain": [
              "54"
            ]
          },
          "metadata": {},
          "execution_count": 47
        }
      ]
    },
    {
      "cell_type": "code",
      "source": [
        "df4.withColumn('total_cost_3_times',df4['totalCost']*3).show()"
      ],
      "metadata": {
        "colab": {
          "base_uri": "https://localhost:8080/"
        },
        "id": "-huP94Vn5_hl",
        "outputId": "6197517d-9af1-4834-8343-b6624fb8a4dc"
      },
      "execution_count": 19,
      "outputs": [
        {
          "output_type": "stream",
          "name": "stdout",
          "text": [
            "+----------+-----------+-------------------+--------------------+---------+------------------+\n",
            "|   orderId|orderStatus|          orderTime|          restaurant|totalCost|total_cost_3_times|\n",
            "+----------+-----------+-------------------+--------------------+---------+------------------+\n",
            "|1.59373E14|  Delivered|2023-11-19 19:40:53|      Domino's Pizza|      278|               834|\n",
            "|1.59351E14|  Delivered|2023-11-19 13:45:31|A2B - Adyar Anand...|      227|               681|\n",
            "|1.56328E14|  Delivered|2023-10-15 13:51:36|A2B - Adyar Anand...|      229|               687|\n",
            "|1.55747E14|  Delivered|2023-10-08 20:28:10|Dindigul Thalappa...|      187|               561|\n",
            "|1.55721E14|  Delivered|2023-10-08 13:17:31|A2B - Adyar Anand...|      191|               573|\n",
            "|1.55636E14|  Delivered|2023-10-07 13:47:25|A2B - Adyar Anand...|      256|               768|\n",
            "|1.73092E11|  Delivered|2023-07-22 14:36:33|A2B - Adyar Anand...|      180|               540|\n",
            "|1.72593E11|  Delivered|2023-07-16 20:07:57|      Domino's Pizza|      578|              1734|\n",
            "|1.72572E11|  Delivered|2023-07-16 14:11:50|A2B - Adyar Anand...|      361|              1083|\n",
            "|1.70174E11|  Delivered|2023-06-18 20:03:44|            Anjappar|      218|               654|\n",
            "|1.68943E11|  Delivered|2023-06-04 14:07:04|A2B - Adyar Anand...|      250|               750|\n",
            "|1.68862E11|  Delivered|2023-06-03 15:37:22|      Domino's Pizza|      208|               624|\n",
            "|1.68339E11|  Delivered|2023-05-28 14:17:02|A2B - Adyar Anand...|      241|               723|\n",
            "|1.66009E11|  Delivered|2023-05-01 15:04:37|      Domino's Pizza|      214|               642|\n",
            "|1.65835E11|  Delivered|2023-04-29 14:39:33|A2B - Adyar Anand...|      200|               600|\n",
            "|1.64559E11|  Delivered|2023-04-14 20:16:18|      Domino's Pizza|      187|               561|\n",
            "|1.59871E11|  Delivered|2023-02-19 14:10:04|A2B - Adyar Anand...|      162|               486|\n",
            "|1.59693E11|  Delivered|2023-02-17 12:41:04|A2B - Adyar Anand...|     1239|              3717|\n",
            "| 1.5921E11|  Delivered|2023-02-11 22:26:45|Dindigul Thalappa...|      172|               516|\n",
            "|1.58681E11|  Delivered|2023-02-05 19:29:24|Dindigul Thalappa...|      220|               660|\n",
            "+----------+-----------+-------------------+--------------------+---------+------------------+\n",
            "only showing top 20 rows\n",
            "\n"
          ]
        }
      ]
    },
    {
      "cell_type": "code",
      "source": [
        "df4.withColumn('total_cost_three_times',col('totalCost')*3).show()"
      ],
      "metadata": {
        "colab": {
          "base_uri": "https://localhost:8080/"
        },
        "id": "I2MkgueH7k2p",
        "outputId": "de436ea6-b5e1-4838-a6a3-92db0db085f4"
      },
      "execution_count": 20,
      "outputs": [
        {
          "output_type": "stream",
          "name": "stdout",
          "text": [
            "+----------+-----------+-------------------+--------------------+---------+----------------------+\n",
            "|   orderId|orderStatus|          orderTime|          restaurant|totalCost|total_cost_three_times|\n",
            "+----------+-----------+-------------------+--------------------+---------+----------------------+\n",
            "|1.59373E14|  Delivered|2023-11-19 19:40:53|      Domino's Pizza|      278|                   834|\n",
            "|1.59351E14|  Delivered|2023-11-19 13:45:31|A2B - Adyar Anand...|      227|                   681|\n",
            "|1.56328E14|  Delivered|2023-10-15 13:51:36|A2B - Adyar Anand...|      229|                   687|\n",
            "|1.55747E14|  Delivered|2023-10-08 20:28:10|Dindigul Thalappa...|      187|                   561|\n",
            "|1.55721E14|  Delivered|2023-10-08 13:17:31|A2B - Adyar Anand...|      191|                   573|\n",
            "|1.55636E14|  Delivered|2023-10-07 13:47:25|A2B - Adyar Anand...|      256|                   768|\n",
            "|1.73092E11|  Delivered|2023-07-22 14:36:33|A2B - Adyar Anand...|      180|                   540|\n",
            "|1.72593E11|  Delivered|2023-07-16 20:07:57|      Domino's Pizza|      578|                  1734|\n",
            "|1.72572E11|  Delivered|2023-07-16 14:11:50|A2B - Adyar Anand...|      361|                  1083|\n",
            "|1.70174E11|  Delivered|2023-06-18 20:03:44|            Anjappar|      218|                   654|\n",
            "|1.68943E11|  Delivered|2023-06-04 14:07:04|A2B - Adyar Anand...|      250|                   750|\n",
            "|1.68862E11|  Delivered|2023-06-03 15:37:22|      Domino's Pizza|      208|                   624|\n",
            "|1.68339E11|  Delivered|2023-05-28 14:17:02|A2B - Adyar Anand...|      241|                   723|\n",
            "|1.66009E11|  Delivered|2023-05-01 15:04:37|      Domino's Pizza|      214|                   642|\n",
            "|1.65835E11|  Delivered|2023-04-29 14:39:33|A2B - Adyar Anand...|      200|                   600|\n",
            "|1.64559E11|  Delivered|2023-04-14 20:16:18|      Domino's Pizza|      187|                   561|\n",
            "|1.59871E11|  Delivered|2023-02-19 14:10:04|A2B - Adyar Anand...|      162|                   486|\n",
            "|1.59693E11|  Delivered|2023-02-17 12:41:04|A2B - Adyar Anand...|     1239|                  3717|\n",
            "| 1.5921E11|  Delivered|2023-02-11 22:26:45|Dindigul Thalappa...|      172|                   516|\n",
            "|1.58681E11|  Delivered|2023-02-05 19:29:24|Dindigul Thalappa...|      220|                   660|\n",
            "+----------+-----------+-------------------+--------------------+---------+----------------------+\n",
            "only showing top 20 rows\n",
            "\n"
          ]
        }
      ]
    },
    {
      "cell_type": "code",
      "source": [
        "df4.distinct().show(truncate=False)\n",
        "df4.printSchema()"
      ],
      "metadata": {
        "colab": {
          "base_uri": "https://localhost:8080/"
        },
        "id": "rhZwmD5Z72UM",
        "outputId": "c33c459e-9659-438f-d824-7eea00a36927"
      },
      "execution_count": 43,
      "outputs": [
        {
          "output_type": "stream",
          "name": "stdout",
          "text": [
            "+----------+-----------+-------------------+--------------------------+---------+\n",
            "|orderId   |orderStatus|orderTime          |restaurant                |totalCost|\n",
            "+----------+-----------+-------------------+--------------------------+---------+\n",
            "|1.58681E11|Delivered  |2023-02-05 19:29:24|Dindigul Thalappakatti    |220      |\n",
            "|1.70174E11|Delivered  |2023-06-18 20:03:44|Anjappar                  |218      |\n",
            "|1.64559E11|Delivered  |2023-04-14 20:16:18|Domino's Pizza            |187      |\n",
            "|1.59373E14|Delivered  |2023-11-19 19:40:53|Domino's Pizza            |278      |\n",
            "|1.72572E11|Delivered  |2023-07-16 14:11:50|A2B - Adyar Ananda Bhavan |361      |\n",
            "|1.58512E11|Delivered  |2023-02-03 20:38:34|Dindigul Thalappakatti    |165      |\n",
            "|1.59351E14|Delivered  |2023-11-19 13:45:31|A2B - Adyar Ananda Bhavan |227      |\n",
            "|1.68943E11|Delivered  |2023-06-04 14:07:04|A2B - Adyar Ananda Bhavan |250      |\n",
            "|1.56328E14|Delivered  |2023-10-15 13:51:36|A2B - Adyar Ananda Bhavan |229      |\n",
            "|1.5921E11 |Delivered  |2023-02-11 22:26:45|Dindigul Thalappakatti    |172      |\n",
            "|1.65835E11|Delivered  |2023-04-29 14:39:33|A2B - Adyar Ananda Bhavan |200      |\n",
            "|1.66009E11|Delivered  |2023-05-01 15:04:37|Domino's Pizza            |214      |\n",
            "|1.68339E11|Delivered  |2023-05-28 14:17:02|A2B - Adyar Ananda Bhavan |241      |\n",
            "|1.58569E11|Delivered  |2023-02-04 12:21:30|Junior Kuppanna           |185      |\n",
            "|1.57974E11|Delivered  |2023-01-28 15:09:30|Dindigul Thalappakatti    |283      |\n",
            "|1.73092E11|Delivered  |2023-07-22 14:36:33|A2B - Adyar Ananda Bhavan |180      |\n",
            "|1.57665E11|Delivered  |2023-01-25 01:20:34|Chai Kings                |186      |\n",
            "|1.55747E14|Delivered  |2023-10-08 20:28:10|Dindigul Thalappakatti    |187      |\n",
            "|1.58057E11|Delivered  |2023-01-29 14:20:32|Namma Veedu Vasanta Bhavan|152      |\n",
            "|1.59693E11|Delivered  |2023-02-17 12:41:04|A2B - Adyar Ananda Bhavan |1239     |\n",
            "+----------+-----------+-------------------+--------------------------+---------+\n",
            "only showing top 20 rows\n",
            "\n",
            "root\n",
            " |-- orderId: double (nullable = true)\n",
            " |-- orderStatus: string (nullable = true)\n",
            " |-- orderTime: timestamp (nullable = true)\n",
            " |-- restaurant: string (nullable = true)\n",
            " |-- totalCost: integer (nullable = true)\n",
            "\n"
          ]
        }
      ]
    },
    {
      "cell_type": "code",
      "source": [
        "df4.printSchema()"
      ],
      "metadata": {
        "colab": {
          "base_uri": "https://localhost:8080/"
        },
        "id": "fEj1E3oy8OB_",
        "outputId": "a33d67a1-d6ed-4b42-ad4c-2badefcdbb99"
      },
      "execution_count": 30,
      "outputs": [
        {
          "output_type": "stream",
          "name": "stdout",
          "text": [
            "root\n",
            " |-- orderId: double (nullable = true)\n",
            " |-- orderStatus: string (nullable = true)\n",
            " |-- orderTime: timestamp (nullable = true)\n",
            " |-- restaurant: string (nullable = true)\n",
            " |-- totalCost: integer (nullable = true)\n",
            "\n"
          ]
        }
      ]
    },
    {
      "cell_type": "code",
      "source": [
        "from  pyspark.sql.functions import sum,round,count\n",
        "\n",
        "df4=df4.withColumn('totalCost',col('totalCost').cast('int'))\n",
        "df4.agg(round(sum('totalCost')/count('*'),0)).alias('Average').show()"
      ],
      "metadata": {
        "colab": {
          "base_uri": "https://localhost:8080/"
        },
        "id": "RlaU2-oS9Vex",
        "outputId": "3f04b579-e0b3-4a65-fbea-116fd6b8f63d"
      },
      "execution_count": 65,
      "outputs": [
        {
          "output_type": "stream",
          "name": "stdout",
          "text": [
            "+-------------------------------------+\n",
            "|round((sum(totalCost) / count(1)), 0)|\n",
            "+-------------------------------------+\n",
            "|                                263.0|\n",
            "+-------------------------------------+\n",
            "\n"
          ]
        }
      ]
    },
    {
      "cell_type": "code",
      "source": [
        "from pyspark.sql.types import *\n",
        "\n",
        "schema=StructType(\n",
        "    [\n",
        "    StructField('orderId',DoubleType(),True),\n",
        "    StructField('orderStatus',StringType(),True),\n",
        "    StructField('orderTime',TimestampType(),True),\n",
        "    StructField('restaurant',StringType(),True),\n",
        "    StructField('totalCost',IntegerType(),True),\n",
        "    ]\n",
        ")\n",
        "\n",
        "df5=spark.read.csv(path='/content/drive/My Drive/Colab Notebooks/Testfiles/csv/csv1/balakumar.csv',header=True,schema=schema)\n",
        "\n",
        "df5.show(truncate=False)\n",
        "df5.printSchema()"
      ],
      "metadata": {
        "colab": {
          "base_uri": "https://localhost:8080/"
        },
        "id": "Z7A-HxTWBJUw",
        "outputId": "1ad2dc13-ac7a-4d5f-de8c-d8b6a3ae074c"
      },
      "execution_count": 78,
      "outputs": [
        {
          "output_type": "stream",
          "name": "stdout",
          "text": [
            "+----------+-----------+-------------------+-------------------------+---------+\n",
            "|orderId   |orderStatus|orderTime          |restaurant               |totalCost|\n",
            "+----------+-----------+-------------------+-------------------------+---------+\n",
            "|1.59373E14|Delivered  |2023-11-19 19:40:53|Domino's Pizza           |278      |\n",
            "|1.59351E14|Delivered  |2023-11-19 13:45:31|A2B - Adyar Ananda Bhavan|227      |\n",
            "|1.56328E14|Delivered  |2023-10-15 13:51:36|A2B - Adyar Ananda Bhavan|229      |\n",
            "|1.55747E14|Delivered  |2023-10-08 20:28:10|Dindigul Thalappakatti   |187      |\n",
            "|1.55721E14|Delivered  |2023-10-08 13:17:31|A2B - Adyar Ananda Bhavan|191      |\n",
            "|1.55636E14|Delivered  |2023-10-07 13:47:25|A2B - Adyar Ananda Bhavan|256      |\n",
            "|1.73092E11|Delivered  |2023-07-22 14:36:33|A2B - Adyar Ananda Bhavan|180      |\n",
            "|1.72593E11|Delivered  |2023-07-16 20:07:57|Domino's Pizza           |578      |\n",
            "|1.72572E11|Delivered  |2023-07-16 14:11:50|A2B - Adyar Ananda Bhavan|361      |\n",
            "|1.70174E11|Delivered  |2023-06-18 20:03:44|Anjappar                 |218      |\n",
            "|1.68943E11|Delivered  |2023-06-04 14:07:04|A2B - Adyar Ananda Bhavan|250      |\n",
            "|1.68862E11|Delivered  |2023-06-03 15:37:22|Domino's Pizza           |208      |\n",
            "|1.68339E11|Delivered  |2023-05-28 14:17:02|A2B - Adyar Ananda Bhavan|241      |\n",
            "|1.66009E11|Delivered  |2023-05-01 15:04:37|Domino's Pizza           |214      |\n",
            "|1.65835E11|Delivered  |2023-04-29 14:39:33|A2B - Adyar Ananda Bhavan|200      |\n",
            "|1.64559E11|Delivered  |2023-04-14 20:16:18|Domino's Pizza           |187      |\n",
            "|1.59871E11|Delivered  |2023-02-19 14:10:04|A2B - Adyar Ananda Bhavan|162      |\n",
            "|1.59693E11|Delivered  |2023-02-17 12:41:04|A2B - Adyar Ananda Bhavan|1239     |\n",
            "|1.5921E11 |Delivered  |2023-02-11 22:26:45|Dindigul Thalappakatti   |172      |\n",
            "|1.58681E11|Delivered  |2023-02-05 19:29:24|Dindigul Thalappakatti   |220      |\n",
            "+----------+-----------+-------------------+-------------------------+---------+\n",
            "only showing top 20 rows\n",
            "\n",
            "root\n",
            " |-- orderId: double (nullable = true)\n",
            " |-- orderStatus: string (nullable = true)\n",
            " |-- orderTime: timestamp (nullable = true)\n",
            " |-- restaurant: string (nullable = true)\n",
            " |-- totalCost: integer (nullable = true)\n",
            "\n"
          ]
        }
      ]
    },
    {
      "cell_type": "code",
      "source": [
        "schema=StructType().add('orderId',DoubleType(),True) \\\n",
        "                 .add('ORDERSTATUS',StringType(),True) \\\n",
        "                 .add('ORDERTIME',StringType(),True) \\\n",
        "                 .add('RESTAURANT',StringType(),True) \\\n",
        "                 .add('TOTALCOST',IntegerType(),True)\n",
        "\n",
        "df7=spark.read.csv(path='/content/drive/My Drive/Colab Notebooks/Testfiles/csv/csv1/balakumar.csv',schema=schema,header=True)\n",
        "\n",
        "df7.show()"
      ],
      "metadata": {
        "colab": {
          "base_uri": "https://localhost:8080/"
        },
        "id": "YYHh1z5GDMS-",
        "outputId": "0205189c-54bc-4e85-98cd-32c4fe3cb020"
      },
      "execution_count": 82,
      "outputs": [
        {
          "output_type": "stream",
          "name": "stdout",
          "text": [
            "+----------+-----------+-------------------+--------------------+---------+\n",
            "|   orderId|ORDERSTATUS|          ORDERTIME|          RESTAURANT|TOTALCOST|\n",
            "+----------+-----------+-------------------+--------------------+---------+\n",
            "|1.59373E14|  Delivered|2023-11-19 19:40:53|      Domino's Pizza|      278|\n",
            "|1.59351E14|  Delivered|2023-11-19 13:45:31|A2B - Adyar Anand...|      227|\n",
            "|1.56328E14|  Delivered|2023-10-15 13:51:36|A2B - Adyar Anand...|      229|\n",
            "|1.55747E14|  Delivered|2023-10-08 20:28:10|Dindigul Thalappa...|      187|\n",
            "|1.55721E14|  Delivered|2023-10-08 13:17:31|A2B - Adyar Anand...|      191|\n",
            "|1.55636E14|  Delivered|2023-10-07 13:47:25|A2B - Adyar Anand...|      256|\n",
            "|1.73092E11|  Delivered|2023-07-22 14:36:33|A2B - Adyar Anand...|      180|\n",
            "|1.72593E11|  Delivered|2023-07-16 20:07:57|      Domino's Pizza|      578|\n",
            "|1.72572E11|  Delivered|2023-07-16 14:11:50|A2B - Adyar Anand...|      361|\n",
            "|1.70174E11|  Delivered|2023-06-18 20:03:44|            Anjappar|      218|\n",
            "|1.68943E11|  Delivered|2023-06-04 14:07:04|A2B - Adyar Anand...|      250|\n",
            "|1.68862E11|  Delivered|2023-06-03 15:37:22|      Domino's Pizza|      208|\n",
            "|1.68339E11|  Delivered|2023-05-28 14:17:02|A2B - Adyar Anand...|      241|\n",
            "|1.66009E11|  Delivered|2023-05-01 15:04:37|      Domino's Pizza|      214|\n",
            "|1.65835E11|  Delivered|2023-04-29 14:39:33|A2B - Adyar Anand...|      200|\n",
            "|1.64559E11|  Delivered|2023-04-14 20:16:18|      Domino's Pizza|      187|\n",
            "|1.59871E11|  Delivered|2023-02-19 14:10:04|A2B - Adyar Anand...|      162|\n",
            "|1.59693E11|  Delivered|2023-02-17 12:41:04|A2B - Adyar Anand...|     1239|\n",
            "| 1.5921E11|  Delivered|2023-02-11 22:26:45|Dindigul Thalappa...|      172|\n",
            "|1.58681E11|  Delivered|2023-02-05 19:29:24|Dindigul Thalappa...|      220|\n",
            "+----------+-----------+-------------------+--------------------+---------+\n",
            "only showing top 20 rows\n",
            "\n"
          ]
        }
      ]
    },
    {
      "cell_type": "code",
      "source": [],
      "metadata": {
        "id": "3QfsvUgLJ_Ec"
      },
      "execution_count": null,
      "outputs": []
    }
  ]
}