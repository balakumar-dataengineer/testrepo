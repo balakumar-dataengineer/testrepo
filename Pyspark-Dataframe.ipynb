{
  "nbformat": 4,
  "nbformat_minor": 0,
  "metadata": {
    "colab": {
      "provenance": [],
      "authorship_tag": "ABX9TyMjkCdd9hhG9Jc4Ju1C4QHz",
      "include_colab_link": true
    },
    "kernelspec": {
      "name": "python3",
      "display_name": "Python 3"
    },
    "language_info": {
      "name": "python"
    }
  },
  "cells": [
    {
      "cell_type": "markdown",
      "metadata": {
        "id": "view-in-github",
        "colab_type": "text"
      },
      "source": [
        "<a href=\"https://colab.research.google.com/github/balakumar-dataengineer/testrepo/blob/master/Pyspark-Dataframe.ipynb\" target=\"_parent\"><img src=\"https://colab.research.google.com/assets/colab-badge.svg\" alt=\"Open In Colab\"/></a>"
      ]
    },
    {
      "cell_type": "code",
      "execution_count": 3,
      "metadata": {
        "colab": {
          "base_uri": "https://localhost:8080/"
        },
        "id": "ybbnHOo0o3Ga",
        "outputId": "6ba902a0-692b-4ed1-d242-e78077b6ca3a"
      },
      "outputs": [
        {
          "output_type": "stream",
          "name": "stdout",
          "text": [
            "+---+-----+\n",
            "| id| name|\n",
            "+---+-----+\n",
            "|  1| bala|\n",
            "|  2|kumar|\n",
            "+---+-----+\n",
            "\n"
          ]
        }
      ],
      "source": [
        "from pyspark.sql import SparkSession\n",
        "\n",
        "spark=SparkSession.builder \\\n",
        "   .appName('Python') \\\n",
        "   .master('local') \\\n",
        "   .getOrCreate()\n",
        "\n",
        "data=[{\"id\":1,\"name\":'bala'},{\"id\":2,\"name\":'kumar'}]\n",
        "\n",
        "df=spark.createDataFrame(data)\n",
        "\n",
        "df.show()"
      ]
    },
    {
      "cell_type": "code",
      "source": [
        "df.count()"
      ],
      "metadata": {
        "colab": {
          "base_uri": "https://localhost:8080/"
        },
        "id": "cIEtOagSqdX5",
        "outputId": "0f9757ea-88c2-46d3-829b-29a2c1373a66"
      },
      "execution_count": 4,
      "outputs": [
        {
          "output_type": "execute_result",
          "data": {
            "text/plain": [
              "2"
            ]
          },
          "metadata": {},
          "execution_count": 4
        }
      ]
    },
    {
      "cell_type": "code",
      "source": [
        "df.printSchema()"
      ],
      "metadata": {
        "colab": {
          "base_uri": "https://localhost:8080/"
        },
        "id": "QAZCzd3rqiTA",
        "outputId": "e9328ee0-9110-4ec4-ffc8-9ef4311147dd"
      },
      "execution_count": 5,
      "outputs": [
        {
          "output_type": "stream",
          "name": "stdout",
          "text": [
            "root\n",
            " |-- id: long (nullable = true)\n",
            " |-- name: string (nullable = true)\n",
            "\n"
          ]
        }
      ]
    },
    {
      "cell_type": "code",
      "source": [
        "data=[('1','bala'),(2,'kumar'),('3','arun'),('4','karthi')]\n",
        "\n",
        "df=spark.createDataFrame(data,['id','name'])\n",
        "\n",
        "df.show()\n",
        "df.printSchema()"
      ],
      "metadata": {
        "colab": {
          "base_uri": "https://localhost:8080/"
        },
        "id": "YZ7E-f6dqm6b",
        "outputId": "7cde3338-a6d2-4057-b53b-80cdd650ddd6"
      },
      "execution_count": 8,
      "outputs": [
        {
          "output_type": "stream",
          "name": "stdout",
          "text": [
            "+---+------+\n",
            "| id|  name|\n",
            "+---+------+\n",
            "|  1|  bala|\n",
            "|  2| kumar|\n",
            "|  3|  arun|\n",
            "|  4|karthi|\n",
            "+---+------+\n",
            "\n",
            "root\n",
            " |-- id: string (nullable = true)\n",
            " |-- name: string (nullable = true)\n",
            "\n"
          ]
        }
      ]
    },
    {
      "cell_type": "code",
      "source": [
        "df1=df.drop('id')"
      ],
      "metadata": {
        "id": "5ZU2JoBSsPMH"
      },
      "execution_count": 13,
      "outputs": []
    },
    {
      "cell_type": "code",
      "source": [
        "df1.show()"
      ],
      "metadata": {
        "colab": {
          "base_uri": "https://localhost:8080/"
        },
        "id": "xEQvUbSgsSl9",
        "outputId": "484fd93d-6f5e-46c5-8c63-e47d62c3a406"
      },
      "execution_count": 14,
      "outputs": [
        {
          "output_type": "stream",
          "name": "stdout",
          "text": [
            "+------+\n",
            "|  name|\n",
            "+------+\n",
            "|  bala|\n",
            "| kumar|\n",
            "|  arun|\n",
            "|karthi|\n",
            "+------+\n",
            "\n"
          ]
        }
      ]
    },
    {
      "cell_type": "code",
      "source": [
        "data=[[1,2],[2,3]]\n",
        "columns=['name','number']\n",
        "\n",
        "df=spark.createDataFrame(data,columns)\n",
        "df.show(2)\n",
        "df.printSchema()"
      ],
      "metadata": {
        "colab": {
          "base_uri": "https://localhost:8080/"
        },
        "id": "u078g8eDssjN",
        "outputId": "339218b8-197f-43c8-b73c-39648b4d8203"
      },
      "execution_count": 19,
      "outputs": [
        {
          "output_type": "stream",
          "name": "stdout",
          "text": [
            "+----+------+\n",
            "|name|number|\n",
            "+----+------+\n",
            "|   1|     2|\n",
            "|   2|     3|\n",
            "+----+------+\n",
            "\n",
            "root\n",
            " |-- name: long (nullable = true)\n",
            " |-- number: long (nullable = true)\n",
            "\n"
          ]
        }
      ]
    },
    {
      "cell_type": "code",
      "source": [
        "from pyspark.sql.types import *\n",
        "\n",
        "schema=StructType([StructField(name='id',dataType=IntegerType()),\n",
        "                   StructField(name='name',dataType=StringType())])\n",
        "\n",
        "data=[(1,'bala'),(2,'kumar')]\n",
        "\n",
        "df=spark.createDataFrame(data,schema)\n",
        "df.show()\n",
        "df.printSchema()\n"
      ],
      "metadata": {
        "colab": {
          "base_uri": "https://localhost:8080/"
        },
        "id": "tqm0wQkjtIuy",
        "outputId": "c4eedd09-a7f0-40d1-a09c-1560030e47b3"
      },
      "execution_count": 25,
      "outputs": [
        {
          "output_type": "stream",
          "name": "stdout",
          "text": [
            "+---+-----+\n",
            "| id| name|\n",
            "+---+-----+\n",
            "|  1| bala|\n",
            "|  2|kumar|\n",
            "+---+-----+\n",
            "\n",
            "root\n",
            " |-- id: integer (nullable = true)\n",
            " |-- name: string (nullable = true)\n",
            "\n"
          ]
        }
      ]
    },
    {
      "cell_type": "code",
      "source": [
        "df.select('id','name').show()"
      ],
      "metadata": {
        "colab": {
          "base_uri": "https://localhost:8080/"
        },
        "id": "p_3K6rWSxnvU",
        "outputId": "891fe276-92ac-465b-9071-4c9a18837f51"
      },
      "execution_count": 30,
      "outputs": [
        {
          "output_type": "stream",
          "name": "stdout",
          "text": [
            "+---+-----+\n",
            "| id| name|\n",
            "+---+-----+\n",
            "|  1| bala|\n",
            "|  2|kumar|\n",
            "+---+-----+\n",
            "\n"
          ]
        }
      ]
    },
    {
      "cell_type": "code",
      "source": [
        "df2=df.withColumnRenamed('id','emp_id')\n",
        "\n",
        "df2.show()"
      ],
      "metadata": {
        "colab": {
          "base_uri": "https://localhost:8080/"
        },
        "id": "TBm6bTu6x2t7",
        "outputId": "640b150a-12fc-4a65-d9ba-0652462ffe6a"
      },
      "execution_count": 35,
      "outputs": [
        {
          "output_type": "stream",
          "name": "stdout",
          "text": [
            "+------+-----+\n",
            "|emp_id| name|\n",
            "+------+-----+\n",
            "|     1| bala|\n",
            "|     2|kumar|\n",
            "+------+-----+\n",
            "\n"
          ]
        }
      ]
    },
    {
      "cell_type": "code",
      "source": [
        "df3=df.filter(df.name=='bala')\n",
        "df3.show()"
      ],
      "metadata": {
        "colab": {
          "base_uri": "https://localhost:8080/"
        },
        "id": "kzzBstpOyPHt",
        "outputId": "c4b802a1-db83-4f68-dfde-e0413c4f8bf8"
      },
      "execution_count": 45,
      "outputs": [
        {
          "output_type": "stream",
          "name": "stdout",
          "text": [
            "+---+----+\n",
            "| id|name|\n",
            "+---+----+\n",
            "|  1|bala|\n",
            "+---+----+\n",
            "\n"
          ]
        }
      ]
    },
    {
      "cell_type": "code",
      "source": [
        "df2.show()"
      ],
      "metadata": {
        "colab": {
          "base_uri": "https://localhost:8080/"
        },
        "id": "KVfds1i_zDUq",
        "outputId": "6b595442-a25d-4728-84d1-ef8bb2e9e628"
      },
      "execution_count": 46,
      "outputs": [
        {
          "output_type": "stream",
          "name": "stdout",
          "text": [
            "+------+-----+\n",
            "|emp_id| name|\n",
            "+------+-----+\n",
            "|     1| bala|\n",
            "|     2|kumar|\n",
            "+------+-----+\n",
            "\n"
          ]
        }
      ]
    },
    {
      "cell_type": "code",
      "source": [
        "df2.groupBy('emp_id','name').count().show()"
      ],
      "metadata": {
        "colab": {
          "base_uri": "https://localhost:8080/"
        },
        "id": "f_beIRVCzoHP",
        "outputId": "568dd75f-8537-4b3d-cc05-afceeb25a286"
      },
      "execution_count": 49,
      "outputs": [
        {
          "output_type": "stream",
          "name": "stdout",
          "text": [
            "+------+-----+-----+\n",
            "|emp_id| name|count|\n",
            "+------+-----+-----+\n",
            "|     1| bala|    1|\n",
            "|     2|kumar|    1|\n",
            "+------+-----+-----+\n",
            "\n"
          ]
        }
      ]
    },
    {
      "cell_type": "code",
      "source": [
        "df2.where(df2.emp_id > 1).show()"
      ],
      "metadata": {
        "colab": {
          "base_uri": "https://localhost:8080/"
        },
        "id": "cdnE5tKmz8I_",
        "outputId": "930c8282-7373-428a-d724-404662bc5bff"
      },
      "execution_count": 52,
      "outputs": [
        {
          "output_type": "stream",
          "name": "stdout",
          "text": [
            "+------+-----+\n",
            "|emp_id| name|\n",
            "+------+-----+\n",
            "|     2|kumar|\n",
            "+------+-----+\n",
            "\n"
          ]
        }
      ]
    },
    {
      "cell_type": "code",
      "source": [],
      "metadata": {
        "id": "hHb4_t1VL1Wy"
      },
      "execution_count": null,
      "outputs": []
    }
  ]
}