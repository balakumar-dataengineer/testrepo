{
  "nbformat": 4,
  "nbformat_minor": 0,
  "metadata": {
    "colab": {
      "provenance": [],
      "authorship_tag": "ABX9TyMWIlT/+YDcitYCG8RAurGk",
      "include_colab_link": true
    },
    "kernelspec": {
      "name": "python3",
      "display_name": "Python 3"
    },
    "language_info": {
      "name": "python"
    }
  },
  "cells": [
    {
      "cell_type": "markdown",
      "metadata": {
        "id": "view-in-github",
        "colab_type": "text"
      },
      "source": [
        "<a href=\"https://colab.research.google.com/github/balakumar-dataengineer/testrepo/blob/master/Pandas_to_datetime_function.ipynb\" target=\"_parent\"><img src=\"https://colab.research.google.com/assets/colab-badge.svg\" alt=\"Open In Colab\"/></a>"
      ]
    },
    {
      "cell_type": "code",
      "execution_count": 19,
      "metadata": {
        "colab": {
          "base_uri": "https://localhost:8080/"
        },
        "id": "7HUaxsoEVQ4t",
        "outputId": "d69b3337-c461-47f2-9852-9f5781a74af0"
      },
      "outputs": [
        {
          "output_type": "execute_result",
          "data": {
            "text/plain": [
              "DatetimeIndex(['2025-03-05 22:00:54', '2025-03-05 20:00:21',\n",
              "               '2025-05-03 00:00:00', '2025-03-05 00:00:00',\n",
              "               '2025-03-05 00:00:00', '2025-03-05 00:00:00',\n",
              "               '2025-03-05 00:00:00',                 'NaT'],\n",
              "              dtype='datetime64[ns]', freq=None)"
            ]
          },
          "metadata": {},
          "execution_count": 19
        }
      ],
      "source": [
        "import pandas as pd\n",
        "\n",
        "date=['05/03/2025 10:00:54 Pm','05.03.2025 08:00:21 PM','03/05/2025','05-Mar-2025','05-March-2025','Mar 5,2025','2025-Mar-05','cbr']\n",
        "\n",
        "pd.to_datetime(date,format='mixed',dayfirst=True,errors='coerce')"
      ]
    },
    {
      "cell_type": "code",
      "source": [
        "pd.to_datetime('03$05$2024',format='%m$%d$%Y')"
      ],
      "metadata": {
        "colab": {
          "base_uri": "https://localhost:8080/"
        },
        "id": "zY7mACWpWrbd",
        "outputId": "facf6af8-8930-4f89-ebfd-9a5046d5d009"
      },
      "execution_count": 14,
      "outputs": [
        {
          "output_type": "execute_result",
          "data": {
            "text/plain": [
              "Timestamp('2024-03-05 00:00:00')"
            ]
          },
          "metadata": {},
          "execution_count": 14
        }
      ]
    },
    {
      "cell_type": "code",
      "source": [
        "s=1744132266\n",
        "dt=pd.to_datetime([s],unit='s')"
      ],
      "metadata": {
        "id": "mlCBUfzfYqHP"
      },
      "execution_count": 28,
      "outputs": []
    },
    {
      "cell_type": "code",
      "source": [
        "dt.view('int64')"
      ],
      "metadata": {
        "colab": {
          "base_uri": "https://localhost:8080/"
        },
        "id": "WqGfyoFQZG8b",
        "outputId": "478b1e75-34e9-4079-bc4b-f9e49eac5a70"
      },
      "execution_count": 35,
      "outputs": [
        {
          "output_type": "execute_result",
          "data": {
            "text/plain": [
              "array([1744132266000000000])"
            ]
          },
          "metadata": {},
          "execution_count": 35
        }
      ]
    }
  ]
}