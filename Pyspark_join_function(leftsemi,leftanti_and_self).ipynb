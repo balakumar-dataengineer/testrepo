{
  "nbformat": 4,
  "nbformat_minor": 0,
  "metadata": {
    "colab": {
      "provenance": [],
      "authorship_tag": "ABX9TyOTCVp7KCSaqTJpz5hBBLwv",
      "include_colab_link": true
    },
    "kernelspec": {
      "name": "python3",
      "display_name": "Python 3"
    },
    "language_info": {
      "name": "python"
    }
  },
  "cells": [
    {
      "cell_type": "markdown",
      "metadata": {
        "id": "view-in-github",
        "colab_type": "text"
      },
      "source": [
        "<a href=\"https://colab.research.google.com/github/balakumar-dataengineer/testrepo/blob/master/Pyspark_join_function(leftsemi%2Cleftanti_and_self).ipynb\" target=\"_parent\"><img src=\"https://colab.research.google.com/assets/colab-badge.svg\" alt=\"Open In Colab\"/></a>"
      ]
    },
    {
      "cell_type": "code",
      "execution_count": 1,
      "metadata": {
        "colab": {
          "base_uri": "https://localhost:8080/"
        },
        "id": "8VSaQHs2Y3jQ",
        "outputId": "5cd769eb-41f6-4e89-8a94-2f3a39f65442"
      },
      "outputs": [
        {
          "output_type": "stream",
          "name": "stdout",
          "text": [
            "<pyspark.sql.session.SparkSession object at 0x7d0ab6680390>\n"
          ]
        }
      ],
      "source": [
        "from pyspark.sql import SparkSession\n",
        "\n",
        "spark=SparkSession.builder.appName('Pyspark') \\\n",
        "                          .master('local') \\\n",
        "                          .getOrCreate()\n",
        "\n",
        "print(spark)"
      ]
    },
    {
      "cell_type": "code",
      "source": [
        "data1=[\n",
        "    (1,'bala','male',2000,1),\n",
        "    (2,'kumar','male',4000,2),\n",
        "    (3,'balakumar','male',3000,4)\n",
        "]\n",
        "\n",
        "schema1=['id','name','gender','salary','depId']\n",
        "\n",
        "data2=[\n",
        "    (1,'HR'),\n",
        "    (2,'IT'),\n",
        "    (3,'Finance')\n",
        "]\n",
        "\n",
        "schema2=['depId','depName']\n",
        "\n",
        "df1=spark.createDataFrame(data1,schema1)\n",
        "df2=spark.createDataFrame(data2,schema2)\n",
        "\n",
        "df1.show()\n",
        "df2.show()"
      ],
      "metadata": {
        "colab": {
          "base_uri": "https://localhost:8080/"
        },
        "id": "mLuCBqGkZVHv",
        "outputId": "670d85eb-4901-43d1-f7b3-aa310a5f3642"
      },
      "execution_count": 4,
      "outputs": [
        {
          "output_type": "stream",
          "name": "stdout",
          "text": [
            "+---+---------+------+------+-----+\n",
            "| id|     name|gender|salary|depId|\n",
            "+---+---------+------+------+-----+\n",
            "|  1|     bala|  male|  2000|    1|\n",
            "|  2|    kumar|  male|  4000|    2|\n",
            "|  3|balakumar|  male|  3000|    4|\n",
            "+---+---------+------+------+-----+\n",
            "\n",
            "+-----+-------+\n",
            "|depId|depName|\n",
            "+-----+-------+\n",
            "|    1|     HR|\n",
            "|    2|     IT|\n",
            "|    3|Finance|\n",
            "+-----+-------+\n",
            "\n"
          ]
        }
      ]
    },
    {
      "cell_type": "code",
      "source": [
        "df1.join(df2,df1.depId==df2.depId,'leftsemi').show()"
      ],
      "metadata": {
        "colab": {
          "base_uri": "https://localhost:8080/"
        },
        "id": "6UdRIsluaccE",
        "outputId": "8d730ed3-f006-4ec6-eb43-bae7b1834ba0"
      },
      "execution_count": 5,
      "outputs": [
        {
          "output_type": "stream",
          "name": "stdout",
          "text": [
            "+---+-----+------+------+-----+\n",
            "| id| name|gender|salary|depId|\n",
            "+---+-----+------+------+-----+\n",
            "|  1| bala|  male|  2000|    1|\n",
            "|  2|kumar|  male|  4000|    2|\n",
            "+---+-----+------+------+-----+\n",
            "\n"
          ]
        }
      ]
    },
    {
      "cell_type": "code",
      "source": [
        "df1.join(df2,df1.depId==df2.depId,'leftanti').show()"
      ],
      "metadata": {
        "colab": {
          "base_uri": "https://localhost:8080/"
        },
        "id": "VeCo7-Tzaxl6",
        "outputId": "f2463176-43aa-4ef3-d863-0ae5180582f7"
      },
      "execution_count": 7,
      "outputs": [
        {
          "output_type": "stream",
          "name": "stdout",
          "text": [
            "+---+---------+------+------+-----+\n",
            "| id|     name|gender|salary|depId|\n",
            "+---+---------+------+------+-----+\n",
            "|  3|balakumar|  male|  3000|    4|\n",
            "+---+---------+------+------+-----+\n",
            "\n"
          ]
        }
      ]
    },
    {
      "cell_type": "code",
      "source": [
        "data=[\n",
        "    (1,'bala',0),\n",
        "    (2,'kumar',1),\n",
        "    (3,'balakumar',2)\n",
        "]\n",
        "\n",
        "schema=['id','name','managerId']\n",
        "\n",
        "df=spark.createDataFrame(data,schema)\n",
        "df.show()\n"
      ],
      "metadata": {
        "colab": {
          "base_uri": "https://localhost:8080/"
        },
        "id": "mBZjBWIJa_Op",
        "outputId": "49fde463-9cd3-46b8-f75a-b05986788088"
      },
      "execution_count": 9,
      "outputs": [
        {
          "output_type": "stream",
          "name": "stdout",
          "text": [
            "+---+---------+---------+\n",
            "| id|     name|managerId|\n",
            "+---+---------+---------+\n",
            "|  1|     bala|        0|\n",
            "|  2|    kumar|        1|\n",
            "|  3|balakumar|        2|\n",
            "+---+---------+---------+\n",
            "\n"
          ]
        }
      ]
    },
    {
      "cell_type": "code",
      "source": [
        "from pyspark.sql.functions import col\n",
        "\n",
        "df.alias('userdt').join(df.alias('empdt'),col('userdt.managerId')==col('empdt.id'),'left').show()"
      ],
      "metadata": {
        "colab": {
          "base_uri": "https://localhost:8080/"
        },
        "id": "3Ewle9X3bfW6",
        "outputId": "0424396c-1315-47c0-ac7f-759201c53db2"
      },
      "execution_count": 17,
      "outputs": [
        {
          "output_type": "stream",
          "name": "stdout",
          "text": [
            "+---+---------+---------+----+-----+---------+\n",
            "| id|     name|managerId|  id| name|managerId|\n",
            "+---+---------+---------+----+-----+---------+\n",
            "|  1|     bala|        0|NULL| NULL|     NULL|\n",
            "|  2|    kumar|        1|   1| bala|        0|\n",
            "|  3|balakumar|        2|   2|kumar|        1|\n",
            "+---+---------+---------+----+-----+---------+\n",
            "\n"
          ]
        }
      ]
    },
    {
      "cell_type": "code",
      "source": [
        "df.alias('empData').join(df.alias('managerData'),col('empData.managerId')==col('managerData.id'),'left') \\\n",
        "                   .select(col('empData.name').alias('empName'),col('managerData.name').alias('managerName')) \\\n",
        "                   .show()"
      ],
      "metadata": {
        "colab": {
          "base_uri": "https://localhost:8080/"
        },
        "id": "LM-cHYkFc23w",
        "outputId": "3ac161b9-ebd4-4d3c-f94f-a1a270f6e61b"
      },
      "execution_count": 23,
      "outputs": [
        {
          "output_type": "stream",
          "name": "stdout",
          "text": [
            "+---------+-----------+\n",
            "|  empName|managerName|\n",
            "+---------+-----------+\n",
            "|     bala|       NULL|\n",
            "|    kumar|       bala|\n",
            "|balakumar|      kumar|\n",
            "+---------+-----------+\n",
            "\n"
          ]
        }
      ]
    }
  ]
}