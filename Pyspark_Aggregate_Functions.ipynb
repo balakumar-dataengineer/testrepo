{
  "nbformat": 4,
  "nbformat_minor": 0,
  "metadata": {
    "colab": {
      "provenance": [],
      "authorship_tag": "ABX9TyMYfx3Xcni4mwRXRn4itGY7",
      "include_colab_link": true
    },
    "kernelspec": {
      "name": "python3",
      "display_name": "Python 3"
    },
    "language_info": {
      "name": "python"
    }
  },
  "cells": [
    {
      "cell_type": "markdown",
      "metadata": {
        "id": "view-in-github",
        "colab_type": "text"
      },
      "source": [
        "<a href=\"https://colab.research.google.com/github/balakumar-dataengineer/testrepo/blob/master/Pyspark_Aggregate_Functions.ipynb\" target=\"_parent\"><img src=\"https://colab.research.google.com/assets/colab-badge.svg\" alt=\"Open In Colab\"/></a>"
      ]
    },
    {
      "cell_type": "code",
      "execution_count": 1,
      "metadata": {
        "colab": {
          "base_uri": "https://localhost:8080/"
        },
        "id": "bxAdpCDsFHhx",
        "outputId": "6d6f1cc4-4a03-43c7-8767-0718e2bf029a"
      },
      "outputs": [
        {
          "output_type": "stream",
          "name": "stdout",
          "text": [
            "<pyspark.sql.session.SparkSession object at 0x79a244146e90>\n"
          ]
        }
      ],
      "source": [
        "from pyspark.sql import SparkSession\n",
        "\n",
        "spark=SparkSession.builder.appName('Pyspark') \\\n",
        "                          .master('local') \\\n",
        "                          .getOrCreate()\n",
        "\n",
        "print(spark)"
      ]
    },
    {
      "cell_type": "code",
      "source": [
        "from google.colab import drive\n",
        "drive.mount('/content/drive')\n",
        "\n",
        "df=spark.read.csv('/content/drive/My Drive/Colab Notebooks/Testfiles/csv/csv1/*.csv',header=True,inferSchema=True)"
      ],
      "metadata": {
        "colab": {
          "base_uri": "https://localhost:8080/"
        },
        "id": "yetx5O8vFZ_D",
        "outputId": "90cfe9cc-9171-4d24-dff0-79e9dd0cc0da"
      },
      "execution_count": 10,
      "outputs": [
        {
          "output_type": "stream",
          "name": "stdout",
          "text": [
            "Drive already mounted at /content/drive; to attempt to forcibly remount, call drive.mount(\"/content/drive\", force_remount=True).\n"
          ]
        }
      ]
    },
    {
      "cell_type": "code",
      "source": [
        "df.show(truncate=False)\n",
        "df.printSchema()"
      ],
      "metadata": {
        "colab": {
          "base_uri": "https://localhost:8080/"
        },
        "id": "c4iMkWMUGReo",
        "outputId": "892f7083-e9e1-4e31-94fd-04dc0840d0d0"
      },
      "execution_count": 11,
      "outputs": [
        {
          "output_type": "stream",
          "name": "stdout",
          "text": [
            "+----------+-----------+-------------------+-------------------------+---------+\n",
            "|orderId   |orderStatus|orderTime          |restaurant               |totalCost|\n",
            "+----------+-----------+-------------------+-------------------------+---------+\n",
            "|1.59373E14|Delivered  |2023-11-19 19:40:53|Domino's Pizza           |278      |\n",
            "|1.59351E14|Delivered  |2023-11-19 13:45:31|A2B - Adyar Ananda Bhavan|227      |\n",
            "|1.56328E14|Delivered  |2023-10-15 13:51:36|A2B - Adyar Ananda Bhavan|229      |\n",
            "|1.55747E14|Delivered  |2023-10-08 20:28:10|Dindigul Thalappakatti   |187      |\n",
            "|1.55721E14|Delivered  |2023-10-08 13:17:31|A2B - Adyar Ananda Bhavan|191      |\n",
            "|1.55636E14|Delivered  |2023-10-07 13:47:25|A2B - Adyar Ananda Bhavan|256      |\n",
            "|1.73092E11|Delivered  |2023-07-22 14:36:33|A2B - Adyar Ananda Bhavan|180      |\n",
            "|1.72593E11|Delivered  |2023-07-16 20:07:57|Domino's Pizza           |578      |\n",
            "|1.72572E11|Delivered  |2023-07-16 14:11:50|A2B - Adyar Ananda Bhavan|361      |\n",
            "|1.70174E11|Delivered  |2023-06-18 20:03:44|Anjappar                 |218      |\n",
            "|1.68943E11|Delivered  |2023-06-04 14:07:04|A2B - Adyar Ananda Bhavan|250      |\n",
            "|1.68862E11|Delivered  |2023-06-03 15:37:22|Domino's Pizza           |208      |\n",
            "|1.68339E11|Delivered  |2023-05-28 14:17:02|A2B - Adyar Ananda Bhavan|241      |\n",
            "|1.66009E11|Delivered  |2023-05-01 15:04:37|Domino's Pizza           |214      |\n",
            "|1.65835E11|Delivered  |2023-04-29 14:39:33|A2B - Adyar Ananda Bhavan|200      |\n",
            "|1.64559E11|Delivered  |2023-04-14 20:16:18|Domino's Pizza           |187      |\n",
            "|1.59871E11|Delivered  |2023-02-19 14:10:04|A2B - Adyar Ananda Bhavan|162      |\n",
            "|1.59693E11|Delivered  |2023-02-17 12:41:04|A2B - Adyar Ananda Bhavan|1239     |\n",
            "|1.5921E11 |Delivered  |2023-02-11 22:26:45|Dindigul Thalappakatti   |172      |\n",
            "|1.58681E11|Delivered  |2023-02-05 19:29:24|Dindigul Thalappakatti   |220      |\n",
            "+----------+-----------+-------------------+-------------------------+---------+\n",
            "only showing top 20 rows\n",
            "\n",
            "root\n",
            " |-- orderId: double (nullable = true)\n",
            " |-- orderStatus: string (nullable = true)\n",
            " |-- orderTime: timestamp (nullable = true)\n",
            " |-- restaurant: string (nullable = true)\n",
            " |-- totalCost: integer (nullable = true)\n",
            "\n"
          ]
        }
      ]
    },
    {
      "cell_type": "code",
      "source": [
        "from pyspark.sql.functions import approx_count_distinct, countDistinct,collect_list,collect_set,count,avg\n",
        "\n",
        "df.select(count('orderId')).show()\n",
        "df.select(approx_count_distinct('orderId')).show()"
      ],
      "metadata": {
        "colab": {
          "base_uri": "https://localhost:8080/"
        },
        "id": "RddJLRVqGwTa",
        "outputId": "6b6de3cd-589e-41d7-e0e4-d2ab54422523"
      },
      "execution_count": 20,
      "outputs": [
        {
          "output_type": "stream",
          "name": "stdout",
          "text": [
            "+--------------+\n",
            "|count(orderId)|\n",
            "+--------------+\n",
            "|            54|\n",
            "+--------------+\n",
            "\n",
            "+------------------------------+\n",
            "|approx_count_distinct(orderId)|\n",
            "+------------------------------+\n",
            "|                            27|\n",
            "+------------------------------+\n",
            "\n"
          ]
        }
      ]
    },
    {
      "cell_type": "code",
      "source": [
        "df.select(avg('totalCost')).show()"
      ],
      "metadata": {
        "colab": {
          "base_uri": "https://localhost:8080/"
        },
        "id": "MRPvIvJCHnA0",
        "outputId": "538b3770-8d4a-4675-c744-fb124458215c"
      },
      "execution_count": 21,
      "outputs": [
        {
          "output_type": "stream",
          "name": "stdout",
          "text": [
            "+-----------------+\n",
            "|   avg(totalCost)|\n",
            "+-----------------+\n",
            "|262.9259259259259|\n",
            "+-----------------+\n",
            "\n"
          ]
        }
      ]
    },
    {
      "cell_type": "code",
      "source": [
        "df.select(countDistinct('orderId')).show()"
      ],
      "metadata": {
        "colab": {
          "base_uri": "https://localhost:8080/"
        },
        "id": "I6PPUl3zHtcy",
        "outputId": "6c2f1c00-3b94-4ea3-9aab-f5cd6208a764"
      },
      "execution_count": 22,
      "outputs": [
        {
          "output_type": "stream",
          "name": "stdout",
          "text": [
            "+-----------------------+\n",
            "|count(DISTINCT orderId)|\n",
            "+-----------------------+\n",
            "|                     27|\n",
            "+-----------------------+\n",
            "\n"
          ]
        }
      ]
    },
    {
      "cell_type": "code",
      "source": [
        "df.select(collect_list('restaurant')).show(truncate=False)\n",
        "\n",
        "for i in df.select(collect_list('restaurant')).collect()[0][0]:\n",
        "  print(i)"
      ],
      "metadata": {
        "colab": {
          "base_uri": "https://localhost:8080/"
        },
        "id": "RCgiTDj0H3-X",
        "outputId": "e9752d66-7ceb-4c50-c41f-0cd6a0ab5670"
      },
      "execution_count": 42,
      "outputs": [
        {
          "output_type": "stream",
          "name": "stdout",
          "text": [
            "+--------------------------------------------------------------------------------------------------------------------------------------------------------------------------------------------------------------------------------------------------------------------------------------------------------------------------------------------------------------------------------------------------------------------------------------------------------------------------------------------------------------------------------------------------------------------------------------------------------------------------------------------------------------------------------------------------------------------------------------------------------------------------------------------------------------------------------------------------------------------------------------------------------------------------------------------------------------------------------------------------------------------------------------------------------------------------------------------------------------------------------------------------------------------------------------------------------------------------------------------------------+\n",
            "|collect_list(restaurant)                                                                                                                                                                                                                                                                                                                                                                                                                                                                                                                                                                                                                                                                                                                                                                                                                                                                                                                                                                                                                                                                                                                                                                                                                                |\n",
            "+--------------------------------------------------------------------------------------------------------------------------------------------------------------------------------------------------------------------------------------------------------------------------------------------------------------------------------------------------------------------------------------------------------------------------------------------------------------------------------------------------------------------------------------------------------------------------------------------------------------------------------------------------------------------------------------------------------------------------------------------------------------------------------------------------------------------------------------------------------------------------------------------------------------------------------------------------------------------------------------------------------------------------------------------------------------------------------------------------------------------------------------------------------------------------------------------------------------------------------------------------------+\n",
            "|[Domino's Pizza, A2B - Adyar Ananda Bhavan, A2B - Adyar Ananda Bhavan, Dindigul Thalappakatti, A2B - Adyar Ananda Bhavan, A2B - Adyar Ananda Bhavan, A2B - Adyar Ananda Bhavan, Domino's Pizza, A2B - Adyar Ananda Bhavan, Anjappar, A2B - Adyar Ananda Bhavan, Domino's Pizza, A2B - Adyar Ananda Bhavan, Domino's Pizza, A2B - Adyar Ananda Bhavan, Domino's Pizza, A2B - Adyar Ananda Bhavan, A2B - Adyar Ananda Bhavan, Dindigul Thalappakatti, Dindigul Thalappakatti, Junior Kuppanna, Dindigul Thalappakatti, Namma Veedu Vasanta Bhavan, Chai Kings, Dindigul Thalappakatti, Namma Veedu Vasanta Bhavan, Chai Kings, Domino's Pizza, A2B - Adyar Ananda Bhavan, A2B - Adyar Ananda Bhavan, Dindigul Thalappakatti, A2B - Adyar Ananda Bhavan, A2B - Adyar Ananda Bhavan, A2B - Adyar Ananda Bhavan, Domino's Pizza, A2B - Adyar Ananda Bhavan, Anjappar, A2B - Adyar Ananda Bhavan, Domino's Pizza, A2B - Adyar Ananda Bhavan, Domino's Pizza, A2B - Adyar Ananda Bhavan, Domino's Pizza, A2B - Adyar Ananda Bhavan, A2B - Adyar Ananda Bhavan, Dindigul Thalappakatti, Dindigul Thalappakatti, Junior Kuppanna, Dindigul Thalappakatti, Namma Veedu Vasanta Bhavan, Chai Kings, Dindigul Thalappakatti, Namma Veedu Vasanta Bhavan, Chai Kings]|\n",
            "+--------------------------------------------------------------------------------------------------------------------------------------------------------------------------------------------------------------------------------------------------------------------------------------------------------------------------------------------------------------------------------------------------------------------------------------------------------------------------------------------------------------------------------------------------------------------------------------------------------------------------------------------------------------------------------------------------------------------------------------------------------------------------------------------------------------------------------------------------------------------------------------------------------------------------------------------------------------------------------------------------------------------------------------------------------------------------------------------------------------------------------------------------------------------------------------------------------------------------------------------------------+\n",
            "\n",
            "Domino's Pizza\n",
            "A2B - Adyar Ananda Bhavan\n",
            "A2B - Adyar Ananda Bhavan\n",
            "Dindigul Thalappakatti\n",
            "A2B - Adyar Ananda Bhavan\n",
            "A2B - Adyar Ananda Bhavan\n",
            "A2B - Adyar Ananda Bhavan\n",
            "Domino's Pizza\n",
            "A2B - Adyar Ananda Bhavan\n",
            "Anjappar\n",
            "A2B - Adyar Ananda Bhavan\n",
            "Domino's Pizza\n",
            "A2B - Adyar Ananda Bhavan\n",
            "Domino's Pizza\n",
            "A2B - Adyar Ananda Bhavan\n",
            "Domino's Pizza\n",
            "A2B - Adyar Ananda Bhavan\n",
            "A2B - Adyar Ananda Bhavan\n",
            "Dindigul Thalappakatti\n",
            "Dindigul Thalappakatti\n",
            "Junior Kuppanna\n",
            "Dindigul Thalappakatti\n",
            "Namma Veedu Vasanta Bhavan\n",
            "Chai Kings\n",
            "Dindigul Thalappakatti\n",
            "Namma Veedu Vasanta Bhavan\n",
            "Chai Kings\n",
            "Domino's Pizza\n",
            "A2B - Adyar Ananda Bhavan\n",
            "A2B - Adyar Ananda Bhavan\n",
            "Dindigul Thalappakatti\n",
            "A2B - Adyar Ananda Bhavan\n",
            "A2B - Adyar Ananda Bhavan\n",
            "A2B - Adyar Ananda Bhavan\n",
            "Domino's Pizza\n",
            "A2B - Adyar Ananda Bhavan\n",
            "Anjappar\n",
            "A2B - Adyar Ananda Bhavan\n",
            "Domino's Pizza\n",
            "A2B - Adyar Ananda Bhavan\n",
            "Domino's Pizza\n",
            "A2B - Adyar Ananda Bhavan\n",
            "Domino's Pizza\n",
            "A2B - Adyar Ananda Bhavan\n",
            "A2B - Adyar Ananda Bhavan\n",
            "Dindigul Thalappakatti\n",
            "Dindigul Thalappakatti\n",
            "Junior Kuppanna\n",
            "Dindigul Thalappakatti\n",
            "Namma Veedu Vasanta Bhavan\n",
            "Chai Kings\n",
            "Dindigul Thalappakatti\n",
            "Namma Veedu Vasanta Bhavan\n",
            "Chai Kings\n"
          ]
        }
      ]
    },
    {
      "cell_type": "code",
      "source": [
        "df.select(collect_set('restaurant').alias('restaurant')).show(truncate=False)"
      ],
      "metadata": {
        "colab": {
          "base_uri": "https://localhost:8080/"
        },
        "id": "n6gvrTbdJCtr",
        "outputId": "8ecaf474-ce59-4eb7-b721-c56a4e9da950"
      },
      "execution_count": 45,
      "outputs": [
        {
          "output_type": "stream",
          "name": "stdout",
          "text": [
            "+--------------------------------------------------------------------------------------------------------------------------------------+\n",
            "|restaurant                                                                                                                            |\n",
            "+--------------------------------------------------------------------------------------------------------------------------------------+\n",
            "|[Chai Kings, Dindigul Thalappakatti, A2B - Adyar Ananda Bhavan, Junior Kuppanna, Namma Veedu Vasanta Bhavan, Anjappar, Domino's Pizza]|\n",
            "+--------------------------------------------------------------------------------------------------------------------------------------+\n",
            "\n"
          ]
        }
      ]
    }
  ]
}