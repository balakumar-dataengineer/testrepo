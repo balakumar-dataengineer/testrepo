{
  "nbformat": 4,
  "nbformat_minor": 0,
  "metadata": {
    "colab": {
      "provenance": [],
      "authorship_tag": "ABX9TyOWYcX/2f9WcxP0eIPl/Qk/",
      "include_colab_link": true
    },
    "kernelspec": {
      "name": "python3",
      "display_name": "Python 3"
    },
    "language_info": {
      "name": "python"
    }
  },
  "cells": [
    {
      "cell_type": "markdown",
      "metadata": {
        "id": "view-in-github",
        "colab_type": "text"
      },
      "source": [
        "<a href=\"https://colab.research.google.com/github/balakumar-dataengineer/testrepo/blob/master/Pyspark_Read_JSON_file_into_dataFrame.ipynb\" target=\"_parent\"><img src=\"https://colab.research.google.com/assets/colab-badge.svg\" alt=\"Open In Colab\"/></a>"
      ]
    },
    {
      "cell_type": "code",
      "execution_count": 1,
      "metadata": {
        "colab": {
          "base_uri": "https://localhost:8080/"
        },
        "id": "I5oTJ9X4JJZP",
        "outputId": "8544f300-fe14-44d6-cb6c-a4bcf72af2b0"
      },
      "outputs": [
        {
          "output_type": "stream",
          "name": "stdout",
          "text": [
            "Mounted at /content/drive\n"
          ]
        }
      ],
      "source": [
        "from google.colab import drive\n",
        "drive.mount('/content/drive')\n",
        "\n"
      ]
    },
    {
      "cell_type": "code",
      "source": [
        "from pyspark.sql import SparkSession\n",
        "\n",
        "spark=SparkSession.builder.appName('Pyspark') \\\n",
        "                          .master('local') \\\n",
        "                          .getOrCreate()\n",
        "\n",
        "\n",
        "df = spark.read.json('/content/drive/My Drive/Colab Notebooks/Testfiles/JSON/emp1.json',multiLine=False)\n",
        "df.show(10)\n",
        "df.printSchema()"
      ],
      "metadata": {
        "colab": {
          "base_uri": "https://localhost:8080/"
        },
        "id": "Zf1giZHGWYJq",
        "outputId": "d473c159-db4c-442e-d9e9-969fce8eb8c5"
      },
      "execution_count": 2,
      "outputs": [
        {
          "output_type": "stream",
          "name": "stdout",
          "text": [
            "+---+----------+---+-------+------+\n",
            "|age|department| id|   name|salary|\n",
            "+---+----------+---+-------+------+\n",
            "| 30|        HR|  1|  Alice| 50000|\n",
            "| 25|        IT|  2|    Bob| 60000|\n",
            "| 35|   Finance|  3|Charlie| 70000|\n",
            "| 28| Marketing|  4|  David| 55000|\n",
            "| 32|     Sales|  5|    Eve| 65000|\n",
            "+---+----------+---+-------+------+\n",
            "\n",
            "root\n",
            " |-- age: long (nullable = true)\n",
            " |-- department: string (nullable = true)\n",
            " |-- id: long (nullable = true)\n",
            " |-- name: string (nullable = true)\n",
            " |-- salary: long (nullable = true)\n",
            "\n"
          ]
        }
      ]
    },
    {
      "cell_type": "code",
      "source": [
        "df1=spark.read.json(['/content/drive/My Drive/Colab Notebooks/Testfiles/JSON/json1/emp1.json','/content/drive/My Drive/Colab Notebooks/Testfiles/JSON/json2/emp2.json'],\n",
        "                    multiLine=False)\n",
        "\n",
        "df1.show()\n",
        "\n",
        "df1.printSchema()\n"
      ],
      "metadata": {
        "colab": {
          "base_uri": "https://localhost:8080/"
        },
        "id": "gZlmVwaEwxX4",
        "outputId": "e7ade183-70d2-4f79-de33-e0550708f90e"
      },
      "execution_count": 9,
      "outputs": [
        {
          "output_type": "stream",
          "name": "stdout",
          "text": [
            "+---+----------+---+-------+------+\n",
            "|age|department| id|   name|salary|\n",
            "+---+----------+---+-------+------+\n",
            "| 30|        HR|  1|  Alice| 50000|\n",
            "| 25|        IT|  2|    Bob| 60000|\n",
            "| 35|   Finance|  3|Charlie| 70000|\n",
            "| 28| Marketing|  4|  David| 55000|\n",
            "| 32|     Sales|  5|    Eve| 65000|\n",
            "| 40|Operations|  6|  Frank| 72000|\n",
            "| 29|     Legal|  7|  Grace| 58000|\n",
            "| 33|        IT|  8|   Hank| 67000|\n",
            "| 27|        HR|  9|    Ivy| 52000|\n",
            "| 31|   Finance| 10|   Jack| 69000|\n",
            "+---+----------+---+-------+------+\n",
            "\n",
            "root\n",
            " |-- age: long (nullable = true)\n",
            " |-- department: string (nullable = true)\n",
            " |-- id: long (nullable = true)\n",
            " |-- name: string (nullable = true)\n",
            " |-- salary: long (nullable = true)\n",
            "\n"
          ]
        }
      ]
    },
    {
      "cell_type": "code",
      "source": [
        "from pyspark.sql.functions import  *\n",
        "\n",
        "df1.select('age','department','salary').groupBy('department').agg(avg('age').alias('avg_age'),avg('salary').alias('avg_salary')).orderBy('avg_age').show()"
      ],
      "metadata": {
        "colab": {
          "base_uri": "https://localhost:8080/"
        },
        "id": "zDltTGBKytse",
        "outputId": "0d00b994-1804-45a6-8700-6b2f1d6a1876"
      },
      "execution_count": 13,
      "outputs": [
        {
          "output_type": "stream",
          "name": "stdout",
          "text": [
            "+----------+-------+----------+\n",
            "|department|avg_age|avg_salary|\n",
            "+----------+-------+----------+\n",
            "| Marketing|   28.0|   55000.0|\n",
            "|        HR|   28.5|   51000.0|\n",
            "|     Legal|   29.0|   58000.0|\n",
            "|        IT|   29.0|   63500.0|\n",
            "|     Sales|   32.0|   65000.0|\n",
            "|   Finance|   33.0|   69500.0|\n",
            "|Operations|   40.0|   72000.0|\n",
            "+----------+-------+----------+\n",
            "\n"
          ]
        }
      ]
    },
    {
      "cell_type": "code",
      "source": [
        "df2=spark.read.json('/content/drive/My Drive/Colab Notebooks/Testfiles/JSON/json1/*.json')\n",
        "\n",
        "df2.show()\n",
        "df2.printSchema()"
      ],
      "metadata": {
        "colab": {
          "base_uri": "https://localhost:8080/"
        },
        "id": "PNOD4lCU0aXy",
        "outputId": "07b1dc5f-2aed-46aa-fa91-eddd7ae68726"
      },
      "execution_count": 14,
      "outputs": [
        {
          "output_type": "stream",
          "name": "stdout",
          "text": [
            "+---+----------+---+-------+------+\n",
            "|age|department| id|   name|salary|\n",
            "+---+----------+---+-------+------+\n",
            "| 30|        HR|  1|  Alice| 50000|\n",
            "| 25|        IT|  2|    Bob| 60000|\n",
            "| 35|   Finance|  3|Charlie| 70000|\n",
            "| 28| Marketing|  4|  David| 55000|\n",
            "| 32|     Sales|  5|    Eve| 65000|\n",
            "| 40|Operations|  6|  Frank| 72000|\n",
            "| 29|     Legal|  7|  Grace| 58000|\n",
            "| 33|        IT|  8|   Hank| 67000|\n",
            "| 27|        HR|  9|    Ivy| 52000|\n",
            "| 31|   Finance| 10|   Jack| 69000|\n",
            "+---+----------+---+-------+------+\n",
            "\n",
            "root\n",
            " |-- age: long (nullable = true)\n",
            " |-- department: string (nullable = true)\n",
            " |-- id: long (nullable = true)\n",
            " |-- name: string (nullable = true)\n",
            " |-- salary: long (nullable = true)\n",
            "\n"
          ]
        }
      ]
    },
    {
      "cell_type": "code",
      "source": [
        "df2.select('department','salary').groupBy('department').agg(max('salary').alias('Max_salary')).orderBy('department').show()"
      ],
      "metadata": {
        "colab": {
          "base_uri": "https://localhost:8080/"
        },
        "id": "HKs0wXbh086n",
        "outputId": "172913db-dcce-4a26-8dd4-69615b768042"
      },
      "execution_count": 17,
      "outputs": [
        {
          "output_type": "stream",
          "name": "stdout",
          "text": [
            "+----------+----------+\n",
            "|department|Max_salary|\n",
            "+----------+----------+\n",
            "|   Finance|     70000|\n",
            "|        HR|     52000|\n",
            "|        IT|     67000|\n",
            "|     Legal|     58000|\n",
            "| Marketing|     55000|\n",
            "|Operations|     72000|\n",
            "|     Sales|     65000|\n",
            "+----------+----------+\n",
            "\n"
          ]
        }
      ]
    },
    {
      "cell_type": "code",
      "source": [
        "df3=spark.read.format('json') \\\n",
        "              .load('/content/drive/My Drive/Colab Notebooks/Testfiles/JSON/json1/*.json')\n",
        "\n",
        "df3.show()"
      ],
      "metadata": {
        "colab": {
          "base_uri": "https://localhost:8080/"
        },
        "id": "vciDs15o1seq",
        "outputId": "9922c578-03c6-46fd-b9e5-371294c78449"
      },
      "execution_count": 18,
      "outputs": [
        {
          "output_type": "stream",
          "name": "stdout",
          "text": [
            "+---+----------+---+-------+------+\n",
            "|age|department| id|   name|salary|\n",
            "+---+----------+---+-------+------+\n",
            "| 30|        HR|  1|  Alice| 50000|\n",
            "| 25|        IT|  2|    Bob| 60000|\n",
            "| 35|   Finance|  3|Charlie| 70000|\n",
            "| 28| Marketing|  4|  David| 55000|\n",
            "| 32|     Sales|  5|    Eve| 65000|\n",
            "| 40|Operations|  6|  Frank| 72000|\n",
            "| 29|     Legal|  7|  Grace| 58000|\n",
            "| 33|        IT|  8|   Hank| 67000|\n",
            "| 27|        HR|  9|    Ivy| 52000|\n",
            "| 31|   Finance| 10|   Jack| 69000|\n",
            "+---+----------+---+-------+------+\n",
            "\n"
          ]
        }
      ]
    },
    {
      "cell_type": "code",
      "source": [
        "from pyspark.sql.types import *\n",
        "\n",
        "schema=StructType(\n",
        "    [StructField('age',IntegerType(),False),\n",
        "     StructField('department',StringType(),True),\n",
        "     StructField('id',IntegerType(),False),\n",
        "     StructField('name',StringType(),False),\n",
        "     StructField('salary',IntegerType(),False)\n",
        "     ]\n",
        ")\n",
        "\n",
        "\n",
        "df3=spark.read.json('/content/drive/My Drive/Colab Notebooks/Testfiles/JSON/empmulti.json',multiLine=True,schema=schema)\n",
        "\n",
        "df3.show()\n",
        "\n",
        "df3.printSchema()"
      ],
      "metadata": {
        "colab": {
          "base_uri": "https://localhost:8080/"
        },
        "id": "DXZlnkCB14lu",
        "outputId": "2e07aea1-d4ac-4337-d427-0d734d671dc6"
      },
      "execution_count": 24,
      "outputs": [
        {
          "output_type": "stream",
          "name": "stdout",
          "text": [
            "+---+----------+---+-------+------+\n",
            "|age|department| id|   name|salary|\n",
            "+---+----------+---+-------+------+\n",
            "| 30|        HR|  1|  Alice| 50000|\n",
            "| 25|        IT|  2|    Bob| 60000|\n",
            "| 35|   Finance|  3|Charlie| 70000|\n",
            "| 28| Marketing|  4|  David| 55000|\n",
            "| 32|     Sales|  5|    Eve| 65000|\n",
            "| 40|Operations|  6|  Frank| 72000|\n",
            "| 29|     Legal|  7|  Grace| 58000|\n",
            "| 33|        IT|  8|   Hank| 67000|\n",
            "| 27|        HR|  9|    Ivy| 52000|\n",
            "| 31|   Finance| 10|   Jack| 69000|\n",
            "+---+----------+---+-------+------+\n",
            "\n",
            "root\n",
            " |-- age: integer (nullable = true)\n",
            " |-- department: string (nullable = true)\n",
            " |-- id: integer (nullable = true)\n",
            " |-- name: string (nullable = true)\n",
            " |-- salary: integer (nullable = true)\n",
            "\n"
          ]
        }
      ]
    },
    {
      "cell_type": "code",
      "source": [
        "from pyspark.sql.functions import *\n",
        "\n",
        "avg_salary=df3.agg(avg('salary')).first()[0]\n",
        "\n",
        "print(avg_salary)\n",
        "\n",
        "df3.filter(df3.salary>=avg_salary).show()"
      ],
      "metadata": {
        "colab": {
          "base_uri": "https://localhost:8080/"
        },
        "id": "qS7-sGFv5QQP",
        "outputId": "2a06fe81-4aa9-4626-c030-565337fb44e3"
      },
      "execution_count": 32,
      "outputs": [
        {
          "output_type": "stream",
          "name": "stdout",
          "text": [
            "61800.0\n",
            "+---+----------+---+-------+------+\n",
            "|age|department| id|   name|salary|\n",
            "+---+----------+---+-------+------+\n",
            "| 35|   Finance|  3|Charlie| 70000|\n",
            "| 32|     Sales|  5|    Eve| 65000|\n",
            "| 40|Operations|  6|  Frank| 72000|\n",
            "| 33|        IT|  8|   Hank| 67000|\n",
            "| 31|   Finance| 10|   Jack| 69000|\n",
            "+---+----------+---+-------+------+\n",
            "\n"
          ]
        }
      ]
    }
  ]
}