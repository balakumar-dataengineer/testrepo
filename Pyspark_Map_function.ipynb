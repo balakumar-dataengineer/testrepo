{
  "nbformat": 4,
  "nbformat_minor": 0,
  "metadata": {
    "colab": {
      "provenance": [],
      "authorship_tag": "ABX9TyPC3qsFxujHaQEYRi4PohpB",
      "include_colab_link": true
    },
    "kernelspec": {
      "name": "python3",
      "display_name": "Python 3"
    },
    "language_info": {
      "name": "python"
    }
  },
  "cells": [
    {
      "cell_type": "markdown",
      "metadata": {
        "id": "view-in-github",
        "colab_type": "text"
      },
      "source": [
        "<a href=\"https://colab.research.google.com/github/balakumar-dataengineer/testrepo/blob/master/Pyspark_Map_function.ipynb\" target=\"_parent\"><img src=\"https://colab.research.google.com/assets/colab-badge.svg\" alt=\"Open In Colab\"/></a>"
      ]
    },
    {
      "cell_type": "code",
      "source": [
        "from pyspark.sql import SparkSession\n",
        "\n",
        "spark=SparkSession.builder.appName('pyspark') \\\n",
        "                          .master('local') \\\n",
        "                          .getOrCreate()\n",
        "\n",
        "print(spark)"
      ],
      "metadata": {
        "colab": {
          "base_uri": "https://localhost:8080/"
        },
        "id": "lYRF5utRPdNb",
        "outputId": "38e4ca97-3d4b-4051-a5c6-49f00423662d"
      },
      "execution_count": null,
      "outputs": [
        {
          "output_type": "stream",
          "name": "stdout",
          "text": [
            "<pyspark.sql.session.SparkSession object at 0x7f37e3aef490>\n"
          ]
        }
      ]
    },
    {
      "cell_type": "code",
      "source": [
        "data=[\n",
        "    (1,'bala','kumar','male',100000,50000),\n",
        "    (2,'kumar','bala','male',120000,60000)\n",
        "]\n",
        "\n",
        "schema=['id','first_name','last_name','gender','salary','bonus']\n",
        "\n",
        "rdd=spark.sparkContext.parallelize(data)\n",
        "print(rdd.collect())"
      ],
      "metadata": {
        "colab": {
          "base_uri": "https://localhost:8080/"
        },
        "id": "WmFNoLG8PvCE",
        "outputId": "e6749a02-250c-4eff-90a5-3c6716e3456b"
      },
      "execution_count": null,
      "outputs": [
        {
          "output_type": "stream",
          "name": "stdout",
          "text": [
            "[(1, 'bala', 'kumar', 'male', 100000, 50000), (2, 'kumar', 'bala', 'male', 120000, 60000)]\n"
          ]
        }
      ]
    },
    {
      "cell_type": "code",
      "source": [
        "rdd1=rdd.map(lambda x: x+(x[1]+' '+x[2],x[4]+x[5]))\n",
        "print(rdd1.collect())"
      ],
      "metadata": {
        "colab": {
          "base_uri": "https://localhost:8080/"
        },
        "id": "hRoQsxOFRYR7",
        "outputId": "7f8307f8-8d33-47ce-de67-b228fa1692bb"
      },
      "execution_count": null,
      "outputs": [
        {
          "output_type": "stream",
          "name": "stdout",
          "text": [
            "[(1, 'bala', 'kumar', 'male', 100000, 50000, 'bala kumar', 150000), (2, 'kumar', 'bala', 'male', 120000, 60000, 'kumar bala', 180000)]\n"
          ]
        }
      ]
    },
    {
      "cell_type": "code",
      "source": [
        "df=rdd.toDF(schema)\n",
        "df.show()"
      ],
      "metadata": {
        "colab": {
          "base_uri": "https://localhost:8080/"
        },
        "id": "85cc1cczShRi",
        "outputId": "0b146e2d-a485-4efb-b760-8b9beb428c80"
      },
      "execution_count": null,
      "outputs": [
        {
          "output_type": "stream",
          "name": "stdout",
          "text": [
            "+---+----------+---------+------+------+-----+\n",
            "| id|first_name|last_name|gender|salary|bonus|\n",
            "+---+----------+---------+------+------+-----+\n",
            "|  1|      bala|    kumar|  male|100000|50000|\n",
            "|  2|     kumar|     bala|  male|120000|60000|\n",
            "+---+----------+---------+------+------+-----+\n",
            "\n"
          ]
        }
      ]
    },
    {
      "cell_type": "code",
      "source": [
        "def totalSalary(x):\n",
        "  return x[4]+x[5]\n",
        "\n",
        "def fullName(a):\n",
        "  return a[1]+' '+a[2]\n",
        "\n",
        "df=spark.createDataFrame(rdd,schema)\n",
        "rdd1=df.rdd.map(lambda x: x+(totalSalary(x),fullName(x)))\n",
        "print(rdd1.collect())\n",
        "\n",
        "df1=rdd1.toDF(['id','first_name','last_name','gender','salary','bonus','total_salary','full_name'])\n",
        "df1.show()\n"
      ],
      "metadata": {
        "colab": {
          "base_uri": "https://localhost:8080/"
        },
        "id": "sjXPmJRfSqOG",
        "outputId": "1343133b-16aa-422f-d548-7f5eed12c4c3"
      },
      "execution_count": null,
      "outputs": [
        {
          "output_type": "stream",
          "name": "stdout",
          "text": [
            "[(1, 'bala', 'kumar', 'male', 100000, 50000, 150000, 'bala kumar'), (2, 'kumar', 'bala', 'male', 120000, 60000, 180000, 'kumar bala')]\n",
            "+---+----------+---------+------+------+-----+------------+----------+\n",
            "| id|first_name|last_name|gender|salary|bonus|total_salary| full_name|\n",
            "+---+----------+---------+------+------+-----+------------+----------+\n",
            "|  1|      bala|    kumar|  male|100000|50000|      150000|bala kumar|\n",
            "|  2|     kumar|     bala|  male|120000|60000|      180000|kumar bala|\n",
            "+---+----------+---------+------+------+-----+------------+----------+\n",
            "\n"
          ]
        }
      ]
    },
    {
      "cell_type": "code",
      "source": [
        "df.show()\n",
        "rdd2=df.rdd.map(lambda x: x+(x[2]+' '+x[1],x[4]+x[5]))\n",
        "df1=rdd2.toDF(['id','first_name','last_name','gender','salary','bonus','full_name','total_salary']).show()"
      ],
      "metadata": {
        "colab": {
          "base_uri": "https://localhost:8080/"
        },
        "id": "hs5WQxklUecH",
        "outputId": "01de2dc3-4ebb-46b8-9055-488e2b1ef5bd"
      },
      "execution_count": null,
      "outputs": [
        {
          "output_type": "stream",
          "name": "stdout",
          "text": [
            "+---+----------+---------+------+------+-----+\n",
            "| id|first_name|last_name|gender|salary|bonus|\n",
            "+---+----------+---------+------+------+-----+\n",
            "|  1|      bala|    kumar|  male|100000|50000|\n",
            "|  2|     kumar|     bala|  male|120000|60000|\n",
            "+---+----------+---------+------+------+-----+\n",
            "\n",
            "+---+----------+---------+------+------+-----+----------+------------+\n",
            "| id|first_name|last_name|gender|salary|bonus| full_name|total_salary|\n",
            "+---+----------+---------+------+------+-----+----------+------------+\n",
            "|  1|      bala|    kumar|  male|100000|50000|kumar bala|      150000|\n",
            "|  2|     kumar|     bala|  male|120000|60000|bala kumar|      180000|\n",
            "+---+----------+---------+------+------+-----+----------+------------+\n",
            "\n"
          ]
        }
      ]
    }
  ]
}