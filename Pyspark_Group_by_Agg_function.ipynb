{
  "nbformat": 4,
  "nbformat_minor": 0,
  "metadata": {
    "colab": {
      "provenance": [],
      "authorship_tag": "ABX9TyOziqA6WZ02a1GCPxsxvj/F",
      "include_colab_link": true
    },
    "kernelspec": {
      "name": "python3",
      "display_name": "Python 3"
    },
    "language_info": {
      "name": "python"
    }
  },
  "cells": [
    {
      "cell_type": "markdown",
      "metadata": {
        "id": "view-in-github",
        "colab_type": "text"
      },
      "source": [
        "<a href=\"https://colab.research.google.com/github/balakumar-dataengineer/testrepo/blob/master/Pyspark_Group_by_Agg_function.ipynb\" target=\"_parent\"><img src=\"https://colab.research.google.com/assets/colab-badge.svg\" alt=\"Open In Colab\"/></a>"
      ]
    },
    {
      "cell_type": "code",
      "execution_count": 1,
      "metadata": {
        "colab": {
          "base_uri": "https://localhost:8080/"
        },
        "id": "vE6AqAfqTQ0U",
        "outputId": "e80b1c53-8705-4149-82f5-f6b780e3979a"
      },
      "outputs": [
        {
          "output_type": "stream",
          "name": "stdout",
          "text": [
            "<pyspark.sql.session.SparkSession object at 0x7c18125aea90>\n"
          ]
        }
      ],
      "source": [
        "from pyspark.sql import SparkSession\n",
        "\n",
        "spark=SparkSession.builder.appName('pyspark') \\\n",
        "                          .master('local') \\\n",
        "                          .getOrCreate()\n",
        "\n",
        "print(spark)"
      ]
    },
    {
      "cell_type": "code",
      "source": [
        "data=[\n",
        "    (101, \"Alice\", \"HR\", 60000, \"2020-01-15\"),\n",
        "    (102, \"Bob\", \"Finance\", 75000, \"2019-03-25\"),\n",
        "    (103, \"Charlie\", \"IT\", 90000, \"2018-07-10\"),\n",
        "    (104, \"David\", \"Marketing\", 50000, \"2021-06-20\"),\n",
        "    (105, \"Emma\", \"HR\", 62000, \"2017-09-15\"),\n",
        "    (106, \"Frank\", \"Finance\", 80000, \"2022-02-10\"),\n",
        "    (107, \"Grace\", \"IT\", 95000, \"2016-11-30\"),\n",
        "    (108, \"Harry\", \"Marketing\", 48000, \"2020-12-05\"),\n",
        "    (109, \"Ivy\", \"HR\", 58000, \"2019-08-01\"),\n",
        "    (110, \"Jack\", \"Finance\", 82000, \"2015-05-21\"),\n",
        "    (111, \"Kathy\", \"IT\", 88000, \"2018-10-10\"),\n",
        "    (112, \"Leo\", \"Marketing\", 52000, \"2021-04-11\"),\n",
        "    (113, \"Mona\", \"HR\", 61000, \"2020-06-30\"),\n",
        "    (114, \"Nina\", \"Finance\", 78000, \"2017-12-01\"),\n",
        "    (115, \"Oscar\", \"IT\", 92000, \"2019-01-05\"),\n",
        "    (116, \"Peter\", \"Marketing\", 51000, \"2016-09-22\"),\n",
        "    (117, \"Quincy\", \"HR\", 59000, \"2021-07-18\"),\n",
        "    (118, \"Rachel\", \"Finance\", 77000, \"2023-01-12\"),\n",
        "    (119, \"Steve\", \"IT\", 91000, \"2015-11-05\"),\n",
        "    (120, \"Tom\", \"Marketing\", 53000, \"2019-02-28\")\n",
        "]\n",
        "\n",
        "schema=['employeeId','employeeName','department','salary','hireDate']\n",
        "\n",
        "df=spark.createDataFrame(data,schema)\n",
        "df.show()"
      ],
      "metadata": {
        "colab": {
          "base_uri": "https://localhost:8080/"
        },
        "id": "sucBH_eCTl-T",
        "outputId": "6b3f8ca5-14d3-4c9a-aa12-06af63f18285"
      },
      "execution_count": 3,
      "outputs": [
        {
          "output_type": "stream",
          "name": "stdout",
          "text": [
            "+----------+------------+----------+------+----------+\n",
            "|employeeId|employeeName|department|salary|  hireDate|\n",
            "+----------+------------+----------+------+----------+\n",
            "|       101|       Alice|        HR| 60000|2020-01-15|\n",
            "|       102|         Bob|   Finance| 75000|2019-03-25|\n",
            "|       103|     Charlie|        IT| 90000|2018-07-10|\n",
            "|       104|       David| Marketing| 50000|2021-06-20|\n",
            "|       105|        Emma|        HR| 62000|2017-09-15|\n",
            "|       106|       Frank|   Finance| 80000|2022-02-10|\n",
            "|       107|       Grace|        IT| 95000|2016-11-30|\n",
            "|       108|       Harry| Marketing| 48000|2020-12-05|\n",
            "|       109|         Ivy|        HR| 58000|2019-08-01|\n",
            "|       110|        Jack|   Finance| 82000|2015-05-21|\n",
            "|       111|       Kathy|        IT| 88000|2018-10-10|\n",
            "|       112|         Leo| Marketing| 52000|2021-04-11|\n",
            "|       113|        Mona|        HR| 61000|2020-06-30|\n",
            "|       114|        Nina|   Finance| 78000|2017-12-01|\n",
            "|       115|       Oscar|        IT| 92000|2019-01-05|\n",
            "|       116|       Peter| Marketing| 51000|2016-09-22|\n",
            "|       117|      Quincy|        HR| 59000|2021-07-18|\n",
            "|       118|      Rachel|   Finance| 77000|2023-01-12|\n",
            "|       119|       Steve|        IT| 91000|2015-11-05|\n",
            "|       120|         Tom| Marketing| 53000|2019-02-28|\n",
            "+----------+------------+----------+------+----------+\n",
            "\n"
          ]
        }
      ]
    },
    {
      "cell_type": "code",
      "source": [
        "from pyspark.sql.functions import avg,count,min,max,sum\n",
        "\n",
        "df.groupBy('department') \\\n",
        "  .agg(sum('salary').alias('totalDepSalary'),\n",
        "       min('salary').alias('minDepSalary'),\n",
        "       max('salary').alias('maxDepSalary'),\n",
        "       avg('salary').alias('avgDepSalary'),\n",
        "       count('*').alias('empCount')) \\\n",
        "  .show()"
      ],
      "metadata": {
        "colab": {
          "base_uri": "https://localhost:8080/"
        },
        "id": "opZGhirAUOTh",
        "outputId": "d83cede4-ca2b-4bc7-8e6a-250cff9a37c3"
      },
      "execution_count": 9,
      "outputs": [
        {
          "output_type": "stream",
          "name": "stdout",
          "text": [
            "+----------+--------------+------------+------------+------------+--------+\n",
            "|department|totalDepSalary|minDepSalary|maxDepSalary|avgDepSalary|empCount|\n",
            "+----------+--------------+------------+------------+------------+--------+\n",
            "|        HR|        300000|       58000|       62000|     60000.0|       5|\n",
            "|   Finance|        392000|       75000|       82000|     78400.0|       5|\n",
            "| Marketing|        254000|       48000|       53000|     50800.0|       5|\n",
            "|        IT|        456000|       88000|       95000|     91200.0|       5|\n",
            "+----------+--------------+------------+------------+------------+--------+\n",
            "\n"
          ]
        }
      ]
    }
  ]
}