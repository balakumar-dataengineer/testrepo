{
  "nbformat": 4,
  "nbformat_minor": 0,
  "metadata": {
    "colab": {
      "provenance": [],
      "authorship_tag": "ABX9TyMFZggY89dTzRFWcpdaUalL",
      "include_colab_link": true
    },
    "kernelspec": {
      "name": "python3",
      "display_name": "Python 3"
    },
    "language_info": {
      "name": "python"
    }
  },
  "cells": [
    {
      "cell_type": "markdown",
      "metadata": {
        "id": "view-in-github",
        "colab_type": "text"
      },
      "source": [
        "<a href=\"https://colab.research.google.com/github/balakumar-dataengineer/testrepo/blob/master/Pyspark_Distinct_and_DropDuplicates_functions.ipynb\" target=\"_parent\"><img src=\"https://colab.research.google.com/assets/colab-badge.svg\" alt=\"Open In Colab\"/></a>"
      ]
    },
    {
      "cell_type": "code",
      "execution_count": 1,
      "metadata": {
        "colab": {
          "base_uri": "https://localhost:8080/"
        },
        "id": "G5zf5X-h1zfx",
        "outputId": "3f678bda-00e7-474b-bd41-8d4abaf414b6"
      },
      "outputs": [
        {
          "output_type": "stream",
          "name": "stdout",
          "text": [
            "<pyspark.sql.session.SparkSession object at 0x78ff9476af10>\n"
          ]
        }
      ],
      "source": [
        "from pyspark.sql import SparkSession\n",
        "\n",
        "spark=SparkSession.builder.appName('Pyspark') \\\n",
        "                          .master('local') \\\n",
        "                          .getOrCreate()\n",
        "\n",
        "print(spark)"
      ]
    },
    {
      "cell_type": "code",
      "source": [
        "data=[\n",
        "    (1,'bala','male',25),\n",
        "    (1,'bala','male',25),\n",
        "    (2,'kumar','male',25),\n",
        "    (3,'balakumar','male',25),\n",
        "    (3,'balakumar','male',25),\n",
        "    (4,'anu','female',22),\n",
        "    (4,'anu','female',22),\n",
        "    (5,'narmi','female',23)\n",
        "]\n",
        "\n",
        "schema=['id','name','gender','age']\n",
        "\n",
        "df=spark.createDataFrame(data,schema)\n",
        "\n",
        "df.show()\n",
        "\n"
      ],
      "metadata": {
        "colab": {
          "base_uri": "https://localhost:8080/"
        },
        "id": "E3GjEO1e2R-u",
        "outputId": "bdba6191-74cb-4329-a651-5a1a691b646f"
      },
      "execution_count": 3,
      "outputs": [
        {
          "output_type": "stream",
          "name": "stdout",
          "text": [
            "+---+---------+------+---+\n",
            "| id|     name|gender|age|\n",
            "+---+---------+------+---+\n",
            "|  1|     bala|  male| 25|\n",
            "|  1|     bala|  male| 25|\n",
            "|  2|    kumar|  male| 25|\n",
            "|  3|balakumar|  male| 25|\n",
            "|  3|balakumar|  male| 25|\n",
            "|  4|      anu|female| 22|\n",
            "|  4|      anu|female| 22|\n",
            "|  5|    narmi|female| 23|\n",
            "+---+---------+------+---+\n",
            "\n"
          ]
        }
      ]
    },
    {
      "cell_type": "code",
      "source": [
        "df.distinct().show()"
      ],
      "metadata": {
        "colab": {
          "base_uri": "https://localhost:8080/"
        },
        "id": "uD6XONqz3DWj",
        "outputId": "5fbff264-51ff-4336-b71a-340f0cef233e"
      },
      "execution_count": 7,
      "outputs": [
        {
          "output_type": "stream",
          "name": "stdout",
          "text": [
            "+---+---------+------+---+\n",
            "| id|     name|gender|age|\n",
            "+---+---------+------+---+\n",
            "|  3|balakumar|  male| 25|\n",
            "|  2|    kumar|  male| 25|\n",
            "|  5|    narmi|female| 23|\n",
            "|  1|     bala|  male| 25|\n",
            "|  4|      anu|female| 22|\n",
            "+---+---------+------+---+\n",
            "\n"
          ]
        }
      ]
    },
    {
      "cell_type": "code",
      "source": [
        "df.dropDuplicates().show()"
      ],
      "metadata": {
        "colab": {
          "base_uri": "https://localhost:8080/"
        },
        "id": "7SMkoZut3MAA",
        "outputId": "a6de41d3-076e-48b4-c820-9003a3dac3ed"
      },
      "execution_count": 8,
      "outputs": [
        {
          "output_type": "stream",
          "name": "stdout",
          "text": [
            "+---+---------+------+---+\n",
            "| id|     name|gender|age|\n",
            "+---+---------+------+---+\n",
            "|  3|balakumar|  male| 25|\n",
            "|  2|    kumar|  male| 25|\n",
            "|  5|    narmi|female| 23|\n",
            "|  1|     bala|  male| 25|\n",
            "|  4|      anu|female| 22|\n",
            "+---+---------+------+---+\n",
            "\n"
          ]
        }
      ]
    },
    {
      "cell_type": "code",
      "source": [
        "df.dropDuplicates(['age','gender']).show()"
      ],
      "metadata": {
        "colab": {
          "base_uri": "https://localhost:8080/"
        },
        "id": "fZH7CeXi3W-n",
        "outputId": "c7e2ba80-a4ab-441d-a702-6e7199f8e058"
      },
      "execution_count": 16,
      "outputs": [
        {
          "output_type": "stream",
          "name": "stdout",
          "text": [
            "+---+-----+------+---+\n",
            "| id| name|gender|age|\n",
            "+---+-----+------+---+\n",
            "|  4|  anu|female| 22|\n",
            "|  5|narmi|female| 23|\n",
            "|  1| bala|  male| 25|\n",
            "+---+-----+------+---+\n",
            "\n"
          ]
        }
      ]
    }
  ]
}