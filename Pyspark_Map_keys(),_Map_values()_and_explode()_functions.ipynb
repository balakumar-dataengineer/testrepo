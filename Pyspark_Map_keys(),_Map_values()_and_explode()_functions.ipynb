{
  "nbformat": 4,
  "nbformat_minor": 0,
  "metadata": {
    "colab": {
      "provenance": [],
      "authorship_tag": "ABX9TyPXIjzZr2LcvgOGKw12gFoY",
      "include_colab_link": true
    },
    "kernelspec": {
      "name": "python3",
      "display_name": "Python 3"
    },
    "language_info": {
      "name": "python"
    }
  },
  "cells": [
    {
      "cell_type": "markdown",
      "metadata": {
        "id": "view-in-github",
        "colab_type": "text"
      },
      "source": [
        "<a href=\"https://colab.research.google.com/github/balakumar-dataengineer/testrepo/blob/master/Pyspark_Map_keys()%2C_Map_values()_and_explode()_functions.ipynb\" target=\"_parent\"><img src=\"https://colab.research.google.com/assets/colab-badge.svg\" alt=\"Open In Colab\"/></a>"
      ]
    },
    {
      "cell_type": "code",
      "execution_count": 1,
      "metadata": {
        "colab": {
          "base_uri": "https://localhost:8080/"
        },
        "id": "3j0_A-W_edsJ",
        "outputId": "98f446fe-5984-46b3-8017-80e04c322a36"
      },
      "outputs": [
        {
          "output_type": "stream",
          "name": "stdout",
          "text": [
            "<pyspark.sql.session.SparkSession object at 0x7c2f3679b450>\n"
          ]
        }
      ],
      "source": [
        "from pyspark.sql import SparkSession\n",
        "\n",
        "spark=SparkSession.builder.appName('Pyspark') \\\n",
        "                          .master('local') \\\n",
        "                          .getOrCreate()\n",
        "\n",
        "print(spark)"
      ]
    },
    {
      "cell_type": "code",
      "source": [
        "from pyspark.sql.functions import explode,map_keys,map_values\n",
        "from pyspark.sql.types import StructType,StructField,StringType,LongType,MapType,IntegerType\n",
        "\n",
        "data=[\n",
        "    (1, 'bala',{\"Primary\": \"Python\", \"Secondary\": \"SQL\"}),\n",
        "    (2, 'kumar',{\"Primary\": \"Java\", \"Secondary\": \"Scala\"})\n",
        "]\n",
        "\n",
        "schema=StructType([\n",
        "    StructField('id',IntegerType(),True),\n",
        "    StructField('name',StringType(),True),\n",
        "    StructField('skills',MapType(StringType(),StringType()))\n",
        "])\n",
        "\n",
        "df=spark.createDataFrame(data,schema)\n",
        "df.show(truncate=False)\n",
        "df.printSchema()"
      ],
      "metadata": {
        "colab": {
          "base_uri": "https://localhost:8080/"
        },
        "id": "XnwZbaFSiHb8",
        "outputId": "37f95b83-f885-43bf-ea55-85e91286d46c"
      },
      "execution_count": 4,
      "outputs": [
        {
          "output_type": "stream",
          "name": "stdout",
          "text": [
            "+---+-----+-------------------------------------+\n",
            "|id |name |skills                               |\n",
            "+---+-----+-------------------------------------+\n",
            "|1  |bala |{Secondary -> SQL, Primary -> Python}|\n",
            "|2  |kumar|{Secondary -> Scala, Primary -> Java}|\n",
            "+---+-----+-------------------------------------+\n",
            "\n",
            "root\n",
            " |-- id: integer (nullable = true)\n",
            " |-- name: string (nullable = true)\n",
            " |-- skills: map (nullable = true)\n",
            " |    |-- key: string\n",
            " |    |-- value: string (valueContainsNull = true)\n",
            "\n"
          ]
        }
      ]
    },
    {
      "cell_type": "code",
      "source": [
        "df1=df.select('id','name',explode(df.skills),map_keys('skills').alias('Akey'),map_values('skills').alias('Avalue'))\n",
        "df1.show()"
      ],
      "metadata": {
        "colab": {
          "base_uri": "https://localhost:8080/"
        },
        "id": "6mSmrYZ8jjkE",
        "outputId": "753d72d7-0d2c-437d-e4ff-b4e6e955c36a"
      },
      "execution_count": 11,
      "outputs": [
        {
          "output_type": "stream",
          "name": "stdout",
          "text": [
            "+---+-----+---------+------+--------------------+-------------+\n",
            "| id| name|      key| value|                Akey|       Avalue|\n",
            "+---+-----+---------+------+--------------------+-------------+\n",
            "|  1| bala|Secondary|   SQL|[Secondary, Primary]|[SQL, Python]|\n",
            "|  1| bala|  Primary|Python|[Secondary, Primary]|[SQL, Python]|\n",
            "|  2|kumar|Secondary| Scala|[Secondary, Primary]|[Scala, Java]|\n",
            "|  2|kumar|  Primary|  Java|[Secondary, Primary]|[Scala, Java]|\n",
            "+---+-----+---------+------+--------------------+-------------+\n",
            "\n"
          ]
        }
      ]
    }
  ]
}