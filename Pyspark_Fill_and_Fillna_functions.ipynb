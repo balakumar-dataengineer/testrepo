{
  "nbformat": 4,
  "nbformat_minor": 0,
  "metadata": {
    "colab": {
      "provenance": [],
      "authorship_tag": "ABX9TyPDNbNGtLWVKqVS3+wrpEne",
      "include_colab_link": true
    },
    "kernelspec": {
      "name": "python3",
      "display_name": "Python 3"
    },
    "language_info": {
      "name": "python"
    }
  },
  "cells": [
    {
      "cell_type": "markdown",
      "metadata": {
        "id": "view-in-github",
        "colab_type": "text"
      },
      "source": [
        "<a href=\"https://colab.research.google.com/github/balakumar-dataengineer/testrepo/blob/master/Pyspark_Fill_and_Fillna_functions.ipynb\" target=\"_parent\"><img src=\"https://colab.research.google.com/assets/colab-badge.svg\" alt=\"Open In Colab\"/></a>"
      ]
    },
    {
      "cell_type": "code",
      "execution_count": 1,
      "metadata": {
        "colab": {
          "base_uri": "https://localhost:8080/"
        },
        "id": "nyCjFkc74RU0",
        "outputId": "a624c3f0-5c4d-4d5e-e59e-15f7df0dc70e"
      },
      "outputs": [
        {
          "output_type": "stream",
          "name": "stdout",
          "text": [
            "<pyspark.sql.session.SparkSession object at 0x7c7e2c3e0dd0>\n"
          ]
        }
      ],
      "source": [
        "from pyspark.sql import SparkSession\n",
        "\n",
        "spark=SparkSession.builder.appName('pyspark') \\\n",
        "                          .master('local') \\\n",
        "                          .getOrCreate()\n",
        "\n",
        "print(spark)"
      ]
    },
    {
      "cell_type": "code",
      "source": [
        "data=[\n",
        "    (1,'bala','male',None,None),\n",
        "    (2,'kumar','male',25,20000),\n",
        "    (3,'balakumar',None,26,30000)\n",
        "]\n",
        "\n",
        "schema=['id','name','gender','age','salary']\n",
        "\n",
        "df = spark.createDataFrame(data,schema)\n",
        "\n",
        "df.show()\n",
        "df.printSchema()"
      ],
      "metadata": {
        "colab": {
          "base_uri": "https://localhost:8080/"
        },
        "id": "5CIP03KO4k3r",
        "outputId": "fde72905-6c87-4d06-c041-e08ac15313dc"
      },
      "execution_count": 3,
      "outputs": [
        {
          "output_type": "stream",
          "name": "stdout",
          "text": [
            "+---+---------+------+----+------+\n",
            "| id|     name|gender| age|salary|\n",
            "+---+---------+------+----+------+\n",
            "|  1|     bala|  male|NULL|  NULL|\n",
            "|  2|    kumar|  male|  25| 20000|\n",
            "|  3|balakumar|  NULL|  26| 30000|\n",
            "+---+---------+------+----+------+\n",
            "\n",
            "root\n",
            " |-- id: long (nullable = true)\n",
            " |-- name: string (nullable = true)\n",
            " |-- gender: string (nullable = true)\n",
            " |-- age: long (nullable = true)\n",
            " |-- salary: long (nullable = true)\n",
            "\n"
          ]
        }
      ]
    },
    {
      "cell_type": "code",
      "source": [
        "df.na.fill('male').show()\n",
        "df.fillna(25,'age').show()\n",
        "df.fillna(30000,'salary').show()"
      ],
      "metadata": {
        "colab": {
          "base_uri": "https://localhost:8080/"
        },
        "id": "TB4ChqGV5M2n",
        "outputId": "3eafaa3c-1b62-45f7-ca23-b1b6f3c7d0fe"
      },
      "execution_count": 7,
      "outputs": [
        {
          "output_type": "stream",
          "name": "stdout",
          "text": [
            "+---+---------+------+----+------+\n",
            "| id|     name|gender| age|salary|\n",
            "+---+---------+------+----+------+\n",
            "|  1|     bala|  male|NULL|  NULL|\n",
            "|  2|    kumar|  male|  25| 20000|\n",
            "|  3|balakumar|  male|  26| 30000|\n",
            "+---+---------+------+----+------+\n",
            "\n",
            "+---+---------+------+---+------+\n",
            "| id|     name|gender|age|salary|\n",
            "+---+---------+------+---+------+\n",
            "|  1|     bala|  male| 25|  NULL|\n",
            "|  2|    kumar|  male| 25| 20000|\n",
            "|  3|balakumar|  NULL| 26| 30000|\n",
            "+---+---------+------+---+------+\n",
            "\n",
            "+---+---------+------+----+------+\n",
            "| id|     name|gender| age|salary|\n",
            "+---+---------+------+----+------+\n",
            "|  1|     bala|  male|NULL| 30000|\n",
            "|  2|    kumar|  male|  25| 20000|\n",
            "|  3|balakumar|  NULL|  26| 30000|\n",
            "+---+---------+------+----+------+\n",
            "\n"
          ]
        }
      ]
    },
    {
      "cell_type": "code",
      "source": [
        "df.fillna('male','gender') \\\n",
        "  .fillna(25,'age') \\\n",
        "  .fillna(20000,'salary').show()"
      ],
      "metadata": {
        "colab": {
          "base_uri": "https://localhost:8080/"
        },
        "id": "fGHzKTPd5kF-",
        "outputId": "19b22e16-7c32-42c8-ce4c-4a34925c2aed"
      },
      "execution_count": 10,
      "outputs": [
        {
          "output_type": "stream",
          "name": "stdout",
          "text": [
            "+---+---------+------+---+------+\n",
            "| id|     name|gender|age|salary|\n",
            "+---+---------+------+---+------+\n",
            "|  1|     bala|  male| 25| 20000|\n",
            "|  2|    kumar|  male| 25| 20000|\n",
            "|  3|balakumar|  male| 26| 30000|\n",
            "+---+---------+------+---+------+\n",
            "\n"
          ]
        }
      ]
    },
    {
      "cell_type": "code",
      "source": [
        "df.fillna({'age':25,'salary':300000,'gender':'male'}).show()"
      ],
      "metadata": {
        "colab": {
          "base_uri": "https://localhost:8080/"
        },
        "id": "gnf1KXan55Tl",
        "outputId": "af85ddb0-3495-4894-944a-4e4444a524a5"
      },
      "execution_count": 11,
      "outputs": [
        {
          "output_type": "stream",
          "name": "stdout",
          "text": [
            "+---+---------+------+---+------+\n",
            "| id|     name|gender|age|salary|\n",
            "+---+---------+------+---+------+\n",
            "|  1|     bala|  male| 25|300000|\n",
            "|  2|    kumar|  male| 25| 20000|\n",
            "|  3|balakumar|  male| 26| 30000|\n",
            "+---+---------+------+---+------+\n",
            "\n"
          ]
        }
      ]
    },
    {
      "cell_type": "code",
      "source": [
        "df.na.drop().show()"
      ],
      "metadata": {
        "colab": {
          "base_uri": "https://localhost:8080/"
        },
        "id": "2bh592ZM6FHG",
        "outputId": "3f67fc11-954d-4204-cb05-b25a3f24f5ec"
      },
      "execution_count": 12,
      "outputs": [
        {
          "output_type": "stream",
          "name": "stdout",
          "text": [
            "+---+-----+------+---+------+\n",
            "| id| name|gender|age|salary|\n",
            "+---+-----+------+---+------+\n",
            "|  2|kumar|  male| 25| 20000|\n",
            "+---+-----+------+---+------+\n",
            "\n"
          ]
        }
      ]
    },
    {
      "cell_type": "code",
      "source": [
        "df.na.replace(20000,25*1.3,'salary').show()"
      ],
      "metadata": {
        "colab": {
          "base_uri": "https://localhost:8080/"
        },
        "id": "NMuimJrg6KFd",
        "outputId": "7ae88006-5e36-40df-d361-987e20127f2a"
      },
      "execution_count": 19,
      "outputs": [
        {
          "output_type": "stream",
          "name": "stdout",
          "text": [
            "+---+---------+------+----+------+\n",
            "| id|     name|gender| age|salary|\n",
            "+---+---------+------+----+------+\n",
            "|  1|     bala|  male|NULL|  NULL|\n",
            "|  2|    kumar|  male|  25|    32|\n",
            "|  3|balakumar|  NULL|  26| 30000|\n",
            "+---+---------+------+----+------+\n",
            "\n"
          ]
        }
      ]
    }
  ]
}