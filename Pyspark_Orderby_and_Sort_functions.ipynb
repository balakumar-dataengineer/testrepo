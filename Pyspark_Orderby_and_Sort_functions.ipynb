{
  "nbformat": 4,
  "nbformat_minor": 0,
  "metadata": {
    "colab": {
      "provenance": [],
      "authorship_tag": "ABX9TyOPfP7AGcuiBTtHK6A+zLyR",
      "include_colab_link": true
    },
    "kernelspec": {
      "name": "python3",
      "display_name": "Python 3"
    },
    "language_info": {
      "name": "python"
    }
  },
  "cells": [
    {
      "cell_type": "markdown",
      "metadata": {
        "id": "view-in-github",
        "colab_type": "text"
      },
      "source": [
        "<a href=\"https://colab.research.google.com/github/balakumar-dataengineer/testrepo/blob/master/Pyspark_Orderby_and_Sort_functions.ipynb\" target=\"_parent\"><img src=\"https://colab.research.google.com/assets/colab-badge.svg\" alt=\"Open In Colab\"/></a>"
      ]
    },
    {
      "cell_type": "code",
      "execution_count": 1,
      "metadata": {
        "colab": {
          "base_uri": "https://localhost:8080/"
        },
        "id": "XW7nf-7rYkEx",
        "outputId": "667fe1e4-ff0f-4e8c-f3d6-d59ec10cb279"
      },
      "outputs": [
        {
          "output_type": "stream",
          "name": "stdout",
          "text": [
            "<pyspark.sql.session.SparkSession object at 0x7e06c0593ad0>\n"
          ]
        }
      ],
      "source": [
        "from pyspark.sql import SparkSession\n",
        "\n",
        "spark=SparkSession.builder.appName('Pyspark') \\\n",
        "                          .master('local') \\\n",
        "                          .getOrCreate()\n",
        "\n",
        "print(spark)"
      ]
    },
    {
      "cell_type": "code",
      "source": [
        "data=[\n",
        "    (1,'bala','male',25),\n",
        "    (2,'kumar','male',24),\n",
        "    (3,'balakumar','male','26'),\n",
        "    (4,'kumarbala','male','23')\n",
        "]\n",
        "\n",
        "schema=['id','name','gender','age']\n",
        "\n",
        "df=spark.createDataFrame(data,schema)\n",
        "df.show()"
      ],
      "metadata": {
        "colab": {
          "base_uri": "https://localhost:8080/"
        },
        "id": "Flcvzv-iZB8C",
        "outputId": "0d62d1c6-b90a-4d91-ea63-ebe39513636a"
      },
      "execution_count": 2,
      "outputs": [
        {
          "output_type": "stream",
          "name": "stdout",
          "text": [
            "+---+---------+------+---+\n",
            "| id|     name|gender|age|\n",
            "+---+---------+------+---+\n",
            "|  1|     bala|  male| 25|\n",
            "|  2|    kumar|  male| 24|\n",
            "|  3|balakumar|  male| 26|\n",
            "|  4|kumarbala|  male| 23|\n",
            "+---+---------+------+---+\n",
            "\n"
          ]
        }
      ]
    },
    {
      "cell_type": "code",
      "source": [
        "df.sort(df.name.asc()).show()"
      ],
      "metadata": {
        "colab": {
          "base_uri": "https://localhost:8080/"
        },
        "id": "1_KIxTBDZvwa",
        "outputId": "7fef999a-4e24-41ea-eb04-8096a206aedf"
      },
      "execution_count": 3,
      "outputs": [
        {
          "output_type": "stream",
          "name": "stdout",
          "text": [
            "+---+---------+------+---+\n",
            "| id|     name|gender|age|\n",
            "+---+---------+------+---+\n",
            "|  1|     bala|  male| 25|\n",
            "|  3|balakumar|  male| 26|\n",
            "|  2|    kumar|  male| 24|\n",
            "|  4|kumarbala|  male| 23|\n",
            "+---+---------+------+---+\n",
            "\n"
          ]
        }
      ]
    },
    {
      "cell_type": "code",
      "source": [
        "df.sort(df['name'].desc()).show()"
      ],
      "metadata": {
        "colab": {
          "base_uri": "https://localhost:8080/"
        },
        "id": "nw2Of3KgZ56H",
        "outputId": "3ef18cca-b13f-4ad4-ec0d-1cc8ee380224"
      },
      "execution_count": 4,
      "outputs": [
        {
          "output_type": "stream",
          "name": "stdout",
          "text": [
            "+---+---------+------+---+\n",
            "| id|     name|gender|age|\n",
            "+---+---------+------+---+\n",
            "|  4|kumarbala|  male| 23|\n",
            "|  2|    kumar|  male| 24|\n",
            "|  3|balakumar|  male| 26|\n",
            "|  1|     bala|  male| 25|\n",
            "+---+---------+------+---+\n",
            "\n"
          ]
        }
      ]
    },
    {
      "cell_type": "code",
      "source": [
        "from pyspark.sql.functions import col\n",
        "\n",
        "df.sort(col('name').asc()).show()"
      ],
      "metadata": {
        "colab": {
          "base_uri": "https://localhost:8080/"
        },
        "id": "HqVTBAmHaBeI",
        "outputId": "5f26acc9-6c69-4e5e-ba6c-ce0e09ba913f"
      },
      "execution_count": 5,
      "outputs": [
        {
          "output_type": "stream",
          "name": "stdout",
          "text": [
            "+---+---------+------+---+\n",
            "| id|     name|gender|age|\n",
            "+---+---------+------+---+\n",
            "|  1|     bala|  male| 25|\n",
            "|  3|balakumar|  male| 26|\n",
            "|  2|    kumar|  male| 24|\n",
            "|  4|kumarbala|  male| 23|\n",
            "+---+---------+------+---+\n",
            "\n"
          ]
        }
      ]
    },
    {
      "cell_type": "code",
      "source": [
        "df.orderBy(df.age.asc()).show()"
      ],
      "metadata": {
        "colab": {
          "base_uri": "https://localhost:8080/"
        },
        "id": "XI0cDwD7aM26",
        "outputId": "e4e33b41-85c0-4814-cf39-ec3369865622"
      },
      "execution_count": 6,
      "outputs": [
        {
          "output_type": "stream",
          "name": "stdout",
          "text": [
            "+---+---------+------+---+\n",
            "| id|     name|gender|age|\n",
            "+---+---------+------+---+\n",
            "|  4|kumarbala|  male| 23|\n",
            "|  2|    kumar|  male| 24|\n",
            "|  1|     bala|  male| 25|\n",
            "|  3|balakumar|  male| 26|\n",
            "+---+---------+------+---+\n",
            "\n"
          ]
        }
      ]
    },
    {
      "cell_type": "code",
      "source": [
        "df.orderBy(df['age'].desc()).show()"
      ],
      "metadata": {
        "colab": {
          "base_uri": "https://localhost:8080/"
        },
        "id": "VLohdz52aW07",
        "outputId": "d711f0bf-eb52-4869-a197-b2a29e705da8"
      },
      "execution_count": 7,
      "outputs": [
        {
          "output_type": "stream",
          "name": "stdout",
          "text": [
            "+---+---------+------+---+\n",
            "| id|     name|gender|age|\n",
            "+---+---------+------+---+\n",
            "|  3|balakumar|  male| 26|\n",
            "|  1|     bala|  male| 25|\n",
            "|  2|    kumar|  male| 24|\n",
            "|  4|kumarbala|  male| 23|\n",
            "+---+---------+------+---+\n",
            "\n"
          ]
        }
      ]
    },
    {
      "cell_type": "code",
      "source": [
        "df.orderBy(col('age').asc()).show()"
      ],
      "metadata": {
        "colab": {
          "base_uri": "https://localhost:8080/"
        },
        "id": "LAKm-eL1aeSH",
        "outputId": "f1c1d0cb-4273-4363-c247-0ae6a81a7451"
      },
      "execution_count": 8,
      "outputs": [
        {
          "output_type": "stream",
          "name": "stdout",
          "text": [
            "+---+---------+------+---+\n",
            "| id|     name|gender|age|\n",
            "+---+---------+------+---+\n",
            "|  4|kumarbala|  male| 23|\n",
            "|  2|    kumar|  male| 24|\n",
            "|  1|     bala|  male| 25|\n",
            "|  3|balakumar|  male| 26|\n",
            "+---+---------+------+---+\n",
            "\n"
          ]
        }
      ]
    },
    {
      "cell_type": "code",
      "source": [
        "df.orderBy(df.age,ascending=True).show()"
      ],
      "metadata": {
        "colab": {
          "base_uri": "https://localhost:8080/"
        },
        "id": "bCjjlkZ0amHT",
        "outputId": "64d4b961-f5a1-444e-9d49-2786a0c130c0"
      },
      "execution_count": 10,
      "outputs": [
        {
          "output_type": "stream",
          "name": "stdout",
          "text": [
            "+---+---------+------+---+\n",
            "| id|     name|gender|age|\n",
            "+---+---------+------+---+\n",
            "|  4|kumarbala|  male| 23|\n",
            "|  2|    kumar|  male| 24|\n",
            "|  1|     bala|  male| 25|\n",
            "|  3|balakumar|  male| 26|\n",
            "+---+---------+------+---+\n",
            "\n"
          ]
        }
      ]
    },
    {
      "cell_type": "code",
      "source": [
        "df.sort(df['age'],ascending=False).show()"
      ],
      "metadata": {
        "colab": {
          "base_uri": "https://localhost:8080/"
        },
        "id": "Wc_2_I6oazvR",
        "outputId": "4b6a3e56-fb5e-47e5-c4bc-3cc46777bb6a"
      },
      "execution_count": 11,
      "outputs": [
        {
          "output_type": "stream",
          "name": "stdout",
          "text": [
            "+---+---------+------+---+\n",
            "| id|     name|gender|age|\n",
            "+---+---------+------+---+\n",
            "|  3|balakumar|  male| 26|\n",
            "|  1|     bala|  male| 25|\n",
            "|  2|    kumar|  male| 24|\n",
            "|  4|kumarbala|  male| 23|\n",
            "+---+---------+------+---+\n",
            "\n"
          ]
        }
      ]
    }
  ]
}