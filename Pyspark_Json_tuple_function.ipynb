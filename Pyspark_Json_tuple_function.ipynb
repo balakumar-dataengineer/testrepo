{
  "nbformat": 4,
  "nbformat_minor": 0,
  "metadata": {
    "colab": {
      "provenance": [],
      "authorship_tag": "ABX9TyOISqy9l0G9xFkE8f0xU8jt",
      "include_colab_link": true
    },
    "kernelspec": {
      "name": "python3",
      "display_name": "Python 3"
    },
    "language_info": {
      "name": "python"
    }
  },
  "cells": [
    {
      "cell_type": "markdown",
      "metadata": {
        "id": "view-in-github",
        "colab_type": "text"
      },
      "source": [
        "<a href=\"https://colab.research.google.com/github/balakumar-dataengineer/testrepo/blob/master/Pyspark_Json_tuple_function.ipynb\" target=\"_parent\"><img src=\"https://colab.research.google.com/assets/colab-badge.svg\" alt=\"Open In Colab\"/></a>"
      ]
    },
    {
      "cell_type": "code",
      "execution_count": 1,
      "metadata": {
        "colab": {
          "base_uri": "https://localhost:8080/"
        },
        "id": "x5miPgbbimsb",
        "outputId": "d0b92007-c6ac-4cd1-c336-08c4bec8638c"
      },
      "outputs": [
        {
          "output_type": "stream",
          "name": "stdout",
          "text": [
            "<pyspark.sql.session.SparkSession object at 0x7d3a12574910>\n"
          ]
        }
      ],
      "source": [
        "from pyspark.sql import SparkSession\n",
        "\n",
        "spark=SparkSession.builder.appName('pyspark') \\\n",
        "                          .master('local') \\\n",
        "                          .getOrCreate()\n",
        "\n",
        "print(spark)"
      ]
    },
    {
      "cell_type": "code",
      "source": [
        "data=[\n",
        "    (1,'bala','{\"hair\":\"black\",\"skin\":\"brown\",\"eye\":\"black\"}'),\n",
        "    (2,'kumar','{\"hair\":\"brown\",\"skin\":\"white\",\"eye\":\"blue\"}')\n",
        "]\n",
        "\n",
        "schema=['id','name','properties']\n",
        "\n",
        "df=spark.createDataFrame(data,schema)\n",
        "df.show(truncate=False)\n",
        "df.printSchema()"
      ],
      "metadata": {
        "colab": {
          "base_uri": "https://localhost:8080/"
        },
        "id": "clgUMuJFxRIZ",
        "outputId": "cdafc5c2-71a2-4b82-ca43-3ff298c17074"
      },
      "execution_count": 4,
      "outputs": [
        {
          "output_type": "stream",
          "name": "stdout",
          "text": [
            "+---+-----+---------------------------------------------+\n",
            "|id |name |properties                                   |\n",
            "+---+-----+---------------------------------------------+\n",
            "|1  |bala |{\"hair\":\"black\",\"skin\":\"brown\",\"eye\":\"black\"}|\n",
            "|2  |kumar|{\"hair\":\"brown\",\"skin\":\"white\",\"eye\":\"blue\"} |\n",
            "+---+-----+---------------------------------------------+\n",
            "\n",
            "root\n",
            " |-- id: long (nullable = true)\n",
            " |-- name: string (nullable = true)\n",
            " |-- properties: string (nullable = true)\n",
            "\n"
          ]
        }
      ]
    },
    {
      "cell_type": "code",
      "source": [
        "from pyspark.sql.functions import json_tuple\n",
        "\n",
        "df.select('id','name','properties',json_tuple('properties','hair','skin').alias('haircol','skincol')).show(truncate=False)"
      ],
      "metadata": {
        "colab": {
          "base_uri": "https://localhost:8080/"
        },
        "id": "-npMNF6Vx7Gv",
        "outputId": "c975cdbc-7c2c-4638-89cc-c79f8a5fa25c"
      },
      "execution_count": 11,
      "outputs": [
        {
          "output_type": "stream",
          "name": "stdout",
          "text": [
            "+---+-----+---------------------------------------------+-------+-------+\n",
            "|id |name |properties                                   |haircol|skincol|\n",
            "+---+-----+---------------------------------------------+-------+-------+\n",
            "|1  |bala |{\"hair\":\"black\",\"skin\":\"brown\",\"eye\":\"black\"}|black  |brown  |\n",
            "|2  |kumar|{\"hair\":\"brown\",\"skin\":\"white\",\"eye\":\"blue\"} |brown  |white  |\n",
            "+---+-----+---------------------------------------------+-------+-------+\n",
            "\n"
          ]
        }
      ]
    }
  ]
}