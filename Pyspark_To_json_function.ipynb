{
  "nbformat": 4,
  "nbformat_minor": 0,
  "metadata": {
    "colab": {
      "provenance": [],
      "authorship_tag": "ABX9TyNU2rMZ/qQJt8z35yjKrM5g",
      "include_colab_link": true
    },
    "kernelspec": {
      "name": "python3",
      "display_name": "Python 3"
    },
    "language_info": {
      "name": "python"
    }
  },
  "cells": [
    {
      "cell_type": "markdown",
      "metadata": {
        "id": "view-in-github",
        "colab_type": "text"
      },
      "source": [
        "<a href=\"https://colab.research.google.com/github/balakumar-dataengineer/testrepo/blob/master/Pyspark_To_json_function.ipynb\" target=\"_parent\"><img src=\"https://colab.research.google.com/assets/colab-badge.svg\" alt=\"Open In Colab\"/></a>"
      ]
    },
    {
      "cell_type": "code",
      "execution_count": 1,
      "metadata": {
        "colab": {
          "base_uri": "https://localhost:8080/"
        },
        "id": "btpArJ6RadIt",
        "outputId": "a9c45bb4-8db2-4135-eb3d-503502c1b59b"
      },
      "outputs": [
        {
          "output_type": "stream",
          "name": "stdout",
          "text": [
            "<pyspark.sql.session.SparkSession object at 0x796710217bd0>\n"
          ]
        }
      ],
      "source": [
        "from pyspark.sql import SparkSession\n",
        "\n",
        "spark = SparkSession.builder.appName('Pyspark') \\\n",
        "                            .master('local') \\\n",
        "                            .getOrCreate()\n",
        "\n",
        "print(spark)"
      ]
    },
    {
      "cell_type": "code",
      "source": [
        "from pyspark.sql.types import StringType,StructType,StructField,IntegerType\n",
        "from pyspark.sql.functions import to_json\n",
        "\n",
        "data=[\n",
        "    (1,'bala',['sql','python','pyspark']),\n",
        "    (2,'kumar',['postgressql','pandas','apachebeam'])\n",
        "]\n",
        "\n",
        "schema=StructType([\n",
        "    StructField('id',IntegerType(),True),\n",
        "    StructField('name',StringType(),True),\n",
        "    StructField('skills',StructType([\n",
        "        StructField('skill1',StringType(),True),\n",
        "        StructField('skill2',StringType(),True),\n",
        "        StructField('skill3',StringType(),True)\n",
        "    ]))\n",
        "])\n",
        "\n",
        "df=spark.createDataFrame(data,schema)\n",
        "df.show()\n",
        "df.printSchema()"
      ],
      "metadata": {
        "colab": {
          "base_uri": "https://localhost:8080/"
        },
        "id": "oQLlxEM1ej0m",
        "outputId": "b9aa4253-7801-45e7-a2cd-df58e2541205"
      },
      "execution_count": 7,
      "outputs": [
        {
          "output_type": "stream",
          "name": "stdout",
          "text": [
            "+---+-----+--------------------+\n",
            "| id| name|              skills|\n",
            "+---+-----+--------------------+\n",
            "|  1| bala|{sql, python, pys...|\n",
            "|  2|kumar|{postgressql, pan...|\n",
            "+---+-----+--------------------+\n",
            "\n",
            "root\n",
            " |-- id: integer (nullable = true)\n",
            " |-- name: string (nullable = true)\n",
            " |-- skills: struct (nullable = true)\n",
            " |    |-- skill1: string (nullable = true)\n",
            " |    |-- skill2: string (nullable = true)\n",
            " |    |-- skill3: string (nullable = true)\n",
            "\n"
          ]
        }
      ]
    },
    {
      "cell_type": "code",
      "source": [
        "df.withColumn('skillsDetails',to_json('skills')).show(truncate=False)"
      ],
      "metadata": {
        "colab": {
          "base_uri": "https://localhost:8080/"
        },
        "id": "KyHOZn1HgVYI",
        "outputId": "53b64164-ed96-41f2-879b-d17af3a34408"
      },
      "execution_count": 8,
      "outputs": [
        {
          "output_type": "stream",
          "name": "stdout",
          "text": [
            "+---+-----+---------------------------------+----------------------------------------------------------------+\n",
            "|id |name |skills                           |skillsDetails                                                   |\n",
            "+---+-----+---------------------------------+----------------------------------------------------------------+\n",
            "|1  |bala |{sql, python, pyspark}           |{\"skill1\":\"sql\",\"skill2\":\"python\",\"skill3\":\"pyspark\"}           |\n",
            "|2  |kumar|{postgressql, pandas, apachebeam}|{\"skill1\":\"postgressql\",\"skill2\":\"pandas\",\"skill3\":\"apachebeam\"}|\n",
            "+---+-----+---------------------------------+----------------------------------------------------------------+\n",
            "\n"
          ]
        }
      ]
    },
    {
      "cell_type": "code",
      "source": [
        "data1=[\n",
        "    (1,'bala',{'skill1':'sql','skill2':'python','skill3':'pyspark'}),\n",
        "    (2,'kumar',{'skill1':'postgressql','skill2':'pandas','skill3':'apachebeam'})\n",
        "]\n",
        "\n",
        "schema=['id','name','skills']\n",
        "\n",
        "df = spark.createDataFrame(data1,schema)\n",
        "df.show()\n",
        "df.printSchema()"
      ],
      "metadata": {
        "colab": {
          "base_uri": "https://localhost:8080/"
        },
        "id": "pfBxDZ7Igxl0",
        "outputId": "738ae5a8-3e6f-44c1-b979-f6899dc3212d"
      },
      "execution_count": 11,
      "outputs": [
        {
          "output_type": "stream",
          "name": "stdout",
          "text": [
            "+---+-----+--------------------+\n",
            "| id| name|              skills|\n",
            "+---+-----+--------------------+\n",
            "|  1| bala|{skill3 -> pyspar...|\n",
            "|  2|kumar|{skill3 -> apache...|\n",
            "+---+-----+--------------------+\n",
            "\n",
            "root\n",
            " |-- id: long (nullable = true)\n",
            " |-- name: string (nullable = true)\n",
            " |-- skills: map (nullable = true)\n",
            " |    |-- key: string\n",
            " |    |-- value: string (valueContainsNull = true)\n",
            "\n"
          ]
        }
      ]
    },
    {
      "cell_type": "code",
      "source": [
        "df1=df.select('id','name','skills',to_json(df.skills).alias('skillsjs'))\n",
        "df1.show(truncate=False)\n",
        "df1.printSchema()"
      ],
      "metadata": {
        "colab": {
          "base_uri": "https://localhost:8080/"
        },
        "id": "VqtKeYKOh5yR",
        "outputId": "2f06f794-da88-4e54-f026-ce71357b3d6e"
      },
      "execution_count": 14,
      "outputs": [
        {
          "output_type": "stream",
          "name": "stdout",
          "text": [
            "+---+-----+---------------------------------------------------------------+----------------------------------------------------------------+\n",
            "|id |name |skills                                                         |skillsjs                                                        |\n",
            "+---+-----+---------------------------------------------------------------+----------------------------------------------------------------+\n",
            "|1  |bala |{skill3 -> pyspark, skill1 -> sql, skill2 -> python}           |{\"skill3\":\"pyspark\",\"skill1\":\"sql\",\"skill2\":\"python\"}           |\n",
            "|2  |kumar|{skill3 -> apachebeam, skill1 -> postgressql, skill2 -> pandas}|{\"skill3\":\"apachebeam\",\"skill1\":\"postgressql\",\"skill2\":\"pandas\"}|\n",
            "+---+-----+---------------------------------------------------------------+----------------------------------------------------------------+\n",
            "\n",
            "root\n",
            " |-- id: long (nullable = true)\n",
            " |-- name: string (nullable = true)\n",
            " |-- skills: map (nullable = true)\n",
            " |    |-- key: string\n",
            " |    |-- value: string (valueContainsNull = true)\n",
            " |-- skillsjs: string (nullable = true)\n",
            "\n"
          ]
        }
      ]
    }
  ]
}