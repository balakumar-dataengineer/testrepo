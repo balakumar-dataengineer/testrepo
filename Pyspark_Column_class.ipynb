{
  "nbformat": 4,
  "nbformat_minor": 0,
  "metadata": {
    "colab": {
      "provenance": [],
      "authorship_tag": "ABX9TyOQD05SXz0E9Y8n/nROcfk6",
      "include_colab_link": true
    },
    "kernelspec": {
      "name": "python3",
      "display_name": "Python 3"
    },
    "language_info": {
      "name": "python"
    }
  },
  "cells": [
    {
      "cell_type": "markdown",
      "metadata": {
        "id": "view-in-github",
        "colab_type": "text"
      },
      "source": [
        "<a href=\"https://colab.research.google.com/github/balakumar-dataengineer/testrepo/blob/master/Pyspark_Column_class.ipynb\" target=\"_parent\"><img src=\"https://colab.research.google.com/assets/colab-badge.svg\" alt=\"Open In Colab\"/></a>"
      ]
    },
    {
      "cell_type": "code",
      "execution_count": 1,
      "metadata": {
        "colab": {
          "base_uri": "https://localhost:8080/"
        },
        "id": "DDqcPj36MMzW",
        "outputId": "8e0ef3b8-e5fb-4f21-f43e-5ffe54a8c201"
      },
      "outputs": [
        {
          "output_type": "stream",
          "name": "stdout",
          "text": [
            "<pyspark.sql.session.SparkSession object at 0x793b5d30dc10>\n"
          ]
        }
      ],
      "source": [
        "from pyspark.sql import SparkSession\n",
        "\n",
        "spark=SparkSession.builder.appName('Pyspark') \\\n",
        "                          .master('local') \\\n",
        "                          .getOrCreate()\n",
        "\n",
        "print(spark)"
      ]
    },
    {
      "cell_type": "code",
      "source": [
        "data=[(101, \"Alice\", [\"Laptop\", \"Mouse\"], 1200, \"2024-02-15\", \"Shipped\"),\n",
        "    (102, \"Bob\", [\"Phone\"], 800, \"2024-02-16\", \"Pending\"),\n",
        "    (103, \"Charlie\", [\"Tablet\", \"Keyboard\"], 600, \"2024-02-17\", \"Delivered\"),\n",
        "    (104, \"David\", [\"Monitor\"], 300, \"2024-02-18\", \"Canceled\"),\n",
        "    (105, \"Emma\", [\"Headphones\", \"Charger\"], 150, \"2024-02-19\", \"Shipped\")]\n",
        "\n",
        "schema=['id','name','items','amount','orderDate','orderStatus']\n",
        "\n",
        "df = spark.createDataFrame(data, schema)\n",
        "df.show()\n",
        "df.printSchema()"
      ],
      "metadata": {
        "colab": {
          "base_uri": "https://localhost:8080/"
        },
        "id": "hI5Q6sXBMg6m",
        "outputId": "4b2e23fc-8a66-4cfe-a751-ffb1d2273f63"
      },
      "execution_count": 3,
      "outputs": [
        {
          "output_type": "stream",
          "name": "stdout",
          "text": [
            "+---+-------+--------------------+------+----------+-----------+\n",
            "| id|   name|               items|amount| orderDate|orderStatus|\n",
            "+---+-------+--------------------+------+----------+-----------+\n",
            "|101|  Alice|     [Laptop, Mouse]|  1200|2024-02-15|    Shipped|\n",
            "|102|    Bob|             [Phone]|   800|2024-02-16|    Pending|\n",
            "|103|Charlie|  [Tablet, Keyboard]|   600|2024-02-17|  Delivered|\n",
            "|104|  David|           [Monitor]|   300|2024-02-18|   Canceled|\n",
            "|105|   Emma|[Headphones, Char...|   150|2024-02-19|    Shipped|\n",
            "+---+-------+--------------------+------+----------+-----------+\n",
            "\n",
            "root\n",
            " |-- id: long (nullable = true)\n",
            " |-- name: string (nullable = true)\n",
            " |-- items: array (nullable = true)\n",
            " |    |-- element: string (containsNull = true)\n",
            " |-- amount: long (nullable = true)\n",
            " |-- orderDate: string (nullable = true)\n",
            " |-- orderStatus: string (nullable = true)\n",
            "\n"
          ]
        }
      ]
    },
    {
      "cell_type": "code",
      "source": [
        "from pyspark.sql.functions import col\n",
        "\n",
        "df.select(df.name,df.items).show()\n",
        "\n",
        "df.select(df['name'],df['items']).show()\n",
        "\n",
        "df.select(col('name'),col('items')).show()"
      ],
      "metadata": {
        "colab": {
          "base_uri": "https://localhost:8080/"
        },
        "id": "-9HyBZleNOKU",
        "outputId": "d6a40964-110a-43ae-d069-85c86a58bfd8"
      },
      "execution_count": 10,
      "outputs": [
        {
          "output_type": "stream",
          "name": "stdout",
          "text": [
            "+-------+--------------------+\n",
            "|   name|               items|\n",
            "+-------+--------------------+\n",
            "|  Alice|     [Laptop, Mouse]|\n",
            "|    Bob|             [Phone]|\n",
            "|Charlie|  [Tablet, Keyboard]|\n",
            "|  David|           [Monitor]|\n",
            "|   Emma|[Headphones, Char...|\n",
            "+-------+--------------------+\n",
            "\n",
            "+-------+--------------------+\n",
            "|   name|               items|\n",
            "+-------+--------------------+\n",
            "|  Alice|     [Laptop, Mouse]|\n",
            "|    Bob|             [Phone]|\n",
            "|Charlie|  [Tablet, Keyboard]|\n",
            "|  David|           [Monitor]|\n",
            "|   Emma|[Headphones, Char...|\n",
            "+-------+--------------------+\n",
            "\n",
            "+-------+--------------------+\n",
            "|   name|               items|\n",
            "+-------+--------------------+\n",
            "|  Alice|     [Laptop, Mouse]|\n",
            "|    Bob|             [Phone]|\n",
            "|Charlie|  [Tablet, Keyboard]|\n",
            "|  David|           [Monitor]|\n",
            "|   Emma|[Headphones, Char...|\n",
            "+-------+--------------------+\n",
            "\n"
          ]
        }
      ]
    },
    {
      "cell_type": "code",
      "source": [
        "from pyspark.sql.functions import explode\n",
        "df.select(df['name'],df['items'],explode(df['items']).alias('explode_column'),df.items[0],df.items[1]).show()"
      ],
      "metadata": {
        "colab": {
          "base_uri": "https://localhost:8080/"
        },
        "id": "54m_-C7mN2pM",
        "outputId": "6f864f46-3b85-432b-c580-51824bcb9f96"
      },
      "execution_count": 15,
      "outputs": [
        {
          "output_type": "stream",
          "name": "stdout",
          "text": [
            "+-------+--------------------+--------------+----------+--------+\n",
            "|   name|               items|explode_column|  items[0]|items[1]|\n",
            "+-------+--------------------+--------------+----------+--------+\n",
            "|  Alice|     [Laptop, Mouse]|        Laptop|    Laptop|   Mouse|\n",
            "|  Alice|     [Laptop, Mouse]|         Mouse|    Laptop|   Mouse|\n",
            "|    Bob|             [Phone]|         Phone|     Phone|    NULL|\n",
            "|Charlie|  [Tablet, Keyboard]|        Tablet|    Tablet|Keyboard|\n",
            "|Charlie|  [Tablet, Keyboard]|      Keyboard|    Tablet|Keyboard|\n",
            "|  David|           [Monitor]|       Monitor|   Monitor|    NULL|\n",
            "|   Emma|[Headphones, Char...|    Headphones|Headphones| Charger|\n",
            "|   Emma|[Headphones, Char...|       Charger|Headphones| Charger|\n",
            "+-------+--------------------+--------------+----------+--------+\n",
            "\n"
          ]
        }
      ]
    },
    {
      "cell_type": "code",
      "source": [
        "\n",
        "from pyspark.sql.types import StringType, StructField, StructType,ArrayType, IntegerType, StringType\n",
        "\n",
        "data1=[(101, \"Alice\", (\"Laptop\", \"Mouse\"), 1200, \"2024-02-15\", \"Shipped\"),\n",
        "    (102, \"Bob\", (\"Phone\",\"\"), 800, \"2024-02-16\", \"Pending\"),\n",
        "    (103, \"Charlie\", (\"Tablet\", \"Keyboard\"), 600, \"2024-02-17\", \"Delivered\"),\n",
        "    (104, \"David\", (\"Monitor\",\"\"), 300, \"2024-02-18\", \"Canceled\"),\n",
        "    (105, \"Emma\", (\"Headphones\", \"Charger\"), 150, \"2024-02-19\", \"Shipped\")]\n",
        "\n",
        "schema=StructType([\n",
        "    StructField('id',IntegerType(),True),\n",
        "    StructField('name',StringType(),True),\n",
        "    StructField('items',StructType([\n",
        "        StructField('item1',StringType(),True),\n",
        "        StructField('item2',StringType(),True)\n",
        "    ]),True),\n",
        "    StructField('amount',IntegerType(),True),\n",
        "    StructField('orderDate',StringType(),True),\n",
        "    StructField('orderStatus',StringType(),True)\n",
        "])\n",
        "\n",
        "df1 = spark.createDataFrame(data1,schema)\n",
        "df1.show()\n",
        "df1.printSchema()\n",
        "\n",
        "df1.select(df1.items.item1,df1.items.item2).show()"
      ],
      "metadata": {
        "colab": {
          "base_uri": "https://localhost:8080/"
        },
        "id": "drG1oPhrOd44",
        "outputId": "ffd33be0-1cf6-4cf5-b548-a3076dbcb5cb"
      },
      "execution_count": 30,
      "outputs": [
        {
          "output_type": "stream",
          "name": "stdout",
          "text": [
            "+---+-------+--------------------+------+----------+-----------+\n",
            "| id|   name|               items|amount| orderDate|orderStatus|\n",
            "+---+-------+--------------------+------+----------+-----------+\n",
            "|101|  Alice|     {Laptop, Mouse}|  1200|2024-02-15|    Shipped|\n",
            "|102|    Bob|           {Phone, }|   800|2024-02-16|    Pending|\n",
            "|103|Charlie|  {Tablet, Keyboard}|   600|2024-02-17|  Delivered|\n",
            "|104|  David|         {Monitor, }|   300|2024-02-18|   Canceled|\n",
            "|105|   Emma|{Headphones, Char...|   150|2024-02-19|    Shipped|\n",
            "+---+-------+--------------------+------+----------+-----------+\n",
            "\n",
            "root\n",
            " |-- id: integer (nullable = true)\n",
            " |-- name: string (nullable = true)\n",
            " |-- items: struct (nullable = true)\n",
            " |    |-- item1: string (nullable = true)\n",
            " |    |-- item2: string (nullable = true)\n",
            " |-- amount: integer (nullable = true)\n",
            " |-- orderDate: string (nullable = true)\n",
            " |-- orderStatus: string (nullable = true)\n",
            "\n",
            "+-----------+-----------+\n",
            "|items.item1|items.item2|\n",
            "+-----------+-----------+\n",
            "|     Laptop|      Mouse|\n",
            "|      Phone|           |\n",
            "|     Tablet|   Keyboard|\n",
            "|    Monitor|           |\n",
            "| Headphones|    Charger|\n",
            "+-----------+-----------+\n",
            "\n"
          ]
        }
      ]
    },
    {
      "cell_type": "code",
      "source": [
        "df1.select(df1['items.item1'],df1['items.item2']).show()"
      ],
      "metadata": {
        "colab": {
          "base_uri": "https://localhost:8080/"
        },
        "id": "1j47e2txQ4oz",
        "outputId": "faaf11e2-6103-419a-f0a3-8057dc045b23"
      },
      "execution_count": 31,
      "outputs": [
        {
          "output_type": "stream",
          "name": "stdout",
          "text": [
            "+----------+--------+\n",
            "|     item1|   item2|\n",
            "+----------+--------+\n",
            "|    Laptop|   Mouse|\n",
            "|     Phone|        |\n",
            "|    Tablet|Keyboard|\n",
            "|   Monitor|        |\n",
            "|Headphones| Charger|\n",
            "+----------+--------+\n",
            "\n"
          ]
        }
      ]
    },
    {
      "cell_type": "code",
      "source": [
        "df1.select(col('items.item1'),col('items.item2'),df1.name).show()"
      ],
      "metadata": {
        "colab": {
          "base_uri": "https://localhost:8080/"
        },
        "id": "y3yYdq6bRDFS",
        "outputId": "132552eb-1543-49df-8ba3-8cb5ae24ab4c"
      },
      "execution_count": 33,
      "outputs": [
        {
          "output_type": "stream",
          "name": "stdout",
          "text": [
            "+----------+--------+-------+\n",
            "|     item1|   item2|   name|\n",
            "+----------+--------+-------+\n",
            "|    Laptop|   Mouse|  Alice|\n",
            "|     Phone|        |    Bob|\n",
            "|    Tablet|Keyboard|Charlie|\n",
            "|   Monitor|        |  David|\n",
            "|Headphones| Charger|   Emma|\n",
            "+----------+--------+-------+\n",
            "\n"
          ]
        }
      ]
    },
    {
      "cell_type": "code",
      "source": [
        "from pyspark.sql.functions import lit\n",
        "\n",
        "df1.select('id','name',lit('bala').alias('test')).show()"
      ],
      "metadata": {
        "colab": {
          "base_uri": "https://localhost:8080/"
        },
        "id": "z-hQr2IHRP0v",
        "outputId": "f53a2932-f267-4360-fdea-3b572f32c546"
      },
      "execution_count": 34,
      "outputs": [
        {
          "output_type": "stream",
          "name": "stdout",
          "text": [
            "+---+-------+----+\n",
            "| id|   name|test|\n",
            "+---+-------+----+\n",
            "|101|  Alice|bala|\n",
            "|102|    Bob|bala|\n",
            "|103|Charlie|bala|\n",
            "|104|  David|bala|\n",
            "|105|   Emma|bala|\n",
            "+---+-------+----+\n",
            "\n"
          ]
        }
      ]
    }
  ]
}