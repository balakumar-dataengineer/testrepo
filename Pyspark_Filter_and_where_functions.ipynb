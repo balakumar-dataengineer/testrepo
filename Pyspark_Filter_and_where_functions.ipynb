{
  "nbformat": 4,
  "nbformat_minor": 0,
  "metadata": {
    "colab": {
      "provenance": [],
      "authorship_tag": "ABX9TyMCYGJiJDLtRbIOHk2q6PuN",
      "include_colab_link": true
    },
    "kernelspec": {
      "name": "python3",
      "display_name": "Python 3"
    },
    "language_info": {
      "name": "python"
    }
  },
  "cells": [
    {
      "cell_type": "markdown",
      "metadata": {
        "id": "view-in-github",
        "colab_type": "text"
      },
      "source": [
        "<a href=\"https://colab.research.google.com/github/balakumar-dataengineer/testrepo/blob/master/Pyspark_Filter_and_where_functions.ipynb\" target=\"_parent\"><img src=\"https://colab.research.google.com/assets/colab-badge.svg\" alt=\"Open In Colab\"/></a>"
      ]
    },
    {
      "cell_type": "code",
      "execution_count": 1,
      "metadata": {
        "colab": {
          "base_uri": "https://localhost:8080/"
        },
        "id": "rT24dr99xVfu",
        "outputId": "94c54aab-1554-49e4-fc8c-c0223841722d"
      },
      "outputs": [
        {
          "output_type": "stream",
          "name": "stdout",
          "text": [
            "<pyspark.sql.session.SparkSession object at 0x78bdc4246650>\n"
          ]
        }
      ],
      "source": [
        "from pyspark.sql import SparkSession\n",
        "\n",
        "spark=SparkSession.builder.appName('pyspark') \\\n",
        "                          .master('local') \\\n",
        "                          .getOrCreate()\n",
        "\n",
        "print(spark)"
      ]
    },
    {
      "cell_type": "code",
      "source": [
        "data=[\n",
        "    (1,'bala',500000),\n",
        "    (2,'kumar',5000000),\n",
        "    (3,'balakumar',2000000)\n",
        "]\n",
        "\n",
        "schema=['id','name','salary']\n",
        "\n",
        "df = spark.createDataFrame(data,schema)\n",
        "df.show()\n",
        "df.printSchema()"
      ],
      "metadata": {
        "colab": {
          "base_uri": "https://localhost:8080/"
        },
        "id": "ALlRdkraxoku",
        "outputId": "d95ba1fb-990b-4b90-b730-8c1af8ffbda2"
      },
      "execution_count": 2,
      "outputs": [
        {
          "output_type": "stream",
          "name": "stdout",
          "text": [
            "+---+---------+-------+\n",
            "| id|     name| salary|\n",
            "+---+---------+-------+\n",
            "|  1|     bala| 500000|\n",
            "|  2|    kumar|5000000|\n",
            "|  3|balakumar|2000000|\n",
            "+---+---------+-------+\n",
            "\n",
            "root\n",
            " |-- id: long (nullable = true)\n",
            " |-- name: string (nullable = true)\n",
            " |-- salary: long (nullable = true)\n",
            "\n"
          ]
        }
      ]
    },
    {
      "cell_type": "code",
      "source": [
        "df.filter((df.salary==2000000)|(df.salary==5000000)).show()"
      ],
      "metadata": {
        "colab": {
          "base_uri": "https://localhost:8080/"
        },
        "id": "Uso5K8LVyHwV",
        "outputId": "6db820d0-5bc7-4afc-e120-f92001655e3b"
      },
      "execution_count": 11,
      "outputs": [
        {
          "output_type": "stream",
          "name": "stdout",
          "text": [
            "+---+---------+-------+\n",
            "| id|     name| salary|\n",
            "+---+---------+-------+\n",
            "|  2|    kumar|5000000|\n",
            "|  3|balakumar|2000000|\n",
            "+---+---------+-------+\n",
            "\n"
          ]
        }
      ]
    },
    {
      "cell_type": "code",
      "source": [
        "df.filter(\"salary=5000000\").show()"
      ],
      "metadata": {
        "colab": {
          "base_uri": "https://localhost:8080/"
        },
        "id": "Qmf6MCa7yitM",
        "outputId": "d665f404-34d5-4242-9c30-db5545e1505b"
      },
      "execution_count": 13,
      "outputs": [
        {
          "output_type": "stream",
          "name": "stdout",
          "text": [
            "+---+-----+-------+\n",
            "| id| name| salary|\n",
            "+---+-----+-------+\n",
            "|  2|kumar|5000000|\n",
            "+---+-----+-------+\n",
            "\n"
          ]
        }
      ]
    },
    {
      "cell_type": "code",
      "source": [
        "df.where(\"name like '%bala%'\").show()"
      ],
      "metadata": {
        "colab": {
          "base_uri": "https://localhost:8080/"
        },
        "id": "2e1Xfa3MyufR",
        "outputId": "617c4569-051e-4315-e8cb-415560bcd396"
      },
      "execution_count": 14,
      "outputs": [
        {
          "output_type": "stream",
          "name": "stdout",
          "text": [
            "+---+---------+-------+\n",
            "| id|     name| salary|\n",
            "+---+---------+-------+\n",
            "|  1|     bala| 500000|\n",
            "|  3|balakumar|2000000|\n",
            "+---+---------+-------+\n",
            "\n"
          ]
        }
      ]
    },
    {
      "cell_type": "code",
      "source": [
        "df.where(df.id==1).show()"
      ],
      "metadata": {
        "colab": {
          "base_uri": "https://localhost:8080/"
        },
        "id": "YzZkmNxny1u4",
        "outputId": "d0659c69-a3ee-49c0-b5d6-06529e74ce46"
      },
      "execution_count": 15,
      "outputs": [
        {
          "output_type": "stream",
          "name": "stdout",
          "text": [
            "+---+----+------+\n",
            "| id|name|salary|\n",
            "+---+----+------+\n",
            "|  1|bala|500000|\n",
            "+---+----+------+\n",
            "\n"
          ]
        }
      ]
    }
  ]
}